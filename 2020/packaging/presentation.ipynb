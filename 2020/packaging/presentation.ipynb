{
 "cells": [
  {
   "cell_type": "code",
   "execution_count": null,
   "metadata": {},
   "outputs": [],
   "source": [
    "%%HTML\n",
    "<style>\n",
    "\n",
    ".CodeMirror {\n",
    "    width: 100vw;\n",
    "}\n",
    "\n",
    ".container {\n",
    "    width: 99% !important;\n",
    "}\n",
    "\n",
    ".rendered_html {\n",
    "  font-size:0.6em;\n",
    "}\n",
    ".rendered_html table, .rendered_html th, .rendered_html tr, .rendered_html td {\n",
    "     font-size: 100%;\n",
    "}\n",
    "\n",
    "</style>"
   ]
  },
  {
   "cell_type": "markdown",
   "metadata": {
    "Collapsed": "false",
    "slideshow": {
     "slide_type": "slide"
    }
   },
   "source": [
    "# Packaging/making a library in Python\n",
    "![Presentation logo](imgs/presentation_logo.png)\n",
    "\n",
    "\n",
    "By **Thibault Bétrémieux** _Data Scientist at port-neo Freiburg GmbH (part of port-neo GmbH)_"
   ]
  },
  {
   "cell_type": "markdown",
   "metadata": {
    "Collapsed": "false",
    "slideshow": {
     "slide_type": "slide"
    }
   },
   "source": [
    "# Introduction"
   ]
  },
  {
   "cell_type": "markdown",
   "metadata": {
    "Collapsed": "false",
    "slideshow": {
     "slide_type": "slide"
    }
   },
   "source": [
    "# About port-neo GmbH\n",
    "![port-neo logo](imgs/port-neo_logo.png)\n",
    "\n",
    "* 360 marketing agency\n",
    "    * Marketing strategy\n",
    "    * Market and needs analysis\n",
    "    * Digital brand management\n",
    "    * Customer Journey\n",
    "    * ...\n",
    "* ~120 employees distributed amongst Freiburg, Stuttgart, Munich and Zürich\n",
    "* The philosophy of port-neo is to be an important partner for its customers and grow along with them\n",
    "* Motto: \"Data meets empathy\"\n",
    "* Website: https://www.port-neo.com/"
   ]
  },
  {
   "cell_type": "markdown",
   "metadata": {
    "Collapsed": "false",
    "slideshow": {
     "slide_type": "slide"
    }
   },
   "source": [
    "# About port-neo Freiburg GmbH\n",
    "\n",
    "port-neo Freiburg GmbH focuses on communication with newsletter (so called \"Dialogmarketing\").\n",
    "\n",
    "Main activities (my activities in **<span style=\"color:green\">green</span>**):\n",
    "* **Support**, management, distribution of newsletter accounts (Evalanche, PROMIO, Elaine)\n",
    "* Newsletter templates (1000+ templates designed), design and content\n",
    "* Subscription pages (for subscribing to a newsletter)\n",
    "* Marketing dashboards - **<span style=\"color:green\">I collect and prepare all the data for the dashboards</span>**\n",
    "* **<span style=\"color:green\">Data cleaning</span>**\n",
    "    * Encoding issues e.g. <code>\"Falsches Ãœben von Xylophonmusik quÃ¤lt jeden grÃ¶ÃŸeren Zwerg.\"</code> and superfluous characters issues e.g. <code>\") Thomas   Müller () (\"</code>\n",
    "    * Infering and completing/correcting genders using first names and countries e.g. <code>(\"Andrea\", \"IT\") => \"male\"</code>|<code>(\"Andrea\", \"DE\") => \"female\"</code> (probabilites and sample sizes are used)\n",
    "    * Name cleaning e.g. <code>\"Pr. Dr. Otto-H von Heinrich (cooler Typ)\" => {'first_name':'Otto', 'last_name':'Heinrich', 'title':'Pr. Dr.', ...}</code>\n",
    "    * and much more..."
   ]
  },
  {
   "cell_type": "markdown",
   "metadata": {
    "Collapsed": "false",
    "slideshow": {
     "slide_type": "slide"
    }
   },
   "source": [
    "# Why I use Python\n",
    "\n",
    "* Data cleaning (9 private Python libraries dedicated to data cleaning)\n",
    "* Data collection (text files, Excel, REST/SOAP, ...) from customers and marketing accounts\n",
    "* Data transformations\n",
    "* SQL databases management (mostly postgres and SQlite3)\n",
    "* Web apps experiments with dash and flask\n",
    "* Making libraries\n",
    "* Lots of other reasons...\n",
    "\n",
    "My work relies heavily on the Python library pandas 🐼. Amongst the 20+ private libraries I have delopped only one or two does not use pandas.\n",
    "\n",
    "Each new major version of pandas is like a small Christmas 🎅 for me and I am starting to contribute."
   ]
  },
  {
   "cell_type": "markdown",
   "metadata": {
    "Collapsed": "false",
    "slideshow": {
     "slide_type": "slide"
    }
   },
   "source": [
    "# My environment for the presentation\n",
    "\n",
    "* OS: Pop OS! (Ubuntu clone)\n",
    "* Jupyter Lab. My favorite programming enviromnent which does about everything apart making coffee. I mostly do Python in it but have also tried out a bit of Javascript and Julia. With extensions you can do crazy stuff like using draw.io within it.\n",
    "* DBeaver for SQL databases management/exploration"
   ]
  },
  {
   "cell_type": "markdown",
   "metadata": {
    "Collapsed": "false",
    "slideshow": {
     "slide_type": "slide"
    }
   },
   "source": [
    "# Reasons to use Python libraries\n",
    "\n",
    "* No more copy pasting code everywhere. Just import functions from a library\n",
    "* If you use a library instead of spreading repeated code everywhere it makes it easier for:\n",
    "    * Testing (local or with continuous integration)\n",
    "    * Versioning (with the documentation of every improvements along the way and releases)\n",
    "    * Collaborative development\n",
    "* Code faster. For instance I can clean names with just a few lines of codes that I know from memory\n",
    "* Compartmentalizing your code in modules/packages will make it more comprehensible and easier to test\n",
    "* Sharing code to your colleagues and the world and making it easy to install\n",
    "* Lots of other reasons..."
   ]
  },
  {
   "cell_type": "markdown",
   "metadata": {
    "slideshow": {
     "slide_type": "slide"
    }
   },
   "source": [
    "# Creating and publishing a simple library, example with \"pangres\"\n",
    "\n",
    "_What is pangres?_\n",
    "\n",
    "<blockquote cite=\"https://github.com/ThibTrip/pangres\">\n",
    "Postgres upsert with pandas DataFrames (ON CONFLICT DO NOTHING or ON CONFLICT DO UPDATE) with some additional optional features:\n",
    "\n",
    "* Create columns in DataFrame to upsert that do not yet exist in the postgres database\n",
    "* Alter column data types in postgres for empty columns that do not match the data types of the DataFrame to upsert.\n",
    "</blockquote>"
   ]
  },
  {
   "cell_type": "markdown",
   "metadata": {
    "slideshow": {
     "slide_type": "slide"
    }
   },
   "source": [
    "# Live demo of \"pangres\" for the attendees to my presentation 😎\n",
    "\n",
    "In this demo we will create an initial dataset and an \"updated\" dataset (just as if we collected some marketing data at different time periods). \n",
    "\n",
    "From the initial dataset we will create a PostgreSQL table using \"pangres\". Then we will update our table with the \"updated\" dataset also using \"pangres\"."
   ]
  },
  {
   "cell_type": "markdown",
   "metadata": {
    "slideshow": {
     "slide_type": "slide"
    }
   },
   "source": [
    "## Pretend to collect data from a marketing API"
   ]
  },
  {
   "cell_type": "code",
   "execution_count": 1,
   "metadata": {
    "slideshow": {
     "slide_type": "fragment"
    }
   },
   "outputs": [
    {
     "name": "stdout",
     "output_type": "stream",
     "text": [
      "initial data\n"
     ]
    },
    {
     "data": {
      "text/html": [
       "<div>\n",
       "<style scoped>\n",
       "    .dataframe tbody tr th:only-of-type {\n",
       "        vertical-align: middle;\n",
       "    }\n",
       "\n",
       "    .dataframe tbody tr th {\n",
       "        vertical-align: top;\n",
       "    }\n",
       "\n",
       "    .dataframe thead th {\n",
       "        text-align: right;\n",
       "    }\n",
       "</style>\n",
       "<table border=\"1\" class=\"dataframe\">\n",
       "  <thead>\n",
       "    <tr style=\"text-align: right;\">\n",
       "      <th></th>\n",
       "      <th>first_name</th>\n",
       "      <th>last_name</th>\n",
       "      <th>is_subscribed</th>\n",
       "    </tr>\n",
       "    <tr>\n",
       "      <th>profileid</th>\n",
       "      <th></th>\n",
       "      <th></th>\n",
       "      <th></th>\n",
       "    </tr>\n",
       "  </thead>\n",
       "  <tbody>\n",
       "    <tr>\n",
       "      <th>123</th>\n",
       "      <td>Thibault</td>\n",
       "      <td>Bétrémieux</td>\n",
       "      <td>None</td>\n",
       "    </tr>\n",
       "    <tr>\n",
       "      <th>124</th>\n",
       "      <td>John</td>\n",
       "      <td>Rambo</td>\n",
       "      <td>None</td>\n",
       "    </tr>\n",
       "  </tbody>\n",
       "</table>\n",
       "</div>"
      ],
      "text/plain": [
       "          first_name   last_name is_subscribed\n",
       "profileid                                     \n",
       "123         Thibault  Bétrémieux          None\n",
       "124             John       Rambo          None"
      ]
     },
     "metadata": {},
     "output_type": "display_data"
    },
    {
     "name": "stdout",
     "output_type": "stream",
     "text": [
      "new data\n",
      "> John Rambo became John Travolta\n",
      "> is_subscribed now has data\n",
      "> we have a new profile (125) but a profile disappeared (124)\n",
      "> we have a new column (likes_dancing)\n"
     ]
    },
    {
     "data": {
      "text/html": [
       "<div>\n",
       "<style scoped>\n",
       "    .dataframe tbody tr th:only-of-type {\n",
       "        vertical-align: middle;\n",
       "    }\n",
       "\n",
       "    .dataframe tbody tr th {\n",
       "        vertical-align: top;\n",
       "    }\n",
       "\n",
       "    .dataframe thead th {\n",
       "        text-align: right;\n",
       "    }\n",
       "</style>\n",
       "<table border=\"1\" class=\"dataframe\">\n",
       "  <thead>\n",
       "    <tr style=\"text-align: right;\">\n",
       "      <th></th>\n",
       "      <th>first_name</th>\n",
       "      <th>last_name</th>\n",
       "      <th>is_subscribed</th>\n",
       "      <th>likes_dancing</th>\n",
       "    </tr>\n",
       "    <tr>\n",
       "      <th>profileid</th>\n",
       "      <th></th>\n",
       "      <th></th>\n",
       "      <th></th>\n",
       "      <th></th>\n",
       "    </tr>\n",
       "  </thead>\n",
       "  <tbody>\n",
       "    <tr>\n",
       "      <th>124</th>\n",
       "      <td>John</td>\n",
       "      <td>Travolta</td>\n",
       "      <td>1</td>\n",
       "      <td>1</td>\n",
       "    </tr>\n",
       "    <tr>\n",
       "      <th>125</th>\n",
       "      <td>Arnold</td>\n",
       "      <td>Schwarzenegger</td>\n",
       "      <td>0</td>\n",
       "      <td>0</td>\n",
       "    </tr>\n",
       "  </tbody>\n",
       "</table>\n",
       "</div>"
      ],
      "text/plain": [
       "          first_name       last_name  is_subscribed  likes_dancing\n",
       "profileid                                                         \n",
       "124             John        Travolta              1              1\n",
       "125           Arnold  Schwarzenegger              0              0"
      ]
     },
     "metadata": {},
     "output_type": "display_data"
    }
   ],
   "source": [
    "import pandas as pd\n",
    "\n",
    "# suppose we got this data from some marketing API\n",
    "print('initial data')\n",
    "df = (pd.DataFrame({'profileid':[123,124],\n",
    "                    'first_name':['Thibault','John'],\n",
    "                    'last_name':['Bétrémieux','Rambo'],\n",
    "                    'is_subscribed':[None, None]})\n",
    "      .set_index('profileid'))\n",
    "display(df)\n",
    "\n",
    "# then we receive some new data\n",
    "print('new data')\n",
    "print('> John Rambo became John Travolta')\n",
    "print('> is_subscribed now has data')\n",
    "print('> we have a new profile (125) but a profile disappeared (124)')\n",
    "print('> we have a new column (likes_dancing)')\n",
    "df = (pd.DataFrame({'profileid':[124,125],\n",
    "                    'first_name':['John','Arnold'],\n",
    "                    'last_name':['Travolta','Schwarzenegger'],\n",
    "                    'is_subscribed':[1, 0],\n",
    "                    'likes_dancing':[1,0]})\n",
    "      .set_index('profileid'))\n",
    "display(df)"
   ]
  },
  {
   "cell_type": "code",
   "execution_count": null,
   "metadata": {
    "slideshow": {
     "slide_type": "slide"
    }
   },
   "outputs": [],
   "source": [
    "# let's create the table using pg_upsert\n",
    "# first create a sqlalchemy engine to interact with our PostgreSQL database\n",
    "# more info here https://docs.sqlalchemy.org/en/13/core/engines.html\n",
    "# replace '<CONNECTION_STRING>' with a connection string to a PostgreSQL database\n",
    "engine = create_engine('<CONNECTION_STRING>')\n",
    "\n",
    "# push df and create the table at the same time\n",
    "pg_upsert(engine=engine,\n",
    "          df=df,\n",
    "          table_name='test',\n",
    "          if_exists='upsert_overwrite',\n",
    "          schema='tests',\n",
    "          create_schema=True)\n",
    "\n",
    "# now push the new data (new_df)\n",
    "pg_upsert(engine=engine,\n",
    "          df=new_df,\n",
    "          table_name='test',\n",
    "          # with \"upsert_overwrite\" John Rambo will become John Travolta\n",
    "          # with \"upsert_keep\" John Rambo stays John Rambo 💪\n",
    "          if_exists='upsert_overwrite', \n",
    "          schema='tests',\n",
    "          add_new_columns=True, # will create column \"likes_dancing\"\n",
    "          adapt_dtype_of_empty_db_columns=True) # will change \"is_subscribed\" dtype to integer\n",
    "          \n",
    "with engine.connect() as con:\n",
    "    con.execute('DROP TABLE IF EXISTS tests.test;')"
   ]
  },
  {
   "cell_type": "markdown",
   "metadata": {
    "slideshow": {
     "slide_type": "slide"
    }
   },
   "source": [
    "# Base structure of \"pangres\""
   ]
  },
  {
   "cell_type": "markdown",
   "metadata": {
    "Collapsed": "false",
    "slideshow": {
     "slide_type": "fragment"
    }
   },
   "source": [
    "```\n",
    "pangres/ # on this level lies setup/config files, requirements etc. on GitHub it would be the repository name\n",
    "│   LICENSE # this has been generated by GitHub when I created the repo\n",
    "│   README.md # essential information about your library (what it does, how to use it...) written in Markdown language\n",
    "│             # Alternatively people use README.rst in reStructuredText language\n",
    "│\n",
    "├───pangres  # on this level and below lies the code of the library \n",
    "│   │        # (it is recommanded to use the same name as the repository/parent folder)\n",
    "│   │   core.py\n",
    "│   │   helpers.py\n",
    "│   │   _config.py # the prefix \"_\" indicates it is a private (hidden) module and \n",
    "│   │              # it won't appear the same way in auto-completion\n",
    "│   │   __init__.py\n",
    "│   │       \n",
    "│   ├───tests\n",
    "│   │   │   test_chunsize.py\n",
    "│   │   │   test_index.py\n",
    "│   │   │   test_pandas_special_engine.py\n",
    "│   │   │   test_pg_upsert.py\n",
    "│   │   │   test_pg_upsert2.py\n",
    "│   │   │   test_pg_upsert_speed.py\n",
    "│   │   │   __init__.py\n",
    "```"
   ]
  },
  {
   "cell_type": "markdown",
   "metadata": {
    "slideshow": {
     "slide_type": "slide"
    }
   },
   "source": [
    "## About \\_\\_init\\_\\_.py files\n",
    "\n",
    "Those file have 2 purposes:\n",
    "* The presence of the file indicates to Python we are inside a package\n",
    "* Telling Python how to initialize the library\n",
    "```python\n",
    "# without __init__.py\n",
    "from pangres.core import pg_upsert\n",
    "# with __init__.py\n",
    "from pangres import pg_upsert\n",
    "```\n",
    "\n",
    "Note that we could have the same effect by putting all the code in core.py inside \\_\\_init\\_\\_.py but that does not seem very Pythonic to me (I think \\_\\_init\\_\\_.py should be reserved for initialization as the name indicates)."
   ]
  },
  {
   "cell_type": "markdown",
   "metadata": {
    "slideshow": {
     "slide_type": "slide"
    }
   },
   "source": [
    "# Testing\n",
    "\n",
    "The library pytest (<code>pip install pytest</code>) automatically collects tests located in the \"tests\" folder of my library. In all modules prefixed with \"test_\" all the functions whose name are prefixed with \"test_\" will be run by pytest.\n",
    "\n",
    "Testing should be done in an **isolated environment**. You can create so called virtual environments with lots of tools. I recommand using conda (can be installed by installing [Miniconda](https://docs.conda.io/en/latest/miniconda.html) or [Anaconda](https://www.anaconda.com/distribution/#download-section)).\n",
    "\n",
    "You can also test code examples in docstrings using doctest. doctest can [work together with pytest](http://doc.pytest.org/en/latest/doctest.html)."
   ]
  },
  {
   "cell_type": "markdown",
   "metadata": {
    "slideshow": {
     "slide_type": "slide"
    }
   },
   "source": [
    "# How I packaged and published the library to PyPI (Python Package Index)\n",
    "\n",
    "(using the old way because I got lazy 🐢 and didn't know how to do it the \"new way\")\n",
    "\n",
    "Seriously though there is probably nothing wrong with this method if you can understand how it works. Besides it is used by the great majority of Python libraries nowadays. But the \"new way\" (described after) is much more convenient.\n",
    "\n",
    "Everything is very well documented in this [article](https://medium.com/@joel.barmettler/how-to-upload-your-python-package-to-pypi-65edc5fe9c56). **Important**: you should upload to [TestPyPI](https://test.pypi.org/) before uploading it to [PyPI](https://pypi.org/)! You'll need to create different accounts for both.\n",
    "\n",
    "This is what the structure of pangres looked like after I was done (minus some exotic folders and files such as \".circleci\" which I'll talk about later):\n",
    "```\n",
    "pangres/\n",
    "│   .gitignore # lists files to ignore in \"prangres\" repo (for instance pycache), added by GitHub\n",
    "│   LICENSE\n",
    "│   MANIFEST.in # lists non Python files to include when pip installing (for instance README.md)\n",
    "│               # so they are copied over in site_packages\n",
    "│   README.md\n",
    "│   requirements.txt # lists dependencies for end users e.g. pandas\n",
    "│   requirements-dev.txt # lists dependencies for developers e.g. pytest\n",
    "│   setup.cfg # this is for additional configuration for the setup somehow (e.g. which type of distribution)\n",
    "│   setup.py # script containing essential metadata on how to install the library (author, version,...).\n",
    "│            # it reuses the content of requirements.txt  \n",
    "│               \n",
    "├───pangres\n",
    "│   │   core.py\n",
    "│   │   helpers.py\n",
    "│   │   _config.py\n",
    "│   │   __init__.py\n",
    "│   │       \n",
    "│   ├───tests\n",
    "│   │   │   test_chunsize.py\n",
    "│   │   │   test_index.py\n",
    "│   │   │   test_pandas_special_engine.py\n",
    "│   │   │   test_pg_upsert.py\n",
    "│   │   │   test_pg_upsert2.py\n",
    "│   │   │   test_pg_upsert_speed.py\n",
    "│   │   │   __init__.py\n",
    "```"
   ]
  },
  {
   "cell_type": "markdown",
   "metadata": {
    "slideshow": {
     "slide_type": "slide"
    }
   },
   "source": [
    "# Packaging using poetry\n",
    "Like the other method you will need to have your code hosted in a repository online (e.g. on GitHub).\n",
    "\n",
    "Let's repackage \"pangres\" using the tool \"poetry\" and publish a new release at the same time.\n",
    "I recommand this [guide](https://johnfraney.ca/posts/2019/05/28/create-publish-python-package-poetry/) for learning how to publish with poetry.\n",
    "\n",
    "We will use a single file called \"pyproject.toml\" which contains all the information in:\n",
    "* MANIFEST.in\n",
    "* requirements.txt\n",
    "* requirements-dev.txt\n",
    "* setup.cfg\n",
    "* setup.py"
   ]
  },
  {
   "cell_type": "markdown",
   "metadata": {
    "slideshow": {
     "slide_type": "slide"
    }
   },
   "source": [
    "## A. Install poetry\n",
    "\n",
    "**osx / linux / bashonwindows**\n",
    "\n",
    "<code>curl -sSL https://raw.githubusercontent.com/python-poetry/poetry/master/get-poetry.py | python</code>\n",
    "\n",
    "**windows powershell**\n",
    "\n",
    "<code>(Invoke-WebRequest -Uri https://raw.githubusercontent.com/python-poetry/poetry/master/get-poetry.py -UseBasicParsing).Content | python</code>\n"
   ]
  },
  {
   "cell_type": "markdown",
   "metadata": {
    "slideshow": {
     "slide_type": "slide"
    }
   },
   "source": [
    "## B. Create a pyproject.toml with poetry\n",
    "\n",
    "<code>poetry init</code>\n",
    "\n",
    "Let poetry guide you to create the pyproject.toml file."
   ]
  },
  {
   "cell_type": "markdown",
   "metadata": {
    "slideshow": {
     "slide_type": "slide"
    }
   },
   "source": [
    "## C. Let's put pyproject.toml into our structure\n",
    "\n",
    "Note that I could also have created the library structure using <code>poetry new pangres</code> but I would have to change too many things to the default structure it is not helpful.\n",
    "\n",
    "```\n",
    "pangres/\n",
    "│   LICENSE\n",
    "│   -> pyproject.toml\n",
    "│   README.md\n",
    "│\n",
    "├───pangres\n",
    "│   │   core.py\n",
    "│   │   helpers.py\n",
    "│   │   _config.py\n",
    "│   │   __init__.py\n",
    "│   │       \n",
    "│   ├───tests\n",
    "│   │   │   test_chunsize.py\n",
    "│   │   │   test_index.py\n",
    "│   │   │   test_pandas_special_engine.py\n",
    "│   │   │   test_pg_upsert.py\n",
    "│   │   │   test_pg_upsert2.py\n",
    "│   │   │   test_pg_upsert_speed.py\n",
    "│   │   │   __init__.py\n",
    "```"
   ]
  },
  {
   "cell_type": "markdown",
   "metadata": {
    "slideshow": {
     "slide_type": "slide"
    }
   },
   "source": [
    "## D. Let's install and test pangres\n",
    "\n",
    "```\n",
    "poetry install\n",
    "# the statement below will make pytest run inside a virtual environment made/selected by poetry 😎!\n",
    "poetry run pytest pangres\n",
    "```"
   ]
  },
  {
   "cell_type": "markdown",
   "metadata": {
    "slideshow": {
     "slide_type": "slide"
    }
   },
   "source": [
    "## E. Build, test publish and publish\n",
    "Build:\n",
    "```\n",
    "poetry build\n",
    "```\n",
    "\n",
    "Test publish using TestPyPI:\n",
    "```\n",
    "# add TestPyPI as an alternate package repository\n",
    "poetry config repositories.testpypi https://test.pypi.org/legacy\n",
    "# publish to TestPyPI then test a pip install from TestPyPI\n",
    "poetry publish -r testpypi\n",
    "pip install --index-url https://test.pypi.org/simple/ pangres\n",
    "```\n",
    "\n",
    "If we can use the library as expected publish on PyPI:\n",
    "```\n",
    "poetry publish\n",
    "```"
   ]
  },
  {
   "cell_type": "markdown",
   "metadata": {
    "slideshow": {
     "slide_type": "slide"
    }
   },
   "source": [
    "## Additional cool stuff with poetry\n",
    "\n",
    "* Adding a new dependency <code>poetry add pandas</code>\n",
    "* Removing a dependency <code>poetry remove pandas</code>\n",
    "* Adding a new dev dependency <code>poetry add pytest-cov --dev</code>\n",
    "* Removing a dev dependency <code>poetry remove pytest-cov --dev</code>\n",
    "* Get latest version of dependencies <code>poetry update</code>\n",
    "* showing dependencies <code>poetry show</code>\n",
    "* Working in editable mode: <code>poetry install --develop</code>\n",
    "* [Working with local packages](https://python-poetry.org/docs/versions/#path-dependencies) \n",
    "* etc.\n",
    "\n",
    "See more [here](https://python-poetry.org/docs/cli/)."
   ]
  },
  {
   "cell_type": "markdown",
   "metadata": {
    "slideshow": {
     "slide_type": "slide"
    }
   },
   "source": [
    "# Continuous integration and coverage\n",
    "\n",
    "* Sign up on [circleci.com](https://circleci.com/) using GitHub\n",
    "* Sign up on [codecov.io](https://codecov.io/) using GitHub\n",
    "* Create a folder \".circleci\" in the root of your repo then create a file called \"config.yml\" inside it\n",
    "\n",
    "<details>\n",
    "    <summary><b>Example of config.yml for circleci</b></summary>\n",
    "\n",
    "```\n",
    "version: 2 # version of circleci\n",
    "jobs:\n",
    "  build: # set up the environment\n",
    "    docker: # use docker images of Python and postgres\n",
    "    - image: circleci/python:3.7.3\n",
    "    - image: circleci/postgres:12\n",
    "      environment:\n",
    "        POSTGRES_USER: circleci_user\n",
    "        POSTGRES_DB: circleci_test\n",
    "    working_directory: ~/pangres\n",
    "    steps:\n",
    "    - checkout\n",
    "    - restore_cache: # try to get dependencies from a cache if they have been installed before (speeds up test time)\n",
    "        keys:\n",
    "        - v1-dependencies-{{ checksum \"requirements.txt\" }}\n",
    "        - v1-dependencies-\n",
    "    - run: # install dependencies if necessary\n",
    "        name: Install dependencies\n",
    "        command: |\n",
    "          python3 -m venv venv\n",
    "          . venv/bin/activate\n",
    "          pip install -r requirements.txt\n",
    "    - save_cache: # cache dependencies\n",
    "        paths:\n",
    "        - ./venv\n",
    "        key: v1-dependencies-{{ checksum \"requirements.txt\" }}\n",
    "    - run:\n",
    "        name: run tests\n",
    "        command: |\n",
    "          . venv/bin/activate\n",
    "          # install package (fetches setup.py in current directory)\n",
    "          pip install .\n",
    "          pip install codecov\n",
    "          pip install coverage\n",
    "          pip install numpy\n",
    "          pip install pytest\n",
    "          pip install pytest-benchmark\n",
    "          pip install pytest-cov\n",
    "          # somehow the commented line below does not do coverage of non tests files\n",
    "          # pytest pangres --cov=./\n",
    "          # use this instead\n",
    "          coverage run -m pytest\n",
    "          codecov\n",
    "workflows:\n",
    "  version: 2\n",
    "  workflow:\n",
    "    jobs:\n",
    "    - build\n",
    "```\n",
    "    \n",
    "</details>\n",
    "\n",
    "* Follow the project on circleci\n",
    "* Follow the project on code coverage"
   ]
  },
  {
   "cell_type": "markdown",
   "metadata": {
    "slideshow": {
     "slide_type": "slide"
    }
   },
   "source": [
    "# Additional recommandations for libraries (and when writing Python in general)\n",
    "\n",
    "## Docstrings\n",
    "For the docstrings I highly recommand [pandas' docstring guide](https://dev.pandas.io/docs/development/contributing_docstring.html#docstring). All docstrings in pangres are written according to the pandas' guide. Alternatively you may prefer [Google docstring style](https://sphinxcontrib-napoleon.readthedocs.io/en/latest/example_google.html).\n",
    "\n",
    "## Code style / Linting\n",
    "I recommand some code formatter like [black](https://github.com/psf/black) so Python code always looks the same and you can focus on what it does. I personnaly used [yapf](https://github.com/google/yapf) (google flavor) because I don't like how they place brackets and parentheses it looks like javascript  😬 and method chaining is often screwed up (I use it a lot with pandas). I find yapf-google much better for me but it's still far from perfect.\n",
    "\n",
    "You should also use [flake8](http://flake8.pycqa.org/en/latest/) to check for syntax, superfluous spaces, undefined names etc."
   ]
  },
  {
   "cell_type": "markdown",
   "metadata": {},
   "source": [
    "# Publishing documentation\n",
    "\n",
    "\n",
    "I can recommand at least two ways to create documentation using docstrings + your own files.\n",
    "\n",
    "\n",
    "\n",
    "\n",
    "## Auto generated documentation using docstrings\n",
    "\n",
    "Sphinx is very popular for doing that (<code>pip install sphinx</code>) and it does look good. Example of documentation generated with sphinx [here](https://pandas.pydata.org/pandas-docs/stable/index.html) (this pandas documentation is now old they have a new website).\n",
    "\n",
    "The procedure goes something like that with Sphinx:\n",
    "* sphinx-quickstart (will start building your documentation)\n",
    "* sphinx-apidoc (to auto generate documentation with python docstrings)\n",
    "* add your own Markdown (you'll have to do some trickery to get Markdown working otherwise use reStructuredText) files in the mix\n",
    "* readthedocs to host your documentation (I think github pages would work too but readthedocs picks it up from your repo which is convenient)\n",
    "\n",
    "I have managed this in the past but could somehow not reproduce it. Online guides where not very helpful either as it would never produce the expected output.\n",
    "\n",
    "Perhaps it's just me and it is actually straightforward. In either case the second method is stupidly simple, always works and is perfect for private repositories if you don't want to bother with a private website to host your documentation.\n",
    "\n",
    "## Markdown FTW\n",
    "Just put everything in README.md. With a table of contents, python flavored Markdown etc. this can be really practical for the user but can become quite tedious for developers if there are lots of modules and lots of functions to document...\n",
    "\n",
    "Here is a great [example](https://github.com/VingtCinq/python-mailchimp).\n",
    "\n",
    "You can even make a table of contents like this:\n",
    "\n",
    "````markdown\n",
    "# Table of contents\n",
    "\n",
    "[Description](#Description) # anchor link to chapter \"Description\"\n",
    "\n",
    "[Usage](#Usage)\n",
    "\n",
    "&ensp;&ensp;[Do cool struff](#Do-cool-stuff) # use &ensp; (URL encoded space) to tabulate for subchapters (idk about a better alternative)\n",
    "                                             #  also beware \"-\" and not \" \" (since spaces are not URL compatible)\n",
    "\n",
    "[Contributing](#Contributing)\n",
    "\n",
    "[Testing](#Testing)\n",
    "\n",
    "# Description\n",
    "\n",
    "A very cool library\n",
    "\n",
    "# Usage\n",
    "## Do cool stuff\n",
    "```python\n",
    "from very_cool_library import do_stuff\n",
    "do_stuff()\n",
    "wow great stuff was done!\n",
    "```\n",
    "\n",
    "# Contributing\n",
    "\n",
    "Contributions are welcome...\n",
    "\n",
    "\n",
    "etc.\n",
    "\n",
    "````\n",
    "\n",
    "Once rendered this produces:\n",
    "\n",
    "# Table of contents\n",
    "\n",
    "[Description](#Description)\n",
    "\n",
    "[Usage](#Usage)\n",
    "\n",
    "&ensp;&ensp;[Do cool struff](#Do-cool-stuff)\n",
    "\n",
    "[Contributing](#Contributing)\n",
    "\n",
    "[Testing](#Testing)\n",
    "\n",
    "[Thanks to](#Thanks-to)\n",
    "\n",
    "# Description\n",
    "\n",
    "A very cool library\n",
    "\n",
    "# Usage\n",
    "## Do cool stuff\n",
    "\n",
    "```python\n",
    "from very_cool_library import do_stuff\n",
    "do_stuff()\n",
    "wow great stuff was done!\n",
    "```\n",
    "\n",
    "# Contributing\n",
    "\n",
    "Contributions are welcome...\n",
    "\n",
    "\n",
    "etc."
   ]
  },
  {
   "cell_type": "markdown",
   "metadata": {},
   "source": [
    "# Conclusion\n",
    "\n",
    "* Making libraries can be very useful. It does require some knowledge but this is good knowledge to have! For instance git, docstring formatting or continuous integration\n",
    "* If you decide to publish a library you may help other people and have other people help you improving your library! People may even create new features or other libraries based on it\n",
    "* poetry makes things a little easier 🐢\n",
    "* Publishing documentation still seems very impractical (to me at least)"
   ]
  }
 ],
 "metadata": {
  "celltoolbar": "Diaporama",
  "kernelspec": {
   "display_name": "Python 3",
   "language": "python",
   "name": "python3"
  },
  "language_info": {
   "codemirror_mode": {
    "name": "ipython",
    "version": 3
   },
   "file_extension": ".py",
   "mimetype": "text/x-python",
   "name": "python",
   "nbconvert_exporter": "python",
   "pygments_lexer": "ipython3",
   "version": "3.7.3"
  },
  "toc-autonumbering": false,
  "toc-showcode": false
 },
 "nbformat": 4,
 "nbformat_minor": 4
}
