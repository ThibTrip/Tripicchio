{
 "cells": [
  {
   "cell_type": "code",
   "execution_count": null,
   "metadata": {},
   "outputs": [],
   "source": [
    "\"\"\"Source: ThibTrip (using dataset from plotly)\"\"\"\n",
    "\n",
    "import dash\n",
    "from dash.dependencies import Output, Input, State\n",
    "import dash_core_components as dcc\n",
    "import dash_html_components as html\n",
    "import plotly.graph_objs as go\n",
    "\n",
    "import numpy as np\n",
    "import pandas as pd\n",
    "from pandas.api.types import is_datetime64_any_dtype\n",
    "import os"
   ]
  },
  {
   "cell_type": "markdown",
   "metadata": {},
   "source": [
    "# Load the data"
   ]
  },
  {
   "cell_type": "code",
   "execution_count": null,
   "metadata": {},
   "outputs": [],
   "source": [
    "df = pd.read_csv('https://raw.githubusercontent.com/plotly/datasets/master/hello-world-stock.csv').iloc[:,1:] # drop first column\n",
    "df['Date'] = pd.to_datetime(df['Date'])\n",
    "df.head()"
   ]
  },
  {
   "cell_type": "markdown",
   "metadata": {},
   "source": [
    "# Create the app"
   ]
  },
  {
   "cell_type": "code",
   "execution_count": null,
   "metadata": {},
   "outputs": [],
   "source": [
    "app = dash.Dash(__name__)"
   ]
  },
  {
   "cell_type": "markdown",
   "metadata": {},
   "source": [
    "# Layout"
   ]
  },
  {
   "cell_type": "code",
   "execution_count": null,
   "metadata": {},
   "outputs": [],
   "source": [
    "# choose date resolution\n",
    "date_resolution_dropdown = dcc.Dropdown(id='my-dropdown',\n",
    "                                        options=[{'label': 'years', 'value': 'years'},\n",
    "                                                 {'label': 'quarters', 'value': 'quarters'},\n",
    "                                                 {'label': 'months', 'value': 'months'},\n",
    "                                                 {'label': 'calendar week (monday based, overlapping years)','value':'calendar_weeks_start_monday'},\n",
    "                                                 {'label': 'days', 'value': 'days'}],\n",
    "                                        value='months')\n",
    "\n",
    "# date picker\n",
    "min_value = df['Date'].min().to_pydatetime()\n",
    "max_value = df['Date'].max().to_pydatetime()\n",
    "\n",
    "date_range_picker = dcc.DatePickerRange(id='my-date-picker-range',\n",
    "                                        min_date_allowed = min_value,\n",
    "                                        max_date_allowed = max_value,\n",
    "                                        initial_visible_month = min_value,\n",
    "                                        with_portal = True,\n",
    "                                        end_date= max_value)\n",
    "\n",
    "# create dropdown for choosing stocks\n",
    "stock_dropdown = dcc.Dropdown(id=\"multi_dropdown\",\n",
    "                              options= [{'label':value,'value':value} for value in df['Stock'].unique()],\n",
    "                              value= df['Stock'].unique(),\n",
    "                              multi=True)\n",
    "\n",
    "# div for displaying the chart (autofilled within callback)\n",
    "chart_div = dcc.Graph(id='my-graph')\n",
    "\n",
    "\n",
    "# assemble layout and add it to the app\n",
    "\n",
    "\n",
    "app.layout = html.Div([dcc.Markdown('# Stocks'),\n",
    "                       date_resolution_dropdown,\n",
    "                       stock_dropdown,\n",
    "                       date_range_picker,\n",
    "                       chart_div])"
   ]
  },
  {
   "cell_type": "markdown",
   "metadata": {},
   "source": [
    "# Callback"
   ]
  },
  {
   "cell_type": "code",
   "execution_count": null,
   "metadata": {},
   "outputs": [],
   "source": [
    "@app.callback(Output('my-graph', 'figure'),\n",
    "              [Input(component_id = 'my-dropdown',component_property = 'value'),\n",
    "               Input('multi_dropdown','value'),\n",
    "               Input('my-date-picker-range','start_date'),\n",
    "               Input('my-date-picker-range','end_date')])\n",
    "\n",
    "\n",
    "def update_graph(resolution,\n",
    "                 stocks,\n",
    "                 selected_start_date,\n",
    "                 selected_end_date):\n",
    "      \n",
    "    # SELECT DATA\n",
    "    # Select the date range - START WITH THIS, it needs the original data to be able to use to dt. accessor\n",
    "    # Upon changing the date resolution a conversion to string can indeed occur (e.g. for quarters)\n",
    "    if selected_start_date is None:\n",
    "        selected_start_date = df['Date'].min()\n",
    "        \n",
    "    new_df = df[(df['Date'] >= pd.Timestamp(selected_start_date)) & \n",
    "                (df['Date'] <= pd.Timestamp(selected_end_date))].copy(deep = True) # IMPORTANT: COPY\n",
    "\n",
    "\n",
    "    # Select the stock    \n",
    "    new_df = new_df[new_df['Stock'].isin(stocks)]\n",
    "    \n",
    "    # AGGREGATE\n",
    "    # Change date resolution and group\n",
    "    if resolution == 'years':\n",
    "        grouper = new_df['Date'].dt.to_period('Y').fillna('').astype(str)\n",
    "        xaxis_layout = {'type':'category', 'tickformat': '%Y'} # avoids beeing interpreted as a number\n",
    "        \n",
    "    elif resolution == 'quarters':\n",
    "        grouper = new_df['Date'].dt.to_period('Q').fillna('').astype(str)\n",
    "        xaxis_layout = {'type':'category'}\n",
    "    \n",
    "    elif resolution == 'calendar_weeks_start_monday':\n",
    "        grouper = new_df['Date'].dt.to_period('W').apply(lambda r: r.start_time)\n",
    "        xaxis_layout = {'tickformat':'%Y%W'}\n",
    "    \n",
    "    elif resolution == 'days':\n",
    "        grouper = new_df['Date'].dt.to_period('D').dt.to_timestamp()\n",
    "        xaxis_layout = {'tickformat':'%d.%m.%Y'}\n",
    "        \n",
    "    elif resolution == 'months':\n",
    "        grouper = new_df['Date'].dt.to_period('M').dt.to_timestamp()\n",
    "        xaxis_layout = {'tickformat':'%Y-%m'}\n",
    "    \n",
    "    else:\n",
    "        raise ValueError(f'Unexpected date resolution ({resolution})')\n",
    "        \n",
    "    new_df = new_df.groupby(grouper)[['Low','High','Volume']].sum().reset_index()\n",
    "        \n",
    "    # Prepare data for the graph\n",
    "    data = [{'x': new_df['Date'],\n",
    "             'y': new_df['Volume'], \n",
    "             'name':'volume',\n",
    "             'type':'bar'},\n",
    "            \n",
    "            {'x': new_df['Date'],\n",
    "             'y': new_df['Low'],\n",
    "             'yaxis':'y2', # dual axis \n",
    "             'name':'low',\n",
    "             'line': {'width': 3,\n",
    "                      'shape': 'spline'}},\n",
    "            \n",
    "            {'x': new_df['Date'],\n",
    "             'y': new_df['High'],\n",
    "             'yaxis':'y2', # dual axis \n",
    "             'name':'high',\n",
    "             'line': {'width': 3,\n",
    "                      'shape': 'spline'}}]\n",
    "    \n",
    "    graph = {'data': data,\n",
    "             'layout': {'margin': {'l': 30,\n",
    "                                   'r': 20,\n",
    "                                   'b': 30,\n",
    "                                   't': 20},\n",
    "                        'yaxis2':{'overlaying':'y',\n",
    "                                  'anchor':'x',\n",
    "                                  'side':'right',\n",
    "                                  'showgrid':False},\n",
    "                                                \n",
    "                        'xaxis': xaxis_layout}}\n",
    "\n",
    "    return graph"
   ]
  },
  {
   "cell_type": "markdown",
   "metadata": {},
   "source": [
    "# Launch the app"
   ]
  },
  {
   "cell_type": "code",
   "execution_count": null,
   "metadata": {},
   "outputs": [],
   "source": [
    "if __name__ == '__main__':\n",
    "    app.run_server()"
   ]
  }
 ],
 "metadata": {
  "kernelspec": {
   "display_name": "Python 3",
   "language": "python",
   "name": "python3"
  },
  "language_info": {
   "codemirror_mode": {
    "name": "ipython",
    "version": 3
   },
   "file_extension": ".py",
   "mimetype": "text/x-python",
   "name": "python",
   "nbconvert_exporter": "python",
   "pygments_lexer": "ipython3",
   "version": "3.7.3"
  },
  "toc": {
   "base_numbering": 1,
   "nav_menu": {},
   "number_sections": true,
   "sideBar": true,
   "skip_h1_title": false,
   "title_cell": "Table of Contents",
   "title_sidebar": "Contents",
   "toc_cell": false,
   "toc_position": {},
   "toc_section_display": true,
   "toc_window_display": false
  }
 },
 "nbformat": 4,
 "nbformat_minor": 4
}
