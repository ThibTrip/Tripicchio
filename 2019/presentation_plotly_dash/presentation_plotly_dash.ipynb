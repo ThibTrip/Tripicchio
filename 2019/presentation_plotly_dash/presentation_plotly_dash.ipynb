{
 "cells": [
  {
   "cell_type": "markdown",
   "metadata": {
    "slideshow": {
     "slide_type": "slide"
    }
   },
   "source": [
    "# Data visualization and web apps with Dash\n",
    "\n",
    "![Dash example](https://user-images.githubusercontent.com/1280389/30086123-97c58bde-9267-11e7-98a0-7f626de5199a.gif)\n",
    "\n",
    "_Example dash app found on https://github.com/plotly/dash_"
   ]
  },
  {
   "cell_type": "markdown",
   "metadata": {
    "slideshow": {
     "slide_type": "slide"
    }
   },
   "source": [
    "# My quest for the ideal data vizualization software"
   ]
  },
  {
   "cell_type": "markdown",
   "metadata": {
    "slideshow": {
     "slide_type": "slide"
    }
   },
   "source": [
    "## How I discovered Dash\n",
    "\n",
    "I have had to produce quite complex charts for my work. I have mostly used Tableau for it and became fed up with it.\n",
    "This is why I have come up with a checklist of conditions that I tested against many other vizualization software."
   ]
  },
  {
   "cell_type": "markdown",
   "metadata": {
    "slideshow": {
     "slide_type": "fragment"
    }
   },
   "source": [
    "- no messing around with CSS, HTML or Javascript or any IT tool which would consume 90% of my time (I'm exaggerating a bit)\n",
    "- interactivity (dynamic data selection and transformation via the use of buttons e.g. a date range)\n",
    "- programmatic or at least very reusable\n",
    "- stable!!\n",
    "- some basic charts available: bar, pie, map, treemap...\n",
    "- dashboarding (multiple charts on the same page)\n",
    "- charts crossfiltering which means filtering a chart by clicking/interacting with another one (this is a rare option)\n",
    "- quick to use\n",
    "- can read from PostgreSQL\n",
    "- bonus: free and open-source"
   ]
  },
  {
   "cell_type": "markdown",
   "metadata": {
    "slideshow": {
     "slide_type": "slide"
    }
   },
   "source": [
    "### Non programmatic solutions\n",
    "\n",
    "Although [Tableau](https://www.tableau.com/fr-fr) ticks all boxes except being free and open source (also the reusable part does not work so well), I have found it to be slow, not reusable, as well as not flexible and stable enough. It is also hard to document your work with it.\n",
    "\n",
    "I tested [Metabase](https://github.com/metabase/metabase) a little a while ago and found it really great. However it does not support charts crossfiltering (as of 2019-07-09 at least).\n",
    "\n",
    "[Microsoft PowerBI](https://powerbi.microsoft.com) seems to tick all the boxes except for beeing free and open source. I have very limited knowledge of it but my colleagues have shown me very cool dashboards."
   ]
  },
  {
   "cell_type": "markdown",
   "metadata": {
    "slideshow": {
     "slide_type": "slide"
    }
   },
   "source": [
    "### Programmatic solutions\n",
    "\n",
    "I have found nothing as complete and easy as **Dash + Plotly** in the programmatic world. Other solutions I have researched included bokeh, Python + JSON + HTML + CSS + D3 (this is too much work...), altair and some others I forgot.\n",
    "\n",
    "Perhaps R Shiny would also fit but then you have to learn R obviously...\n",
    "\n",
    "We will see the advantages and disadvantages of using Dash with the examples through the presentation."
   ]
  },
  {
   "cell_type": "markdown",
   "metadata": {
    "slideshow": {
     "slide_type": "slide"
    }
   },
   "source": [
    "## Some dashboard examples using Dash\n",
    "\n",
    "The two commands below will run two Python scripts in the same folder. If running the Jupyter Notebook you can just interrupt the kernel to run the next app.\n",
    "\n",
    "If viewing a static version of the notebook (e.g. as an HTML page) you will have to use bash/command line/Powershell and run the commands \"python crossfilter_hover.py\" and \"python dual_axis_multitype_chart.py\" for viewing the apps (python or python3 for some environments like Ubuntu by default) after downloading the corresponding scripts or git cloning my repository."
   ]
  },
  {
   "cell_type": "code",
   "execution_count": null,
   "metadata": {},
   "outputs": [],
   "source": [
    "%run crossfilter_hover.py"
   ]
  },
  {
   "cell_type": "code",
   "execution_count": null,
   "metadata": {
    "slideshow": {
     "slide_type": "fragment"
    }
   },
   "outputs": [],
   "source": [
    "%run dual_axis_multitype_chart.py"
   ]
  },
  {
   "cell_type": "markdown",
   "metadata": {
    "slideshow": {
     "slide_type": "slide"
    }
   },
   "source": [
    "# More infos on Dash and Plotly\n",
    "\n",
    "<cite>Dash is a Python framework for building analytical web applications. No JavaScript required.</cite>\n",
    "\n",
    "<cite>Plotly's team maintains the fastest growing open-source visualization libraries for R, Python, and JavaScript.</cite>\n",
    "\n",
    "* Dash is made by the company Plotly\n",
    "* You can integrate Plotly charts in a Dash app (as shown in the gif below)\n",
    "* Dash is used to create an app layout (buttons, dropdowns, text, charts in combination with plotly, ...) and manage user interactions\n",
    "* Dash is based (amongst other) on Flask"
   ]
  },
  {
   "cell_type": "markdown",
   "metadata": {
    "slideshow": {
     "slide_type": "slide"
    }
   },
   "source": [
    "# Dash and Plotly crash course\n",
    "\n",
    "This is a very very quick tutorial to demonstrate how Dash works. If you want to know more you should definitely check out the [official tutorial](https://dash.plot.ly/) which is quite well made."
   ]
  },
  {
   "cell_type": "markdown",
   "metadata": {
    "slideshow": {
     "slide_type": "slide"
    }
   },
   "source": [
    "## Installing dash\n",
    "```\n",
    "pip install dash\n",
    "pip install dash_core_components\n",
    "pip install dash_html_components\n",
    "pip install dash_table\n",
    "```\n",
    "\n",
    "or with conda:\n",
    "\n",
    "```\n",
    "conda install -c conda-forge dash\n",
    "conda install -c conda-forge dash-core-components\n",
    "conda install -c conda-forge dash-html-components\n",
    "conda install -c conda-forge dash-table\n",
    "```\n",
    "\n",
    "* dash contains the Dash class (object where you will put all your app layout and interactions and with which you'll run the app)\n",
    "* dash_core_components is for constructing dash specific components such as markdown\n",
    "* dash_html_components is for constructing html elements such as inputs\n",
    "* dash_table is for displaying tables"
   ]
  },
  {
   "cell_type": "markdown",
   "metadata": {
    "slideshow": {
     "slide_type": "slide"
    }
   },
   "source": [
    "## Installing plotly\n",
    "```\n",
    "pip install plotly\n",
    "```\n",
    "\n",
    "or with conda:\n",
    "\n",
    "```\n",
    "conda install -c plotly\n",
    "```"
   ]
  },
  {
   "cell_type": "markdown",
   "metadata": {
    "slideshow": {
     "slide_type": "slide"
    }
   },
   "source": [
    "## Let's make \"hello world\" in Dash\n",
    "\n",
    "This will show you how to:\n",
    "* create a Dash app\n",
    "* create the layout of a Dash app\n",
    "* run the app"
   ]
  },
  {
   "cell_type": "code",
   "execution_count": null,
   "metadata": {
    "slideshow": {
     "slide_type": "fragment"
    }
   },
   "outputs": [],
   "source": [
    "import dash\n",
    "import dash_core_components as dcc # this is a convention\n",
    "import dash_html_components as html # this is also a convention\n",
    "\n",
    "# a dash.Dash instance is usally named app\n",
    "app = dash.Dash('hello_world_app') # give a name to your application (you can also use __name__)\n",
    "\n",
    "# prepare the layout to put in app\n",
    "title = html.H1('Hello world') # the first argument is always \"children\". children can also be list like. \n",
    "# title = dcc.Markdown('# Hello world') will produce the same results\n",
    "layout = html.Div(title)\n",
    "\n",
    "# add the layout to the app\n",
    "app.layout = html.Div(layout)\n",
    "\n",
    "# if you are running the script directly and not from an import then run the app\n",
    "if __name__ == '__main__':\n",
    "    app.run_server(debug=False)  # debug must be False for Jupyter Notebooks"
   ]
  },
  {
   "cell_type": "markdown",
   "metadata": {
    "slideshow": {
     "slide_type": "slide"
    }
   },
   "source": [
    "## How to add user interactions to a Dash app\n",
    "\n",
    "Example of a button generating a random number"
   ]
  },
  {
   "cell_type": "code",
   "execution_count": null,
   "metadata": {
    "slideshow": {
     "slide_type": "fragment"
    }
   },
   "outputs": [],
   "source": [
    "import random\n",
    "\n",
    "import dash\n",
    "import dash_core_components as dcc\n",
    "import dash_html_components as html\n",
    "\n",
    "# imports for callbacks\n",
    "from dash.dependencies import Output,Input,State\n",
    "from dash.exceptions import PreventUpdate\n",
    "\n",
    "# create app object\n",
    "app = dash.Dash('app_with_callback')\n",
    "\n",
    "# prepare the layout to put in app\n",
    "## give ids to the components of your layouts that will be used in the interactions\n",
    "## (see create the components below)\n",
    "random_number_button_id = 'button_rd_nb'\n",
    "display_number_div_id = 'display_number'\n",
    "\n",
    "## create the components\n",
    "### button to generate random numbers\n",
    "random_number_button = html.Button('Show me a random number', # button text\n",
    "                                   id = random_number_button_id)\n",
    "\n",
    "### button to display the random number generated by the button\n",
    "display_number_div = dcc.Markdown(id = display_number_div_id)\n",
    "\n",
    "## assemble layout\n",
    "layout = html.Div([random_number_button, display_number_div])\n",
    "\n",
    "# put the layout in the app\n",
    "app.layout = layout\n",
    "\n",
    "# create callback function (display random number when button is clicked)\n",
    "# I highly recommand puttin your callbacks in functions so that\n",
    "# you can move them and import them from other modules\n",
    "def create_generate_random_number_callback(app):\n",
    "    @app.callback(Output(component_id = display_number_div_id, component_property = 'children'),\n",
    "                  [Input(random_number_button_id,'n_clicks')])\n",
    "    def generate_random_number(n_clicks): # matches inputs and states (a State is for collecting information without triggering a callback)\n",
    "        \n",
    "        # on app start and page load all callbacks are executed, prevent this by using PreventUpdate (see import for callbacks above)\n",
    "        if n_clicks is None: # at app start n_clicks is None\n",
    "            raise PreventUpdate # do not trigger the rest of the callback\n",
    "            \n",
    "        return str(random.randint(0,100)) # has to be a string for some reasons\n",
    "\n",
    "# create callback (puts the callback in the app)\n",
    "create_generate_random_number_callback(app)\n",
    "\n",
    "# run the app\n",
    "if __name__ == '__main__':\n",
    "    app.run_server(debug=False)"
   ]
  },
  {
   "cell_type": "markdown",
   "metadata": {
    "slideshow": {
     "slide_type": "slide"
    }
   },
   "source": [
    "## Creating a simple Plotly chart\n",
    "\n",
    "Here is the \"traditional way\" of using plotly.\n",
    "\n",
    "You can also use the new plotly express. It can't do as much but it can create complex charts in one line of code. See examples in this [Jupyter notebook](https://nbviewer.jupyter.org/github/plotly/plotly_express/blob/gh-pages/walkthrough.ipynb)"
   ]
  },
  {
   "cell_type": "code",
   "execution_count": null,
   "metadata": {
    "slideshow": {
     "slide_type": "fragment"
    }
   },
   "outputs": [],
   "source": [
    "import plotly.graph_objects as go # convention\n",
    "import datetime\n",
    "\n",
    "# the line below is for plotting in Jupyter Notebook or Lab\n",
    "from plotly.offline import download_plotlyjs, init_notebook_mode, plot, iplot\n",
    "\n",
    "# get/create data\n",
    "y = [1,2,4,3]\n",
    "x = [datetime.date(2019,1,i) for i in range(1,len(y) + 1)]\n",
    "title = \"My fruits consumption\"\n",
    "\n",
    "# create trace(s)\n",
    "trace = go.Bar(x = x , y = y)\n",
    "\n",
    "# create layout\n",
    "layout = go.Layout(title = title, \n",
    "                   # format xaxis (note: instead of a dict you can also use a go.layout.XAxis object)\n",
    "                   xaxis = {'type': 'category', # if you set the type to \"date\" (seems logical right?) it adds additional irrelevant ticks... \n",
    "                                                # this is one of the many annoying things of plotly\n",
    "                            'tickformat': '%Y-%m-%d', \n",
    "                            'title':'Date'},\n",
    "                   yaxis = {'title':'Number of fruits'})\n",
    "\n",
    "# put your trace(s) in a figure object\n",
    "fig = go.Figure(data = [trace], layout = layout)\n",
    "\n",
    "\n",
    "iplot(fig)"
   ]
  },
  {
   "cell_type": "markdown",
   "metadata": {
    "slideshow": {
     "slide_type": "slide"
    }
   },
   "source": [
    "## How to put a Plotly chart inside a Dash app and interact with it\n",
    "\n",
    "One of the major benefits of Dash is that it uses Python. This means you can use any Python library you want for your app (for the backend at least, since the frontend - so what the user sees - needs to be interpretable by the browser).\n",
    "\n",
    "I find this extremely exciting since for instance I can use pandas 🐼 library for data wrangling*. It is extremely powerful and fast. Its main object is the pandas DataFrame (sort of a table object). It also reads from and writes to lots of formats (json, csv, excel, SQL, HDF5, parquet, feather, pickle...).\n",
    "\n",
    "I am even using my own libraries in one of my apps (see chapter below \"Web applications with Dash\").\n",
    "\n",
    "Note that in this case all users of the app receive a version of the same data. If you have different data for each user then you will need to manage user's data and it gets a little bit more complicated (we will see an example of it later with my data cleaning app).\n",
    "\n",
    "_*means any data operation so aggregating, transforming, cleaning..._"
   ]
  },
  {
   "cell_type": "code",
   "execution_count": null,
   "metadata": {
    "slideshow": {
     "slide_type": "fragment"
    }
   },
   "outputs": [],
   "source": [
    "import pandas as pd\n",
    "\n",
    "import dash\n",
    "import dash_core_components as dcc\n",
    "import dash_html_components as html\n",
    "from dash.dependencies import Output,Input,State\n",
    "from dash.exceptions import PreventUpdate\n",
    "\n",
    "# read data\n",
    "data_path = 'https://raw.githubusercontent.com/plotly/datasets/master/dash-stock-ticker-demo.csv'\n",
    "df = pd.read_csv(data_path).iloc[:,1:] # remove first column in csv it's a standard range index\n",
    "df['Date'] = pd.to_datetime(df['Date']) # make sure \"Date\" is recognized as a datetime Series by pandas\n",
    "\n",
    "# create app object\n",
    "app = dash.Dash('interactive_chart_app')\n",
    "\n",
    "# layout ids\n",
    "dropdown_period_id = 'dropdown_period'\n",
    "dropdown_stock_id = 'dropdown_stock'\n",
    "chart_div_id = 'chart'\n",
    "\n",
    "# create the components\n",
    "drodpdown_period = dcc.Dropdown(options = [{'label':period,'value':period} for period in ['date','year-month','year']],\n",
    "                                id = dropdown_period_id,\n",
    "                                value = 'date') # default option\n",
    "\n",
    "dropdown_stock = dcc.Dropdown(options = [{'label':stock,'value':stock} for stock in df['Stock'].unique()],\n",
    "                              id = dropdown_stock_id,\n",
    "                              multi = True,\n",
    "                              value = df['Stock'].unique()) # all stocks are selected by default\n",
    "\n",
    "chart = dcc.Graph(id = chart_div_id) # filled in callback with a plotly figure\n",
    "\n",
    "# assemble layout and put it in the app\n",
    "layout = html.Div([drodpdown_period, dropdown_stock, chart])\n",
    "app.layout = layout\n",
    "\n",
    "# create callback function to update the DataFrame on user input\n",
    "def create_update_chart_callback(app):\n",
    "    @app.callback(Output(chart_div_id, 'figure'),\n",
    "                  [Input(dropdown_period_id,'value'),\n",
    "                   Input(dropdown_stock_id,'value')])             \n",
    "    def update_chart(period, stocks):\n",
    "\n",
    "        # preprare grouping by the period\n",
    "        if period == 'date':\n",
    "            grouper = df['Date'].dt.date\n",
    "            x_axis_format = {'type': 'category', 'tickformat': '%Y-%m-%d', 'title':'Date'}\n",
    "        elif period == 'year-month':\n",
    "            grouper = df['Date'].dt.strftime('%Y-%m') # a list as grouper with [year, month] won't play well with plotly so just format the date\n",
    "            x_axis_format = {'type': 'category', 'tickformat': '%Y-%m', 'title':'Year-Month'}\n",
    "        elif period == 'year':\n",
    "            grouper = df['Date'].dt.year\n",
    "            x_axis_format = {'type': 'category', 'tickformat': '%Y', 'title':'Year'}\n",
    "        else:\n",
    "            raise ValueError(f'Unexpected value for period ({period})')\n",
    "            \n",
    "\n",
    "        # select stock then group by grouper (double the brackets before sum so a DataFrame is always returned and not a Series)\n",
    "        # IMPORTANT: if you want to modify the original object do a copy before: df.copy(deep = True)\n",
    "        new_df = (df.loc[df['Stock'].isin(stocks),:]\\\n",
    "                  .groupby(grouper)[['Volume']].sum()\\\n",
    "                  .reset_index()) # reset index so we can clearly show that we select 'Date' instead of writing \"new_df.index\"\n",
    "        \n",
    "        # create a figure\n",
    "        ## create traces\n",
    "        trace = go.Bar(x = new_df['Date'], y = new_df['Volume'])\n",
    "\n",
    "        ## create layout\n",
    "        layout = go.Layout(title = 'Stocks', \n",
    "                           # format xaxis (note: instead of a dict you can also use a go.layout.XAxis object)\n",
    "                           xaxis = x_axis_format,\n",
    "                           yaxis = {'title':'Volume'})\n",
    "\n",
    "        fig = go.Figure(data = [trace], layout = layout)\n",
    "\n",
    "        return fig\n",
    "\n",
    "# create callback (puts the callback in the app)\n",
    "create_update_chart_callback(app)\n",
    "\n",
    "# run the app\n",
    "if __name__ == '__main__':\n",
    "    app.run_server(debug=False)"
   ]
  },
  {
   "cell_type": "markdown",
   "metadata": {
    "slideshow": {
     "slide_type": "slide"
    }
   },
   "source": [
    "# Sharing data between callbacks\n",
    "\n",
    "See example app in my library [dash_database](https://github.com/ThibTrip/dash_database#example-with-a-dash-app)\n",
    "\n",
    "redis is also a good option but you will have to install it, then have a server running and write a function for creating json dumps and pickles."
   ]
  },
  {
   "cell_type": "markdown",
   "metadata": {
    "slideshow": {
     "slide_type": "slide"
    }
   },
   "source": [
    "# Web applications with Dash (example with my data cleaning app)"
   ]
  },
  {
   "cell_type": "markdown",
   "metadata": {
    "slideshow": {
     "slide_type": "slide"
    }
   },
   "source": [
    "## Live demo \n",
    "\n",
    "For people at the presentation in Freiburg only 😉"
   ]
  },
  {
   "cell_type": "markdown",
   "metadata": {
    "slideshow": {
     "slide_type": "slide"
    }
   },
   "source": [
    "## Additional libraries used by the data cleaning app\n",
    "\n",
    "I highly recommend these libraries!\n",
    "\n",
    "### [dash-bootstrap-components](https://github.com/facultyai/dash-bootstrap-components)\n",
    "\n",
    "<cite>dash-bootstrap-components reduces boilerplate by providing standard layouts and high-level components</cite>\n",
    "\n",
    "```\n",
    "pip install dash-bootstrap-components\n",
    "```\n",
    "\n",
    "or with conda:\n",
    "\n",
    "```\n",
    "conda install -c conda-forge dash-bootstrap-components\n",
    "\n",
    "```\n",
    "\n",
    "\n",
    "### [dash_database](https://github.com/ThibTrip/dash_database) (it's from me 😄)\n",
    "\n",
    "This is for managing user data in a Dash app (so for instance sharing data between callbacks). More info and usage can be found in the repository.\n",
    "\n",
    "\n",
    "Installation with:\n",
    "\n",
    "```\n",
    "pip install dash-database\n",
    "```\n",
    "\n",
    "### [loguru](https://github.com/Delgan/loguru)\n",
    "\n",
    "A fantastic replacement for the logging library. Saves time and prevents frustration."
   ]
  },
  {
   "cell_type": "markdown",
   "metadata": {
    "slideshow": {
     "slide_type": "slide"
    }
   },
   "source": [
    "# Deployment\n",
    "\n",
    "Well Andrew T Baker has done a great [video](https://www.youtube.com/watch?v=vGphzPLemZE) on deploying a Python web app at pycon. You should definitely watch it."
   ]
  },
  {
   "cell_type": "markdown",
   "metadata": {
    "slideshow": {
     "slide_type": "slide"
    }
   },
   "source": [
    "# Other usage examples for Dash\n",
    "\n",
    "Here are some other examples of what you could use Dash for.\n",
    "\n",
    "* Online forms (my colleagues are interested in making a subscription form with Dash or Flask for newsletter)\n",
    "* Webpages or even websites\n",
    "* Reports (for instance https://dash-gallery.plotly.host/dash-financial-report/)"
   ]
  },
  {
   "cell_type": "markdown",
   "metadata": {},
   "source": [
    "# Conclusion"
   ]
  },
  {
   "cell_type": "markdown",
   "metadata": {},
   "source": [
    "## Benefits of Dash and Plotly"
   ]
  },
  {
   "cell_type": "markdown",
   "metadata": {},
   "source": [
    "1. both libraries are extremely feature rich\n",
    "2. extreme flexibility: hook up your own libraries if you want, complex user interactions, dynamical layouts (e.g. choose what to display on a tab based on conditions) etc.\n",
    "3. only Python is needed\n",
    "4. You can have many different uses for Dash (data vizualization, data cleaning app as I did, forms, generic webpages...)"
   ]
  },
  {
   "cell_type": "markdown",
   "metadata": {},
   "source": [
    "## Inconvenients (some of those perhaps not completely objective)"
   ]
  },
  {
   "cell_type": "markdown",
   "metadata": {},
   "source": [
    "1. Anything slightly \"exotic\" with Plotly might require a lot of tinkering with chart properties\n",
    "2. Dash can get a bit verbose sometimes"
   ]
  },
  {
   "cell_type": "markdown",
   "metadata": {},
   "source": [
    "## Some personal tips for Dash"
   ]
  },
  {
   "cell_type": "markdown",
   "metadata": {},
   "source": [
    "* use dash bootstrap components! It saved me a lot of time and looks really nice\n",
    "\n",
    "* keep it simple\n",
    "    * note down core features and focus on those first\n",
    "    * make a minimalist design (that's also a good idea for the app's user) - one page apps are easier to code for instance and I personally find tabs very practical\n",
    "\n",
    "* use my library dash_database for sharing data between callbacks<sup>1</sup>\n",
    "\n",
    "* put your callbacks in functions - as I did in the examples before - so you can import them from other modules\n",
    "\n",
    "* put the ids of the components with which user will interact in variables as I did in the examples before (this helps organization and troubleshooting)\n",
    "\n",
    "* if you create your app as a package remember to install it in editable mode e.g. \"pip install -e data_cleaner_app\" to reflect any changes upon next import\n",
    "\n",
    "* if doing anything with tables (or arrays in general) pandas is your friend\n",
    "\n",
    "\n",
    "\n",
    "<sup>1</sup>_Please beware that concurrent requests are actually done as a queue. If you are storing big datasets (> 1GB) and/or have a good amount of simultaneous users (> 20) then either consider redis or making one DashDatabase per user could do the trick. If you do that with success please tell me I could rewrite dash_database so each user has its own database and we do not loose any convenience in the usage (would probably not work on memory but performance would still be good as seen in the performance tests in the repo)._"
   ]
  }
 ],
 "metadata": {
  "celltoolbar": "Slideshow",
  "kernelspec": {
   "display_name": "Python 3",
   "language": "python",
   "name": "python3"
  },
  "language_info": {
   "codemirror_mode": {
    "name": "ipython",
    "version": 3
   },
   "file_extension": ".py",
   "mimetype": "text/x-python",
   "name": "python",
   "nbconvert_exporter": "python",
   "pygments_lexer": "ipython3",
   "version": "3.7.3"
  },
  "toc-autonumbering": true
 },
 "nbformat": 4,
 "nbformat_minor": 4
}
