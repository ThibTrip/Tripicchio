{
 "cells": [
  {
   "cell_type": "markdown",
   "metadata": {},
   "source": [
    "# Introduction\n",
    "Generating realistic fake data or pseudo-random data can be complicated and time consuming. A good alternative is to automatically and heavily randomize client data. This module has multiple functions to do this."
   ]
  },
  {
   "cell_type": "code",
   "execution_count": 1,
   "metadata": {},
   "outputs": [],
   "source": [
    "import pandas as pd\n",
    "import numpy as np\n",
    "import random\n",
    "import re\n",
    "from pandas.api.types import is_string_dtype\n",
    "from faker import Faker\n",
    "fake = Faker('de_DE')\n",
    "from collections import OrderedDict"
   ]
  },
  {
   "cell_type": "markdown",
   "metadata": {},
   "source": [
    "# Function\n",
    "## Functions for general purpose"
   ]
  },
  {
   "cell_type": "code",
   "execution_count": 2,
   "metadata": {},
   "outputs": [],
   "source": [
    "def random_replacement(series,func):\n",
    "    '''Changes non-null unique values in a Series by using a function.\n",
    "    \n",
    "        Args:\n",
    "            series: pd.Series\n",
    "            func: function to apply to the Series\n",
    "        \n",
    "        Usage:\n",
    "            # Random replacement of company names in-place\n",
    "            from faker import Faker\n",
    "            fake = Faker('de_DE')\n",
    "            df['Firm'] = random_replacement(df['Firm'],lambda x: fake.company())\n",
    "        \n",
    "        Returns:\n",
    "            pd.Series\n",
    "    \n",
    "    '''\n",
    "    \n",
    "    # Creates a DataFrame with a single column containing all unique non null values of the Series\n",
    "    unique_values = series.dropna().unique()\n",
    "    \n",
    "    # Applies the function to the unique values\n",
    "    new_unique_values = pd.Series(unique_values).apply(func)\n",
    "\n",
    "    # Creates a mapper -> {unique_values:new_unique_values}\n",
    "    mapper = dict(zip(unique_values,new_unique_values))\n",
    "    \n",
    "    # Map the original series with the new values\n",
    "    mapped = series.map(mapper)\n",
    "    \n",
    "    \n",
    "    return mapped\n",
    "\n",
    "def shuffle_series(series, stays_same = []):\n",
    "    \"\"\"Randomly shuffles the values Series. If there are some values that should not be shuffled\n",
    "    you can pass them into the argument stays_same (note that null values stay null).\n",
    "    \n",
    "        Args:\n",
    "            series: pd.Series\n",
    "            stays_same: list-like\n",
    "        \n",
    "        Returns:\n",
    "            pd.Series\n",
    "    \n",
    "    \"\"\"\n",
    "    # creates a dict where both keys and values are the Series\n",
    "    identical_dict = dict(zip(series.values,series.values)) # keys = values\n",
    "\n",
    "    # shuffles keys\n",
    "    keys = list(identical_dict.keys())\n",
    "    random.shuffle(keys)\n",
    "\n",
    "    # recreates dict with the shuffled keys\n",
    "    mapper = OrderedDict(zip(keys, series.values)) \n",
    "    \n",
    "    # if some values are supposed to stay identical, edits the keys for those values\n",
    "    if stays_same != []:\n",
    "        for key in stays_same:\n",
    "            mapper[key] = key\n",
    "    \n",
    "    # Map the Series with the dictionary\n",
    "    mapped = series.map(mapper)\n",
    "    \n",
    "    # If value was NaN before it should still be NaN\n",
    "    mapped.loc[(mapped.notna()) & (series.isna())] = np.nan\n",
    "    \n",
    "    return mapped\n",
    "    \n",
    "\n",
    "def switch_words(series):\n",
    "    \"\"\"Randomly Switches the words (str that are separated by a whitespace) in a Series.\n",
    "    \n",
    "        Args:\n",
    "            series: pd.Series, dtype str (object)\n",
    "    \n",
    "        Returns:\n",
    "            pd.Series\n",
    "    \"\"\"\n",
    "    \n",
    "    if not is_string_dtype(series):\n",
    "        raise TypeError('Series should be of dtype string (object)!')\n",
    "    \n",
    "    # Makes a copy and display original values\n",
    "    new_series = series.copy(deep = True)\n",
    "    display(new_series.head())\n",
    "\n",
    "    # Makes a matrix of all the words\n",
    "    splitted = new_series.str.split(' ',expand = True).fillna(np.nan)\n",
    "    display(splitted.head())\n",
    "    \n",
    "    # Iterates through all columns and shuffle them\n",
    "    for col in splitted.columns:\n",
    "        splitted[col] = shuffle_series(splitted[col])\n",
    "\n",
    "    display(splitted)\n",
    "\n",
    "    # Sums the str matrix by adding a space in between\n",
    "    splitted = splitted.fillna('').add(' ').sum(axis = 1).str.strip().replace('',np.nan)\n",
    "    new_series = splitted\n",
    "    return new_series"
   ]
  },
  {
   "cell_type": "markdown",
   "metadata": {},
   "source": [
    "## Functions for specific data"
   ]
  },
  {
   "cell_type": "code",
   "execution_count": 3,
   "metadata": {},
   "outputs": [],
   "source": [
    "def scramble_mail_components(mail_series,fake, shuffle_series = shuffle_series):\n",
    "    \"\"\"Switches and changes email components (local part and domain) in a Series of mail addresses.\n",
    "    \n",
    "    The function will search for \"-\", \".\" and \"_\" and edit values after those characters. Many people\n",
    "    write firstname.lastname@... (or firstname_lastname@... etc.) in those cases the first name will remain\n",
    "    unaffected by the function (in my work I use operations to retrieve the first names so I needed this).\n",
    "    \n",
    "    For the case firstname@ the function adds a random last name: firstname-lastname@.\n",
    "    \n",
    "    The domains also get swapped around randomly.\n",
    "    \n",
    "    Args:\n",
    "        mail_series: pd.Series, dtype str (object)\n",
    "        fake: an instance of Faker class\n",
    "    \n",
    "    Returns:\n",
    "        tuple of pd.Series: new_mail_series,local_part_series,domain_series\n",
    "    \n",
    "    \"\"\"\n",
    "    \n",
    "    # Validate arguments\n",
    "    if not is_string_dtype(mail_series):\n",
    "        raise TypeError('mail_series should be of dtype string (object)!')\n",
    "        \n",
    "    # Removes warning from Pandas that tells how to extract the values of the regex groups\n",
    "    import warnings\n",
    "    warnings.filterwarnings(\"ignore\", 'This pattern has match groups')\n",
    "\n",
    "    # Extracts local part and domain\n",
    "    local_part_series = mail_series.fillna('').str.split('@').str[0]\n",
    "    domain_series = mail_series.fillna('').str.split('@').str[1]\n",
    "\n",
    "    # replaces toto-test@domain.com by toto-something@domain.com\n",
    "    mail_scrambler = re.compile('(\\.|-|_).*')\n",
    "    local_part_series = local_part_series.apply(lambda x: re.sub(mail_scrambler,'-'+fake.last_name(),x))\n",
    "    \n",
    "    # replaces toto@domain.com by toto-something@domain.com\n",
    "    randomize_local = lambda x: x+'-'+fake.last_name() if x != '' else x\n",
    "    \n",
    "    local_part_series.loc[~local_part_series.str.contains(mail_scrambler)] = local_part_series.apply(randomize_local)\n",
    "    local_part_series = local_part_series.str.lower()\n",
    "    \n",
    "    # Shuffles the domains\n",
    "    domain_series = shuffle_series(domain_series.fillna(''))\n",
    "    domain_series = domain_series.str.lower()\n",
    "    \n",
    "    # Concatenating new local part and domain\n",
    "    new_mail_series = local_part_series +'@'+ domain_series\n",
    "    \n",
    "    # Sets true nulls\n",
    "    ## we filled NaNs with '' everywhere so null values in the new mail Series should be equal to ''+'@'+'' -> '@'\n",
    "    new_mail_series = new_mail_series.replace(['@',''],np.nan) \n",
    "\n",
    "    ## replaces '' with np.nan in the domain and local part Series\n",
    "    domain_series = domain_series.replace('',np.nan)\n",
    "    local_part_series = local_part_series.replace('',np.nan)\n",
    "                                                \n",
    "    return (new_mail_series,local_part_series,domain_series)\n",
    "\n",
    "\n",
    "def scramble_phone_numbers(phone_number, max_changes = 4):\n",
    "    \"\"\"Randomly changes digits in a phone number. If there are no digits the original value\n",
    "    is returned.\n",
    "    \n",
    "        Args:\n",
    "            phone_number: str\n",
    "            max_changes: integer, how many digits to replace at most\n",
    "            \n",
    "        Usage : \n",
    "            df['Phone number'].apply(scramble_phone_numbers)\n",
    "            \n",
    "        Returns:\n",
    "            str\n",
    "    \n",
    "    \"\"\"\n",
    "    # Null? return null\n",
    "    if pd.isna(phone_number):\n",
    "        return phone_number\n",
    "    \n",
    "    else:\n",
    "        # Contains number? -> change digits\n",
    "        if bool(re.search('\\d',str(phone_number))):\n",
    "            return re.sub('\\d',str(random.randint(0,9)),str(phone_number),count = max_changes)\n",
    "        else:\n",
    "            return phone_number"
   ]
  },
  {
   "cell_type": "markdown",
   "metadata": {},
   "source": [
    "# Usage\n",
    "Change every cell to code to test the functions.\n",
    "\n",
    "## Random replacement"
   ]
  },
  {
   "cell_type": "markdown",
   "metadata": {},
   "source": [
    "data = {'Firma':['Mustermann AG','Beispiel GmbH',\n",
    "                 'Beispiel GmbH','Beispiel GmbH','Mustermann AG',np.nan]*2,\n",
    "        'Umsatz':[random.randint(0,1000) for i in range (12)]}\n",
    "\n",
    "df_test = pd.DataFrame(data)\n",
    "display(df_test)\n",
    "df_test['Firma (randomized)'] = random_replacement(df_test['Firma'],lambda x: fake.company())\n",
    "df_test.head()"
   ]
  },
  {
   "cell_type": "markdown",
   "metadata": {},
   "source": [
    "## Shuffle series"
   ]
  },
  {
   "cell_type": "markdown",
   "metadata": {},
   "source": [
    "df_test['Firma (shuffled)'] = shuffle_series(df_test['Firma'],stays_same = ['Mustermann AG'])\n",
    "df_test"
   ]
  },
  {
   "cell_type": "markdown",
   "metadata": {},
   "source": [
    "## Switch words"
   ]
  },
  {
   "cell_type": "markdown",
   "metadata": {},
   "source": [
    "fake.seed(123)\n",
    "df_test = pd.DataFrame({'fake_sentences':fake.sentences(nb=10, ext_word_list=None)})\n",
    "df_test['fake_sentences_(switched_words)'] = switch_words(df_test['fake_sentences'])\n",
    "df_test"
   ]
  },
  {
   "cell_type": "markdown",
   "metadata": {},
   "source": [
    "## Scramble mail components"
   ]
  },
  {
   "cell_type": "markdown",
   "metadata": {},
   "source": [
    "mails_list = [fake.free_email() for i in range(5)]\n",
    "mails_list += ['toto_test@gmail.com','robert.mustermann@yahoo.de','frank-beispiel@test.de']\n",
    "\n",
    "df_test = pd.DataFrame({'eMail':mails_list})\n",
    "df_test['eMail_scrambled'],df_test['Local_part_scrambled'],df_test['Domain_scrambled'] = scramble_mail_components(df_test['eMail'],\n",
    "                                                                                                                  fake)\n",
    "df_test"
   ]
  },
  {
   "cell_type": "markdown",
   "metadata": {},
   "source": [
    "## Scramble phone numbers"
   ]
  },
  {
   "cell_type": "markdown",
   "metadata": {},
   "source": [
    "phone_numbers = [fake.phone_number() for i in range(10)]+['test',np.nan]\n",
    "df_test = pd.DataFrame({'phone_number':phone_numbers})\n",
    "df_test['phone_number_scrambled'] = df_test['phone_number'].map(scramble_phone_numbers)\n",
    "df_test"
   ]
  }
 ],
 "metadata": {
  "anaconda-cloud": {},
  "kernelspec": {
   "display_name": "Python [default]",
   "language": "python",
   "name": "python3"
  },
  "language_info": {
   "codemirror_mode": {
    "name": "ipython",
    "version": 3
   },
   "file_extension": ".py",
   "mimetype": "text/x-python",
   "name": "python",
   "nbconvert_exporter": "python",
   "pygments_lexer": "ipython3",
   "version": "3.6.5"
  },
  "toc": {
   "base_numbering": 1,
   "nav_menu": {},
   "number_sections": true,
   "sideBar": true,
   "skip_h1_title": false,
   "title_cell": "Table of Contents",
   "title_sidebar": "Contents",
   "toc_cell": false,
   "toc_position": {},
   "toc_section_display": true,
   "toc_window_display": false
  }
 },
 "nbformat": 4,
 "nbformat_minor": 2
}
