{
 "cells": [
  {
   "cell_type": "markdown",
   "metadata": {
    "slideshow": {
     "slide_type": "skip"
    }
   },
   "source": [
    "Jupyter Notebok tweaks for the presentation export with Reveal.js and when using RISE (RISE is a jupyter notebook extension).\n",
    "\n",
    "**Important**: this must be as slide type \"Notes\""
   ]
  },
  {
   "cell_type": "code",
   "execution_count": 2,
   "metadata": {
    "slideshow": {
     "slide_type": "notes"
    }
   },
   "outputs": [
    {
     "data": {
      "text/html": [
       "<! –– this improves the presentation for the Jupyter Extension RISE (it will screw up the normal notebook view though) ––>\n",
       "<style>\n",
       ".CodeMirror {\n",
       "    width: 100vw;\n",
       "}\n",
       "\n",
       ".container {\n",
       "    width: 99% !important;\n",
       "}\n",
       "\n",
       ".rendered_html {\n",
       "  font-size:0.6em;\n",
       "}\n",
       "\n",
       ".rendered_html table, .rendered_html th, .rendered_html tr, .rendered_html td {\n",
       "     font-size: 150%;\n",
       "}\n",
       "</style>"
      ],
      "text/plain": [
       "<IPython.core.display.HTML object>"
      ]
     },
     "metadata": {},
     "output_type": "display_data"
    }
   ],
   "source": [
    "from IPython.display import HTML\n",
    "\n",
    "def apply_html_tweak(html_script_path):\n",
    "    with open(html_script_path, encoding='utf-8') as fh:\n",
    "        display(HTML(fh.read()))\n",
    "\n",
    "#apply_html_tweak(\"../../reveal_js_tweaks.txt\")\n",
    "apply_html_tweak(\"../../rise_tweaks.txt\")"
   ]
  },
  {
   "cell_type": "markdown",
   "metadata": {
    "Collapsed": "false",
    "slideshow": {
     "slide_type": "slide"
    }
   },
   "source": [
    "<span style=\"font-size:4em;color:#130754;\">Pandas crash course</span>\n",
    "\n",
    "\n",
    "<img src=\"./imgs/pandas_crash_course_logo.jpg\" alt=\"Pandas crash course logo\" width=\"500\">\n",
    "\n",
    "\n",
    "<i>By <b>Thibault Bétrémieux</b>, Data Scientist at port-neo Freiburg GmbH (part of port-neo GmbH), thibault.betremieux@port-neo.com</i>\n",
    "\n",
    "This is a presentation for the Python User Group Freiburg, see [Meetup Link](https://www.meetup.com/fr-FR/Python-User-Group-Freiburg/events/275586196/).\n",
    "\n",
    "**[Link to the resources](https://github.com/ThibTrip/thib/tree/master/2021/pandas_crash_course)**"
   ]
  },
  {
   "cell_type": "markdown",
   "metadata": {
    "slideshow": {
     "slide_type": "slide"
    }
   },
   "source": [
    "# Table of contents\n",
    "\n",
    "## Part 1 of the Meetup\n",
    "\n",
    "1. Introduction: explanations on the main structures of the pandas API (Series, DataFrame, indices, data types), resources that can help you\n",
    "\n",
    "2. I/O: read from/save to csv, Excel, SQL, ... BONUS: SQL records update using DataFrames\n",
    "\n",
    "3. Selecting rows/columns\n",
    "\n",
    "4. Basic math operations\n",
    "\n",
    "5. Some common DataFrame operations e.g. handling duplicates, missing values"
   ]
  },
  {
   "cell_type": "markdown",
   "metadata": {
    "slideshow": {
     "slide_type": "slide"
    }
   },
   "source": [
    "## Part 2 of the Meetup (T.B.A.)\n",
    "\n",
    "6\\. String operations\n",
    "\n",
    "7\\. Time operations\n",
    "\n",
    "8\\. Transformations: concatenate, groupby, pivot, pivot_table, stack\n",
    "\n",
    "9\\. Using custom functions: map, apply, applymap\n",
    "\n",
    "10\\. Outside of scope: things you should know about that I won't present in detail\n",
    "    - pandas' method chaining super power\n",
    "    - categoricals\n",
    "    - plotting\n",
    "    - styling"
   ]
  },
  {
   "cell_type": "markdown",
   "metadata": {
    "slideshow": {
     "slide_type": "slide"
    }
   },
   "source": [
    "# 1. Introduction"
   ]
  },
  {
   "cell_type": "markdown",
   "metadata": {
    "slideshow": {
     "slide_type": "slide"
    }
   },
   "source": [
    "## 1.1. What is pandas and what can you do with it\n",
    "\n",
    "> pandas is a software library written for the Python programming language for data manipulation and analysis. In particular, it offers data structures and operations for manipulating numerical tables and time series.\n",
    "> \n",
    "> (Source: [Wikipedia](https://en.wikipedia.org/wiki/Pandas_%28software%29))\n",
    "\n",
    "\n",
    "pandas was created by Wes McKinney.\n",
    "\n",
    "Amongst many other things pandas allows you to:\n",
    "\n",
    "* **read from and save to** many formats (csv, excel, SQL, feather, parquet, ...)\n",
    "* do fast vectorized operations (e.g. column1 + column2) with lots of already integrated math/stats methods\n",
    "* transform data by grouping (similar to SQL GROUP BY), pivoting, stacking (columns to rows) and unstacking, ...\n",
    "* apply your own functions element wise or vector wise\n",
    "* work with strings and datetimes easely (e.g. `pd.Series.str.strip`, `pd.Series.dt.month`, ...)\n",
    "* deal with duplicates and null values\n",
    "* plot\n",
    "* present tables with pretty styling 🦄\n",
    "\n",
    "If used correctly (i.e. in a vectorized and optimized manner) it can be very fast. It actually uses `C` extensions which speeds up operations."
   ]
  },
  {
   "cell_type": "markdown",
   "metadata": {
    "slideshow": {
     "slide_type": "slide"
    }
   },
   "source": [
    "## 1.2. What you can't do (or do well) with pandas"
   ]
  },
  {
   "cell_type": "markdown",
   "metadata": {
    "slideshow": {
     "slide_type": "slide"
    }
   },
   "source": [
    "### 1.2.1. Working with massive datasets \n",
    "You can't transform very big tabular data at once (e.g. a dataset of 100GB) since you'd have to fit it in memory. But there are easy ways to overcome such situations\n",
    "\n",
    "* work with pandas in chunks (read chunk, process chunk, save chunk)\n",
    "* pandas + something else. E.g. dump the data in a SQL database and load an aggregated version of it in pandas where you will do additional transformations.\n",
    "* something else e.g. [ibis](http://ibis-project.org/) which combines Python syntax with SQL. Or simply SQL (I myself use PostgreSQL a lot 🐘)\n",
    "* using libraries such as [dask](https://docs.dask.org/en/latest/dataframe.html). `dask` is **lazy** and only does the computations on the dataset when needed\n",
    "* see also [page \"Scaling to large datasets\" in pandas docs](https://pandas.pydata.org/pandas-docs/stable/user_guide/scale.html)\n"
   ]
  },
  {
   "cell_type": "markdown",
   "metadata": {
    "slideshow": {
     "slide_type": "slide"
    }
   },
   "source": [
    "### 1.2.2. Structures with many dimensions\n",
    "\n",
    "Working with structures with more dimensions that just a plain table with rows and columns will be tough with pandas. E.g. something like an OLAP cube: \n",
    "\n",
    "![olap](./imgs/olap_cube.png)\n",
    "\n",
    "The example above could still work in pandas because you can use multiple levels of columns and indices but it would start to get tricky 🤔. For such structures you can use [xarray](http://xarray.pydata.org/)."
   ]
  },
  {
   "cell_type": "markdown",
   "metadata": {
    "slideshow": {
     "slide_type": "slide"
    }
   },
   "source": [
    "## 1.3. Installation\n",
    "\n",
    "`pip install pandas` or `conda install pandas` (if you use `conda`)\n",
    "\n",
    "This tutorial uses the most recent version of pandas which is **`1.2.1`** at this time."
   ]
  },
  {
   "cell_type": "markdown",
   "metadata": {
    "slideshow": {
     "slide_type": "slide"
    }
   },
   "source": [
    "## 1.4. Recommandations\n",
    "\n",
    "When starting/updating a script/module/library I recommand using `pandas` in an interactive environment such as [Jupyter Lab](https://jupyter.org/) where you can **watch and document the transformation of a table** which makes it very easy to troubleshoot problems.\n",
    "The easiest way to install `Jupyter Lab` is to enter `pip install jupyterlab` but I recommand installing [Anaconda](https://www.anaconda.com/products/individual) which is a bundle containing Python, Jupyter, the conda package and environment manager and lots of other very useful tools for data science.\n",
    "\n",
    "\n",
    "With my favorite extension for `Jupyter Lab` called [jupytext](https://github.com/mwouts/jupytext) you can even **work with Python text files interactively, as if they were notebooks**. This allows you to develop modules or even libraries which I do myself very often. I talked about it during my last [presentation](https://thibtrip.github.io/lightning_talks/#/5)."
   ]
  },
  {
   "cell_type": "markdown",
   "metadata": {
    "slideshow": {
     "slide_type": "slide"
    }
   },
   "source": [
    "## 1.5. Highly recommanded resources\n",
    "\n",
    "* [The new pandas documentation](https://pandas.pydata.org/docs/getting_started/index.html): I've linked here the **\"Getting started\"** page which is well illustrated but the whole documentation is really awesome (also the reference for functions/methods etc, despite some abstract examples sometimes)\n",
    "\n",
    "\n",
    "**WARNING:** in the resources below some things may be outdated and some things can now be done more efficiently or with a shorter code but those are still great resources nonetheless.\n",
    "\n",
    "* data school ([website](https://www.dataschool.io/easier-data-analysis-with-pandas/) | [YouTube channel](https://www.youtube.com/c/dataschool/featured)): topics on pandas that are very well explained and presented in video\n",
    "* [Python for Data Analysis Book](https://wesmckinney.com/pages/book.html) **by the author of pandas**: make sure to get the latest edition (2nd at the time I am writing this)! This is not as easy as the data school videos but it's very helpful\n",
    "\n",
    "Since `pandas` is a very popular library, **most questions** (especially basic ones) are just **one google query away**. And most of the time you will propbably end up on a **stackoverflow** thread 🙈 or the **pandas documentation**."
   ]
  },
  {
   "cell_type": "markdown",
   "metadata": {
    "slideshow": {
     "slide_type": "slide"
    }
   },
   "source": [
    "## 1.6. Structures"
   ]
  },
  {
   "cell_type": "markdown",
   "metadata": {
    "slideshow": {
     "slide_type": "slide"
    }
   },
   "source": [
    "### 1.6.1. `pd.Series`\n",
    "\n",
    "> Series is a one-dimensional labeled array capable of holding any data type (integers, strings, floating point numbers, Python objects, etc.). The axis labels are collectively referred to as the index.\n",
    ">\n",
    "> (Source: [pandas docs](https://pandas.pydata.org/pandas-docs/stable/user_guide/dsintro.html))\n",
    "\n",
    "This can be compared to a dictionary. Unlike the dictionary the index allows duplicate by default! A [new experimental feature](https://pandas.pydata.org/docs/whatsnew/v1.2.0.html#optionally-disallow-duplicate-labels) exists to check that automatically on subsequent operations."
   ]
  },
  {
   "cell_type": "markdown",
   "metadata": {
    "slideshow": {
     "slide_type": "slide"
    }
   },
   "source": [
    "#### Creating a Series from scratch"
   ]
  },
  {
   "cell_type": "code",
   "execution_count": 3,
   "metadata": {
    "slideshow": {
     "slide_type": "fragment"
    }
   },
   "outputs": [
    {
     "data": {
      "text/plain": [
       "0    Thibault\n",
       "1        John\n",
       "dtype: object"
      ]
     },
     "execution_count": 3,
     "metadata": {},
     "output_type": "execute_result"
    }
   ],
   "source": [
    "import pandas as pd\n",
    "\n",
    "s = pd.Series(['Thibault', 'John'])\n",
    "s"
   ]
  },
  {
   "cell_type": "code",
   "execution_count": 4,
   "metadata": {
    "slideshow": {
     "slide_type": "fragment"
    }
   },
   "outputs": [
    {
     "data": {
      "text/plain": [
       "RangeIndex(start=0, stop=2, step=1)"
      ]
     },
     "execution_count": 4,
     "metadata": {},
     "output_type": "execute_result"
    }
   ],
   "source": [
    "s.index"
   ]
  },
  {
   "cell_type": "code",
   "execution_count": 5,
   "metadata": {
    "slideshow": {
     "slide_type": "fragment"
    }
   },
   "outputs": [
    {
     "data": {
      "text/plain": [
       "array(['Thibault', 'John'], dtype=object)"
      ]
     },
     "execution_count": 5,
     "metadata": {},
     "output_type": "execute_result"
    }
   ],
   "source": [
    "s.values"
   ]
  },
  {
   "cell_type": "markdown",
   "metadata": {
    "slideshow": {
     "slide_type": "slide"
    }
   },
   "source": [
    "you can provide a name for the Series, a different index than the default one (range from 0 to the length of the DataFrame minus one) and even name the index"
   ]
  },
  {
   "cell_type": "code",
   "execution_count": 6,
   "metadata": {
    "slideshow": {
     "slide_type": "fragment"
    }
   },
   "outputs": [
    {
     "data": {
      "text/plain": [
       "id\n",
       "a    Thibault\n",
       "b        John\n",
       "Name: firstname, dtype: object"
      ]
     },
     "execution_count": 6,
     "metadata": {},
     "output_type": "execute_result"
    }
   ],
   "source": [
    "s = pd.Series(data=['Thibault', 'John'], index=['a', 'b'], name='firstname')\n",
    "s.index.name = 'id'\n",
    "s"
   ]
  },
  {
   "cell_type": "code",
   "execution_count": 7,
   "metadata": {
    "slideshow": {
     "slide_type": "fragment"
    }
   },
   "outputs": [
    {
     "data": {
      "text/plain": [
       "id\n",
       "a    Thibault\n",
       "b        John\n",
       "Name: firstname, dtype: object"
      ]
     },
     "execution_count": 7,
     "metadata": {},
     "output_type": "execute_result"
    }
   ],
   "source": [
    "pd.Series(data={'a':'Thibault', 'b':'John'}, # a dict {index:value} also works\n",
    "          name='firstname').rename_axis(index='id')"
   ]
  },
  {
   "cell_type": "code",
   "execution_count": 8,
   "metadata": {
    "slideshow": {
     "slide_type": "fragment"
    }
   },
   "outputs": [
    {
     "data": {
      "text/plain": [
       "dtype('O')"
      ]
     },
     "execution_count": 8,
     "metadata": {},
     "output_type": "execute_result"
    }
   ],
   "source": [
    "s.dtype # 'O' stands for \"object\", more on that later"
   ]
  },
  {
   "cell_type": "markdown",
   "metadata": {
    "slideshow": {
     "slide_type": "slide"
    }
   },
   "source": [
    "#### Notes on data types"
   ]
  },
  {
   "cell_type": "markdown",
   "metadata": {
    "slideshow": {
     "slide_type": "fragment"
    }
   },
   "source": [
    "wondering why the data type of our Series is \"O\" (**\"object\"**) and not something like **\"string\"** or \"str\"? `pandas` uses lots of `numpy` arrays in the backend and `numpy` does not have a string data type for arrays.\n",
    "\n",
    "By the way `numpy` arrays are similar to python lists but they are typed which allows for much faster vectorized operations (more on that later). And `numpy` uses `C` extensions which is faster than Python."
   ]
  },
  {
   "cell_type": "code",
   "execution_count": 9,
   "metadata": {
    "slideshow": {
     "slide_type": "fragment"
    }
   },
   "outputs": [
    {
     "data": {
      "text/plain": [
       "numpy.ndarray"
      ]
     },
     "execution_count": 9,
     "metadata": {},
     "output_type": "execute_result"
    }
   ],
   "source": [
    "type(s.values) # yep it's a numpy array"
   ]
  },
  {
   "cell_type": "markdown",
   "metadata": {
    "slideshow": {
     "slide_type": "fragment"
    }
   },
   "source": [
    "But pandas has developped so called extension arrays (they extend numpy arrays) where a **\"string\"** data type exists. You can start using them already by using the method `convert_dtypes`\n",
    "\n",
    "Why it matters:\n",
    "\n",
    "* the numpy \"object\" dtype (data type) is not specific to strings so it can contain other things\n",
    "* pandas' string data type will only allow string or null\n",
    "* it's clear what it is (string and not something else)"
   ]
  },
  {
   "cell_type": "code",
   "execution_count": 10,
   "metadata": {
    "slideshow": {
     "slide_type": "fragment"
    }
   },
   "outputs": [
    {
     "data": {
      "text/plain": [
       "id\n",
       "a    Thibault\n",
       "b        John\n",
       "Name: firstname, dtype: string"
      ]
     },
     "execution_count": 10,
     "metadata": {},
     "output_type": "execute_result"
    }
   ],
   "source": [
    "s = s.convert_dtypes()\n",
    "s"
   ]
  },
  {
   "cell_type": "code",
   "execution_count": 11,
   "metadata": {
    "slideshow": {
     "slide_type": "fragment"
    }
   },
   "outputs": [
    {
     "data": {
      "text/plain": [
       "StringDtype"
      ]
     },
     "execution_count": 11,
     "metadata": {},
     "output_type": "execute_result"
    }
   ],
   "source": [
    "s.dtype # StringDtype is an extension array of pandas"
   ]
  },
  {
   "cell_type": "markdown",
   "metadata": {
    "slideshow": {
     "slide_type": "slide"
    }
   },
   "source": [
    "### 1.6.2. `pd.DataFrame`\n",
    "\n",
    "> Data structure also contains labeled axes (rows and columns) [...] Can be thought of as a dict-like container for Series objects. The primary pandas data structure.\n",
    ">\n",
    "> (Source: [pd.DataFrame docstring](https://pandas.pydata.org/pandas-docs/stable/reference/api/pandas.DataFrame.html))"
   ]
  },
  {
   "cell_type": "markdown",
   "metadata": {
    "slideshow": {
     "slide_type": "slide"
    }
   },
   "source": [
    "#### Creating a DataFrame from scratch\n",
    "\n",
    "I'll use different ways to create DataFrames later. Pandas can ingest many different things 🐼.\n",
    "\n",
    "Like `pd.Series` you can put pretty much any type of data you want in a DataFrame (float, int, complex numbers, tuple, list, str, ...)."
   ]
  },
  {
   "cell_type": "code",
   "execution_count": 12,
   "metadata": {
    "slideshow": {
     "slide_type": "fragment"
    }
   },
   "outputs": [
    {
     "data": {
      "text/html": [
       "<div>\n",
       "<style scoped>\n",
       "    .dataframe tbody tr th:only-of-type {\n",
       "        vertical-align: middle;\n",
       "    }\n",
       "\n",
       "    .dataframe tbody tr th {\n",
       "        vertical-align: top;\n",
       "    }\n",
       "\n",
       "    .dataframe thead th {\n",
       "        text-align: right;\n",
       "    }\n",
       "</style>\n",
       "<table border=\"1\" class=\"dataframe\">\n",
       "  <thead>\n",
       "    <tr style=\"text-align: right;\">\n",
       "      <th></th>\n",
       "      <th>first_name</th>\n",
       "      <th>number_of_cars</th>\n",
       "      <th>is_subscribed_to_newsletter</th>\n",
       "      <th>interests</th>\n",
       "    </tr>\n",
       "  </thead>\n",
       "  <tbody>\n",
       "    <tr>\n",
       "      <th>0</th>\n",
       "      <td>Alex</td>\n",
       "      <td>0</td>\n",
       "      <td>False</td>\n",
       "      <td>[pizza, traveling]</td>\n",
       "    </tr>\n",
       "    <tr>\n",
       "      <th>1</th>\n",
       "      <td>John</td>\n",
       "      <td>2</td>\n",
       "      <td>True</td>\n",
       "      <td>[movies]</td>\n",
       "    </tr>\n",
       "  </tbody>\n",
       "</table>\n",
       "</div>"
      ],
      "text/plain": [
       "  first_name  number_of_cars  is_subscribed_to_newsletter           interests\n",
       "0       Alex               0                        False  [pizza, traveling]\n",
       "1       John               2                         True            [movies]"
      ]
     },
     "execution_count": 12,
     "metadata": {},
     "output_type": "execute_result"
    }
   ],
   "source": [
    "data = {'first_name':['Alex', 'John'],\n",
    "        'number_of_cars':[0, 2],\n",
    "        'is_subscribed_to_newsletter':[False, True],\n",
    "        'interests':[['pizza', 'traveling'], ['movies']]}\n",
    "df = pd.DataFrame(data=data)\n",
    "df"
   ]
  },
  {
   "cell_type": "code",
   "execution_count": 13,
   "metadata": {
    "slideshow": {
     "slide_type": "fragment"
    }
   },
   "outputs": [
    {
     "data": {
      "text/plain": [
       "RangeIndex(start=0, stop=2, step=1)"
      ]
     },
     "execution_count": 13,
     "metadata": {},
     "output_type": "execute_result"
    }
   ],
   "source": [
    "df.index"
   ]
  },
  {
   "cell_type": "code",
   "execution_count": 14,
   "metadata": {
    "scrolled": true,
    "slideshow": {
     "slide_type": "fragment"
    }
   },
   "outputs": [
    {
     "data": {
      "text/plain": [
       "Index(['first_name', 'number_of_cars', 'is_subscribed_to_newsletter',\n",
       "       'interests'],\n",
       "      dtype='object')"
      ]
     },
     "execution_count": 14,
     "metadata": {},
     "output_type": "execute_result"
    }
   ],
   "source": [
    "df.columns"
   ]
  },
  {
   "cell_type": "markdown",
   "metadata": {
    "slideshow": {
     "slide_type": "slide"
    }
   },
   "source": [
    "## Data types"
   ]
  },
  {
   "cell_type": "code",
   "execution_count": 15,
   "metadata": {
    "slideshow": {
     "slide_type": "fragment"
    }
   },
   "outputs": [
    {
     "data": {
      "text/plain": [
       "first_name                     object\n",
       "number_of_cars                  int64\n",
       "is_subscribed_to_newsletter      bool\n",
       "interests                      object\n",
       "dtype: object"
      ]
     },
     "execution_count": 15,
     "metadata": {},
     "output_type": "execute_result"
    }
   ],
   "source": [
    "df.dtypes"
   ]
  },
  {
   "cell_type": "code",
   "execution_count": 16,
   "metadata": {
    "slideshow": {
     "slide_type": "fragment"
    }
   },
   "outputs": [
    {
     "data": {
      "text/plain": [
       "first_name                      string\n",
       "number_of_cars                   Int64\n",
       "is_subscribed_to_newsletter    boolean\n",
       "interests                       object\n",
       "dtype: object"
      ]
     },
     "execution_count": 16,
     "metadata": {},
     "output_type": "execute_result"
    }
   ],
   "source": [
    "# I'd suggest using the new data types here as well\n",
    "df = df.convert_dtypes()\n",
    "df.dtypes"
   ]
  },
  {
   "cell_type": "markdown",
   "metadata": {
    "slideshow": {
     "slide_type": "slide"
    }
   },
   "source": [
    "#### The columns of the DataFrame are in fact Series 😳"
   ]
  },
  {
   "cell_type": "code",
   "execution_count": 17,
   "metadata": {
    "slideshow": {
     "slide_type": "fragment"
    }
   },
   "outputs": [
    {
     "data": {
      "text/plain": [
       "0    Alex\n",
       "1    John\n",
       "Name: first_name, dtype: string"
      ]
     },
     "execution_count": 17,
     "metadata": {},
     "output_type": "execute_result"
    }
   ],
   "source": [
    "df['first_name'] # selects the column \"first_name\""
   ]
  },
  {
   "cell_type": "code",
   "execution_count": 18,
   "metadata": {
    "slideshow": {
     "slide_type": "fragment"
    }
   },
   "outputs": [
    {
     "data": {
      "text/plain": [
       "pandas.core.series.Series"
      ]
     },
     "execution_count": 18,
     "metadata": {},
     "output_type": "execute_result"
    }
   ],
   "source": [
    "type(df['first_name'])"
   ]
  },
  {
   "cell_type": "markdown",
   "metadata": {
    "slideshow": {
     "slide_type": "slide"
    }
   },
   "source": [
    "### 1.6.3. Notes on indices and labels\n",
    "\n",
    "* The index of a Series or a DataFrame can have multiple levels\n",
    "* The columns of a DataFrame can have multiple levels\n",
    "* A DataFrame can also receive a name for each column level and a name for the index. Yes I know it's confusing 🐒\n",
    "\n",
    "Some operations may return a Series or DataFrame with multidimensional headers or indices (e.g. pivot, stack) so do not be surprised!\n",
    "Here is an example which we won't work with because we'd need much more time if we wanted to learn about selecting and operating on DataFrames with multidimensional headers/indices"
   ]
  },
  {
   "cell_type": "code",
   "execution_count": 19,
   "metadata": {
    "slideshow": {
     "slide_type": "fragment"
    }
   },
   "outputs": [
    {
     "data": {
      "text/html": [
       "<div>\n",
       "<style scoped>\n",
       "    .dataframe tbody tr th:only-of-type {\n",
       "        vertical-align: middle;\n",
       "    }\n",
       "\n",
       "    .dataframe tbody tr th {\n",
       "        vertical-align: top;\n",
       "    }\n",
       "\n",
       "    .dataframe thead tr th {\n",
       "        text-align: left;\n",
       "    }\n",
       "\n",
       "    .dataframe thead tr:last-of-type th {\n",
       "        text-align: right;\n",
       "    }\n",
       "</style>\n",
       "<table border=\"1\" class=\"dataframe\">\n",
       "  <thead>\n",
       "    <tr>\n",
       "      <th></th>\n",
       "      <th>store</th>\n",
       "      <th colspan=\"2\" halign=\"left\">Superstore</th>\n",
       "      <th colspan=\"2\" halign=\"left\">Alnatura</th>\n",
       "    </tr>\n",
       "    <tr>\n",
       "      <th></th>\n",
       "      <th>product_type</th>\n",
       "      <th>cosmetics</th>\n",
       "      <th>food</th>\n",
       "      <th>cosmetics</th>\n",
       "      <th>food</th>\n",
       "    </tr>\n",
       "    <tr>\n",
       "      <th>year</th>\n",
       "      <th>location</th>\n",
       "      <th></th>\n",
       "      <th></th>\n",
       "      <th></th>\n",
       "      <th></th>\n",
       "    </tr>\n",
       "  </thead>\n",
       "  <tbody>\n",
       "    <tr>\n",
       "      <th rowspan=\"2\" valign=\"top\">2020</th>\n",
       "      <th>Freiburg</th>\n",
       "      <td>810559</td>\n",
       "      <td>486073</td>\n",
       "      <td>310653</td>\n",
       "      <td>319119</td>\n",
       "    </tr>\n",
       "    <tr>\n",
       "      <th>Lindau</th>\n",
       "      <td>395859</td>\n",
       "      <td>700673</td>\n",
       "      <td>253274</td>\n",
       "      <td>22629</td>\n",
       "    </tr>\n",
       "    <tr>\n",
       "      <th rowspan=\"2\" valign=\"top\">2021</th>\n",
       "      <th>Freiburg</th>\n",
       "      <td>840583</td>\n",
       "      <td>89122</td>\n",
       "      <td>563113</td>\n",
       "      <td>432098</td>\n",
       "    </tr>\n",
       "    <tr>\n",
       "      <th>Lindau</th>\n",
       "      <td>727061</td>\n",
       "      <td>538181</td>\n",
       "      <td>223067</td>\n",
       "      <td>782422</td>\n",
       "    </tr>\n",
       "  </tbody>\n",
       "</table>\n",
       "</div>"
      ],
      "text/plain": [
       "store         Superstore          Alnatura        \n",
       "product_type   cosmetics    food cosmetics    food\n",
       "year location                                     \n",
       "2020 Freiburg     810559  486073    310653  319119\n",
       "     Lindau       395859  700673    253274   22629\n",
       "2021 Freiburg     840583   89122    563113  432098\n",
       "     Lindau       727061  538181    223067  782422"
      ]
     },
     "execution_count": 19,
     "metadata": {},
     "output_type": "execute_result"
    }
   ],
   "source": [
    "import numpy as np\n",
    "index = pd.MultiIndex.from_product([[2020, 2021], ['Freiburg', 'Lindau']], names=['year', 'location'])\n",
    "columns = pd.MultiIndex.from_product([['Superstore', 'Alnatura'], ['cosmetics', 'food']], names=['store', 'product_type'])\n",
    "data = np.random.randint(low=10000, high=900000, size=(len(index),len(columns)))\n",
    "df = pd.DataFrame(data=data, index=index, columns=columns)\n",
    "# add a label for the whole index (not labels for each level which we have already)\n",
    "df.index.name = 'my_index'\n",
    "df"
   ]
  },
  {
   "cell_type": "code",
   "execution_count": 20,
   "metadata": {
    "scrolled": true,
    "slideshow": {
     "slide_type": "fragment"
    }
   },
   "outputs": [
    {
     "name": "stdout",
     "output_type": "stream",
     "text": [
      "index name: my_index\n",
      "names of index levels: ['year', 'location']\n"
     ]
    }
   ],
   "source": [
    "# it's surprising pandas doesn't show the index name but only the names of the levels, but as you can see it's here\n",
    "print(f'index name: {df.index.name}')\n",
    "print(f'names of index levels: {df.index.names}')"
   ]
  },
  {
   "cell_type": "markdown",
   "metadata": {
    "slideshow": {
     "slide_type": "slide"
    }
   },
   "source": [
    "The behavior of some operations changes with multidimensional headers and indices.\n",
    "\n",
    "For instance when using the syntax I mentioned before for selecting a column we get a DataFrame back in the example below (a subset of our DataFrame to be precise) and not a Series"
   ]
  },
  {
   "cell_type": "code",
   "execution_count": 21,
   "metadata": {
    "slideshow": {
     "slide_type": "fragment"
    }
   },
   "outputs": [
    {
     "data": {
      "text/html": [
       "<div>\n",
       "<style scoped>\n",
       "    .dataframe tbody tr th:only-of-type {\n",
       "        vertical-align: middle;\n",
       "    }\n",
       "\n",
       "    .dataframe tbody tr th {\n",
       "        vertical-align: top;\n",
       "    }\n",
       "\n",
       "    .dataframe thead th {\n",
       "        text-align: right;\n",
       "    }\n",
       "</style>\n",
       "<table border=\"1\" class=\"dataframe\">\n",
       "  <thead>\n",
       "    <tr style=\"text-align: right;\">\n",
       "      <th></th>\n",
       "      <th>product_type</th>\n",
       "      <th>cosmetics</th>\n",
       "      <th>food</th>\n",
       "    </tr>\n",
       "    <tr>\n",
       "      <th>year</th>\n",
       "      <th>location</th>\n",
       "      <th></th>\n",
       "      <th></th>\n",
       "    </tr>\n",
       "  </thead>\n",
       "  <tbody>\n",
       "    <tr>\n",
       "      <th rowspan=\"2\" valign=\"top\">2020</th>\n",
       "      <th>Freiburg</th>\n",
       "      <td>810559</td>\n",
       "      <td>486073</td>\n",
       "    </tr>\n",
       "    <tr>\n",
       "      <th>Lindau</th>\n",
       "      <td>395859</td>\n",
       "      <td>700673</td>\n",
       "    </tr>\n",
       "    <tr>\n",
       "      <th rowspan=\"2\" valign=\"top\">2021</th>\n",
       "      <th>Freiburg</th>\n",
       "      <td>840583</td>\n",
       "      <td>89122</td>\n",
       "    </tr>\n",
       "    <tr>\n",
       "      <th>Lindau</th>\n",
       "      <td>727061</td>\n",
       "      <td>538181</td>\n",
       "    </tr>\n",
       "  </tbody>\n",
       "</table>\n",
       "</div>"
      ],
      "text/plain": [
       "product_type   cosmetics    food\n",
       "year location                   \n",
       "2020 Freiburg     810559  486073\n",
       "     Lindau       395859  700673\n",
       "2021 Freiburg     840583   89122\n",
       "     Lindau       727061  538181"
      ]
     },
     "execution_count": 21,
     "metadata": {},
     "output_type": "execute_result"
    }
   ],
   "source": [
    "df['Superstore']"
   ]
  },
  {
   "cell_type": "markdown",
   "metadata": {
    "slideshow": {
     "slide_type": "slide"
    }
   },
   "source": [
    "See also this [example](https://github.com/ThibTrip/thib/blob/master/2021/pandas_crash_course/examples/merge/question_pandas_merge.ipynb) on a question about merge operation Lilia Schuster asked me!\n",
    "\n",
    "The transformation is a bit complicated but the **multidimensional DataFrame** output at cell **`[5]`** is particularly interesting."
   ]
  },
  {
   "cell_type": "markdown",
   "metadata": {
    "slideshow": {
     "slide_type": "slide"
    }
   },
   "source": [
    "### 1.6.4. ⚠️ The index is a separate entity and cannot be selected like columns!"
   ]
  },
  {
   "cell_type": "code",
   "execution_count": 22,
   "metadata": {
    "slideshow": {
     "slide_type": "fragment"
    }
   },
   "outputs": [
    {
     "data": {
      "text/html": [
       "<div>\n",
       "<style scoped>\n",
       "    .dataframe tbody tr th:only-of-type {\n",
       "        vertical-align: middle;\n",
       "    }\n",
       "\n",
       "    .dataframe tbody tr th {\n",
       "        vertical-align: top;\n",
       "    }\n",
       "\n",
       "    .dataframe thead th {\n",
       "        text-align: right;\n",
       "    }\n",
       "</style>\n",
       "<table border=\"1\" class=\"dataframe\">\n",
       "  <thead>\n",
       "    <tr style=\"text-align: right;\">\n",
       "      <th></th>\n",
       "      <th>name</th>\n",
       "    </tr>\n",
       "    <tr>\n",
       "      <th>id</th>\n",
       "      <th></th>\n",
       "    </tr>\n",
       "  </thead>\n",
       "  <tbody>\n",
       "    <tr>\n",
       "      <th>100</th>\n",
       "      <td>Tibaldo</td>\n",
       "    </tr>\n",
       "    <tr>\n",
       "      <th>200</th>\n",
       "      <td>John</td>\n",
       "    </tr>\n",
       "  </tbody>\n",
       "</table>\n",
       "</div>"
      ],
      "text/plain": [
       "        name\n",
       "id          \n",
       "100  Tibaldo\n",
       "200     John"
      ]
     },
     "metadata": {},
     "output_type": "display_data"
    },
    {
     "name": "stderr",
     "output_type": "stream",
     "text": [
      "Traceback (most recent call last):\n",
      "  File \"/home/tibaldo/anaconda3/envs/lab-env/lib/python3.8/site-packages/pandas/core/indexes/base.py\", line 2891, in get_loc\n",
      "    return self._engine.get_loc(casted_key)\n",
      "  File \"pandas/_libs/index.pyx\", line 70, in pandas._libs.index.IndexEngine.get_loc\n",
      "  File \"pandas/_libs/index.pyx\", line 101, in pandas._libs.index.IndexEngine.get_loc\n",
      "  File \"pandas/_libs/hashtable_class_helper.pxi\", line 1675, in pandas._libs.hashtable.PyObjectHashTable.get_item\n",
      "  File \"pandas/_libs/hashtable_class_helper.pxi\", line 1683, in pandas._libs.hashtable.PyObjectHashTable.get_item\n",
      "KeyError: 'id'\n",
      "\n",
      "The above exception was the direct cause of the following exception:\n",
      "\n",
      "Traceback (most recent call last):\n",
      "  File \"<ipython-input-22-1789fb35f70c>\", line 7, in <module>\n",
      "    df['id']\n",
      "  File \"/home/tibaldo/anaconda3/envs/lab-env/lib/python3.8/site-packages/pandas/core/frame.py\", line 2902, in __getitem__\n",
      "    indexer = self.columns.get_loc(key)\n",
      "  File \"/home/tibaldo/anaconda3/envs/lab-env/lib/python3.8/site-packages/pandas/core/indexes/base.py\", line 2893, in get_loc\n",
      "    raise KeyError(key) from err\n",
      "KeyError: 'id'\n"
     ]
    },
    {
     "data": {
      "text/plain": [
       "Int64Index([100, 200], dtype='int64', name='id')"
      ]
     },
     "execution_count": 22,
     "metadata": {},
     "output_type": "execute_result"
    }
   ],
   "source": [
    "import traceback\n",
    "\n",
    "df = pd.DataFrame({'name':['Tibaldo', 'John']}, index=pd.Index([100, 200], name='id'))\n",
    "display(df) # pretty print function implicitely imported when using Jupyter/IPython (from IPython.display import display)\n",
    "\n",
    "try:\n",
    "    df['id']\n",
    "except KeyError:\n",
    "    traceback.print_exc()\n",
    "\n",
    "df.index # <-- select like this (and if you have multiple levels use df.index.get_level_values('id'))"
   ]
  },
  {
   "cell_type": "markdown",
   "metadata": {
    "slideshow": {
     "slide_type": "slide"
    }
   },
   "source": [
    "# 2. I/O (Input/Output)"
   ]
  },
  {
   "cell_type": "markdown",
   "metadata": {
    "slideshow": {
     "slide_type": "fragment"
    }
   },
   "source": [
    "**WARNING**: with csv and excel files (and any kind of file that does not contain data type indications actually) pandas infers data types. Values such as `01234` will be interpreted as `1234`. If it was a zip code it is now wrong.\n",
    "\n",
    "Use the parameter **`dtype`** to circumvent this as I'll show in the examples or use the [gist](https://gist.github.com/ThibTrip/55fce86de023c98b9379de2f9be58249) I made for that which will infer which columns should be kept as string by using some custom rules."
   ]
  },
  {
   "cell_type": "code",
   "execution_count": 23,
   "metadata": {
    "slideshow": {
     "slide_type": "notes"
    }
   },
   "outputs": [],
   "source": [
    "from sqlalchemy import create_engine\n",
    "engine = create_engine('sqlite:///./data/db.sqlite3')\n",
    "\n",
    "# prepare some data to read\n",
    "# note: for once I don't use UTC because we cannot include timezone info in Excel...\n",
    "data = [['Alex', pd.Timestamp('2020-01-01 10:01:02'), 0, False, '01234', '+999'],\n",
    "        ['John', pd.Timestamp('2020-01-01 20:07:10'), 2, True, '12345', '+222']]\n",
    "columns = ['first_name', 'last_website_visit', 'number_of_cars', 'is_subscribed_to_newsletter',\n",
    "           'zip_code', 'phone_number']\n",
    "df = pd.DataFrame(data=data, columns=columns, index=pd.Index((100, 200), name='id'))\n",
    "\n",
    "df.to_csv('./data/example.csv', sep=';') # \";\" is common in Germany so people ought to now about it\n",
    "df.to_excel('./data/example.xlsx', sheet_name='example')\n",
    "df.to_pickle('./data/df.pickle')\n",
    "df.to_sql(name='people', con=engine, if_exists='replace', method='multi')"
   ]
  },
  {
   "cell_type": "markdown",
   "metadata": {
    "slideshow": {
     "slide_type": "slide"
    }
   },
   "source": [
    "## 2.1. CSV files\n",
    "\n",
    "\n",
    "Explanations on some parameters you'll probably use at some point:\n",
    "\n",
    "* `sep`: delimiter, by default `\",\"` but in Germany it is often `\";\"`\n",
    "* `encoding`: in Germany it is sometimes \"iso-8859-1\" (encoding can be detected with [chardet](https://github.com/chardet/chardet) if needed)\n",
    "* **`dtype`**: which data type pandas should use for columns e.g. `string` (all the columns as the String data type) or `{'zip_code':'string'}` (the column \"zip_code\" as the String data type, for the rest we let pandas infer it)\n",
    "* `index_col`: which column(s) to use as index\n",
    "* `usecols` for selecting only some columns\n",
    "* `chunksize`: yields n rows at a time (gives back an iterator), this is great for working on huge files in chunks\n",
    "* `skiprows`: list-like of line numbers or number of lines to skip (or callable)\n",
    "\n",
    "Obviously there are many more parameters e.g. I remember tweaking `na_values` and `keep_default_na` for working with geographic data to avoid `NA` (Namibia) being interpreted as a NULL value 🙈."
   ]
  },
  {
   "cell_type": "code",
   "execution_count": 24,
   "metadata": {
    "slideshow": {
     "slide_type": "fragment"
    }
   },
   "outputs": [
    {
     "data": {
      "text/html": [
       "<div>\n",
       "<style scoped>\n",
       "    .dataframe tbody tr th:only-of-type {\n",
       "        vertical-align: middle;\n",
       "    }\n",
       "\n",
       "    .dataframe tbody tr th {\n",
       "        vertical-align: top;\n",
       "    }\n",
       "\n",
       "    .dataframe thead th {\n",
       "        text-align: right;\n",
       "    }\n",
       "</style>\n",
       "<table border=\"1\" class=\"dataframe\">\n",
       "  <thead>\n",
       "    <tr style=\"text-align: right;\">\n",
       "      <th></th>\n",
       "      <th>first_name</th>\n",
       "      <th>last_website_visit</th>\n",
       "      <th>number_of_cars</th>\n",
       "      <th>is_subscribed_to_newsletter</th>\n",
       "      <th>zip_code</th>\n",
       "      <th>phone_number</th>\n",
       "    </tr>\n",
       "    <tr>\n",
       "      <th>id</th>\n",
       "      <th></th>\n",
       "      <th></th>\n",
       "      <th></th>\n",
       "      <th></th>\n",
       "      <th></th>\n",
       "      <th></th>\n",
       "    </tr>\n",
       "  </thead>\n",
       "  <tbody>\n",
       "    <tr>\n",
       "      <th>100</th>\n",
       "      <td>Alex</td>\n",
       "      <td>2020-01-01 10:01:02</td>\n",
       "      <td>0</td>\n",
       "      <td>False</td>\n",
       "      <td>01234</td>\n",
       "      <td>+999</td>\n",
       "    </tr>\n",
       "    <tr>\n",
       "      <th>200</th>\n",
       "      <td>John</td>\n",
       "      <td>2020-01-01 20:07:10</td>\n",
       "      <td>2</td>\n",
       "      <td>True</td>\n",
       "      <td>12345</td>\n",
       "      <td>+222</td>\n",
       "    </tr>\n",
       "  </tbody>\n",
       "</table>\n",
       "</div>"
      ],
      "text/plain": [
       "    first_name   last_website_visit  number_of_cars  \\\n",
       "id                                                    \n",
       "100       Alex  2020-01-01 10:01:02               0   \n",
       "200       John  2020-01-01 20:07:10               2   \n",
       "\n",
       "     is_subscribed_to_newsletter zip_code phone_number  \n",
       "id                                                      \n",
       "100                        False    01234         +999  \n",
       "200                         True    12345         +222  "
      ]
     },
     "execution_count": 24,
     "metadata": {},
     "output_type": "execute_result"
    }
   ],
   "source": [
    "# read from csv\n",
    "df = pd.read_csv('./data/example.csv', sep=';', dtype={'zip_code':'string', 'phone_number':'string'}, index_col='id')\n",
    "\n",
    "# save to csv (let's assume you'll want ';' as a separator as well here)\n",
    "df.to_csv('./data/example.csv', sep=';')\n",
    "\n",
    "df"
   ]
  },
  {
   "cell_type": "markdown",
   "metadata": {
    "slideshow": {
     "slide_type": "slide"
    }
   },
   "source": [
    "you can read directly from a URL too (ftp, s3 and more URL schemes are also supported). Most read and save methods also handle **compression**. Note that reading from archives only works if there is only one file in the archive (but it's easy to [use a file handle to select files](https://stackoverflow.com/a/44118138))"
   ]
  },
  {
   "cell_type": "code",
   "execution_count": 25,
   "metadata": {
    "slideshow": {
     "slide_type": "fragment"
    }
   },
   "outputs": [
    {
     "data": {
      "text/html": [
       "<div>\n",
       "<style scoped>\n",
       "    .dataframe tbody tr th:only-of-type {\n",
       "        vertical-align: middle;\n",
       "    }\n",
       "\n",
       "    .dataframe tbody tr th {\n",
       "        vertical-align: top;\n",
       "    }\n",
       "\n",
       "    .dataframe thead th {\n",
       "        text-align: right;\n",
       "    }\n",
       "</style>\n",
       "<table border=\"1\" class=\"dataframe\">\n",
       "  <thead>\n",
       "    <tr style=\"text-align: right;\">\n",
       "      <th></th>\n",
       "      <th>name</th>\n",
       "      <th>asciiname</th>\n",
       "      <th>alternatenames</th>\n",
       "      <th>latitude</th>\n",
       "      <th>longitude</th>\n",
       "      <th>feature class</th>\n",
       "      <th>feature code</th>\n",
       "      <th>country code</th>\n",
       "      <th>cc2</th>\n",
       "      <th>admin1 code</th>\n",
       "      <th>admin2 code</th>\n",
       "      <th>admin3 code</th>\n",
       "      <th>admin4 code</th>\n",
       "      <th>population</th>\n",
       "      <th>elevation</th>\n",
       "      <th>dem</th>\n",
       "      <th>timezone</th>\n",
       "      <th>modification date</th>\n",
       "    </tr>\n",
       "    <tr>\n",
       "      <th>geonameid</th>\n",
       "      <th></th>\n",
       "      <th></th>\n",
       "      <th></th>\n",
       "      <th></th>\n",
       "      <th></th>\n",
       "      <th></th>\n",
       "      <th></th>\n",
       "      <th></th>\n",
       "      <th></th>\n",
       "      <th></th>\n",
       "      <th></th>\n",
       "      <th></th>\n",
       "      <th></th>\n",
       "      <th></th>\n",
       "      <th></th>\n",
       "      <th></th>\n",
       "      <th></th>\n",
       "      <th></th>\n",
       "    </tr>\n",
       "  </thead>\n",
       "  <tbody>\n",
       "    <tr>\n",
       "      <th>3040051</th>\n",
       "      <td>les Escaldes</td>\n",
       "      <td>les Escaldes</td>\n",
       "      <td>Ehskal'des-Ehndzhordani,Escaldes,Escaldes-Engo...</td>\n",
       "      <td>42.50729</td>\n",
       "      <td>1.53414</td>\n",
       "      <td>P</td>\n",
       "      <td>PPLA</td>\n",
       "      <td>AD</td>\n",
       "      <td>&lt;NA&gt;</td>\n",
       "      <td>08</td>\n",
       "      <td>&lt;NA&gt;</td>\n",
       "      <td>&lt;NA&gt;</td>\n",
       "      <td>&lt;NA&gt;</td>\n",
       "      <td>15853</td>\n",
       "      <td>&lt;NA&gt;</td>\n",
       "      <td>1033</td>\n",
       "      <td>Europe/Andorra</td>\n",
       "      <td>2008-10-15</td>\n",
       "    </tr>\n",
       "    <tr>\n",
       "      <th>3041563</th>\n",
       "      <td>Andorra la Vella</td>\n",
       "      <td>Andorra la Vella</td>\n",
       "      <td>ALV,Ando-la-Vyey,Andora,Andora la Vela,Andora ...</td>\n",
       "      <td>42.50779</td>\n",
       "      <td>1.52109</td>\n",
       "      <td>P</td>\n",
       "      <td>PPLC</td>\n",
       "      <td>AD</td>\n",
       "      <td>&lt;NA&gt;</td>\n",
       "      <td>07</td>\n",
       "      <td>&lt;NA&gt;</td>\n",
       "      <td>&lt;NA&gt;</td>\n",
       "      <td>&lt;NA&gt;</td>\n",
       "      <td>20430</td>\n",
       "      <td>&lt;NA&gt;</td>\n",
       "      <td>1037</td>\n",
       "      <td>Europe/Andorra</td>\n",
       "      <td>2020-03-03</td>\n",
       "    </tr>\n",
       "    <tr>\n",
       "      <th>290594</th>\n",
       "      <td>Umm Al Quwain City</td>\n",
       "      <td>Umm Al Quwain City</td>\n",
       "      <td>Oumm al Qaiwain,Oumm al Qaïwaïn,Um al Kawain,U...</td>\n",
       "      <td>25.56473</td>\n",
       "      <td>55.55517</td>\n",
       "      <td>P</td>\n",
       "      <td>PPLA</td>\n",
       "      <td>AE</td>\n",
       "      <td>&lt;NA&gt;</td>\n",
       "      <td>07</td>\n",
       "      <td>&lt;NA&gt;</td>\n",
       "      <td>&lt;NA&gt;</td>\n",
       "      <td>&lt;NA&gt;</td>\n",
       "      <td>62747</td>\n",
       "      <td>&lt;NA&gt;</td>\n",
       "      <td>2</td>\n",
       "      <td>Asia/Dubai</td>\n",
       "      <td>2019-10-24</td>\n",
       "    </tr>\n",
       "    <tr>\n",
       "      <th>291074</th>\n",
       "      <td>Ras Al Khaimah City</td>\n",
       "      <td>Ras Al Khaimah City</td>\n",
       "      <td>Julfa,Khaimah,RAK City,RKT,Ra's al Khaymah,Ra'...</td>\n",
       "      <td>25.78953</td>\n",
       "      <td>55.94320</td>\n",
       "      <td>P</td>\n",
       "      <td>PPLA</td>\n",
       "      <td>AE</td>\n",
       "      <td>&lt;NA&gt;</td>\n",
       "      <td>05</td>\n",
       "      <td>&lt;NA&gt;</td>\n",
       "      <td>&lt;NA&gt;</td>\n",
       "      <td>&lt;NA&gt;</td>\n",
       "      <td>351943</td>\n",
       "      <td>&lt;NA&gt;</td>\n",
       "      <td>2</td>\n",
       "      <td>Asia/Dubai</td>\n",
       "      <td>2019-09-09</td>\n",
       "    </tr>\n",
       "    <tr>\n",
       "      <th>291580</th>\n",
       "      <td>Zayed City</td>\n",
       "      <td>Zayed City</td>\n",
       "      <td>Bid' Zayed,Bid’ Zayed,Madinat Za'id,Madinat Za...</td>\n",
       "      <td>23.65416</td>\n",
       "      <td>53.70522</td>\n",
       "      <td>P</td>\n",
       "      <td>PPL</td>\n",
       "      <td>AE</td>\n",
       "      <td>&lt;NA&gt;</td>\n",
       "      <td>01</td>\n",
       "      <td>103</td>\n",
       "      <td>&lt;NA&gt;</td>\n",
       "      <td>&lt;NA&gt;</td>\n",
       "      <td>63482</td>\n",
       "      <td>&lt;NA&gt;</td>\n",
       "      <td>124</td>\n",
       "      <td>Asia/Dubai</td>\n",
       "      <td>2019-10-24</td>\n",
       "    </tr>\n",
       "    <tr>\n",
       "      <th>...</th>\n",
       "      <td>...</td>\n",
       "      <td>...</td>\n",
       "      <td>...</td>\n",
       "      <td>...</td>\n",
       "      <td>...</td>\n",
       "      <td>...</td>\n",
       "      <td>...</td>\n",
       "      <td>...</td>\n",
       "      <td>...</td>\n",
       "      <td>...</td>\n",
       "      <td>...</td>\n",
       "      <td>...</td>\n",
       "      <td>...</td>\n",
       "      <td>...</td>\n",
       "      <td>...</td>\n",
       "      <td>...</td>\n",
       "      <td>...</td>\n",
       "      <td>...</td>\n",
       "    </tr>\n",
       "    <tr>\n",
       "      <th>894701</th>\n",
       "      <td>Bulawayo</td>\n",
       "      <td>Bulawayo</td>\n",
       "      <td>BUQ,Bulavajas,Bulavajo,Bulavejo,Bulawayo,bu la...</td>\n",
       "      <td>-20.15000</td>\n",
       "      <td>28.58333</td>\n",
       "      <td>P</td>\n",
       "      <td>PPLA</td>\n",
       "      <td>ZW</td>\n",
       "      <td>&lt;NA&gt;</td>\n",
       "      <td>09</td>\n",
       "      <td>&lt;NA&gt;</td>\n",
       "      <td>&lt;NA&gt;</td>\n",
       "      <td>&lt;NA&gt;</td>\n",
       "      <td>699385</td>\n",
       "      <td>&lt;NA&gt;</td>\n",
       "      <td>1348</td>\n",
       "      <td>Africa/Harare</td>\n",
       "      <td>2019-09-05</td>\n",
       "    </tr>\n",
       "    <tr>\n",
       "      <th>895061</th>\n",
       "      <td>Bindura</td>\n",
       "      <td>Bindura</td>\n",
       "      <td>Bindura,Bindura Town,Kimberley Reefs,Биндура</td>\n",
       "      <td>-17.30192</td>\n",
       "      <td>31.33056</td>\n",
       "      <td>P</td>\n",
       "      <td>PPLA</td>\n",
       "      <td>ZW</td>\n",
       "      <td>&lt;NA&gt;</td>\n",
       "      <td>03</td>\n",
       "      <td>&lt;NA&gt;</td>\n",
       "      <td>&lt;NA&gt;</td>\n",
       "      <td>&lt;NA&gt;</td>\n",
       "      <td>37423</td>\n",
       "      <td>&lt;NA&gt;</td>\n",
       "      <td>1118</td>\n",
       "      <td>Africa/Harare</td>\n",
       "      <td>2010-08-03</td>\n",
       "    </tr>\n",
       "    <tr>\n",
       "      <th>895269</th>\n",
       "      <td>Beitbridge</td>\n",
       "      <td>Beitbridge</td>\n",
       "      <td>Bajtbridz,Bajtbridzh,Beitbridge,Beitbridzas,Be...</td>\n",
       "      <td>-22.21667</td>\n",
       "      <td>30.00000</td>\n",
       "      <td>P</td>\n",
       "      <td>PPL</td>\n",
       "      <td>ZW</td>\n",
       "      <td>&lt;NA&gt;</td>\n",
       "      <td>07</td>\n",
       "      <td>&lt;NA&gt;</td>\n",
       "      <td>&lt;NA&gt;</td>\n",
       "      <td>&lt;NA&gt;</td>\n",
       "      <td>26459</td>\n",
       "      <td>&lt;NA&gt;</td>\n",
       "      <td>461</td>\n",
       "      <td>Africa/Harare</td>\n",
       "      <td>2013-03-12</td>\n",
       "    </tr>\n",
       "    <tr>\n",
       "      <th>1085510</th>\n",
       "      <td>Epworth</td>\n",
       "      <td>Epworth</td>\n",
       "      <td>Epworth</td>\n",
       "      <td>-17.89000</td>\n",
       "      <td>31.14750</td>\n",
       "      <td>P</td>\n",
       "      <td>PPLX</td>\n",
       "      <td>ZW</td>\n",
       "      <td>&lt;NA&gt;</td>\n",
       "      <td>10</td>\n",
       "      <td>&lt;NA&gt;</td>\n",
       "      <td>&lt;NA&gt;</td>\n",
       "      <td>&lt;NA&gt;</td>\n",
       "      <td>123250</td>\n",
       "      <td>&lt;NA&gt;</td>\n",
       "      <td>1508</td>\n",
       "      <td>Africa/Harare</td>\n",
       "      <td>2012-01-19</td>\n",
       "    </tr>\n",
       "    <tr>\n",
       "      <th>1106542</th>\n",
       "      <td>Chitungwiza</td>\n",
       "      <td>Chitungwiza</td>\n",
       "      <td>Chitungviza,Chitungwiza,Chytungviza,Citungviza...</td>\n",
       "      <td>-18.01274</td>\n",
       "      <td>31.07555</td>\n",
       "      <td>P</td>\n",
       "      <td>PPL</td>\n",
       "      <td>ZW</td>\n",
       "      <td>&lt;NA&gt;</td>\n",
       "      <td>10</td>\n",
       "      <td>&lt;NA&gt;</td>\n",
       "      <td>&lt;NA&gt;</td>\n",
       "      <td>&lt;NA&gt;</td>\n",
       "      <td>340360</td>\n",
       "      <td>&lt;NA&gt;</td>\n",
       "      <td>1435</td>\n",
       "      <td>Africa/Harare</td>\n",
       "      <td>2019-09-05</td>\n",
       "    </tr>\n",
       "  </tbody>\n",
       "</table>\n",
       "<p>24545 rows × 18 columns</p>\n",
       "</div>"
      ],
      "text/plain": [
       "                          name            asciiname  \\\n",
       "geonameid                                             \n",
       "3040051           les Escaldes         les Escaldes   \n",
       "3041563       Andorra la Vella     Andorra la Vella   \n",
       "290594      Umm Al Quwain City   Umm Al Quwain City   \n",
       "291074     Ras Al Khaimah City  Ras Al Khaimah City   \n",
       "291580              Zayed City           Zayed City   \n",
       "...                        ...                  ...   \n",
       "894701                Bulawayo             Bulawayo   \n",
       "895061                 Bindura              Bindura   \n",
       "895269              Beitbridge           Beitbridge   \n",
       "1085510                Epworth              Epworth   \n",
       "1106542            Chitungwiza          Chitungwiza   \n",
       "\n",
       "                                              alternatenames  latitude  \\\n",
       "geonameid                                                                \n",
       "3040051    Ehskal'des-Ehndzhordani,Escaldes,Escaldes-Engo...  42.50729   \n",
       "3041563    ALV,Ando-la-Vyey,Andora,Andora la Vela,Andora ...  42.50779   \n",
       "290594     Oumm al Qaiwain,Oumm al Qaïwaïn,Um al Kawain,U...  25.56473   \n",
       "291074     Julfa,Khaimah,RAK City,RKT,Ra's al Khaymah,Ra'...  25.78953   \n",
       "291580     Bid' Zayed,Bid’ Zayed,Madinat Za'id,Madinat Za...  23.65416   \n",
       "...                                                      ...       ...   \n",
       "894701     BUQ,Bulavajas,Bulavajo,Bulavejo,Bulawayo,bu la... -20.15000   \n",
       "895061          Bindura,Bindura Town,Kimberley Reefs,Биндура -17.30192   \n",
       "895269     Bajtbridz,Bajtbridzh,Beitbridge,Beitbridzas,Be... -22.21667   \n",
       "1085510                                              Epworth -17.89000   \n",
       "1106542    Chitungviza,Chitungwiza,Chytungviza,Citungviza... -18.01274   \n",
       "\n",
       "           longitude feature class feature code country code   cc2  \\\n",
       "geonameid                                                            \n",
       "3040051      1.53414             P         PPLA           AD  <NA>   \n",
       "3041563      1.52109             P         PPLC           AD  <NA>   \n",
       "290594      55.55517             P         PPLA           AE  <NA>   \n",
       "291074      55.94320             P         PPLA           AE  <NA>   \n",
       "291580      53.70522             P          PPL           AE  <NA>   \n",
       "...              ...           ...          ...          ...   ...   \n",
       "894701      28.58333             P         PPLA           ZW  <NA>   \n",
       "895061      31.33056             P         PPLA           ZW  <NA>   \n",
       "895269      30.00000             P          PPL           ZW  <NA>   \n",
       "1085510     31.14750             P         PPLX           ZW  <NA>   \n",
       "1106542     31.07555             P          PPL           ZW  <NA>   \n",
       "\n",
       "          admin1 code admin2 code admin3 code admin4 code  population  \\\n",
       "geonameid                                                               \n",
       "3040051            08        <NA>        <NA>        <NA>       15853   \n",
       "3041563            07        <NA>        <NA>        <NA>       20430   \n",
       "290594             07        <NA>        <NA>        <NA>       62747   \n",
       "291074             05        <NA>        <NA>        <NA>      351943   \n",
       "291580             01         103        <NA>        <NA>       63482   \n",
       "...               ...         ...         ...         ...         ...   \n",
       "894701             09        <NA>        <NA>        <NA>      699385   \n",
       "895061             03        <NA>        <NA>        <NA>       37423   \n",
       "895269             07        <NA>        <NA>        <NA>       26459   \n",
       "1085510            10        <NA>        <NA>        <NA>      123250   \n",
       "1106542            10        <NA>        <NA>        <NA>      340360   \n",
       "\n",
       "           elevation   dem        timezone modification date  \n",
       "geonameid                                                     \n",
       "3040051         <NA>  1033  Europe/Andorra        2008-10-15  \n",
       "3041563         <NA>  1037  Europe/Andorra        2020-03-03  \n",
       "290594          <NA>     2      Asia/Dubai        2019-10-24  \n",
       "291074          <NA>     2      Asia/Dubai        2019-09-09  \n",
       "291580          <NA>   124      Asia/Dubai        2019-10-24  \n",
       "...              ...   ...             ...               ...  \n",
       "894701          <NA>  1348   Africa/Harare        2019-09-05  \n",
       "895061          <NA>  1118   Africa/Harare        2010-08-03  \n",
       "895269          <NA>   461   Africa/Harare        2013-03-12  \n",
       "1085510         <NA>  1508   Africa/Harare        2012-01-19  \n",
       "1106542         <NA>  1435   Africa/Harare        2019-09-05  \n",
       "\n",
       "[24545 rows x 18 columns]"
      ]
     },
     "execution_count": 25,
     "metadata": {},
     "output_type": "execute_result"
    }
   ],
   "source": [
    "df = pd.read_csv('http://download.geonames.org/export/dump/cities15000.zip',\n",
    "                 header=None, # the first row is not a header, I'll provide my own names (see below)\n",
    "                 names=['geonameid', 'name', 'asciiname', 'alternatenames', 'latitude', 'longitude', 'feature class',\n",
    "                        'feature code', 'country code', 'cc2', 'admin1 code', 'admin2 code', 'admin3 code', 'admin4 code',\n",
    "                        'population', 'elevation', 'dem', 'timezone', 'modification date'],\n",
    "                 sep='\\t') # tabulation\n",
    "\n",
    "df = df.convert_dtypes().set_index('geonameid')\n",
    "df"
   ]
  },
  {
   "cell_type": "markdown",
   "metadata": {
    "slideshow": {
     "slide_type": "slide"
    }
   },
   "source": [
    "## 2.2. Excel files\n",
    "\n",
    "Apart from `sep` and `encoding` this method also has the parameters I mentioned above.\n",
    "\n",
    "A very important argument here is `sheet_name` to select which sheet of the excel file you want to read.\n",
    "\n",
    "You'll have to install `openpyxl` for reading and writing Excel files (`pip install openpyxl`). Openpyxl is pretty cool. I've used it a few times to list sheet names, check out which sheet are hidden, how cells are formatted etc. Here is for instance an [Openpyxl tutorial](https://zetcode.com/python/openpyxl/) showing some of the possibilities.\n",
    "\n",
    "If working with `.xls` files (as opposed to `.xlsx`) you'll have to use `xlrd` (`pip install xlrd`)."
   ]
  },
  {
   "cell_type": "code",
   "execution_count": 26,
   "metadata": {
    "slideshow": {
     "slide_type": "fragment"
    }
   },
   "outputs": [
    {
     "data": {
      "text/html": [
       "<div>\n",
       "<style scoped>\n",
       "    .dataframe tbody tr th:only-of-type {\n",
       "        vertical-align: middle;\n",
       "    }\n",
       "\n",
       "    .dataframe tbody tr th {\n",
       "        vertical-align: top;\n",
       "    }\n",
       "\n",
       "    .dataframe thead th {\n",
       "        text-align: right;\n",
       "    }\n",
       "</style>\n",
       "<table border=\"1\" class=\"dataframe\">\n",
       "  <thead>\n",
       "    <tr style=\"text-align: right;\">\n",
       "      <th></th>\n",
       "      <th>first_name</th>\n",
       "      <th>last_website_visit</th>\n",
       "      <th>number_of_cars</th>\n",
       "      <th>is_subscribed_to_newsletter</th>\n",
       "      <th>zip_code</th>\n",
       "      <th>phone_number</th>\n",
       "    </tr>\n",
       "    <tr>\n",
       "      <th>id</th>\n",
       "      <th></th>\n",
       "      <th></th>\n",
       "      <th></th>\n",
       "      <th></th>\n",
       "      <th></th>\n",
       "      <th></th>\n",
       "    </tr>\n",
       "  </thead>\n",
       "  <tbody>\n",
       "    <tr>\n",
       "      <th>100</th>\n",
       "      <td>Alex</td>\n",
       "      <td>2020-01-01 10:01:02</td>\n",
       "      <td>0</td>\n",
       "      <td>False</td>\n",
       "      <td>01234</td>\n",
       "      <td>+999</td>\n",
       "    </tr>\n",
       "    <tr>\n",
       "      <th>200</th>\n",
       "      <td>John</td>\n",
       "      <td>2020-01-01 20:07:10</td>\n",
       "      <td>2</td>\n",
       "      <td>True</td>\n",
       "      <td>12345</td>\n",
       "      <td>+222</td>\n",
       "    </tr>\n",
       "  </tbody>\n",
       "</table>\n",
       "</div>"
      ],
      "text/plain": [
       "    first_name  last_website_visit  number_of_cars  \\\n",
       "id                                                   \n",
       "100       Alex 2020-01-01 10:01:02               0   \n",
       "200       John 2020-01-01 20:07:10               2   \n",
       "\n",
       "     is_subscribed_to_newsletter zip_code phone_number  \n",
       "id                                                      \n",
       "100                        False    01234         +999  \n",
       "200                         True    12345         +222  "
      ]
     },
     "execution_count": 26,
     "metadata": {},
     "output_type": "execute_result"
    }
   ],
   "source": [
    "df = pd.read_excel('./data/example.xlsx', dtype={'zip_code':'string', 'phone_number':'string'}, index_col='id',\n",
    "                   sheet_name='example') # if not provided, the first sheet is read\n",
    "\n",
    "# save to excel\n",
    "df.to_excel('./data/example.xlsx', sheet_name='example') # default sheet name is \"Sheet1\"\n",
    "\n",
    "df"
   ]
  },
  {
   "cell_type": "markdown",
   "metadata": {
    "slideshow": {
     "slide_type": "slide"
    }
   },
   "source": [
    "## 2.3. SQL\n",
    "\n",
    "We use the library `sqlalchemy` for creating an object to communicate with the database (see `engine` below).\n",
    "\n",
    "The `sqlalchemy.create_engine` function we use below takes a [connection string to a database](https://docs.sqlalchemy.org/en/latest/core/engines.html).\n",
    "\n",
    "For example, the syntax for PostgreSQL (it's similar for most other databases) is as follows:\n",
    "\n",
    "```python\n",
    "connection_string = f'postgresql://{USERNAME}:{PASWORD}@{HOST}:{PORT}/{DB}'\n",
    "```"
   ]
  },
  {
   "cell_type": "code",
   "execution_count": 27,
   "metadata": {
    "slideshow": {
     "slide_type": "fragment"
    }
   },
   "outputs": [
    {
     "data": {
      "text/html": [
       "<div>\n",
       "<style scoped>\n",
       "    .dataframe tbody tr th:only-of-type {\n",
       "        vertical-align: middle;\n",
       "    }\n",
       "\n",
       "    .dataframe tbody tr th {\n",
       "        vertical-align: top;\n",
       "    }\n",
       "\n",
       "    .dataframe thead th {\n",
       "        text-align: right;\n",
       "    }\n",
       "</style>\n",
       "<table border=\"1\" class=\"dataframe\">\n",
       "  <thead>\n",
       "    <tr style=\"text-align: right;\">\n",
       "      <th></th>\n",
       "      <th>first_name</th>\n",
       "      <th>last_website_visit</th>\n",
       "      <th>number_of_cars</th>\n",
       "      <th>is_subscribed_to_newsletter</th>\n",
       "      <th>zip_code</th>\n",
       "      <th>phone_number</th>\n",
       "    </tr>\n",
       "    <tr>\n",
       "      <th>id</th>\n",
       "      <th></th>\n",
       "      <th></th>\n",
       "      <th></th>\n",
       "      <th></th>\n",
       "      <th></th>\n",
       "      <th></th>\n",
       "    </tr>\n",
       "  </thead>\n",
       "  <tbody>\n",
       "    <tr>\n",
       "      <th>100</th>\n",
       "      <td>Alex</td>\n",
       "      <td>2020-01-01 10:01:02.000000</td>\n",
       "      <td>0</td>\n",
       "      <td>0</td>\n",
       "      <td>01234</td>\n",
       "      <td>+999</td>\n",
       "    </tr>\n",
       "    <tr>\n",
       "      <th>200</th>\n",
       "      <td>John</td>\n",
       "      <td>2020-01-01 20:07:10.000000</td>\n",
       "      <td>2</td>\n",
       "      <td>1</td>\n",
       "      <td>12345</td>\n",
       "      <td>+222</td>\n",
       "    </tr>\n",
       "  </tbody>\n",
       "</table>\n",
       "</div>"
      ],
      "text/plain": [
       "    first_name          last_website_visit  number_of_cars  \\\n",
       "id                                                           \n",
       "100       Alex  2020-01-01 10:01:02.000000               0   \n",
       "200       John  2020-01-01 20:07:10.000000               2   \n",
       "\n",
       "     is_subscribed_to_newsletter zip_code phone_number  \n",
       "id                                                      \n",
       "100                            0    01234         +999  \n",
       "200                            1    12345         +222  "
      ]
     },
     "execution_count": 27,
     "metadata": {},
     "output_type": "execute_result"
    }
   ],
   "source": [
    "from sqlalchemy import create_engine # pip install sqlalchemy\n",
    "\n",
    "# sqlite is a bit of special SQL flavor since the database is on the disk (so you just provide a path)\n",
    "connection_string = 'sqlite:///./data/db.sqlite3'\n",
    "engine = create_engine(connection_string)\n",
    "\n",
    "df = pd.read_sql(sql='SELECT * FROM people;', con=engine, index_col='id')\n",
    "df"
   ]
  },
  {
   "cell_type": "markdown",
   "metadata": {
    "slideshow": {
     "slide_type": "slide"
    }
   },
   "source": [
    "Saving to SQL"
   ]
  },
  {
   "cell_type": "code",
   "execution_count": 28,
   "metadata": {
    "slideshow": {
     "slide_type": "fragment"
    }
   },
   "outputs": [],
   "source": [
    "df.to_sql(name='people',\n",
    "          con=engine,\n",
    "          index=True, # default, we want to save the index \n",
    "          if_exists='replace', # what to do if the table exists (default is \"fail\" which raises an Exception) and there is also \"append\"\n",
    "          method='multi') # IMPORTANT!!!! Otherwise inserts row by row which is super slow"
   ]
  },
  {
   "cell_type": "markdown",
   "metadata": {
    "slideshow": {
     "slide_type": "fragment"
    }
   },
   "source": [
    "**Important tip**: I made a [benchmark of df.to_sql](https://gist.github.com/ThibTrip/b0a752c7b7b1756d87832a5bb48a165b) for PostgreSQL with many methods and as you'll see there are huge differences: from 2min 48 for the slowest method down to **16.1s** for the fastest method!"
   ]
  },
  {
   "cell_type": "markdown",
   "metadata": {
    "slideshow": {
     "slide_type": "slide"
    }
   },
   "source": [
    "### Bonus: updating rows in a SQL table with a DataFrame thanks to my library [pangres](https://github.com/ThibTrip/pangres)\n",
    "\n",
    "You will need a **primary key** (or a unique key) which is one or multiple columns for identifying records. The primary key will have to be set as index in the pandas DataFrame.\n",
    "\n",
    "The example demonstrates what the library can do, but you'll definitely need the [documentation](https://github.com/ThibTrip/pangres/wiki)."
   ]
  },
  {
   "cell_type": "markdown",
   "metadata": {
    "slideshow": {
     "slide_type": "slide"
    }
   },
   "source": [
    "load some table I saved in the database"
   ]
  },
  {
   "cell_type": "code",
   "execution_count": 29,
   "metadata": {
    "slideshow": {
     "slide_type": "notes"
    }
   },
   "outputs": [
    {
     "data": {
      "text/plain": [
       "<sqlalchemy.engine.result.ResultProxy at 0x7fe63a84bbb0>"
      ]
     },
     "execution_count": 29,
     "metadata": {},
     "output_type": "execute_result"
    }
   ],
   "source": [
    "from sqlalchemy import create_engine # pip install sqlalchemy\n",
    "engine = create_engine('sqlite:///./data/db.sqlite3')\n",
    "engine.execute('DROP TABLE IF EXISTS pangres_test;')\n",
    "engine.execute(\"\"\"CREATE TABLE pangres_test (\n",
    "                      id int PRIMARY KEY,\n",
    "                      first_name text,\n",
    "                      number_of_cars int);\"\"\")\n",
    "engine.execute(\"\"\"INSERT INTO pangres_test (id, first_name, number_of_cars)\n",
    "                  VALUES (100, \"John\", 2), (200, \"Thibault\", 1);\"\"\")"
   ]
  },
  {
   "cell_type": "code",
   "execution_count": 30,
   "metadata": {
    "scrolled": true,
    "slideshow": {
     "slide_type": "fragment"
    }
   },
   "outputs": [
    {
     "data": {
      "text/html": [
       "<div>\n",
       "<style scoped>\n",
       "    .dataframe tbody tr th:only-of-type {\n",
       "        vertical-align: middle;\n",
       "    }\n",
       "\n",
       "    .dataframe tbody tr th {\n",
       "        vertical-align: top;\n",
       "    }\n",
       "\n",
       "    .dataframe thead th {\n",
       "        text-align: right;\n",
       "    }\n",
       "</style>\n",
       "<table border=\"1\" class=\"dataframe\">\n",
       "  <thead>\n",
       "    <tr style=\"text-align: right;\">\n",
       "      <th></th>\n",
       "      <th>first_name</th>\n",
       "      <th>number_of_cars</th>\n",
       "    </tr>\n",
       "    <tr>\n",
       "      <th>id</th>\n",
       "      <th></th>\n",
       "      <th></th>\n",
       "    </tr>\n",
       "  </thead>\n",
       "  <tbody>\n",
       "    <tr>\n",
       "      <th>100</th>\n",
       "      <td>John</td>\n",
       "      <td>2</td>\n",
       "    </tr>\n",
       "    <tr>\n",
       "      <th>200</th>\n",
       "      <td>Thibault</td>\n",
       "      <td>1</td>\n",
       "    </tr>\n",
       "  </tbody>\n",
       "</table>\n",
       "</div>"
      ],
      "text/plain": [
       "    first_name  number_of_cars\n",
       "id                            \n",
       "100       John               2\n",
       "200   Thibault               1"
      ]
     },
     "execution_count": 30,
     "metadata": {},
     "output_type": "execute_result"
    }
   ],
   "source": [
    "from sqlalchemy import create_engine # pip install sqlalchemy\n",
    "from pangres import upsert # pip install pangres\n",
    "engine = create_engine('sqlite:///./data/db.sqlite3') # \"./data/db.sqlite3\" is the path to a SQlite3 database\n",
    "df = pd.read_sql('SELECT * FROM pangres_test;', con=engine, index_col='id').convert_dtypes()\n",
    "df"
   ]
  },
  {
   "cell_type": "markdown",
   "metadata": {
    "slideshow": {
     "slide_type": "fragment"
    }
   },
   "source": [
    "create some new data to update and insert"
   ]
  },
  {
   "cell_type": "code",
   "execution_count": 31,
   "metadata": {
    "slideshow": {
     "slide_type": "fragment"
    }
   },
   "outputs": [
    {
     "data": {
      "text/html": [
       "<div>\n",
       "<style scoped>\n",
       "    .dataframe tbody tr th:only-of-type {\n",
       "        vertical-align: middle;\n",
       "    }\n",
       "\n",
       "    .dataframe tbody tr th {\n",
       "        vertical-align: top;\n",
       "    }\n",
       "\n",
       "    .dataframe thead th {\n",
       "        text-align: right;\n",
       "    }\n",
       "</style>\n",
       "<table border=\"1\" class=\"dataframe\">\n",
       "  <thead>\n",
       "    <tr style=\"text-align: right;\">\n",
       "      <th></th>\n",
       "      <th>first_name</th>\n",
       "      <th>number_of_cars</th>\n",
       "      <th>number_of_houses</th>\n",
       "    </tr>\n",
       "    <tr>\n",
       "      <th>id</th>\n",
       "      <th></th>\n",
       "      <th></th>\n",
       "      <th></th>\n",
       "    </tr>\n",
       "  </thead>\n",
       "  <tbody>\n",
       "    <tr>\n",
       "      <th>200</th>\n",
       "      <td>Lord Thibault</td>\n",
       "      <td>30</td>\n",
       "      <td>5</td>\n",
       "    </tr>\n",
       "    <tr>\n",
       "      <th>300</th>\n",
       "      <td>Alex</td>\n",
       "      <td>1</td>\n",
       "      <td>2</td>\n",
       "    </tr>\n",
       "  </tbody>\n",
       "</table>\n",
       "</div>"
      ],
      "text/plain": [
       "        first_name  number_of_cars  number_of_houses\n",
       "id                                                  \n",
       "200  Lord Thibault              30                 5\n",
       "300           Alex               1                 2"
      ]
     },
     "execution_count": 31,
     "metadata": {},
     "output_type": "execute_result"
    }
   ],
   "source": [
    "new_df = pd.DataFrame({'id':[200, 300], 'first_name':['Lord Thibault', 'Alex'], 'number_of_cars':[30, 1], 'number_of_houses':[5, 2]}).set_index('id')\n",
    "new_df"
   ]
  },
  {
   "cell_type": "markdown",
   "metadata": {
    "slideshow": {
     "slide_type": "fragment"
    }
   },
   "source": [
    "upsert (insert update) the new data and check what is in the table"
   ]
  },
  {
   "cell_type": "code",
   "execution_count": 32,
   "metadata": {
    "slideshow": {
     "slide_type": "fragment"
    }
   },
   "outputs": [
    {
     "name": "stderr",
     "output_type": "stream",
     "text": [
      "2021-02-24 19:11:57,401 | INFO     | pangres    | logger:log:48 - Added column pangres_test.number_of_houses (type: BIGINT) in table pangres_test (schema=\"None\")\n",
      "2021-02-24 19:11:57,403 | INFO     | pangres    | logger:log:37 - Reduced chunksize from 10000 to 249 due to SQlite max variable restriction (max 999).\n"
     ]
    },
    {
     "data": {
      "text/html": [
       "<div>\n",
       "<style scoped>\n",
       "    .dataframe tbody tr th:only-of-type {\n",
       "        vertical-align: middle;\n",
       "    }\n",
       "\n",
       "    .dataframe tbody tr th {\n",
       "        vertical-align: top;\n",
       "    }\n",
       "\n",
       "    .dataframe thead th {\n",
       "        text-align: right;\n",
       "    }\n",
       "</style>\n",
       "<table border=\"1\" class=\"dataframe\">\n",
       "  <thead>\n",
       "    <tr style=\"text-align: right;\">\n",
       "      <th></th>\n",
       "      <th>first_name</th>\n",
       "      <th>number_of_cars</th>\n",
       "      <th>number_of_houses</th>\n",
       "    </tr>\n",
       "    <tr>\n",
       "      <th>id</th>\n",
       "      <th></th>\n",
       "      <th></th>\n",
       "      <th></th>\n",
       "    </tr>\n",
       "  </thead>\n",
       "  <tbody>\n",
       "    <tr>\n",
       "      <th>100</th>\n",
       "      <td>John</td>\n",
       "      <td>2</td>\n",
       "      <td>&lt;NA&gt;</td>\n",
       "    </tr>\n",
       "    <tr>\n",
       "      <th>200</th>\n",
       "      <td>Lord Thibault</td>\n",
       "      <td>30</td>\n",
       "      <td>5</td>\n",
       "    </tr>\n",
       "    <tr>\n",
       "      <th>300</th>\n",
       "      <td>Alex</td>\n",
       "      <td>1</td>\n",
       "      <td>2</td>\n",
       "    </tr>\n",
       "  </tbody>\n",
       "</table>\n",
       "</div>"
      ],
      "text/plain": [
       "        first_name  number_of_cars  number_of_houses\n",
       "id                                                  \n",
       "100           John               2              <NA>\n",
       "200  Lord Thibault              30                 5\n",
       "300           Alex               1                 2"
      ]
     },
     "execution_count": 32,
     "metadata": {},
     "output_type": "execute_result"
    }
   ],
   "source": [
    "upsert(engine=engine, df=new_df, table_name='pangres_test', if_row_exists='update', add_new_columns=True)\n",
    "pd.read_sql('SELECT * FROM pangres_test;', con=engine, index_col='id').convert_dtypes()"
   ]
  },
  {
   "cell_type": "markdown",
   "metadata": {
    "slideshow": {
     "slide_type": "slide"
    }
   },
   "source": [
    "## 2.4. Pickles\n",
    "\n",
    "While you can use `joblib` to store a Python session on disk, I find pickles really interesting for simply exchanging a few DataFrames (amongst other things) between notebooks.\n",
    "\n",
    "For pickling other things than DataFrames see [this stackoverflow post](https://stackoverflow.com/a/11218504).\n",
    "\n",
    "![pickles](./imgs/pickle.png)"
   ]
  },
  {
   "cell_type": "code",
   "execution_count": 33,
   "metadata": {
    "slideshow": {
     "slide_type": "slide"
    }
   },
   "outputs": [
    {
     "data": {
      "text/html": [
       "<div>\n",
       "<style scoped>\n",
       "    .dataframe tbody tr th:only-of-type {\n",
       "        vertical-align: middle;\n",
       "    }\n",
       "\n",
       "    .dataframe tbody tr th {\n",
       "        vertical-align: top;\n",
       "    }\n",
       "\n",
       "    .dataframe thead th {\n",
       "        text-align: right;\n",
       "    }\n",
       "</style>\n",
       "<table border=\"1\" class=\"dataframe\">\n",
       "  <thead>\n",
       "    <tr style=\"text-align: right;\">\n",
       "      <th></th>\n",
       "      <th>first_name</th>\n",
       "      <th>last_website_visit</th>\n",
       "      <th>number_of_cars</th>\n",
       "      <th>is_subscribed_to_newsletter</th>\n",
       "      <th>zip_code</th>\n",
       "      <th>phone_number</th>\n",
       "    </tr>\n",
       "    <tr>\n",
       "      <th>id</th>\n",
       "      <th></th>\n",
       "      <th></th>\n",
       "      <th></th>\n",
       "      <th></th>\n",
       "      <th></th>\n",
       "      <th></th>\n",
       "    </tr>\n",
       "  </thead>\n",
       "  <tbody>\n",
       "    <tr>\n",
       "      <th>100</th>\n",
       "      <td>Alex</td>\n",
       "      <td>2020-01-01 10:01:02</td>\n",
       "      <td>0</td>\n",
       "      <td>False</td>\n",
       "      <td>01234</td>\n",
       "      <td>+999</td>\n",
       "    </tr>\n",
       "    <tr>\n",
       "      <th>200</th>\n",
       "      <td>John</td>\n",
       "      <td>2020-01-01 20:07:10</td>\n",
       "      <td>2</td>\n",
       "      <td>True</td>\n",
       "      <td>12345</td>\n",
       "      <td>+222</td>\n",
       "    </tr>\n",
       "  </tbody>\n",
       "</table>\n",
       "</div>"
      ],
      "text/plain": [
       "    first_name  last_website_visit  number_of_cars  \\\n",
       "id                                                   \n",
       "100       Alex 2020-01-01 10:01:02               0   \n",
       "200       John 2020-01-01 20:07:10               2   \n",
       "\n",
       "     is_subscribed_to_newsletter zip_code phone_number  \n",
       "id                                                      \n",
       "100                        False    01234         +999  \n",
       "200                         True    12345         +222  "
      ]
     },
     "execution_count": 33,
     "metadata": {},
     "output_type": "execute_result"
    }
   ],
   "source": [
    "df = pd.read_pickle('./data/df.pickle') # note: this will work on any kind of pickled object if you are lazy 🐒 (so not just DataFrames)\n",
    "df.to_pickle('./data/df.pickle')\n",
    "df"
   ]
  },
  {
   "cell_type": "markdown",
   "metadata": {
    "slideshow": {
     "slide_type": "slide"
    }
   },
   "source": [
    "## 2.5. HTML\n",
    "\n",
    "`pd.read_html` always returns a list of DataFrames: one DataFrame for each table that can be found on given website or HTML code\n",
    "\n",
    "Example: grab the german region codes (ISO 3166-2) from Wikipedia"
   ]
  },
  {
   "cell_type": "code",
   "execution_count": 34,
   "metadata": {
    "slideshow": {
     "slide_type": "fragment"
    }
   },
   "outputs": [
    {
     "data": {
      "text/html": [
       "<div>\n",
       "<style scoped>\n",
       "    .dataframe tbody tr th:only-of-type {\n",
       "        vertical-align: middle;\n",
       "    }\n",
       "\n",
       "    .dataframe tbody tr th {\n",
       "        vertical-align: top;\n",
       "    }\n",
       "\n",
       "    .dataframe thead th {\n",
       "        text-align: right;\n",
       "    }\n",
       "</style>\n",
       "<table border=\"1\" class=\"dataframe\">\n",
       "  <thead>\n",
       "    <tr style=\"text-align: right;\">\n",
       "      <th></th>\n",
       "      <th>Subdivision Name (de)</th>\n",
       "      <th>Subdivision Name (en)[note 1]</th>\n",
       "    </tr>\n",
       "    <tr>\n",
       "      <th>Code</th>\n",
       "      <th></th>\n",
       "      <th></th>\n",
       "    </tr>\n",
       "  </thead>\n",
       "  <tbody>\n",
       "    <tr>\n",
       "      <th>DE-BW</th>\n",
       "      <td>Baden-Württemberg</td>\n",
       "      <td>Baden-Württemberg</td>\n",
       "    </tr>\n",
       "    <tr>\n",
       "      <th>DE-BY</th>\n",
       "      <td>Bayern</td>\n",
       "      <td>Bavaria</td>\n",
       "    </tr>\n",
       "    <tr>\n",
       "      <th>DE-BE</th>\n",
       "      <td>Berlin</td>\n",
       "      <td>Berlin</td>\n",
       "    </tr>\n",
       "    <tr>\n",
       "      <th>DE-BB</th>\n",
       "      <td>Brandenburg</td>\n",
       "      <td>Brandenburg</td>\n",
       "    </tr>\n",
       "    <tr>\n",
       "      <th>DE-HB</th>\n",
       "      <td>Bremen</td>\n",
       "      <td>Bremen</td>\n",
       "    </tr>\n",
       "    <tr>\n",
       "      <th>DE-HH</th>\n",
       "      <td>Hamburg</td>\n",
       "      <td>Hamburg</td>\n",
       "    </tr>\n",
       "    <tr>\n",
       "      <th>DE-HE</th>\n",
       "      <td>Hessen</td>\n",
       "      <td>Hesse</td>\n",
       "    </tr>\n",
       "    <tr>\n",
       "      <th>DE-MV</th>\n",
       "      <td>Mecklenburg-Vorpommern</td>\n",
       "      <td>Mecklenburg-Western Pomerania</td>\n",
       "    </tr>\n",
       "    <tr>\n",
       "      <th>DE-NI</th>\n",
       "      <td>Niedersachsen</td>\n",
       "      <td>Lower Saxony</td>\n",
       "    </tr>\n",
       "    <tr>\n",
       "      <th>DE-NW</th>\n",
       "      <td>Nordrhein-Westfalen</td>\n",
       "      <td>North Rhine-Westphalia</td>\n",
       "    </tr>\n",
       "    <tr>\n",
       "      <th>DE-RP</th>\n",
       "      <td>Rheinland-Pfalz</td>\n",
       "      <td>Rhineland-Palatinate</td>\n",
       "    </tr>\n",
       "    <tr>\n",
       "      <th>DE-SL</th>\n",
       "      <td>Saarland</td>\n",
       "      <td>Saarland</td>\n",
       "    </tr>\n",
       "    <tr>\n",
       "      <th>DE-SN</th>\n",
       "      <td>Sachsen</td>\n",
       "      <td>Saxony</td>\n",
       "    </tr>\n",
       "    <tr>\n",
       "      <th>DE-ST</th>\n",
       "      <td>Sachsen-Anhalt</td>\n",
       "      <td>Saxony-Anhalt</td>\n",
       "    </tr>\n",
       "    <tr>\n",
       "      <th>DE-SH</th>\n",
       "      <td>Schleswig-Holstein</td>\n",
       "      <td>Schleswig-Holstein</td>\n",
       "    </tr>\n",
       "    <tr>\n",
       "      <th>DE-TH</th>\n",
       "      <td>Thüringen</td>\n",
       "      <td>Thuringia</td>\n",
       "    </tr>\n",
       "  </tbody>\n",
       "</table>\n",
       "</div>"
      ],
      "text/plain": [
       "        Subdivision Name (de)  Subdivision Name (en)[note 1]\n",
       "Code                                                        \n",
       "DE-BW       Baden-Württemberg              Baden-Württemberg\n",
       "DE-BY                  Bayern                        Bavaria\n",
       "DE-BE                  Berlin                         Berlin\n",
       "DE-BB             Brandenburg                    Brandenburg\n",
       "DE-HB                  Bremen                         Bremen\n",
       "DE-HH                 Hamburg                        Hamburg\n",
       "DE-HE                  Hessen                          Hesse\n",
       "DE-MV  Mecklenburg-Vorpommern  Mecklenburg-Western Pomerania\n",
       "DE-NI           Niedersachsen                   Lower Saxony\n",
       "DE-NW     Nordrhein-Westfalen         North Rhine-Westphalia\n",
       "DE-RP         Rheinland-Pfalz           Rhineland-Palatinate\n",
       "DE-SL                Saarland                       Saarland\n",
       "DE-SN                 Sachsen                         Saxony\n",
       "DE-ST          Sachsen-Anhalt                  Saxony-Anhalt\n",
       "DE-SH      Schleswig-Holstein             Schleswig-Holstein\n",
       "DE-TH               Thüringen                      Thuringia"
      ]
     },
     "execution_count": 34,
     "metadata": {},
     "output_type": "execute_result"
    }
   ],
   "source": [
    "dfs = pd.read_html('https://en.wikipedia.org/wiki/ISO_3166-2:DE')\n",
    "dfs[0].set_index('Code')"
   ]
  },
  {
   "cell_type": "markdown",
   "metadata": {
    "slideshow": {
     "slide_type": "slide"
    }
   },
   "source": [
    "## 2.6. Many more file types are handled by pandas\n",
    "\n",
    "JSON, stata, parquet, feather, HD5F... See [I/O page](https://pandas.pydata.org/pandas-docs/stable/reference/io.html) of the documentation."
   ]
  },
  {
   "cell_type": "markdown",
   "metadata": {
    "slideshow": {
     "slide_type": "slide"
    }
   },
   "source": [
    "## 2.7. Pro tip: `pd.json_normalize`\n",
    "\n",
    "The function `pd.json_normalize` allows you to quickly parse data from APIs that use JSON"
   ]
  },
  {
   "cell_type": "code",
   "execution_count": 35,
   "metadata": {
    "slideshow": {
     "slide_type": "fragment"
    }
   },
   "outputs": [
    {
     "data": {
      "text/plain": [
       "'[{\"status\":{\"verified\":true,\"sentCount\":1,\"feedback\":\"\"},\"type\":\"cat\",\"deleted\":false,\"_id\":\"5887e1d85c873e0011036889\",\"user\":\"5a9ac18c7478810ea6c06381\",\"text\":\"Cats make about 100 different sounds. Dogs make only about 10.\",\"__v\":0,\"source\":\"user\",\"updatedAt\":\"2020-09-03T16:39:39.578Z\",\"createdAt\":\"2018-01-15T21:20:00.003Z\",\"used\":true},{\"status\":{\"verified\":true,\"sentCount\":1},\"type\":\"cat\",\"deleted\":false,\"_id\":\"588e746706ac2b00110e59ff\",\"user\":\"588e6e8806ac2b00110e59c3\",\"text\":\"Domestic cats ...'"
      ]
     },
     "execution_count": 35,
     "metadata": {},
     "output_type": "execute_result"
    }
   ],
   "source": [
    "import requests, json\n",
    "# get facts on cats from a free public API\n",
    "response = requests.get('https://cat-fact.herokuapp.com/facts')\n",
    "json_data = response.text\n",
    "json_data[0:500] + '...' # let's just display a part of the JSON string"
   ]
  },
  {
   "cell_type": "code",
   "execution_count": 36,
   "metadata": {
    "slideshow": {
     "slide_type": "fragment"
    }
   },
   "outputs": [
    {
     "data": {
      "text/plain": [
       "{'status': {'verified': True, 'sentCount': 1, 'feedback': ''},\n",
       " 'type': 'cat',\n",
       " 'deleted': False,\n",
       " '_id': '5887e1d85c873e0011036889',\n",
       " 'user': '5a9ac18c7478810ea6c06381',\n",
       " 'text': 'Cats make about 100 different sounds. Dogs make only about 10.',\n",
       " '__v': 0,\n",
       " 'source': 'user',\n",
       " 'updatedAt': '2020-09-03T16:39:39.578Z',\n",
       " 'createdAt': '2018-01-15T21:20:00.003Z',\n",
       " 'used': True}"
      ]
     },
     "execution_count": 36,
     "metadata": {},
     "output_type": "execute_result"
    }
   ],
   "source": [
    "json_data_loaded = json.loads(json_data)\n",
    "json_data_loaded[0]"
   ]
  },
  {
   "cell_type": "markdown",
   "metadata": {
    "slideshow": {
     "slide_type": "slide"
    }
   },
   "source": [
    "Use `pd.json_normalize` on the data we just acquired and loaded as JSON\n",
    "\n",
    "There are very useful arguments in this function e.g. `record_path` to precise which json key holds the records.\n",
    "\n",
    "Notice the two coluns `status.verified` and `status.sentCount` which came from a structure like this:\n",
    "\n",
    "```python\n",
    "{'status': {'verified': True, 'sentCount': 1}}\n",
    "```\n",
    " \n",
    "The `.` shows the different nodes (you can modify the symbol with the argument `sep`)."
   ]
  },
  {
   "cell_type": "code",
   "execution_count": 37,
   "metadata": {
    "slideshow": {
     "slide_type": "fragment"
    }
   },
   "outputs": [
    {
     "data": {
      "text/html": [
       "<div>\n",
       "<style scoped>\n",
       "    .dataframe tbody tr th:only-of-type {\n",
       "        vertical-align: middle;\n",
       "    }\n",
       "\n",
       "    .dataframe tbody tr th {\n",
       "        vertical-align: top;\n",
       "    }\n",
       "\n",
       "    .dataframe thead th {\n",
       "        text-align: right;\n",
       "    }\n",
       "</style>\n",
       "<table border=\"1\" class=\"dataframe\">\n",
       "  <thead>\n",
       "    <tr style=\"text-align: right;\">\n",
       "      <th></th>\n",
       "      <th>type</th>\n",
       "      <th>deleted</th>\n",
       "      <th>_id</th>\n",
       "      <th>user</th>\n",
       "      <th>text</th>\n",
       "      <th>__v</th>\n",
       "      <th>source</th>\n",
       "      <th>updatedAt</th>\n",
       "      <th>createdAt</th>\n",
       "      <th>used</th>\n",
       "      <th>status.verified</th>\n",
       "      <th>status.sentCount</th>\n",
       "      <th>status.feedback</th>\n",
       "    </tr>\n",
       "  </thead>\n",
       "  <tbody>\n",
       "    <tr>\n",
       "      <th>0</th>\n",
       "      <td>cat</td>\n",
       "      <td>False</td>\n",
       "      <td>5887e1d85c873e0011036889</td>\n",
       "      <td>5a9ac18c7478810ea6c06381</td>\n",
       "      <td>Cats make about 100 different sounds. Dogs mak...</td>\n",
       "      <td>0</td>\n",
       "      <td>user</td>\n",
       "      <td>2020-09-03T16:39:39.578Z</td>\n",
       "      <td>2018-01-15T21:20:00.003Z</td>\n",
       "      <td>True</td>\n",
       "      <td>True</td>\n",
       "      <td>1</td>\n",
       "      <td></td>\n",
       "    </tr>\n",
       "    <tr>\n",
       "      <th>1</th>\n",
       "      <td>cat</td>\n",
       "      <td>False</td>\n",
       "      <td>588e746706ac2b00110e59ff</td>\n",
       "      <td>588e6e8806ac2b00110e59c3</td>\n",
       "      <td>Domestic cats spend about 70 percent of the da...</td>\n",
       "      <td>0</td>\n",
       "      <td>user</td>\n",
       "      <td>2020-08-26T20:20:02.359Z</td>\n",
       "      <td>2018-01-14T21:20:02.750Z</td>\n",
       "      <td>True</td>\n",
       "      <td>True</td>\n",
       "      <td>1</td>\n",
       "      <td>NaN</td>\n",
       "    </tr>\n",
       "  </tbody>\n",
       "</table>\n",
       "</div>"
      ],
      "text/plain": [
       "  type  deleted                       _id                      user  \\\n",
       "0  cat    False  5887e1d85c873e0011036889  5a9ac18c7478810ea6c06381   \n",
       "1  cat    False  588e746706ac2b00110e59ff  588e6e8806ac2b00110e59c3   \n",
       "\n",
       "                                                text  __v source  \\\n",
       "0  Cats make about 100 different sounds. Dogs mak...    0   user   \n",
       "1  Domestic cats spend about 70 percent of the da...    0   user   \n",
       "\n",
       "                  updatedAt                 createdAt  used  status.verified  \\\n",
       "0  2020-09-03T16:39:39.578Z  2018-01-15T21:20:00.003Z  True             True   \n",
       "1  2020-08-26T20:20:02.359Z  2018-01-14T21:20:02.750Z  True             True   \n",
       "\n",
       "   status.sentCount status.feedback  \n",
       "0                 1                  \n",
       "1                 1             NaN  "
      ]
     },
     "execution_count": 37,
     "metadata": {},
     "output_type": "execute_result"
    }
   ],
   "source": [
    "df = pd.json_normalize(json_data_loaded) # \n",
    "df.head(2) # display the first 2 rows (by default it is 5)"
   ]
  },
  {
   "cell_type": "markdown",
   "metadata": {
    "slideshow": {
     "slide_type": "slide"
    }
   },
   "source": [
    "Note: this is not the best example since we can also do it in one line 🙈. Well to be fair the **status** column is not split in 2 unlike previously! But you get the idea..."
   ]
  },
  {
   "cell_type": "code",
   "execution_count": 38,
   "metadata": {
    "slideshow": {
     "slide_type": "fragment"
    }
   },
   "outputs": [
    {
     "data": {
      "text/html": [
       "<div>\n",
       "<style scoped>\n",
       "    .dataframe tbody tr th:only-of-type {\n",
       "        vertical-align: middle;\n",
       "    }\n",
       "\n",
       "    .dataframe tbody tr th {\n",
       "        vertical-align: top;\n",
       "    }\n",
       "\n",
       "    .dataframe thead th {\n",
       "        text-align: right;\n",
       "    }\n",
       "</style>\n",
       "<table border=\"1\" class=\"dataframe\">\n",
       "  <thead>\n",
       "    <tr style=\"text-align: right;\">\n",
       "      <th></th>\n",
       "      <th>status</th>\n",
       "      <th>type</th>\n",
       "      <th>deleted</th>\n",
       "      <th>_id</th>\n",
       "      <th>user</th>\n",
       "      <th>text</th>\n",
       "      <th>__v</th>\n",
       "      <th>source</th>\n",
       "      <th>updatedAt</th>\n",
       "      <th>createdAt</th>\n",
       "      <th>used</th>\n",
       "    </tr>\n",
       "  </thead>\n",
       "  <tbody>\n",
       "    <tr>\n",
       "      <th>0</th>\n",
       "      <td>{'verified': True, 'sentCount': 1, 'feedback':...</td>\n",
       "      <td>cat</td>\n",
       "      <td>False</td>\n",
       "      <td>5887e1d85c873e0011036889</td>\n",
       "      <td>5a9ac18c7478810ea6c06381</td>\n",
       "      <td>Cats make about 100 different sounds. Dogs mak...</td>\n",
       "      <td>0</td>\n",
       "      <td>user</td>\n",
       "      <td>2020-09-03T16:39:39.578Z</td>\n",
       "      <td>2018-01-15T21:20:00.003Z</td>\n",
       "      <td>True</td>\n",
       "    </tr>\n",
       "    <tr>\n",
       "      <th>1</th>\n",
       "      <td>{'verified': True, 'sentCount': 1}</td>\n",
       "      <td>cat</td>\n",
       "      <td>False</td>\n",
       "      <td>588e746706ac2b00110e59ff</td>\n",
       "      <td>588e6e8806ac2b00110e59c3</td>\n",
       "      <td>Domestic cats spend about 70 percent of the da...</td>\n",
       "      <td>0</td>\n",
       "      <td>user</td>\n",
       "      <td>2020-08-26T20:20:02.359Z</td>\n",
       "      <td>2018-01-14T21:20:02.750Z</td>\n",
       "      <td>True</td>\n",
       "    </tr>\n",
       "    <tr>\n",
       "      <th>2</th>\n",
       "      <td>{'verified': True, 'sentCount': 1}</td>\n",
       "      <td>cat</td>\n",
       "      <td>False</td>\n",
       "      <td>58923f2fc3878c0011784c79</td>\n",
       "      <td>5887e9f65c873e001103688d</td>\n",
       "      <td>I don't know anything about cats.</td>\n",
       "      <td>0</td>\n",
       "      <td>user</td>\n",
       "      <td>2020-08-23T20:20:01.611Z</td>\n",
       "      <td>2018-02-25T21:20:03.060Z</td>\n",
       "      <td>False</td>\n",
       "    </tr>\n",
       "    <tr>\n",
       "      <th>3</th>\n",
       "      <td>{'verified': True, 'sentCount': 1}</td>\n",
       "      <td>cat</td>\n",
       "      <td>False</td>\n",
       "      <td>5894af975cdc7400113ef7f9</td>\n",
       "      <td>5a9ac18c7478810ea6c06381</td>\n",
       "      <td>The technical term for a cat’s hairball is a b...</td>\n",
       "      <td>0</td>\n",
       "      <td>user</td>\n",
       "      <td>2020-11-25T21:20:03.895Z</td>\n",
       "      <td>2018-02-27T21:20:02.854Z</td>\n",
       "      <td>True</td>\n",
       "    </tr>\n",
       "    <tr>\n",
       "      <th>4</th>\n",
       "      <td>{'verified': True, 'sentCount': 1}</td>\n",
       "      <td>cat</td>\n",
       "      <td>False</td>\n",
       "      <td>58e007cc0aac31001185ecf5</td>\n",
       "      <td>58e007480aac31001185ecef</td>\n",
       "      <td>Cats are the most popular pet in the United St...</td>\n",
       "      <td>0</td>\n",
       "      <td>user</td>\n",
       "      <td>2020-08-23T20:20:01.611Z</td>\n",
       "      <td>2018-03-01T21:20:02.713Z</td>\n",
       "      <td>False</td>\n",
       "    </tr>\n",
       "  </tbody>\n",
       "</table>\n",
       "</div>"
      ],
      "text/plain": [
       "                                              status type  deleted  \\\n",
       "0  {'verified': True, 'sentCount': 1, 'feedback':...  cat    False   \n",
       "1                 {'verified': True, 'sentCount': 1}  cat    False   \n",
       "2                 {'verified': True, 'sentCount': 1}  cat    False   \n",
       "3                 {'verified': True, 'sentCount': 1}  cat    False   \n",
       "4                 {'verified': True, 'sentCount': 1}  cat    False   \n",
       "\n",
       "                        _id                      user  \\\n",
       "0  5887e1d85c873e0011036889  5a9ac18c7478810ea6c06381   \n",
       "1  588e746706ac2b00110e59ff  588e6e8806ac2b00110e59c3   \n",
       "2  58923f2fc3878c0011784c79  5887e9f65c873e001103688d   \n",
       "3  5894af975cdc7400113ef7f9  5a9ac18c7478810ea6c06381   \n",
       "4  58e007cc0aac31001185ecf5  58e007480aac31001185ecef   \n",
       "\n",
       "                                                text  __v source  \\\n",
       "0  Cats make about 100 different sounds. Dogs mak...    0   user   \n",
       "1  Domestic cats spend about 70 percent of the da...    0   user   \n",
       "2                  I don't know anything about cats.    0   user   \n",
       "3  The technical term for a cat’s hairball is a b...    0   user   \n",
       "4  Cats are the most popular pet in the United St...    0   user   \n",
       "\n",
       "                  updatedAt                 createdAt   used  \n",
       "0  2020-09-03T16:39:39.578Z  2018-01-15T21:20:00.003Z   True  \n",
       "1  2020-08-26T20:20:02.359Z  2018-01-14T21:20:02.750Z   True  \n",
       "2  2020-08-23T20:20:01.611Z  2018-02-25T21:20:03.060Z  False  \n",
       "3  2020-11-25T21:20:03.895Z  2018-02-27T21:20:02.854Z   True  \n",
       "4  2020-08-23T20:20:01.611Z  2018-03-01T21:20:02.713Z  False  "
      ]
     },
     "execution_count": 38,
     "metadata": {},
     "output_type": "execute_result"
    }
   ],
   "source": [
    "df = pd.read_json('https://cat-fact.herokuapp.com/facts')\n",
    "df.head()"
   ]
  },
  {
   "cell_type": "markdown",
   "metadata": {
    "slideshow": {
     "slide_type": "slide"
    }
   },
   "source": [
    "# 3. Selecting rows/columns"
   ]
  },
  {
   "cell_type": "markdown",
   "metadata": {
    "slideshow": {
     "slide_type": "slide"
    }
   },
   "source": [
    "## Let's make an example DataFrame\n",
    "\n",
    "Yes the index is not alphabetically sorted, this is on purpose 🐒"
   ]
  },
  {
   "cell_type": "code",
   "execution_count": 39,
   "metadata": {
    "slideshow": {
     "slide_type": "fragment"
    }
   },
   "outputs": [
    {
     "data": {
      "text/html": [
       "<div>\n",
       "<style scoped>\n",
       "    .dataframe tbody tr th:only-of-type {\n",
       "        vertical-align: middle;\n",
       "    }\n",
       "\n",
       "    .dataframe tbody tr th {\n",
       "        vertical-align: top;\n",
       "    }\n",
       "\n",
       "    .dataframe thead th {\n",
       "        text-align: right;\n",
       "    }\n",
       "</style>\n",
       "<table border=\"1\" class=\"dataframe\">\n",
       "  <thead>\n",
       "    <tr style=\"text-align: right;\">\n",
       "      <th></th>\n",
       "      <th>first_name</th>\n",
       "      <th>number_of_cars</th>\n",
       "      <th>is_subscribed_to_newsletter</th>\n",
       "      <th>number_of_houses</th>\n",
       "    </tr>\n",
       "    <tr>\n",
       "      <th>id</th>\n",
       "      <th></th>\n",
       "      <th></th>\n",
       "      <th></th>\n",
       "      <th></th>\n",
       "    </tr>\n",
       "  </thead>\n",
       "  <tbody>\n",
       "    <tr>\n",
       "      <th>400</th>\n",
       "      <td>Alex</td>\n",
       "      <td>0</td>\n",
       "      <td>False</td>\n",
       "      <td>1</td>\n",
       "    </tr>\n",
       "    <tr>\n",
       "      <th>265</th>\n",
       "      <td>John</td>\n",
       "      <td>2</td>\n",
       "      <td>True</td>\n",
       "      <td>1</td>\n",
       "    </tr>\n",
       "    <tr>\n",
       "      <th>450</th>\n",
       "      <td>Thib</td>\n",
       "      <td>0</td>\n",
       "      <td>True</td>\n",
       "      <td>2</td>\n",
       "    </tr>\n",
       "    <tr>\n",
       "      <th>122</th>\n",
       "      <td>Arnold</td>\n",
       "      <td>2</td>\n",
       "      <td>True</td>\n",
       "      <td>1</td>\n",
       "    </tr>\n",
       "  </tbody>\n",
       "</table>\n",
       "</div>"
      ],
      "text/plain": [
       "    first_name  number_of_cars  is_subscribed_to_newsletter  number_of_houses\n",
       "id                                                                           \n",
       "400       Alex               0                        False                 1\n",
       "265       John               2                         True                 1\n",
       "450       Thib               0                         True                 2\n",
       "122     Arnold               2                         True                 1"
      ]
     },
     "execution_count": 39,
     "metadata": {},
     "output_type": "execute_result"
    }
   ],
   "source": [
    "records = [['Alex', 0, False, 1],\n",
    "           ['John', 2, True, 1],\n",
    "           ['Thib', 0, True, 2],\n",
    "           ['Arnold', 2, True, 1]]\n",
    "columns = ['first_name', 'number_of_cars', 'is_subscribed_to_newsletter', 'number_of_houses']\n",
    "index = pd.Index(data=(400, 265, 450, 122), name='id')\n",
    "\n",
    "df = pd.DataFrame(data=records, columns=columns, index=index)\n",
    "df"
   ]
  },
  {
   "cell_type": "markdown",
   "metadata": {
    "slideshow": {
     "slide_type": "slide"
    }
   },
   "source": [
    "## 3.1. `df.head()` and `df.tail()`"
   ]
  },
  {
   "cell_type": "markdown",
   "metadata": {},
   "source": [
    "head displays the first n rows of a DataFrame (by default 5)"
   ]
  },
  {
   "cell_type": "code",
   "execution_count": 40,
   "metadata": {
    "slideshow": {
     "slide_type": "fragment"
    }
   },
   "outputs": [
    {
     "data": {
      "text/html": [
       "<div>\n",
       "<style scoped>\n",
       "    .dataframe tbody tr th:only-of-type {\n",
       "        vertical-align: middle;\n",
       "    }\n",
       "\n",
       "    .dataframe tbody tr th {\n",
       "        vertical-align: top;\n",
       "    }\n",
       "\n",
       "    .dataframe thead th {\n",
       "        text-align: right;\n",
       "    }\n",
       "</style>\n",
       "<table border=\"1\" class=\"dataframe\">\n",
       "  <thead>\n",
       "    <tr style=\"text-align: right;\">\n",
       "      <th></th>\n",
       "      <th>first_name</th>\n",
       "      <th>number_of_cars</th>\n",
       "      <th>is_subscribed_to_newsletter</th>\n",
       "      <th>number_of_houses</th>\n",
       "    </tr>\n",
       "    <tr>\n",
       "      <th>id</th>\n",
       "      <th></th>\n",
       "      <th></th>\n",
       "      <th></th>\n",
       "      <th></th>\n",
       "    </tr>\n",
       "  </thead>\n",
       "  <tbody>\n",
       "    <tr>\n",
       "      <th>400</th>\n",
       "      <td>Alex</td>\n",
       "      <td>0</td>\n",
       "      <td>False</td>\n",
       "      <td>1</td>\n",
       "    </tr>\n",
       "    <tr>\n",
       "      <th>265</th>\n",
       "      <td>John</td>\n",
       "      <td>2</td>\n",
       "      <td>True</td>\n",
       "      <td>1</td>\n",
       "    </tr>\n",
       "  </tbody>\n",
       "</table>\n",
       "</div>"
      ],
      "text/plain": [
       "    first_name  number_of_cars  is_subscribed_to_newsletter  number_of_houses\n",
       "id                                                                           \n",
       "400       Alex               0                        False                 1\n",
       "265       John               2                         True                 1"
      ]
     },
     "execution_count": 40,
     "metadata": {},
     "output_type": "execute_result"
    }
   ],
   "source": [
    "df.head(2)"
   ]
  },
  {
   "cell_type": "markdown",
   "metadata": {},
   "source": [
    "tail displays the last n rows of a DataFrame (by default 5)"
   ]
  },
  {
   "cell_type": "code",
   "execution_count": 41,
   "metadata": {
    "slideshow": {
     "slide_type": "fragment"
    }
   },
   "outputs": [
    {
     "data": {
      "text/html": [
       "<div>\n",
       "<style scoped>\n",
       "    .dataframe tbody tr th:only-of-type {\n",
       "        vertical-align: middle;\n",
       "    }\n",
       "\n",
       "    .dataframe tbody tr th {\n",
       "        vertical-align: top;\n",
       "    }\n",
       "\n",
       "    .dataframe thead th {\n",
       "        text-align: right;\n",
       "    }\n",
       "</style>\n",
       "<table border=\"1\" class=\"dataframe\">\n",
       "  <thead>\n",
       "    <tr style=\"text-align: right;\">\n",
       "      <th></th>\n",
       "      <th>first_name</th>\n",
       "      <th>number_of_cars</th>\n",
       "      <th>is_subscribed_to_newsletter</th>\n",
       "      <th>number_of_houses</th>\n",
       "    </tr>\n",
       "    <tr>\n",
       "      <th>id</th>\n",
       "      <th></th>\n",
       "      <th></th>\n",
       "      <th></th>\n",
       "      <th></th>\n",
       "    </tr>\n",
       "  </thead>\n",
       "  <tbody>\n",
       "    <tr>\n",
       "      <th>450</th>\n",
       "      <td>Thib</td>\n",
       "      <td>0</td>\n",
       "      <td>True</td>\n",
       "      <td>2</td>\n",
       "    </tr>\n",
       "    <tr>\n",
       "      <th>122</th>\n",
       "      <td>Arnold</td>\n",
       "      <td>2</td>\n",
       "      <td>True</td>\n",
       "      <td>1</td>\n",
       "    </tr>\n",
       "  </tbody>\n",
       "</table>\n",
       "</div>"
      ],
      "text/plain": [
       "    first_name  number_of_cars  is_subscribed_to_newsletter  number_of_houses\n",
       "id                                                                           \n",
       "450       Thib               0                         True                 2\n",
       "122     Arnold               2                         True                 1"
      ]
     },
     "execution_count": 41,
     "metadata": {},
     "output_type": "execute_result"
    }
   ],
   "source": [
    "df.tail(2)"
   ]
  },
  {
   "cell_type": "markdown",
   "metadata": {
    "slideshow": {
     "slide_type": "slide"
    }
   },
   "source": [
    "## 3.2. simple column selection"
   ]
  },
  {
   "cell_type": "code",
   "execution_count": 42,
   "metadata": {
    "slideshow": {
     "slide_type": "fragment"
    }
   },
   "outputs": [
    {
     "data": {
      "text/plain": [
       "id\n",
       "400      Alex\n",
       "265      John\n",
       "450      Thib\n",
       "122    Arnold\n",
       "Name: first_name, dtype: object"
      ]
     },
     "execution_count": 42,
     "metadata": {},
     "output_type": "execute_result"
    }
   ],
   "source": [
    "df['first_name'] # I selected one label via a string -> returns a Series\n"
   ]
  },
  {
   "cell_type": "code",
   "execution_count": 43,
   "metadata": {
    "slideshow": {
     "slide_type": "fragment"
    }
   },
   "outputs": [
    {
     "data": {
      "text/html": [
       "<div>\n",
       "<style scoped>\n",
       "    .dataframe tbody tr th:only-of-type {\n",
       "        vertical-align: middle;\n",
       "    }\n",
       "\n",
       "    .dataframe tbody tr th {\n",
       "        vertical-align: top;\n",
       "    }\n",
       "\n",
       "    .dataframe thead th {\n",
       "        text-align: right;\n",
       "    }\n",
       "</style>\n",
       "<table border=\"1\" class=\"dataframe\">\n",
       "  <thead>\n",
       "    <tr style=\"text-align: right;\">\n",
       "      <th></th>\n",
       "      <th>first_name</th>\n",
       "      <th>number_of_cars</th>\n",
       "    </tr>\n",
       "    <tr>\n",
       "      <th>id</th>\n",
       "      <th></th>\n",
       "      <th></th>\n",
       "    </tr>\n",
       "  </thead>\n",
       "  <tbody>\n",
       "    <tr>\n",
       "      <th>400</th>\n",
       "      <td>Alex</td>\n",
       "      <td>0</td>\n",
       "    </tr>\n",
       "    <tr>\n",
       "      <th>265</th>\n",
       "      <td>John</td>\n",
       "      <td>2</td>\n",
       "    </tr>\n",
       "    <tr>\n",
       "      <th>450</th>\n",
       "      <td>Thib</td>\n",
       "      <td>0</td>\n",
       "    </tr>\n",
       "    <tr>\n",
       "      <th>122</th>\n",
       "      <td>Arnold</td>\n",
       "      <td>2</td>\n",
       "    </tr>\n",
       "  </tbody>\n",
       "</table>\n",
       "</div>"
      ],
      "text/plain": [
       "    first_name  number_of_cars\n",
       "id                            \n",
       "400       Alex               0\n",
       "265       John               2\n",
       "450       Thib               0\n",
       "122     Arnold               2"
      ]
     },
     "execution_count": 43,
     "metadata": {},
     "output_type": "execute_result"
    }
   ],
   "source": [
    "df[['first_name', 'number_of_cars']] # mutiple columns -> returns a DataFrame\n"
   ]
  },
  {
   "cell_type": "code",
   "execution_count": 44,
   "metadata": {
    "slideshow": {
     "slide_type": "fragment"
    }
   },
   "outputs": [
    {
     "data": {
      "text/html": [
       "<div>\n",
       "<style scoped>\n",
       "    .dataframe tbody tr th:only-of-type {\n",
       "        vertical-align: middle;\n",
       "    }\n",
       "\n",
       "    .dataframe tbody tr th {\n",
       "        vertical-align: top;\n",
       "    }\n",
       "\n",
       "    .dataframe thead th {\n",
       "        text-align: right;\n",
       "    }\n",
       "</style>\n",
       "<table border=\"1\" class=\"dataframe\">\n",
       "  <thead>\n",
       "    <tr style=\"text-align: right;\">\n",
       "      <th></th>\n",
       "      <th>first_name</th>\n",
       "    </tr>\n",
       "    <tr>\n",
       "      <th>id</th>\n",
       "      <th></th>\n",
       "    </tr>\n",
       "  </thead>\n",
       "  <tbody>\n",
       "    <tr>\n",
       "      <th>400</th>\n",
       "      <td>Alex</td>\n",
       "    </tr>\n",
       "    <tr>\n",
       "      <th>265</th>\n",
       "      <td>John</td>\n",
       "    </tr>\n",
       "    <tr>\n",
       "      <th>450</th>\n",
       "      <td>Thib</td>\n",
       "    </tr>\n",
       "    <tr>\n",
       "      <th>122</th>\n",
       "      <td>Arnold</td>\n",
       "    </tr>\n",
       "  </tbody>\n",
       "</table>\n",
       "</div>"
      ],
      "text/plain": [
       "    first_name\n",
       "id            \n",
       "400       Alex\n",
       "265       John\n",
       "450       Thib\n",
       "122     Arnold"
      ]
     },
     "execution_count": 44,
     "metadata": {},
     "output_type": "execute_result"
    }
   ],
   "source": [
    "df[['first_name']] # I selected one label but via a list -> also returns a DataFrame\n"
   ]
  },
  {
   "cell_type": "markdown",
   "metadata": {
    "slideshow": {
     "slide_type": "slide"
    }
   },
   "source": [
    "## 3.3. selection by labels (`df.loc`)\n",
    "\n",
    "This works by using `df.loc`. The basic syntax is `df.loc[rows (indices), columns]`"
   ]
  },
  {
   "cell_type": "code",
   "execution_count": 45,
   "metadata": {
    "slideshow": {
     "slide_type": "fragment"
    }
   },
   "outputs": [
    {
     "data": {
      "text/html": [
       "<div>\n",
       "<style scoped>\n",
       "    .dataframe tbody tr th:only-of-type {\n",
       "        vertical-align: middle;\n",
       "    }\n",
       "\n",
       "    .dataframe tbody tr th {\n",
       "        vertical-align: top;\n",
       "    }\n",
       "\n",
       "    .dataframe thead th {\n",
       "        text-align: right;\n",
       "    }\n",
       "</style>\n",
       "<table border=\"1\" class=\"dataframe\">\n",
       "  <thead>\n",
       "    <tr style=\"text-align: right;\">\n",
       "      <th></th>\n",
       "      <th>first_name</th>\n",
       "      <th>number_of_cars</th>\n",
       "    </tr>\n",
       "    <tr>\n",
       "      <th>id</th>\n",
       "      <th></th>\n",
       "      <th></th>\n",
       "    </tr>\n",
       "  </thead>\n",
       "  <tbody>\n",
       "    <tr>\n",
       "      <th>400</th>\n",
       "      <td>Alex</td>\n",
       "      <td>0</td>\n",
       "    </tr>\n",
       "    <tr>\n",
       "      <th>265</th>\n",
       "      <td>John</td>\n",
       "      <td>2</td>\n",
       "    </tr>\n",
       "  </tbody>\n",
       "</table>\n",
       "</div>"
      ],
      "text/plain": [
       "    first_name  number_of_cars\n",
       "id                            \n",
       "400       Alex               0\n",
       "265       John               2"
      ]
     },
     "execution_count": 45,
     "metadata": {},
     "output_type": "execute_result"
    }
   ],
   "source": [
    "indices = [400, 265]\n",
    "columns = ['first_name', 'number_of_cars']\n",
    "df.loc[indices, columns]"
   ]
  },
  {
   "cell_type": "markdown",
   "metadata": {
    "slideshow": {
     "slide_type": "slide"
    }
   },
   "source": [
    "slices are also allowed (they are somewhat similar to slices with lists)"
   ]
  },
  {
   "cell_type": "code",
   "execution_count": 46,
   "metadata": {
    "slideshow": {
     "slide_type": "fragment"
    }
   },
   "outputs": [
    {
     "data": {
      "text/html": [
       "<div>\n",
       "<style scoped>\n",
       "    .dataframe tbody tr th:only-of-type {\n",
       "        vertical-align: middle;\n",
       "    }\n",
       "\n",
       "    .dataframe tbody tr th {\n",
       "        vertical-align: top;\n",
       "    }\n",
       "\n",
       "    .dataframe thead th {\n",
       "        text-align: right;\n",
       "    }\n",
       "</style>\n",
       "<table border=\"1\" class=\"dataframe\">\n",
       "  <thead>\n",
       "    <tr style=\"text-align: right;\">\n",
       "      <th></th>\n",
       "      <th>first_name</th>\n",
       "      <th>number_of_cars</th>\n",
       "    </tr>\n",
       "    <tr>\n",
       "      <th>id</th>\n",
       "      <th></th>\n",
       "      <th></th>\n",
       "    </tr>\n",
       "  </thead>\n",
       "  <tbody>\n",
       "    <tr>\n",
       "      <th>400</th>\n",
       "      <td>Alex</td>\n",
       "      <td>0</td>\n",
       "    </tr>\n",
       "    <tr>\n",
       "      <th>265</th>\n",
       "      <td>John</td>\n",
       "      <td>2</td>\n",
       "    </tr>\n",
       "    <tr>\n",
       "      <th>450</th>\n",
       "      <td>Thib</td>\n",
       "      <td>0</td>\n",
       "    </tr>\n",
       "    <tr>\n",
       "      <th>122</th>\n",
       "      <td>Arnold</td>\n",
       "      <td>2</td>\n",
       "    </tr>\n",
       "  </tbody>\n",
       "</table>\n",
       "</div>"
      ],
      "text/plain": [
       "    first_name  number_of_cars\n",
       "id                            \n",
       "400       Alex               0\n",
       "265       John               2\n",
       "450       Thib               0\n",
       "122     Arnold               2"
      ]
     },
     "execution_count": 46,
     "metadata": {},
     "output_type": "execute_result"
    }
   ],
   "source": [
    "df.loc[:, ['first_name', 'number_of_cars']] # all rows and the columns \"first_name\" and \"number_of_cars\""
   ]
  },
  {
   "cell_type": "code",
   "execution_count": 47,
   "metadata": {
    "slideshow": {
     "slide_type": "fragment"
    }
   },
   "outputs": [
    {
     "data": {
      "text/html": [
       "<div>\n",
       "<style scoped>\n",
       "    .dataframe tbody tr th:only-of-type {\n",
       "        vertical-align: middle;\n",
       "    }\n",
       "\n",
       "    .dataframe tbody tr th {\n",
       "        vertical-align: top;\n",
       "    }\n",
       "\n",
       "    .dataframe thead th {\n",
       "        text-align: right;\n",
       "    }\n",
       "</style>\n",
       "<table border=\"1\" class=\"dataframe\">\n",
       "  <thead>\n",
       "    <tr style=\"text-align: right;\">\n",
       "      <th></th>\n",
       "      <th>first_name</th>\n",
       "      <th>number_of_cars</th>\n",
       "      <th>is_subscribed_to_newsletter</th>\n",
       "      <th>number_of_houses</th>\n",
       "    </tr>\n",
       "    <tr>\n",
       "      <th>id</th>\n",
       "      <th></th>\n",
       "      <th></th>\n",
       "      <th></th>\n",
       "      <th></th>\n",
       "    </tr>\n",
       "  </thead>\n",
       "  <tbody>\n",
       "    <tr>\n",
       "      <th>400</th>\n",
       "      <td>Alex</td>\n",
       "      <td>0</td>\n",
       "      <td>False</td>\n",
       "      <td>1</td>\n",
       "    </tr>\n",
       "    <tr>\n",
       "      <th>265</th>\n",
       "      <td>John</td>\n",
       "      <td>2</td>\n",
       "      <td>True</td>\n",
       "      <td>1</td>\n",
       "    </tr>\n",
       "    <tr>\n",
       "      <th>450</th>\n",
       "      <td>Thib</td>\n",
       "      <td>0</td>\n",
       "      <td>True</td>\n",
       "      <td>2</td>\n",
       "    </tr>\n",
       "  </tbody>\n",
       "</table>\n",
       "</div>"
      ],
      "text/plain": [
       "    first_name  number_of_cars  is_subscribed_to_newsletter  number_of_houses\n",
       "id                                                                           \n",
       "400       Alex               0                        False                 1\n",
       "265       John               2                         True                 1\n",
       "450       Thib               0                         True                 2"
      ]
     },
     "execution_count": 47,
     "metadata": {},
     "output_type": "execute_result"
    }
   ],
   "source": [
    "df.loc[400:450, :] # rows from label 400 to label 450"
   ]
  },
  {
   "cell_type": "code",
   "execution_count": 48,
   "metadata": {
    "slideshow": {
     "slide_type": "fragment"
    }
   },
   "outputs": [
    {
     "data": {
      "text/html": [
       "<div>\n",
       "<style scoped>\n",
       "    .dataframe tbody tr th:only-of-type {\n",
       "        vertical-align: middle;\n",
       "    }\n",
       "\n",
       "    .dataframe tbody tr th {\n",
       "        vertical-align: top;\n",
       "    }\n",
       "\n",
       "    .dataframe thead th {\n",
       "        text-align: right;\n",
       "    }\n",
       "</style>\n",
       "<table border=\"1\" class=\"dataframe\">\n",
       "  <thead>\n",
       "    <tr style=\"text-align: right;\">\n",
       "      <th></th>\n",
       "      <th>first_name</th>\n",
       "      <th>number_of_cars</th>\n",
       "      <th>is_subscribed_to_newsletter</th>\n",
       "    </tr>\n",
       "    <tr>\n",
       "      <th>id</th>\n",
       "      <th></th>\n",
       "      <th></th>\n",
       "      <th></th>\n",
       "    </tr>\n",
       "  </thead>\n",
       "  <tbody>\n",
       "    <tr>\n",
       "      <th>400</th>\n",
       "      <td>Alex</td>\n",
       "      <td>0</td>\n",
       "      <td>False</td>\n",
       "    </tr>\n",
       "    <tr>\n",
       "      <th>265</th>\n",
       "      <td>John</td>\n",
       "      <td>2</td>\n",
       "      <td>True</td>\n",
       "    </tr>\n",
       "    <tr>\n",
       "      <th>450</th>\n",
       "      <td>Thib</td>\n",
       "      <td>0</td>\n",
       "      <td>True</td>\n",
       "    </tr>\n",
       "    <tr>\n",
       "      <th>122</th>\n",
       "      <td>Arnold</td>\n",
       "      <td>2</td>\n",
       "      <td>True</td>\n",
       "    </tr>\n",
       "  </tbody>\n",
       "</table>\n",
       "</div>"
      ],
      "text/plain": [
       "    first_name  number_of_cars  is_subscribed_to_newsletter\n",
       "id                                                         \n",
       "400       Alex               0                        False\n",
       "265       John               2                         True\n",
       "450       Thib               0                         True\n",
       "122     Arnold               2                         True"
      ]
     },
     "execution_count": 48,
     "metadata": {},
     "output_type": "execute_result"
    }
   ],
   "source": [
    "df.loc[:, 'first_name':'is_subscribed_to_newsletter'] # columns from label \"first_name\" until label \"is_subscribed_to_newsletter\""
   ]
  },
  {
   "cell_type": "markdown",
   "metadata": {
    "slideshow": {
     "slide_type": "slide"
    }
   },
   "source": [
    "\n",
    "⚠️ if you select a single row label or a single column label a Series is returned"
   ]
  },
  {
   "cell_type": "code",
   "execution_count": 49,
   "metadata": {
    "slideshow": {
     "slide_type": "fragment"
    }
   },
   "outputs": [
    {
     "data": {
      "text/plain": [
       "first_name                      Alex\n",
       "number_of_cars                     0\n",
       "is_subscribed_to_newsletter    False\n",
       "number_of_houses                   1\n",
       "Name: 400, dtype: object"
      ]
     },
     "execution_count": 49,
     "metadata": {},
     "output_type": "execute_result"
    }
   ],
   "source": [
    "df.loc[400, :]"
   ]
  },
  {
   "cell_type": "code",
   "execution_count": 50,
   "metadata": {
    "slideshow": {
     "slide_type": "fragment"
    }
   },
   "outputs": [
    {
     "data": {
      "text/html": [
       "<div>\n",
       "<style scoped>\n",
       "    .dataframe tbody tr th:only-of-type {\n",
       "        vertical-align: middle;\n",
       "    }\n",
       "\n",
       "    .dataframe tbody tr th {\n",
       "        vertical-align: top;\n",
       "    }\n",
       "\n",
       "    .dataframe thead th {\n",
       "        text-align: right;\n",
       "    }\n",
       "</style>\n",
       "<table border=\"1\" class=\"dataframe\">\n",
       "  <thead>\n",
       "    <tr style=\"text-align: right;\">\n",
       "      <th></th>\n",
       "      <th>first_name</th>\n",
       "      <th>number_of_cars</th>\n",
       "      <th>is_subscribed_to_newsletter</th>\n",
       "      <th>number_of_houses</th>\n",
       "    </tr>\n",
       "    <tr>\n",
       "      <th>id</th>\n",
       "      <th></th>\n",
       "      <th></th>\n",
       "      <th></th>\n",
       "      <th></th>\n",
       "    </tr>\n",
       "  </thead>\n",
       "  <tbody>\n",
       "    <tr>\n",
       "      <th>400</th>\n",
       "      <td>Alex</td>\n",
       "      <td>0</td>\n",
       "      <td>False</td>\n",
       "      <td>1</td>\n",
       "    </tr>\n",
       "  </tbody>\n",
       "</table>\n",
       "</div>"
      ],
      "text/plain": [
       "    first_name  number_of_cars  is_subscribed_to_newsletter  number_of_houses\n",
       "id                                                                           \n",
       "400       Alex               0                        False                 1"
      ]
     },
     "execution_count": 50,
     "metadata": {},
     "output_type": "execute_result"
    }
   ],
   "source": [
    "df.loc[[400], :] # see how this returns a DataFrame even with a single row label just because I put a list"
   ]
  },
  {
   "cell_type": "code",
   "execution_count": 51,
   "metadata": {
    "slideshow": {
     "slide_type": "fragment"
    }
   },
   "outputs": [
    {
     "data": {
      "text/plain": [
       "id\n",
       "400      Alex\n",
       "265      John\n",
       "450      Thib\n",
       "122    Arnold\n",
       "Name: first_name, dtype: object"
      ]
     },
     "execution_count": 51,
     "metadata": {},
     "output_type": "execute_result"
    }
   ],
   "source": [
    "df.loc[:, 'first_name'] # same as df['first_name']"
   ]
  },
  {
   "cell_type": "markdown",
   "metadata": {
    "slideshow": {
     "slide_type": "slide"
    }
   },
   "source": [
    "🐍 and if you select a single row label AND a single column label you get the value of the cell back.\n",
    "\n",
    "Here we are effectively selecting a cell and getting the first name of the person with the id 400 (a string)"
   ]
  },
  {
   "cell_type": "code",
   "execution_count": 52,
   "metadata": {
    "slideshow": {
     "slide_type": "fragment"
    }
   },
   "outputs": [
    {
     "data": {
      "text/plain": [
       "'Alex'"
      ]
     },
     "execution_count": 52,
     "metadata": {},
     "output_type": "execute_result"
    }
   ],
   "source": [
    "df.loc[400, 'first_name']"
   ]
  },
  {
   "cell_type": "markdown",
   "metadata": {
    "slideshow": {
     "slide_type": "slide"
    }
   },
   "source": [
    "## 3.4. selection by position (`df.iloc`)"
   ]
  },
  {
   "cell_type": "code",
   "execution_count": 53,
   "metadata": {
    "slideshow": {
     "slide_type": "fragment"
    }
   },
   "outputs": [
    {
     "data": {
      "text/html": [
       "<div>\n",
       "<style scoped>\n",
       "    .dataframe tbody tr th:only-of-type {\n",
       "        vertical-align: middle;\n",
       "    }\n",
       "\n",
       "    .dataframe tbody tr th {\n",
       "        vertical-align: top;\n",
       "    }\n",
       "\n",
       "    .dataframe thead th {\n",
       "        text-align: right;\n",
       "    }\n",
       "</style>\n",
       "<table border=\"1\" class=\"dataframe\">\n",
       "  <thead>\n",
       "    <tr style=\"text-align: right;\">\n",
       "      <th></th>\n",
       "      <th>first_name</th>\n",
       "      <th>number_of_cars</th>\n",
       "    </tr>\n",
       "    <tr>\n",
       "      <th>id</th>\n",
       "      <th></th>\n",
       "      <th></th>\n",
       "    </tr>\n",
       "  </thead>\n",
       "  <tbody>\n",
       "    <tr>\n",
       "      <th>400</th>\n",
       "      <td>Alex</td>\n",
       "      <td>0</td>\n",
       "    </tr>\n",
       "    <tr>\n",
       "      <th>450</th>\n",
       "      <td>Thib</td>\n",
       "      <td>0</td>\n",
       "    </tr>\n",
       "  </tbody>\n",
       "</table>\n",
       "</div>"
      ],
      "text/plain": [
       "    first_name  number_of_cars\n",
       "id                            \n",
       "400       Alex               0\n",
       "450       Thib               0"
      ]
     },
     "execution_count": 53,
     "metadata": {},
     "output_type": "execute_result"
    }
   ],
   "source": [
    "index_positions = [0, 2]\n",
    "columns_positions = [0, 1]\n",
    "df.iloc[index_positions, columns_positions]"
   ]
  },
  {
   "cell_type": "markdown",
   "metadata": {
    "slideshow": {
     "slide_type": "slide"
    }
   },
   "source": [
    "you can also use slices here\n",
    "\n",
    "\n",
    "⚠️ similarly to the standard `range` function `0:2` means only first and second row (not the third one)!"
   ]
  },
  {
   "cell_type": "code",
   "execution_count": 54,
   "metadata": {
    "slideshow": {
     "slide_type": "fragment"
    }
   },
   "outputs": [
    {
     "data": {
      "text/plain": [
       "[0, 1, 2]"
      ]
     },
     "execution_count": 54,
     "metadata": {},
     "output_type": "execute_result"
    }
   ],
   "source": [
    "list(range(0, 3)) # this is in case you forgot how range works 🙈"
   ]
  },
  {
   "cell_type": "code",
   "execution_count": 55,
   "metadata": {
    "slideshow": {
     "slide_type": "fragment"
    }
   },
   "outputs": [
    {
     "data": {
      "text/html": [
       "<div>\n",
       "<style scoped>\n",
       "    .dataframe tbody tr th:only-of-type {\n",
       "        vertical-align: middle;\n",
       "    }\n",
       "\n",
       "    .dataframe tbody tr th {\n",
       "        vertical-align: top;\n",
       "    }\n",
       "\n",
       "    .dataframe thead th {\n",
       "        text-align: right;\n",
       "    }\n",
       "</style>\n",
       "<table border=\"1\" class=\"dataframe\">\n",
       "  <thead>\n",
       "    <tr style=\"text-align: right;\">\n",
       "      <th></th>\n",
       "      <th>first_name</th>\n",
       "      <th>number_of_cars</th>\n",
       "      <th>is_subscribed_to_newsletter</th>\n",
       "      <th>number_of_houses</th>\n",
       "    </tr>\n",
       "    <tr>\n",
       "      <th>id</th>\n",
       "      <th></th>\n",
       "      <th></th>\n",
       "      <th></th>\n",
       "      <th></th>\n",
       "    </tr>\n",
       "  </thead>\n",
       "  <tbody>\n",
       "    <tr>\n",
       "      <th>400</th>\n",
       "      <td>Alex</td>\n",
       "      <td>0</td>\n",
       "      <td>False</td>\n",
       "      <td>1</td>\n",
       "    </tr>\n",
       "    <tr>\n",
       "      <th>265</th>\n",
       "      <td>John</td>\n",
       "      <td>2</td>\n",
       "      <td>True</td>\n",
       "      <td>1</td>\n",
       "    </tr>\n",
       "    <tr>\n",
       "      <th>450</th>\n",
       "      <td>Thib</td>\n",
       "      <td>0</td>\n",
       "      <td>True</td>\n",
       "      <td>2</td>\n",
       "    </tr>\n",
       "  </tbody>\n",
       "</table>\n",
       "</div>"
      ],
      "text/plain": [
       "    first_name  number_of_cars  is_subscribed_to_newsletter  number_of_houses\n",
       "id                                                                           \n",
       "400       Alex               0                        False                 1\n",
       "265       John               2                         True                 1\n",
       "450       Thib               0                         True                 2"
      ]
     },
     "execution_count": 55,
     "metadata": {},
     "output_type": "execute_result"
    }
   ],
   "source": [
    "df.iloc[0:3, :] # rows 0 to 2 included, all columns"
   ]
  },
  {
   "cell_type": "code",
   "execution_count": 56,
   "metadata": {
    "slideshow": {
     "slide_type": "fragment"
    }
   },
   "outputs": [
    {
     "data": {
      "text/html": [
       "<div>\n",
       "<style scoped>\n",
       "    .dataframe tbody tr th:only-of-type {\n",
       "        vertical-align: middle;\n",
       "    }\n",
       "\n",
       "    .dataframe tbody tr th {\n",
       "        vertical-align: top;\n",
       "    }\n",
       "\n",
       "    .dataframe thead th {\n",
       "        text-align: right;\n",
       "    }\n",
       "</style>\n",
       "<table border=\"1\" class=\"dataframe\">\n",
       "  <thead>\n",
       "    <tr style=\"text-align: right;\">\n",
       "      <th></th>\n",
       "      <th>first_name</th>\n",
       "      <th>number_of_cars</th>\n",
       "      <th>is_subscribed_to_newsletter</th>\n",
       "    </tr>\n",
       "    <tr>\n",
       "      <th>id</th>\n",
       "      <th></th>\n",
       "      <th></th>\n",
       "      <th></th>\n",
       "    </tr>\n",
       "  </thead>\n",
       "  <tbody>\n",
       "    <tr>\n",
       "      <th>400</th>\n",
       "      <td>Alex</td>\n",
       "      <td>0</td>\n",
       "      <td>False</td>\n",
       "    </tr>\n",
       "    <tr>\n",
       "      <th>265</th>\n",
       "      <td>John</td>\n",
       "      <td>2</td>\n",
       "      <td>True</td>\n",
       "    </tr>\n",
       "    <tr>\n",
       "      <th>450</th>\n",
       "      <td>Thib</td>\n",
       "      <td>0</td>\n",
       "      <td>True</td>\n",
       "    </tr>\n",
       "    <tr>\n",
       "      <th>122</th>\n",
       "      <td>Arnold</td>\n",
       "      <td>2</td>\n",
       "      <td>True</td>\n",
       "    </tr>\n",
       "  </tbody>\n",
       "</table>\n",
       "</div>"
      ],
      "text/plain": [
       "    first_name  number_of_cars  is_subscribed_to_newsletter\n",
       "id                                                         \n",
       "400       Alex               0                        False\n",
       "265       John               2                         True\n",
       "450       Thib               0                         True\n",
       "122     Arnold               2                         True"
      ]
     },
     "execution_count": 56,
     "metadata": {},
     "output_type": "execute_result"
    }
   ],
   "source": [
    "df.iloc[:, 0:3] # all rows, columns 0 to 2 included"
   ]
  },
  {
   "cell_type": "markdown",
   "metadata": {
    "slideshow": {
     "slide_type": "slide"
    }
   },
   "source": [
    "## 3.5. selection by masks (`df.loc`)\n",
    "\n",
    "\n",
    "⚠️ Use `&` and not `and`!\n",
    "\n",
    "⚠️ Use `|` and not `or`!\n",
    "\n",
    "⚠️ Parentheses are important! We are doing comparisons array wise so make sure it is \"understandable by Python\". There is a WikiPedia article I saw a long time about this logic but I couldn't find it again sorry.\n",
    "\n",
    "**Bad example**\n",
    "\n",
    "```python\n",
    "df['money'] > 10000000 or df['first_name'] == 'Thibault'\n",
    "```\n",
    "\n",
    "**Good example**\n",
    "\n",
    "```python\n",
    "(df['money'] > 10000000) & (df['first_name'] == 'Thibault')\n",
    "```\n",
    "\n",
    "\n",
    "We'll talk about this weird syntax immediately after but mind the rules above!"
   ]
  },
  {
   "cell_type": "markdown",
   "metadata": {
    "slideshow": {
     "slide_type": "slide"
    }
   },
   "source": [
    "tell me for each index value if the number of cars is strictly higher than 0 (i.e. the person has a car)"
   ]
  },
  {
   "cell_type": "code",
   "execution_count": 57,
   "metadata": {
    "scrolled": true,
    "slideshow": {
     "slide_type": "fragment"
    }
   },
   "outputs": [
    {
     "data": {
      "text/plain": [
       "id\n",
       "400    False\n",
       "265     True\n",
       "450    False\n",
       "122     True\n",
       "Name: number_of_cars, dtype: bool"
      ]
     },
     "execution_count": 57,
     "metadata": {},
     "output_type": "execute_result"
    }
   ],
   "source": [
    "has_cars = df['number_of_cars'] > 0\n",
    "has_cars"
   ]
  },
  {
   "cell_type": "markdown",
   "metadata": {
    "slideshow": {
     "slide_type": "fragment"
    }
   },
   "source": [
    "tell me for each index value if is_subscribed_to_newsletter is True"
   ]
  },
  {
   "cell_type": "code",
   "execution_count": 58,
   "metadata": {
    "scrolled": true,
    "slideshow": {
     "slide_type": "fragment"
    }
   },
   "outputs": [
    {
     "data": {
      "text/plain": [
       "id\n",
       "400    False\n",
       "265     True\n",
       "450     True\n",
       "122     True\n",
       "Name: is_subscribed_to_newsletter, dtype: bool"
      ]
     },
     "execution_count": 58,
     "metadata": {},
     "output_type": "execute_result"
    }
   ],
   "source": [
    "is_subscribed = df['is_subscribed_to_newsletter'] == True\n",
    "is_subscribed"
   ]
  },
  {
   "cell_type": "markdown",
   "metadata": {
    "slideshow": {
     "slide_type": "fragment"
    }
   },
   "source": [
    "combine the two conditions in a single series"
   ]
  },
  {
   "cell_type": "code",
   "execution_count": 59,
   "metadata": {
    "slideshow": {
     "slide_type": "fragment"
    }
   },
   "outputs": [
    {
     "data": {
      "text/plain": [
       "id\n",
       "400    False\n",
       "265     True\n",
       "450    False\n",
       "122     True\n",
       "dtype: bool"
      ]
     },
     "execution_count": 59,
     "metadata": {},
     "output_type": "execute_result"
    }
   ],
   "source": [
    "# combine the two conditions in a single series\n",
    "# \"&\" NOT \"and\" (vector comparison, not element comparison)! Also, no need for parentheses here thanks to the use of variables.\n",
    "has_cars_and_is_subscribed = has_cars & is_subscribed\n",
    "has_cars_and_is_subscribed"
   ]
  },
  {
   "cell_type": "markdown",
   "metadata": {
    "slideshow": {
     "slide_type": "slide"
    }
   },
   "source": [
    "same thing as before in one statement"
   ]
  },
  {
   "cell_type": "code",
   "execution_count": 60,
   "metadata": {
    "slideshow": {
     "slide_type": "fragment"
    }
   },
   "outputs": [
    {
     "data": {
      "text/plain": [
       "id\n",
       "400    False\n",
       "265     True\n",
       "450    False\n",
       "122     True\n",
       "dtype: bool"
      ]
     },
     "execution_count": 60,
     "metadata": {},
     "output_type": "execute_result"
    }
   ],
   "source": [
    "# == True is superfluous for column \"is_subscribed_to_newsletter\"\n",
    "# as the label clearly indicates, it's boolean  \n",
    "has_cars_and_is_subscribed = (df['number_of_cars'] > 0) & (df['is_subscribed_to_newsletter']) \n",
    "has_cars_and_is_subscribed"
   ]
  },
  {
   "cell_type": "markdown",
   "metadata": {
    "slideshow": {
     "slide_type": "fragment"
    }
   },
   "source": [
    "get me the rows where the condition is True"
   ]
  },
  {
   "cell_type": "code",
   "execution_count": 61,
   "metadata": {
    "slideshow": {
     "slide_type": "fragment"
    }
   },
   "outputs": [
    {
     "data": {
      "text/html": [
       "<div>\n",
       "<style scoped>\n",
       "    .dataframe tbody tr th:only-of-type {\n",
       "        vertical-align: middle;\n",
       "    }\n",
       "\n",
       "    .dataframe tbody tr th {\n",
       "        vertical-align: top;\n",
       "    }\n",
       "\n",
       "    .dataframe thead th {\n",
       "        text-align: right;\n",
       "    }\n",
       "</style>\n",
       "<table border=\"1\" class=\"dataframe\">\n",
       "  <thead>\n",
       "    <tr style=\"text-align: right;\">\n",
       "      <th></th>\n",
       "      <th>first_name</th>\n",
       "      <th>number_of_cars</th>\n",
       "      <th>is_subscribed_to_newsletter</th>\n",
       "      <th>number_of_houses</th>\n",
       "    </tr>\n",
       "    <tr>\n",
       "      <th>id</th>\n",
       "      <th></th>\n",
       "      <th></th>\n",
       "      <th></th>\n",
       "      <th></th>\n",
       "    </tr>\n",
       "  </thead>\n",
       "  <tbody>\n",
       "    <tr>\n",
       "      <th>265</th>\n",
       "      <td>John</td>\n",
       "      <td>2</td>\n",
       "      <td>True</td>\n",
       "      <td>1</td>\n",
       "    </tr>\n",
       "    <tr>\n",
       "      <th>122</th>\n",
       "      <td>Arnold</td>\n",
       "      <td>2</td>\n",
       "      <td>True</td>\n",
       "      <td>1</td>\n",
       "    </tr>\n",
       "  </tbody>\n",
       "</table>\n",
       "</div>"
      ],
      "text/plain": [
       "    first_name  number_of_cars  is_subscribed_to_newsletter  number_of_houses\n",
       "id                                                                           \n",
       "265       John               2                         True                 1\n",
       "122     Arnold               2                         True                 1"
      ]
     },
     "execution_count": 61,
     "metadata": {},
     "output_type": "execute_result"
    }
   ],
   "source": [
    "df.loc[has_cars_and_is_subscribed, :] "
   ]
  },
  {
   "cell_type": "markdown",
   "metadata": {
    "slideshow": {
     "slide_type": "slide"
    }
   },
   "source": [
    "you can also use masks on columns but this is the kind of thing I rarely use ¯\\\\\\_(ツ)\\_/¯"
   ]
  },
  {
   "cell_type": "code",
   "execution_count": 62,
   "metadata": {
    "slideshow": {
     "slide_type": "fragment"
    }
   },
   "outputs": [
    {
     "name": "stdout",
     "output_type": "stream",
     "text": [
      "['first_name', 'number_of_cars', 'is_subscribed_to_newsletter', 'number_of_houses']\n",
      "[ True False False False]\n"
     ]
    },
    {
     "data": {
      "text/html": [
       "<div>\n",
       "<style scoped>\n",
       "    .dataframe tbody tr th:only-of-type {\n",
       "        vertical-align: middle;\n",
       "    }\n",
       "\n",
       "    .dataframe tbody tr th {\n",
       "        vertical-align: top;\n",
       "    }\n",
       "\n",
       "    .dataframe thead th {\n",
       "        text-align: right;\n",
       "    }\n",
       "</style>\n",
       "<table border=\"1\" class=\"dataframe\">\n",
       "  <thead>\n",
       "    <tr style=\"text-align: right;\">\n",
       "      <th></th>\n",
       "      <th>first_name</th>\n",
       "    </tr>\n",
       "    <tr>\n",
       "      <th>id</th>\n",
       "      <th></th>\n",
       "    </tr>\n",
       "  </thead>\n",
       "  <tbody>\n",
       "    <tr>\n",
       "      <th>400</th>\n",
       "      <td>Alex</td>\n",
       "    </tr>\n",
       "    <tr>\n",
       "      <th>265</th>\n",
       "      <td>John</td>\n",
       "    </tr>\n",
       "    <tr>\n",
       "      <th>450</th>\n",
       "      <td>Thib</td>\n",
       "    </tr>\n",
       "    <tr>\n",
       "      <th>122</th>\n",
       "      <td>Arnold</td>\n",
       "    </tr>\n",
       "  </tbody>\n",
       "</table>\n",
       "</div>"
      ],
      "text/plain": [
       "    first_name\n",
       "id            \n",
       "400       Alex\n",
       "265       John\n",
       "450       Thib\n",
       "122     Arnold"
      ]
     },
     "execution_count": 62,
     "metadata": {},
     "output_type": "execute_result"
    }
   ],
   "source": [
    "columns_mask = df.columns.str.contains('name') # we will see this \"str.contains\" \"thing\" later\n",
    "print(df.columns.tolist())\n",
    "print(columns_mask)\n",
    "df.loc[:, columns_mask]"
   ]
  },
  {
   "cell_type": "markdown",
   "metadata": {
    "slideshow": {
     "slide_type": "slide"
    }
   },
   "source": [
    "# 4. Basic math operations"
   ]
  },
  {
   "cell_type": "markdown",
   "metadata": {
    "slideshow": {
     "slide_type": "slide"
    }
   },
   "source": [
    "Let's create some DataFrame. Don't mind the cryptic code to create a random (but realistic) DataFrame of newsletter data it's not very important 🙈"
   ]
  },
  {
   "cell_type": "code",
   "execution_count": 63,
   "metadata": {
    "slideshow": {
     "slide_type": "fragment"
    }
   },
   "outputs": [
    {
     "data": {
      "text/html": [
       "<div>\n",
       "<style scoped>\n",
       "    .dataframe tbody tr th:only-of-type {\n",
       "        vertical-align: middle;\n",
       "    }\n",
       "\n",
       "    .dataframe tbody tr th {\n",
       "        vertical-align: top;\n",
       "    }\n",
       "\n",
       "    .dataframe thead th {\n",
       "        text-align: right;\n",
       "    }\n",
       "</style>\n",
       "<table border=\"1\" class=\"dataframe\">\n",
       "  <thead>\n",
       "    <tr style=\"text-align: right;\">\n",
       "      <th></th>\n",
       "      <th>recipients</th>\n",
       "      <th>impressions</th>\n",
       "      <th>clicks</th>\n",
       "      <th>soft_bounces</th>\n",
       "      <th>hard_bounces</th>\n",
       "      <th>unsubscribes</th>\n",
       "      <th>author</th>\n",
       "    </tr>\n",
       "    <tr>\n",
       "      <th>newsletter</th>\n",
       "      <th></th>\n",
       "      <th></th>\n",
       "      <th></th>\n",
       "      <th></th>\n",
       "      <th></th>\n",
       "      <th></th>\n",
       "      <th></th>\n",
       "    </tr>\n",
       "  </thead>\n",
       "  <tbody>\n",
       "    <tr>\n",
       "      <th>Cinema Newsletter 2021 #7552C8BF</th>\n",
       "      <td>1073</td>\n",
       "      <td>337</td>\n",
       "      <td>136</td>\n",
       "      <td>33</td>\n",
       "      <td>35</td>\n",
       "      <td>23</td>\n",
       "      <td>Daniel Z.</td>\n",
       "    </tr>\n",
       "    <tr>\n",
       "      <th>Cinema Newsletter 2021 #62F72997</th>\n",
       "      <td>575</td>\n",
       "      <td>182</td>\n",
       "      <td>52</td>\n",
       "      <td>19</td>\n",
       "      <td>17</td>\n",
       "      <td>8</td>\n",
       "      <td>John</td>\n",
       "    </tr>\n",
       "    <tr>\n",
       "      <th>Theater Newsletter 2021 #C6411A59</th>\n",
       "      <td>244</td>\n",
       "      <td>95</td>\n",
       "      <td>31</td>\n",
       "      <td>9</td>\n",
       "      <td>4</td>\n",
       "      <td>5</td>\n",
       "      <td>John</td>\n",
       "    </tr>\n",
       "    <tr>\n",
       "      <th>Cruise Newsletter 2021 #594B629A</th>\n",
       "      <td>151</td>\n",
       "      <td>40</td>\n",
       "      <td>10</td>\n",
       "      <td>7</td>\n",
       "      <td>3</td>\n",
       "      <td>2</td>\n",
       "      <td>Daniel Z.</td>\n",
       "    </tr>\n",
       "    <tr>\n",
       "      <th>Hotel Newsletter 2021 #A7B5E29A</th>\n",
       "      <td>211</td>\n",
       "      <td>85</td>\n",
       "      <td>42</td>\n",
       "      <td>8</td>\n",
       "      <td>5</td>\n",
       "      <td>4</td>\n",
       "      <td>John</td>\n",
       "    </tr>\n",
       "  </tbody>\n",
       "</table>\n",
       "</div>"
      ],
      "text/plain": [
       "                                   recipients  impressions  clicks  \\\n",
       "newsletter                                                           \n",
       "Cinema Newsletter 2021 #7552C8BF         1073          337     136   \n",
       "Cinema Newsletter 2021 #62F72997          575          182      52   \n",
       "Theater Newsletter 2021 #C6411A59         244           95      31   \n",
       "Cruise Newsletter 2021 #594B629A          151           40      10   \n",
       "Hotel Newsletter 2021 #A7B5E29A           211           85      42   \n",
       "\n",
       "                                   soft_bounces  hard_bounces  unsubscribes  \\\n",
       "newsletter                                                                    \n",
       "Cinema Newsletter 2021 #7552C8BF             33            35            23   \n",
       "Cinema Newsletter 2021 #62F72997             19            17             8   \n",
       "Theater Newsletter 2021 #C6411A59             9             4             5   \n",
       "Cruise Newsletter 2021 #594B629A              7             3             2   \n",
       "Hotel Newsletter 2021 #A7B5E29A               8             5             4   \n",
       "\n",
       "                                      author  \n",
       "newsletter                                    \n",
       "Cinema Newsletter 2021 #7552C8BF   Daniel Z.  \n",
       "Cinema Newsletter 2021 #62F72997        John  \n",
       "Theater Newsletter 2021 #C6411A59       John  \n",
       "Cruise Newsletter 2021 #594B629A   Daniel Z.  \n",
       "Hotel Newsletter 2021 #A7B5E29A         John  "
      ]
     },
     "execution_count": 63,
     "metadata": {},
     "output_type": "execute_result"
    }
   ],
   "source": [
    "import random, uuid, math\n",
    "\n",
    "size = 10\n",
    "index = np.random.choice(['Travel', 'Hotel', 'Restaurant', 'Cinema', 'Theater', 'Cruise'], size=size)\n",
    "index = pd.Index([f'{cat} Newsletter 2021 #{str(uuid.uuid4()).upper()[:8]}' for cat in index], name='newsletter')\n",
    "df = pd.DataFrame(index=index)\n",
    "df['recipients'] = np.random.randint(low=0, high=1500, size=size)\n",
    "df['impressions'] = df['recipients'].map(lambda v: v//random.uniform(2, 4))\n",
    "df['clicks'] = df['impressions'].map(lambda v: v//random.uniform(2, 4))\n",
    "df['soft_bounces'] = df['recipients'].map(lambda v: v//random.uniform(20, 50))\n",
    "df['hard_bounces'] = df['recipients'].map(lambda v: v//random.uniform(30, 60))\n",
    "df['unsubscribes'] = df['recipients'].map(lambda v: v//random.uniform(40, 70))\n",
    "df['author'] = np.random.choice(['John', 'Daniel Z.', 'Alex'], size=size)\n",
    "# turns out there is a bug with argmax with the new dtype \"Int64\" that we'll see later\n",
    "# so let's the old \"int\" instead \n",
    "df = df.astype({c:int for c in df.columns if c != 'author'})\n",
    "df.head()"
   ]
  },
  {
   "cell_type": "markdown",
   "metadata": {
    "slideshow": {
     "slide_type": "slide"
    }
   },
   "source": [
    "## 4.1. Vector to vector operations"
   ]
  },
  {
   "cell_type": "markdown",
   "metadata": {
    "slideshow": {
     "slide_type": "slide"
    }
   },
   "source": [
    "dividing"
   ]
  },
  {
   "cell_type": "code",
   "execution_count": 64,
   "metadata": {
    "slideshow": {
     "slide_type": "fragment"
    }
   },
   "outputs": [
    {
     "data": {
      "text/html": [
       "<div>\n",
       "<style scoped>\n",
       "    .dataframe tbody tr th:only-of-type {\n",
       "        vertical-align: middle;\n",
       "    }\n",
       "\n",
       "    .dataframe tbody tr th {\n",
       "        vertical-align: top;\n",
       "    }\n",
       "\n",
       "    .dataframe thead th {\n",
       "        text-align: right;\n",
       "    }\n",
       "</style>\n",
       "<table border=\"1\" class=\"dataframe\">\n",
       "  <thead>\n",
       "    <tr style=\"text-align: right;\">\n",
       "      <th></th>\n",
       "      <th>recipients</th>\n",
       "      <th>impressions</th>\n",
       "      <th>clicks</th>\n",
       "      <th>soft_bounces</th>\n",
       "      <th>hard_bounces</th>\n",
       "      <th>unsubscribes</th>\n",
       "      <th>author</th>\n",
       "      <th>clickrate</th>\n",
       "    </tr>\n",
       "    <tr>\n",
       "      <th>newsletter</th>\n",
       "      <th></th>\n",
       "      <th></th>\n",
       "      <th></th>\n",
       "      <th></th>\n",
       "      <th></th>\n",
       "      <th></th>\n",
       "      <th></th>\n",
       "      <th></th>\n",
       "    </tr>\n",
       "  </thead>\n",
       "  <tbody>\n",
       "    <tr>\n",
       "      <th>Cinema Newsletter 2021 #7552C8BF</th>\n",
       "      <td>1073</td>\n",
       "      <td>337</td>\n",
       "      <td>136</td>\n",
       "      <td>33</td>\n",
       "      <td>35</td>\n",
       "      <td>23</td>\n",
       "      <td>Daniel Z.</td>\n",
       "      <td>0.126747</td>\n",
       "    </tr>\n",
       "    <tr>\n",
       "      <th>Cinema Newsletter 2021 #62F72997</th>\n",
       "      <td>575</td>\n",
       "      <td>182</td>\n",
       "      <td>52</td>\n",
       "      <td>19</td>\n",
       "      <td>17</td>\n",
       "      <td>8</td>\n",
       "      <td>John</td>\n",
       "      <td>0.090435</td>\n",
       "    </tr>\n",
       "    <tr>\n",
       "      <th>Theater Newsletter 2021 #C6411A59</th>\n",
       "      <td>244</td>\n",
       "      <td>95</td>\n",
       "      <td>31</td>\n",
       "      <td>9</td>\n",
       "      <td>4</td>\n",
       "      <td>5</td>\n",
       "      <td>John</td>\n",
       "      <td>0.127049</td>\n",
       "    </tr>\n",
       "    <tr>\n",
       "      <th>Cruise Newsletter 2021 #594B629A</th>\n",
       "      <td>151</td>\n",
       "      <td>40</td>\n",
       "      <td>10</td>\n",
       "      <td>7</td>\n",
       "      <td>3</td>\n",
       "      <td>2</td>\n",
       "      <td>Daniel Z.</td>\n",
       "      <td>0.066225</td>\n",
       "    </tr>\n",
       "    <tr>\n",
       "      <th>Hotel Newsletter 2021 #A7B5E29A</th>\n",
       "      <td>211</td>\n",
       "      <td>85</td>\n",
       "      <td>42</td>\n",
       "      <td>8</td>\n",
       "      <td>5</td>\n",
       "      <td>4</td>\n",
       "      <td>John</td>\n",
       "      <td>0.199052</td>\n",
       "    </tr>\n",
       "  </tbody>\n",
       "</table>\n",
       "</div>"
      ],
      "text/plain": [
       "                                   recipients  impressions  clicks  \\\n",
       "newsletter                                                           \n",
       "Cinema Newsletter 2021 #7552C8BF         1073          337     136   \n",
       "Cinema Newsletter 2021 #62F72997          575          182      52   \n",
       "Theater Newsletter 2021 #C6411A59         244           95      31   \n",
       "Cruise Newsletter 2021 #594B629A          151           40      10   \n",
       "Hotel Newsletter 2021 #A7B5E29A           211           85      42   \n",
       "\n",
       "                                   soft_bounces  hard_bounces  unsubscribes  \\\n",
       "newsletter                                                                    \n",
       "Cinema Newsletter 2021 #7552C8BF             33            35            23   \n",
       "Cinema Newsletter 2021 #62F72997             19            17             8   \n",
       "Theater Newsletter 2021 #C6411A59             9             4             5   \n",
       "Cruise Newsletter 2021 #594B629A              7             3             2   \n",
       "Hotel Newsletter 2021 #A7B5E29A               8             5             4   \n",
       "\n",
       "                                      author  clickrate  \n",
       "newsletter                                               \n",
       "Cinema Newsletter 2021 #7552C8BF   Daniel Z.   0.126747  \n",
       "Cinema Newsletter 2021 #62F72997        John   0.090435  \n",
       "Theater Newsletter 2021 #C6411A59       John   0.127049  \n",
       "Cruise Newsletter 2021 #594B629A   Daniel Z.   0.066225  \n",
       "Hotel Newsletter 2021 #A7B5E29A         John   0.199052  "
      ]
     },
     "execution_count": 64,
     "metadata": {},
     "output_type": "execute_result"
    }
   ],
   "source": [
    "# this creates a new column \"clickrate\" equals to clicks/recipients\n",
    "df['clickrate'] = df['clicks'] / df['recipients']\n",
    "df.head()"
   ]
  },
  {
   "cell_type": "markdown",
   "metadata": {
    "slideshow": {
     "slide_type": "slide"
    }
   },
   "source": [
    "addition"
   ]
  },
  {
   "cell_type": "code",
   "execution_count": 65,
   "metadata": {
    "slideshow": {
     "slide_type": "fragment"
    }
   },
   "outputs": [
    {
     "data": {
      "text/html": [
       "<div>\n",
       "<style scoped>\n",
       "    .dataframe tbody tr th:only-of-type {\n",
       "        vertical-align: middle;\n",
       "    }\n",
       "\n",
       "    .dataframe tbody tr th {\n",
       "        vertical-align: top;\n",
       "    }\n",
       "\n",
       "    .dataframe thead th {\n",
       "        text-align: right;\n",
       "    }\n",
       "</style>\n",
       "<table border=\"1\" class=\"dataframe\">\n",
       "  <thead>\n",
       "    <tr style=\"text-align: right;\">\n",
       "      <th></th>\n",
       "      <th>recipients</th>\n",
       "      <th>impressions</th>\n",
       "      <th>clicks</th>\n",
       "      <th>soft_bounces</th>\n",
       "      <th>hard_bounces</th>\n",
       "      <th>unsubscribes</th>\n",
       "      <th>author</th>\n",
       "      <th>clickrate</th>\n",
       "      <th>addressees</th>\n",
       "    </tr>\n",
       "    <tr>\n",
       "      <th>newsletter</th>\n",
       "      <th></th>\n",
       "      <th></th>\n",
       "      <th></th>\n",
       "      <th></th>\n",
       "      <th></th>\n",
       "      <th></th>\n",
       "      <th></th>\n",
       "      <th></th>\n",
       "      <th></th>\n",
       "    </tr>\n",
       "  </thead>\n",
       "  <tbody>\n",
       "    <tr>\n",
       "      <th>Cinema Newsletter 2021 #7552C8BF</th>\n",
       "      <td>1073</td>\n",
       "      <td>337</td>\n",
       "      <td>136</td>\n",
       "      <td>33</td>\n",
       "      <td>35</td>\n",
       "      <td>23</td>\n",
       "      <td>Daniel Z.</td>\n",
       "      <td>0.126747</td>\n",
       "      <td>1141</td>\n",
       "    </tr>\n",
       "    <tr>\n",
       "      <th>Cinema Newsletter 2021 #62F72997</th>\n",
       "      <td>575</td>\n",
       "      <td>182</td>\n",
       "      <td>52</td>\n",
       "      <td>19</td>\n",
       "      <td>17</td>\n",
       "      <td>8</td>\n",
       "      <td>John</td>\n",
       "      <td>0.090435</td>\n",
       "      <td>611</td>\n",
       "    </tr>\n",
       "    <tr>\n",
       "      <th>Theater Newsletter 2021 #C6411A59</th>\n",
       "      <td>244</td>\n",
       "      <td>95</td>\n",
       "      <td>31</td>\n",
       "      <td>9</td>\n",
       "      <td>4</td>\n",
       "      <td>5</td>\n",
       "      <td>John</td>\n",
       "      <td>0.127049</td>\n",
       "      <td>257</td>\n",
       "    </tr>\n",
       "    <tr>\n",
       "      <th>Cruise Newsletter 2021 #594B629A</th>\n",
       "      <td>151</td>\n",
       "      <td>40</td>\n",
       "      <td>10</td>\n",
       "      <td>7</td>\n",
       "      <td>3</td>\n",
       "      <td>2</td>\n",
       "      <td>Daniel Z.</td>\n",
       "      <td>0.066225</td>\n",
       "      <td>161</td>\n",
       "    </tr>\n",
       "    <tr>\n",
       "      <th>Hotel Newsletter 2021 #A7B5E29A</th>\n",
       "      <td>211</td>\n",
       "      <td>85</td>\n",
       "      <td>42</td>\n",
       "      <td>8</td>\n",
       "      <td>5</td>\n",
       "      <td>4</td>\n",
       "      <td>John</td>\n",
       "      <td>0.199052</td>\n",
       "      <td>224</td>\n",
       "    </tr>\n",
       "  </tbody>\n",
       "</table>\n",
       "</div>"
      ],
      "text/plain": [
       "                                   recipients  impressions  clicks  \\\n",
       "newsletter                                                           \n",
       "Cinema Newsletter 2021 #7552C8BF         1073          337     136   \n",
       "Cinema Newsletter 2021 #62F72997          575          182      52   \n",
       "Theater Newsletter 2021 #C6411A59         244           95      31   \n",
       "Cruise Newsletter 2021 #594B629A          151           40      10   \n",
       "Hotel Newsletter 2021 #A7B5E29A           211           85      42   \n",
       "\n",
       "                                   soft_bounces  hard_bounces  unsubscribes  \\\n",
       "newsletter                                                                    \n",
       "Cinema Newsletter 2021 #7552C8BF             33            35            23   \n",
       "Cinema Newsletter 2021 #62F72997             19            17             8   \n",
       "Theater Newsletter 2021 #C6411A59             9             4             5   \n",
       "Cruise Newsletter 2021 #594B629A              7             3             2   \n",
       "Hotel Newsletter 2021 #A7B5E29A               8             5             4   \n",
       "\n",
       "                                      author  clickrate  addressees  \n",
       "newsletter                                                           \n",
       "Cinema Newsletter 2021 #7552C8BF   Daniel Z.   0.126747        1141  \n",
       "Cinema Newsletter 2021 #62F72997        John   0.090435         611  \n",
       "Theater Newsletter 2021 #C6411A59       John   0.127049         257  \n",
       "Cruise Newsletter 2021 #594B629A   Daniel Z.   0.066225         161  \n",
       "Hotel Newsletter 2021 #A7B5E29A         John   0.199052         224  "
      ]
     },
     "execution_count": 65,
     "metadata": {},
     "output_type": "execute_result"
    }
   ],
   "source": [
    "# addressees are all the people the newsletter was addressed to, no matter if delivery succeeded\n",
    "df['addressees'] = df['recipients'] + df['soft_bounces'] + df['hard_bounces']\n",
    "df.head()"
   ]
  },
  {
   "cell_type": "markdown",
   "metadata": {
    "slideshow": {
     "slide_type": "fragment"
    }
   },
   "source": [
    "you can also use multiplication, substraction, modulo, remainder etc. but I think you get the point"
   ]
  },
  {
   "cell_type": "markdown",
   "metadata": {
    "slideshow": {
     "slide_type": "slide"
    }
   },
   "source": [
    "## 4.2. Vector and scalar (single value)"
   ]
  },
  {
   "cell_type": "markdown",
   "metadata": {
    "slideshow": {
     "slide_type": "slide"
    }
   },
   "source": [
    "multiply clicks by 1.5 to boost our values 🐒"
   ]
  },
  {
   "cell_type": "code",
   "execution_count": 66,
   "metadata": {
    "slideshow": {
     "slide_type": "fragment"
    }
   },
   "outputs": [
    {
     "data": {
      "text/plain": [
       "newsletter\n",
       "Cinema Newsletter 2021 #7552C8BF        204.0\n",
       "Cinema Newsletter 2021 #62F72997         78.0\n",
       "Theater Newsletter 2021 #C6411A59        46.5\n",
       "Cruise Newsletter 2021 #594B629A         15.0\n",
       "Hotel Newsletter 2021 #A7B5E29A          63.0\n",
       "Restaurant Newsletter 2021 #34343E16    225.0\n",
       "Cinema Newsletter 2021 #85564A80        118.5\n",
       "Travel Newsletter 2021 #1C807732        145.5\n",
       "Hotel Newsletter 2021 #894D578D         147.0\n",
       "Cinema Newsletter 2021 #84B4F19D        124.5\n",
       "Name: clicks, dtype: float64"
      ]
     },
     "execution_count": 66,
     "metadata": {},
     "output_type": "execute_result"
    }
   ],
   "source": [
    "df['clicks'] * 1.5"
   ]
  },
  {
   "cell_type": "markdown",
   "metadata": {
    "slideshow": {
     "slide_type": "slide"
    }
   },
   "source": [
    "while we're at boost the recipients AND the impressions too 🐒 (everything is multiplied by 1.5)"
   ]
  },
  {
   "cell_type": "code",
   "execution_count": 67,
   "metadata": {
    "slideshow": {
     "slide_type": "fragment"
    }
   },
   "outputs": [
    {
     "data": {
      "text/html": [
       "<div>\n",
       "<style scoped>\n",
       "    .dataframe tbody tr th:only-of-type {\n",
       "        vertical-align: middle;\n",
       "    }\n",
       "\n",
       "    .dataframe tbody tr th {\n",
       "        vertical-align: top;\n",
       "    }\n",
       "\n",
       "    .dataframe thead th {\n",
       "        text-align: right;\n",
       "    }\n",
       "</style>\n",
       "<table border=\"1\" class=\"dataframe\">\n",
       "  <thead>\n",
       "    <tr style=\"text-align: right;\">\n",
       "      <th></th>\n",
       "      <th>recipients</th>\n",
       "      <th>impressions</th>\n",
       "    </tr>\n",
       "    <tr>\n",
       "      <th>newsletter</th>\n",
       "      <th></th>\n",
       "      <th></th>\n",
       "    </tr>\n",
       "  </thead>\n",
       "  <tbody>\n",
       "    <tr>\n",
       "      <th>Cinema Newsletter 2021 #7552C8BF</th>\n",
       "      <td>1609.5</td>\n",
       "      <td>505.5</td>\n",
       "    </tr>\n",
       "    <tr>\n",
       "      <th>Cinema Newsletter 2021 #62F72997</th>\n",
       "      <td>862.5</td>\n",
       "      <td>273.0</td>\n",
       "    </tr>\n",
       "    <tr>\n",
       "      <th>Theater Newsletter 2021 #C6411A59</th>\n",
       "      <td>366.0</td>\n",
       "      <td>142.5</td>\n",
       "    </tr>\n",
       "    <tr>\n",
       "      <th>Cruise Newsletter 2021 #594B629A</th>\n",
       "      <td>226.5</td>\n",
       "      <td>60.0</td>\n",
       "    </tr>\n",
       "    <tr>\n",
       "      <th>Hotel Newsletter 2021 #A7B5E29A</th>\n",
       "      <td>316.5</td>\n",
       "      <td>127.5</td>\n",
       "    </tr>\n",
       "    <tr>\n",
       "      <th>Restaurant Newsletter 2021 #34343E16</th>\n",
       "      <td>1437.0</td>\n",
       "      <td>586.5</td>\n",
       "    </tr>\n",
       "    <tr>\n",
       "      <th>Cinema Newsletter 2021 #85564A80</th>\n",
       "      <td>1366.5</td>\n",
       "      <td>459.0</td>\n",
       "    </tr>\n",
       "    <tr>\n",
       "      <th>Travel Newsletter 2021 #1C807732</th>\n",
       "      <td>1848.0</td>\n",
       "      <td>540.0</td>\n",
       "    </tr>\n",
       "    <tr>\n",
       "      <th>Hotel Newsletter 2021 #894D578D</th>\n",
       "      <td>1623.0</td>\n",
       "      <td>475.5</td>\n",
       "    </tr>\n",
       "    <tr>\n",
       "      <th>Cinema Newsletter 2021 #84B4F19D</th>\n",
       "      <td>1018.5</td>\n",
       "      <td>463.5</td>\n",
       "    </tr>\n",
       "  </tbody>\n",
       "</table>\n",
       "</div>"
      ],
      "text/plain": [
       "                                      recipients  impressions\n",
       "newsletter                                                   \n",
       "Cinema Newsletter 2021 #7552C8BF          1609.5        505.5\n",
       "Cinema Newsletter 2021 #62F72997           862.5        273.0\n",
       "Theater Newsletter 2021 #C6411A59          366.0        142.5\n",
       "Cruise Newsletter 2021 #594B629A           226.5         60.0\n",
       "Hotel Newsletter 2021 #A7B5E29A            316.5        127.5\n",
       "Restaurant Newsletter 2021 #34343E16      1437.0        586.5\n",
       "Cinema Newsletter 2021 #85564A80          1366.5        459.0\n",
       "Travel Newsletter 2021 #1C807732          1848.0        540.0\n",
       "Hotel Newsletter 2021 #894D578D           1623.0        475.5\n",
       "Cinema Newsletter 2021 #84B4F19D          1018.5        463.5"
      ]
     },
     "execution_count": 67,
     "metadata": {},
     "output_type": "execute_result"
    }
   ],
   "source": [
    "df[['recipients', 'impressions']] * 1.5"
   ]
  },
  {
   "cell_type": "markdown",
   "metadata": {
    "slideshow": {
     "slide_type": "slide"
    }
   },
   "source": [
    "## 4.3. Calculating sum, average, min, etc."
   ]
  },
  {
   "cell_type": "markdown",
   "metadata": {
    "slideshow": {
     "slide_type": "fragment"
    }
   },
   "source": [
    "sum of the values of all rows for given column"
   ]
  },
  {
   "cell_type": "code",
   "execution_count": 68,
   "metadata": {
    "slideshow": {
     "slide_type": "fragment"
    }
   },
   "outputs": [
    {
     "data": {
      "text/plain": [
       "778"
      ]
     },
     "execution_count": 68,
     "metadata": {},
     "output_type": "execute_result"
    }
   ],
   "source": [
    "df['clicks'].sum()"
   ]
  },
  {
   "cell_type": "markdown",
   "metadata": {
    "slideshow": {
     "slide_type": "fragment"
    }
   },
   "source": [
    "simple conditional sum"
   ]
  },
  {
   "cell_type": "code",
   "execution_count": 69,
   "metadata": {
    "slideshow": {
     "slide_type": "fragment"
    }
   },
   "outputs": [
    {
     "data": {
      "text/plain": [
       "275"
      ]
     },
     "execution_count": 69,
     "metadata": {},
     "output_type": "execute_result"
    }
   ],
   "source": [
    "df.loc[df['author'] == 'John', 'clicks'].sum() # sum of clicks for all newsletter authored by John"
   ]
  },
  {
   "cell_type": "markdown",
   "metadata": {
    "slideshow": {
     "slide_type": "slide"
    }
   },
   "source": [
    "average of clicks across all newsletter"
   ]
  },
  {
   "cell_type": "code",
   "execution_count": 70,
   "metadata": {
    "slideshow": {
     "slide_type": "fragment"
    }
   },
   "outputs": [
    {
     "data": {
      "text/plain": [
       "77.8"
      ]
     },
     "execution_count": 70,
     "metadata": {},
     "output_type": "execute_result"
    }
   ],
   "source": [
    "df['clicks'].mean()"
   ]
  },
  {
   "cell_type": "markdown",
   "metadata": {
    "slideshow": {
     "slide_type": "slide"
    }
   },
   "source": [
    "min clicks (so the worst value)"
   ]
  },
  {
   "cell_type": "code",
   "execution_count": 71,
   "metadata": {
    "slideshow": {
     "slide_type": "fragment"
    }
   },
   "outputs": [
    {
     "data": {
      "text/plain": [
       "10"
      ]
     },
     "execution_count": 71,
     "metadata": {},
     "output_type": "execute_result"
    }
   ],
   "source": [
    "df['clicks'].min()"
   ]
  },
  {
   "cell_type": "markdown",
   "metadata": {
    "slideshow": {
     "slide_type": "fragment"
    }
   },
   "source": [
    "max clicks (so the best value)"
   ]
  },
  {
   "cell_type": "code",
   "execution_count": 72,
   "metadata": {
    "slideshow": {
     "slide_type": "fragment"
    }
   },
   "outputs": [
    {
     "data": {
      "text/plain": [
       "150"
      ]
     },
     "execution_count": 72,
     "metadata": {},
     "output_type": "execute_result"
    }
   ],
   "source": [
    "df['clicks'].max()"
   ]
  },
  {
   "cell_type": "markdown",
   "metadata": {
    "slideshow": {
     "slide_type": "slide"
    }
   },
   "source": [
    "show me the best newsletter in term of clicks"
   ]
  },
  {
   "cell_type": "code",
   "execution_count": 73,
   "metadata": {
    "scrolled": true,
    "slideshow": {
     "slide_type": "fragment"
    }
   },
   "outputs": [
    {
     "name": "stdout",
     "output_type": "stream",
     "text": [
      "index of the best newsletter by position: 5\n"
     ]
    },
    {
     "data": {
      "text/html": [
       "<div>\n",
       "<style scoped>\n",
       "    .dataframe tbody tr th:only-of-type {\n",
       "        vertical-align: middle;\n",
       "    }\n",
       "\n",
       "    .dataframe tbody tr th {\n",
       "        vertical-align: top;\n",
       "    }\n",
       "\n",
       "    .dataframe thead th {\n",
       "        text-align: right;\n",
       "    }\n",
       "</style>\n",
       "<table border=\"1\" class=\"dataframe\">\n",
       "  <thead>\n",
       "    <tr style=\"text-align: right;\">\n",
       "      <th></th>\n",
       "      <th>recipients</th>\n",
       "      <th>impressions</th>\n",
       "      <th>clicks</th>\n",
       "      <th>soft_bounces</th>\n",
       "      <th>hard_bounces</th>\n",
       "      <th>unsubscribes</th>\n",
       "      <th>author</th>\n",
       "      <th>clickrate</th>\n",
       "      <th>addressees</th>\n",
       "    </tr>\n",
       "    <tr>\n",
       "      <th>newsletter</th>\n",
       "      <th></th>\n",
       "      <th></th>\n",
       "      <th></th>\n",
       "      <th></th>\n",
       "      <th></th>\n",
       "      <th></th>\n",
       "      <th></th>\n",
       "      <th></th>\n",
       "      <th></th>\n",
       "    </tr>\n",
       "  </thead>\n",
       "  <tbody>\n",
       "    <tr>\n",
       "      <th>Restaurant Newsletter 2021 #34343E16</th>\n",
       "      <td>958</td>\n",
       "      <td>391</td>\n",
       "      <td>150</td>\n",
       "      <td>20</td>\n",
       "      <td>31</td>\n",
       "      <td>14</td>\n",
       "      <td>John</td>\n",
       "      <td>0.156576</td>\n",
       "      <td>1009</td>\n",
       "    </tr>\n",
       "  </tbody>\n",
       "</table>\n",
       "</div>"
      ],
      "text/plain": [
       "                                      recipients  impressions  clicks  \\\n",
       "newsletter                                                              \n",
       "Restaurant Newsletter 2021 #34343E16         958          391     150   \n",
       "\n",
       "                                      soft_bounces  hard_bounces  \\\n",
       "newsletter                                                         \n",
       "Restaurant Newsletter 2021 #34343E16            20            31   \n",
       "\n",
       "                                      unsubscribes author  clickrate  \\\n",
       "newsletter                                                             \n",
       "Restaurant Newsletter 2021 #34343E16            14   John   0.156576   \n",
       "\n",
       "                                      addressees  \n",
       "newsletter                                        \n",
       "Restaurant Newsletter 2021 #34343E16        1009  "
      ]
     },
     "execution_count": 73,
     "metadata": {},
     "output_type": "execute_result"
    }
   ],
   "source": [
    "best_newsletter_clicks_index = df['clicks'].argmax()\n",
    "print(f'index of the best newsletter by position: {best_newsletter_clicks_index}')\n",
    "\n",
    "# I select best_newsletter_clicks_index in a list to get a DataFrame back (it looks prettier)\n",
    "df.iloc[[best_newsletter_clicks_index],:]"
   ]
  },
  {
   "cell_type": "markdown",
   "metadata": {
    "slideshow": {
     "slide_type": "slide"
    }
   },
   "source": [
    "an alternative way of calculating addressees like we did before with:\n",
    "\n",
    "```python\n",
    "df['recipients'] + df['soft_bounces'] + df['hard_bounces']\n",
    "```"
   ]
  },
  {
   "cell_type": "code",
   "execution_count": 74,
   "metadata": {
    "slideshow": {
     "slide_type": "fragment"
    }
   },
   "outputs": [
    {
     "data": {
      "text/plain": [
       "newsletter\n",
       "Cinema Newsletter 2021 #7552C8BF        1141\n",
       "Cinema Newsletter 2021 #62F72997         611\n",
       "Theater Newsletter 2021 #C6411A59        257\n",
       "Cruise Newsletter 2021 #594B629A         161\n",
       "Hotel Newsletter 2021 #A7B5E29A          224\n",
       "Restaurant Newsletter 2021 #34343E16    1009\n",
       "Cinema Newsletter 2021 #85564A80         956\n",
       "Travel Newsletter 2021 #1C807732        1312\n",
       "Hotel Newsletter 2021 #894D578D         1142\n",
       "Cinema Newsletter 2021 #84B4F19D         718\n",
       "dtype: int64"
      ]
     },
     "execution_count": 74,
     "metadata": {},
     "output_type": "execute_result"
    }
   ],
   "source": [
    "df[['recipients', 'soft_bounces', 'hard_bounces']].sum(axis='columns')"
   ]
  },
  {
   "cell_type": "markdown",
   "metadata": {
    "slideshow": {
     "slide_type": "slide"
    }
   },
   "source": [
    "# 5. Some common DataFrame operations"
   ]
  },
  {
   "cell_type": "markdown",
   "metadata": {
    "slideshow": {
     "slide_type": "slide"
    }
   },
   "source": [
    "## 5.1. Important note on assignment\n",
    "\n",
    "Apart from a few exceptions such as `df.insert` (inserts a new column at a specific position) **most operations in `pandas` require assignment** or the use of the argument **`inplace`** for operations to happen. We will see examples later.\n",
    "\n",
    "Indeed, most of the times only copies are returned. This is very interesting for:\n",
    "\n",
    "* vizualizing transformations before executing them\n",
    "* doing method chaining"
   ]
  },
  {
   "cell_type": "markdown",
   "metadata": {
    "slideshow": {
     "slide_type": "slide"
    }
   },
   "source": [
    "## 5.2. Handling duplicates"
   ]
  },
  {
   "cell_type": "markdown",
   "metadata": {
    "slideshow": {
     "slide_type": "fragment"
    }
   },
   "source": [
    "Let's create a DataFrame with duplicates in a column that we'd want to get rid of"
   ]
  },
  {
   "cell_type": "code",
   "execution_count": 80,
   "metadata": {
    "slideshow": {
     "slide_type": "fragment"
    }
   },
   "outputs": [
    {
     "data": {
      "text/html": [
       "<div>\n",
       "<style scoped>\n",
       "    .dataframe tbody tr th:only-of-type {\n",
       "        vertical-align: middle;\n",
       "    }\n",
       "\n",
       "    .dataframe tbody tr th {\n",
       "        vertical-align: top;\n",
       "    }\n",
       "\n",
       "    .dataframe thead th {\n",
       "        text-align: right;\n",
       "    }\n",
       "</style>\n",
       "<table border=\"1\" class=\"dataframe\">\n",
       "  <thead>\n",
       "    <tr style=\"text-align: right;\">\n",
       "      <th></th>\n",
       "      <th>first_name</th>\n",
       "      <th>mothertongue</th>\n",
       "    </tr>\n",
       "  </thead>\n",
       "  <tbody>\n",
       "    <tr>\n",
       "      <th>0</th>\n",
       "      <td>Tibaldo</td>\n",
       "      <td>French</td>\n",
       "    </tr>\n",
       "    <tr>\n",
       "      <th>1</th>\n",
       "      <td>Tibaldo</td>\n",
       "      <td>None</td>\n",
       "    </tr>\n",
       "    <tr>\n",
       "      <th>2</th>\n",
       "      <td>John</td>\n",
       "      <td>English</td>\n",
       "    </tr>\n",
       "  </tbody>\n",
       "</table>\n",
       "</div>"
      ],
      "text/plain": [
       "  first_name mothertongue\n",
       "0    Tibaldo       French\n",
       "1    Tibaldo         None\n",
       "2       John      English"
      ]
     },
     "execution_count": 80,
     "metadata": {},
     "output_type": "execute_result"
    }
   ],
   "source": [
    "import pandas as pd\n",
    "\n",
    "data = {'first_name':['Tibaldo', 'Tibaldo', 'John'],\n",
    "        'mothertongue':['French', None, 'English']}\n",
    "df = pd.DataFrame(data=data)\n",
    "df"
   ]
  },
  {
   "cell_type": "markdown",
   "metadata": {
    "slideshow": {
     "slide_type": "slide"
    }
   },
   "source": [
    "### Identifying duplicates"
   ]
  },
  {
   "cell_type": "code",
   "execution_count": 88,
   "metadata": {
    "slideshow": {
     "slide_type": "fragment"
    }
   },
   "outputs": [
    {
     "data": {
      "text/plain": [
       "0    Tibaldo\n",
       "1    Tibaldo\n",
       "2       John\n",
       "Name: first_name, dtype: object"
      ]
     },
     "metadata": {},
     "output_type": "display_data"
    },
    {
     "data": {
      "text/plain": [
       "0     True\n",
       "1     True\n",
       "2    False\n",
       "Name: first_name, dtype: bool"
      ]
     },
     "execution_count": 88,
     "metadata": {},
     "output_type": "execute_result"
    }
   ],
   "source": [
    "display(df['first_name'])\n",
    "df['first_name'].duplicated(keep=False)"
   ]
  },
  {
   "cell_type": "markdown",
   "metadata": {
    "slideshow": {
     "slide_type": "subslide"
    }
   },
   "source": [
    "### Dropping duplicates"
   ]
  },
  {
   "cell_type": "markdown",
   "metadata": {
    "slideshow": {
     "slide_type": "slide"
    }
   },
   "source": [
    "as I wrote with the note on the assignment before, here I am just showing what would be the result of the operation (I get a transformed copy of the DataFrame)"
   ]
  },
  {
   "cell_type": "code",
   "execution_count": 91,
   "metadata": {
    "slideshow": {
     "slide_type": "fragment"
    }
   },
   "outputs": [
    {
     "data": {
      "text/html": [
       "<div>\n",
       "<style scoped>\n",
       "    .dataframe tbody tr th:only-of-type {\n",
       "        vertical-align: middle;\n",
       "    }\n",
       "\n",
       "    .dataframe tbody tr th {\n",
       "        vertical-align: top;\n",
       "    }\n",
       "\n",
       "    .dataframe thead th {\n",
       "        text-align: right;\n",
       "    }\n",
       "</style>\n",
       "<table border=\"1\" class=\"dataframe\">\n",
       "  <thead>\n",
       "    <tr style=\"text-align: right;\">\n",
       "      <th></th>\n",
       "      <th>first_name</th>\n",
       "      <th>mothertongue</th>\n",
       "    </tr>\n",
       "  </thead>\n",
       "  <tbody>\n",
       "    <tr>\n",
       "      <th>0</th>\n",
       "      <td>Tibaldo</td>\n",
       "      <td>French</td>\n",
       "    </tr>\n",
       "    <tr>\n",
       "      <th>2</th>\n",
       "      <td>John</td>\n",
       "      <td>English</td>\n",
       "    </tr>\n",
       "  </tbody>\n",
       "</table>\n",
       "</div>"
      ],
      "text/plain": [
       "  first_name mothertongue\n",
       "0    Tibaldo       French\n",
       "2       John      English"
      ]
     },
     "execution_count": 91,
     "metadata": {},
     "output_type": "execute_result"
    }
   ],
   "source": [
    "df.drop_duplicates(subset=['first_name'], keep='first') # default"
   ]
  },
  {
   "cell_type": "markdown",
   "metadata": {
    "slideshow": {
     "slide_type": "fragment"
    }
   },
   "source": [
    "see, the duplicated first name is still here"
   ]
  },
  {
   "cell_type": "code",
   "execution_count": 95,
   "metadata": {
    "slideshow": {
     "slide_type": "fragment"
    }
   },
   "outputs": [
    {
     "data": {
      "text/html": [
       "<div>\n",
       "<style scoped>\n",
       "    .dataframe tbody tr th:only-of-type {\n",
       "        vertical-align: middle;\n",
       "    }\n",
       "\n",
       "    .dataframe tbody tr th {\n",
       "        vertical-align: top;\n",
       "    }\n",
       "\n",
       "    .dataframe thead th {\n",
       "        text-align: right;\n",
       "    }\n",
       "</style>\n",
       "<table border=\"1\" class=\"dataframe\">\n",
       "  <thead>\n",
       "    <tr style=\"text-align: right;\">\n",
       "      <th></th>\n",
       "      <th>first_name</th>\n",
       "      <th>mothertongue</th>\n",
       "    </tr>\n",
       "  </thead>\n",
       "  <tbody>\n",
       "    <tr>\n",
       "      <th>0</th>\n",
       "      <td>Tibaldo</td>\n",
       "      <td>French</td>\n",
       "    </tr>\n",
       "    <tr>\n",
       "      <th>1</th>\n",
       "      <td>Tibaldo</td>\n",
       "      <td>None</td>\n",
       "    </tr>\n",
       "    <tr>\n",
       "      <th>2</th>\n",
       "      <td>John</td>\n",
       "      <td>English</td>\n",
       "    </tr>\n",
       "  </tbody>\n",
       "</table>\n",
       "</div>"
      ],
      "text/plain": [
       "  first_name mothertongue\n",
       "0    Tibaldo       French\n",
       "1    Tibaldo         None\n",
       "2       John      English"
      ]
     },
     "execution_count": 95,
     "metadata": {},
     "output_type": "execute_result"
    }
   ],
   "source": [
    "df"
   ]
  },
  {
   "cell_type": "markdown",
   "metadata": {
    "slideshow": {
     "slide_type": "slide"
    }
   },
   "source": [
    "with the code below it works 🐒!\n",
    "\n",
    "Note: don't use `inplace` and `subset` together as this would raise a [SettingWithCopyWarning](https://www.dataquest.io/blog/settingwithcopywarning/) (this happens because when calling `drop_duplicates` pandas does some indexing in the background) 🙈🙈"
   ]
  },
  {
   "cell_type": "code",
   "execution_count": 96,
   "metadata": {
    "slideshow": {
     "slide_type": "fragment"
    }
   },
   "outputs": [
    {
     "data": {
      "text/html": [
       "<div>\n",
       "<style scoped>\n",
       "    .dataframe tbody tr th:only-of-type {\n",
       "        vertical-align: middle;\n",
       "    }\n",
       "\n",
       "    .dataframe tbody tr th {\n",
       "        vertical-align: top;\n",
       "    }\n",
       "\n",
       "    .dataframe thead th {\n",
       "        text-align: right;\n",
       "    }\n",
       "</style>\n",
       "<table border=\"1\" class=\"dataframe\">\n",
       "  <thead>\n",
       "    <tr style=\"text-align: right;\">\n",
       "      <th></th>\n",
       "      <th>first_name</th>\n",
       "      <th>mothertongue</th>\n",
       "    </tr>\n",
       "  </thead>\n",
       "  <tbody>\n",
       "    <tr>\n",
       "      <th>0</th>\n",
       "      <td>Tibaldo</td>\n",
       "      <td>French</td>\n",
       "    </tr>\n",
       "    <tr>\n",
       "      <th>2</th>\n",
       "      <td>John</td>\n",
       "      <td>English</td>\n",
       "    </tr>\n",
       "  </tbody>\n",
       "</table>\n",
       "</div>"
      ],
      "text/plain": [
       "  first_name mothertongue\n",
       "0    Tibaldo       French\n",
       "2       John      English"
      ]
     },
     "execution_count": 96,
     "metadata": {},
     "output_type": "execute_result"
    }
   ],
   "source": [
    "df = df.drop_duplicates(subset=['first_name'], keep='first')\n",
    "df"
   ]
  },
  {
   "cell_type": "markdown",
   "metadata": {},
   "source": [
    "See also the [example notebook](https://github.com/ThibTrip/thib/blob/master/2021/pandas_crash_course/examples/duplicates/isolate_duplicates_excel.ipynb) where I load an Excel table into a pandas DataFrame and save duplicates in it as another Excel file.\n",
    "\n",
    "This was a question from Irene Sanjay."
   ]
  },
  {
   "cell_type": "markdown",
   "metadata": {
    "slideshow": {
     "slide_type": "slide"
    }
   },
   "source": [
    "## 5.3. Handling nulls\n",
    "\n",
    "Let's create a DataFrame with NULLs in it"
   ]
  },
  {
   "cell_type": "code",
   "execution_count": 107,
   "metadata": {
    "slideshow": {
     "slide_type": "fragment"
    }
   },
   "outputs": [
    {
     "data": {
      "text/html": [
       "<div>\n",
       "<style scoped>\n",
       "    .dataframe tbody tr th:only-of-type {\n",
       "        vertical-align: middle;\n",
       "    }\n",
       "\n",
       "    .dataframe tbody tr th {\n",
       "        vertical-align: top;\n",
       "    }\n",
       "\n",
       "    .dataframe thead th {\n",
       "        text-align: right;\n",
       "    }\n",
       "</style>\n",
       "<table border=\"1\" class=\"dataframe\">\n",
       "  <thead>\n",
       "    <tr style=\"text-align: right;\">\n",
       "      <th></th>\n",
       "      <th>name</th>\n",
       "      <th>is_client</th>\n",
       "      <th>number_of_cars</th>\n",
       "    </tr>\n",
       "  </thead>\n",
       "  <tbody>\n",
       "    <tr>\n",
       "      <th>0</th>\n",
       "      <td>John</td>\n",
       "      <td>True</td>\n",
       "      <td>2</td>\n",
       "    </tr>\n",
       "    <tr>\n",
       "      <th>1</th>\n",
       "      <td>Alex</td>\n",
       "      <td>&lt;NA&gt;</td>\n",
       "      <td>&lt;NA&gt;</td>\n",
       "    </tr>\n",
       "    <tr>\n",
       "      <th>2</th>\n",
       "      <td>Daniel</td>\n",
       "      <td>True</td>\n",
       "      <td>&lt;NA&gt;</td>\n",
       "    </tr>\n",
       "  </tbody>\n",
       "</table>\n",
       "</div>"
      ],
      "text/plain": [
       "     name is_client number_of_cars\n",
       "0    John      True              2\n",
       "1    Alex      <NA>           <NA>\n",
       "2  Daniel      True           <NA>"
      ]
     },
     "execution_count": 107,
     "metadata": {},
     "output_type": "execute_result"
    }
   ],
   "source": [
    "df = pd.DataFrame({'name':['John', 'Alex', 'Daniel'],\n",
    "                   'is_client':[True, pd.NA, True],\n",
    "                   'number_of_cars':[2, pd.NA, pd.NA]}).convert_dtypes()\n",
    "df"
   ]
  },
  {
   "cell_type": "markdown",
   "metadata": {
    "slideshow": {
     "slide_type": "slide"
    }
   },
   "source": [
    "### Dropping nulls"
   ]
  },
  {
   "cell_type": "code",
   "execution_count": 111,
   "metadata": {
    "slideshow": {
     "slide_type": "fragment"
    }
   },
   "outputs": [
    {
     "data": {
      "text/html": [
       "<div>\n",
       "<style scoped>\n",
       "    .dataframe tbody tr th:only-of-type {\n",
       "        vertical-align: middle;\n",
       "    }\n",
       "\n",
       "    .dataframe tbody tr th {\n",
       "        vertical-align: top;\n",
       "    }\n",
       "\n",
       "    .dataframe thead th {\n",
       "        text-align: right;\n",
       "    }\n",
       "</style>\n",
       "<table border=\"1\" class=\"dataframe\">\n",
       "  <thead>\n",
       "    <tr style=\"text-align: right;\">\n",
       "      <th></th>\n",
       "      <th>name</th>\n",
       "      <th>is_client</th>\n",
       "      <th>number_of_cars</th>\n",
       "    </tr>\n",
       "  </thead>\n",
       "  <tbody>\n",
       "    <tr>\n",
       "      <th>0</th>\n",
       "      <td>John</td>\n",
       "      <td>True</td>\n",
       "      <td>2</td>\n",
       "    </tr>\n",
       "    <tr>\n",
       "      <th>1</th>\n",
       "      <td>Alex</td>\n",
       "      <td>&lt;NA&gt;</td>\n",
       "      <td>&lt;NA&gt;</td>\n",
       "    </tr>\n",
       "    <tr>\n",
       "      <th>2</th>\n",
       "      <td>Daniel</td>\n",
       "      <td>True</td>\n",
       "      <td>&lt;NA&gt;</td>\n",
       "    </tr>\n",
       "  </tbody>\n",
       "</table>\n",
       "</div>"
      ],
      "text/plain": [
       "     name is_client number_of_cars\n",
       "0    John      True              2\n",
       "1    Alex      <NA>           <NA>\n",
       "2  Daniel      True           <NA>"
      ]
     },
     "metadata": {},
     "output_type": "display_data"
    },
    {
     "data": {
      "text/html": [
       "<div>\n",
       "<style scoped>\n",
       "    .dataframe tbody tr th:only-of-type {\n",
       "        vertical-align: middle;\n",
       "    }\n",
       "\n",
       "    .dataframe tbody tr th {\n",
       "        vertical-align: top;\n",
       "    }\n",
       "\n",
       "    .dataframe thead th {\n",
       "        text-align: right;\n",
       "    }\n",
       "</style>\n",
       "<table border=\"1\" class=\"dataframe\">\n",
       "  <thead>\n",
       "    <tr style=\"text-align: right;\">\n",
       "      <th></th>\n",
       "      <th>name</th>\n",
       "      <th>is_client</th>\n",
       "      <th>number_of_cars</th>\n",
       "    </tr>\n",
       "  </thead>\n",
       "  <tbody>\n",
       "    <tr>\n",
       "      <th>0</th>\n",
       "      <td>John</td>\n",
       "      <td>True</td>\n",
       "      <td>2</td>\n",
       "    </tr>\n",
       "    <tr>\n",
       "      <th>2</th>\n",
       "      <td>Daniel</td>\n",
       "      <td>True</td>\n",
       "      <td>&lt;NA&gt;</td>\n",
       "    </tr>\n",
       "  </tbody>\n",
       "</table>\n",
       "</div>"
      ],
      "text/plain": [
       "     name is_client number_of_cars\n",
       "0    John      True              2\n",
       "2  Daniel      True           <NA>"
      ]
     },
     "execution_count": 111,
     "metadata": {},
     "output_type": "execute_result"
    }
   ],
   "source": [
    "display(df)\n",
    "# drop rows where ANY of the columns mentionned in subset are null\n",
    "df.dropna(how='any', # default\n",
    "          subset=['is_client', 'number_of_cars'],\n",
    "          axis='rows') # default"
   ]
  },
  {
   "cell_type": "code",
   "execution_count": 116,
   "metadata": {
    "slideshow": {
     "slide_type": "fragment"
    }
   },
   "outputs": [
    {
     "data": {
      "text/html": [
       "<div>\n",
       "<style scoped>\n",
       "    .dataframe tbody tr th:only-of-type {\n",
       "        vertical-align: middle;\n",
       "    }\n",
       "\n",
       "    .dataframe tbody tr th {\n",
       "        vertical-align: top;\n",
       "    }\n",
       "\n",
       "    .dataframe thead th {\n",
       "        text-align: right;\n",
       "    }\n",
       "</style>\n",
       "<table border=\"1\" class=\"dataframe\">\n",
       "  <thead>\n",
       "    <tr style=\"text-align: right;\">\n",
       "      <th></th>\n",
       "      <th>name</th>\n",
       "      <th>is_client</th>\n",
       "      <th>number_of_cars</th>\n",
       "    </tr>\n",
       "  </thead>\n",
       "  <tbody>\n",
       "    <tr>\n",
       "      <th>0</th>\n",
       "      <td>John</td>\n",
       "      <td>True</td>\n",
       "      <td>2</td>\n",
       "    </tr>\n",
       "    <tr>\n",
       "      <th>2</th>\n",
       "      <td>Daniel</td>\n",
       "      <td>True</td>\n",
       "      <td>&lt;NA&gt;</td>\n",
       "    </tr>\n",
       "  </tbody>\n",
       "</table>\n",
       "</div>"
      ],
      "text/plain": [
       "     name is_client number_of_cars\n",
       "0    John      True              2\n",
       "2  Daniel      True           <NA>"
      ]
     },
     "execution_count": 116,
     "metadata": {},
     "output_type": "execute_result"
    }
   ],
   "source": [
    "df.dropna(how='all', subset=['is_client', 'number_of_cars']) # drop rows where ALL of the columns mentionned in subset are null"
   ]
  },
  {
   "cell_type": "markdown",
   "metadata": {
    "slideshow": {
     "slide_type": "slide"
    }
   },
   "source": [
    "### Identifying nulls"
   ]
  },
  {
   "cell_type": "markdown",
   "metadata": {
    "slideshow": {
     "slide_type": "slide"
    }
   },
   "source": [
    "#### Scalars"
   ]
  },
  {
   "cell_type": "code",
   "execution_count": 117,
   "metadata": {
    "slideshow": {
     "slide_type": "fragment"
    }
   },
   "outputs": [
    {
     "data": {
      "text/plain": [
       "False"
      ]
     },
     "execution_count": 117,
     "metadata": {},
     "output_type": "execute_result"
    }
   ],
   "source": [
    "pd.isna('test')"
   ]
  },
  {
   "cell_type": "code",
   "execution_count": 118,
   "metadata": {
    "scrolled": true,
    "slideshow": {
     "slide_type": "fragment"
    }
   },
   "outputs": [
    {
     "data": {
      "text/plain": [
       "True"
      ]
     },
     "execution_count": 118,
     "metadata": {},
     "output_type": "execute_result"
    }
   ],
   "source": [
    "pd.isna(None)"
   ]
  },
  {
   "cell_type": "code",
   "execution_count": 119,
   "metadata": {
    "scrolled": true,
    "slideshow": {
     "slide_type": "fragment"
    }
   },
   "outputs": [
    {
     "data": {
      "text/plain": [
       "True"
      ]
     },
     "execution_count": 119,
     "metadata": {},
     "output_type": "execute_result"
    }
   ],
   "source": [
    "pd.isna(pd.NaT) # Not a Time, null value for timestamps in pandas"
   ]
  },
  {
   "cell_type": "code",
   "execution_count": 120,
   "metadata": {
    "scrolled": true,
    "slideshow": {
     "slide_type": "fragment"
    }
   },
   "outputs": [
    {
     "data": {
      "text/plain": [
       "True"
      ]
     },
     "execution_count": 120,
     "metadata": {},
     "output_type": "execute_result"
    }
   ],
   "source": [
    "pd.isna(np.nan) # numpy nan (not a number, type is float)"
   ]
  },
  {
   "cell_type": "markdown",
   "metadata": {
    "slideshow": {
     "slide_type": "slide"
    }
   },
   "source": [
    "#### Arrays"
   ]
  },
  {
   "cell_type": "code",
   "execution_count": 122,
   "metadata": {
    "slideshow": {
     "slide_type": "fragment"
    }
   },
   "outputs": [
    {
     "data": {
      "text/plain": [
       "0    True\n",
       "1    <NA>\n",
       "2    True\n",
       "Name: is_client, dtype: object"
      ]
     },
     "metadata": {},
     "output_type": "display_data"
    },
    {
     "data": {
      "text/plain": [
       "0    False\n",
       "1     True\n",
       "2    False\n",
       "Name: is_client, dtype: bool"
      ]
     },
     "execution_count": 122,
     "metadata": {},
     "output_type": "execute_result"
    }
   ],
   "source": [
    "display(df['is_client'])\n",
    "df['is_client'].isna()"
   ]
  },
  {
   "cell_type": "code",
   "execution_count": 124,
   "metadata": {
    "slideshow": {
     "slide_type": "fragment"
    }
   },
   "outputs": [
    {
     "data": {
      "text/plain": [
       "False"
      ]
     },
     "execution_count": 124,
     "metadata": {},
     "output_type": "execute_result"
    }
   ],
   "source": [
    "df['is_client'].isna().any()"
   ]
  },
  {
   "cell_type": "code",
   "execution_count": 131,
   "metadata": {
    "slideshow": {
     "slide_type": "fragment"
    }
   },
   "outputs": [
    {
     "data": {
      "text/html": [
       "<div>\n",
       "<style scoped>\n",
       "    .dataframe tbody tr th:only-of-type {\n",
       "        vertical-align: middle;\n",
       "    }\n",
       "\n",
       "    .dataframe tbody tr th {\n",
       "        vertical-align: top;\n",
       "    }\n",
       "\n",
       "    .dataframe thead th {\n",
       "        text-align: right;\n",
       "    }\n",
       "</style>\n",
       "<table border=\"1\" class=\"dataframe\">\n",
       "  <thead>\n",
       "    <tr style=\"text-align: right;\">\n",
       "      <th></th>\n",
       "      <th>is_client</th>\n",
       "      <th>number_of_cars</th>\n",
       "    </tr>\n",
       "  </thead>\n",
       "  <tbody>\n",
       "    <tr>\n",
       "      <th>0</th>\n",
       "      <td>False</td>\n",
       "      <td>False</td>\n",
       "    </tr>\n",
       "    <tr>\n",
       "      <th>1</th>\n",
       "      <td>True</td>\n",
       "      <td>True</td>\n",
       "    </tr>\n",
       "    <tr>\n",
       "      <th>2</th>\n",
       "      <td>False</td>\n",
       "      <td>True</td>\n",
       "    </tr>\n",
       "  </tbody>\n",
       "</table>\n",
       "</div>"
      ],
      "text/plain": [
       "   is_client  number_of_cars\n",
       "0      False           False\n",
       "1       True            True\n",
       "2      False            True"
      ]
     },
     "execution_count": 131,
     "metadata": {},
     "output_type": "execute_result"
    }
   ],
   "source": [
    "df[['is_client', 'number_of_cars']].isna()"
   ]
  },
  {
   "cell_type": "code",
   "execution_count": 132,
   "metadata": {
    "slideshow": {
     "slide_type": "fragment"
    }
   },
   "outputs": [
    {
     "data": {
      "text/plain": [
       "0    False\n",
       "1     True\n",
       "2     True\n",
       "dtype: bool"
      ]
     },
     "execution_count": 132,
     "metadata": {},
     "output_type": "execute_result"
    }
   ],
   "source": [
    "df[['is_client', 'number_of_cars']].isna().any(axis='columns')"
   ]
  },
  {
   "cell_type": "markdown",
   "metadata": {
    "slideshow": {
     "slide_type": "slide"
    }
   },
   "source": [
    "`pd.isna` also works on lists, tuples etc."
   ]
  },
  {
   "cell_type": "code",
   "execution_count": 133,
   "metadata": {
    "slideshow": {
     "slide_type": "slide"
    }
   },
   "outputs": [
    {
     "data": {
      "text/plain": [
       "array([False,  True])"
      ]
     },
     "metadata": {},
     "output_type": "display_data"
    },
    {
     "data": {
      "text/plain": [
       "False"
      ]
     },
     "execution_count": 133,
     "metadata": {},
     "output_type": "execute_result"
    }
   ],
   "source": [
    "arr_isnull = pd.isna(['a', None])\n",
    "display(arr_isnull)\n",
    "\n",
    "arr_isnull.all()"
   ]
  }
 ],
 "metadata": {
  "celltoolbar": "Slideshow",
  "kernelspec": {
   "display_name": "Python 3",
   "language": "python",
   "name": "python3"
  },
  "language_info": {
   "codemirror_mode": {
    "name": "ipython",
    "version": 3
   },
   "file_extension": ".py",
   "mimetype": "text/x-python",
   "name": "python",
   "nbconvert_exporter": "python",
   "pygments_lexer": "ipython3",
   "version": "3.8.5"
  }
 },
 "nbformat": 4,
 "nbformat_minor": 4
}
