{
 "cells": [
  {
   "cell_type": "markdown",
   "id": "proved-muscle",
   "metadata": {},
   "source": [
    "# Question from Irene Sanjay\n",
    "\n",
    "> How do I load an Excel file and extract duplicates to another Excel file?"
   ]
  },
  {
   "cell_type": "markdown",
   "id": "infectious-spider",
   "metadata": {},
   "source": [
    "# Load an Excel file contained in this folder\n",
    "\n",
    "⚠️ Besides installing pandas (either with `pip install pandas` or `conda install pandas` if you use conda) you will have to install `openpyxl` with `pip install openpyxl`"
   ]
  },
  {
   "cell_type": "code",
   "execution_count": 1,
   "id": "several-tuner",
   "metadata": {},
   "outputs": [
    {
     "data": {
      "text/html": [
       "<div>\n",
       "<style scoped>\n",
       "    .dataframe tbody tr th:only-of-type {\n",
       "        vertical-align: middle;\n",
       "    }\n",
       "\n",
       "    .dataframe tbody tr th {\n",
       "        vertical-align: top;\n",
       "    }\n",
       "\n",
       "    .dataframe thead th {\n",
       "        text-align: right;\n",
       "    }\n",
       "</style>\n",
       "<table border=\"1\" class=\"dataframe\">\n",
       "  <thead>\n",
       "    <tr style=\"text-align: right;\">\n",
       "      <th></th>\n",
       "      <th>first_name</th>\n",
       "      <th>last_name</th>\n",
       "      <th>country</th>\n",
       "    </tr>\n",
       "  </thead>\n",
       "  <tbody>\n",
       "    <tr>\n",
       "      <th>0</th>\n",
       "      <td>John</td>\n",
       "      <td>Doe</td>\n",
       "      <td>USA</td>\n",
       "    </tr>\n",
       "    <tr>\n",
       "      <th>1</th>\n",
       "      <td>John</td>\n",
       "      <td>Doe</td>\n",
       "      <td>France</td>\n",
       "    </tr>\n",
       "    <tr>\n",
       "      <th>2</th>\n",
       "      <td>John</td>\n",
       "      <td>Doe</td>\n",
       "      <td>Belgium</td>\n",
       "    </tr>\n",
       "    <tr>\n",
       "      <th>3</th>\n",
       "      <td>John</td>\n",
       "      <td>Rambo</td>\n",
       "      <td>USA</td>\n",
       "    </tr>\n",
       "    <tr>\n",
       "      <th>4</th>\n",
       "      <td>John</td>\n",
       "      <td>Travolta</td>\n",
       "      <td>USA</td>\n",
       "    </tr>\n",
       "    <tr>\n",
       "      <th>5</th>\n",
       "      <td>Tibaldo</td>\n",
       "      <td>B</td>\n",
       "      <td>France</td>\n",
       "    </tr>\n",
       "  </tbody>\n",
       "</table>\n",
       "</div>"
      ],
      "text/plain": [
       "  first_name last_name  country\n",
       "0       John       Doe      USA\n",
       "1       John       Doe   France\n",
       "2       John       Doe  Belgium\n",
       "3       John     Rambo      USA\n",
       "4       John  Travolta      USA\n",
       "5    Tibaldo         B   France"
      ]
     },
     "execution_count": 1,
     "metadata": {},
     "output_type": "execute_result"
    }
   ],
   "source": [
    "import pandas as pd\n",
    "\n",
    "# \".\" means the current folder (it will work without but it's important to know 🙈)\n",
    "df = pd.read_excel('./duplicates.xlsx', sheet_name='duplicates')\n",
    "df"
   ]
  },
  {
   "cell_type": "markdown",
   "id": "biological-renewal",
   "metadata": {},
   "source": [
    "# Identify duplicates\n",
    "\n",
    "Create a mask. Note that `keep=False` gives me all the entries, not just the first one or last one"
   ]
  },
  {
   "cell_type": "code",
   "execution_count": 2,
   "id": "minor-architect",
   "metadata": {},
   "outputs": [
    {
     "data": {
      "text/plain": [
       "0     True\n",
       "1     True\n",
       "2     True\n",
       "3     True\n",
       "4     True\n",
       "5    False\n",
       "Name: first_name, dtype: bool"
      ]
     },
     "execution_count": 2,
     "metadata": {},
     "output_type": "execute_result"
    }
   ],
   "source": [
    "first_name_duplicated = df['first_name'].duplicated(keep=False)\n",
    "first_name_duplicated"
   ]
  },
  {
   "cell_type": "markdown",
   "id": "acoustic-executive",
   "metadata": {},
   "source": [
    "select rows where the first name is duplicated, and put this in a new DataFrame. We'll make a copy in case we want to make operations on this view later."
   ]
  },
  {
   "cell_type": "code",
   "execution_count": 3,
   "id": "essential-symphony",
   "metadata": {},
   "outputs": [
    {
     "data": {
      "text/html": [
       "<div>\n",
       "<style scoped>\n",
       "    .dataframe tbody tr th:only-of-type {\n",
       "        vertical-align: middle;\n",
       "    }\n",
       "\n",
       "    .dataframe tbody tr th {\n",
       "        vertical-align: top;\n",
       "    }\n",
       "\n",
       "    .dataframe thead th {\n",
       "        text-align: right;\n",
       "    }\n",
       "</style>\n",
       "<table border=\"1\" class=\"dataframe\">\n",
       "  <thead>\n",
       "    <tr style=\"text-align: right;\">\n",
       "      <th></th>\n",
       "      <th>first_name</th>\n",
       "      <th>last_name</th>\n",
       "      <th>country</th>\n",
       "    </tr>\n",
       "  </thead>\n",
       "  <tbody>\n",
       "    <tr>\n",
       "      <th>0</th>\n",
       "      <td>John</td>\n",
       "      <td>Doe</td>\n",
       "      <td>USA</td>\n",
       "    </tr>\n",
       "    <tr>\n",
       "      <th>1</th>\n",
       "      <td>John</td>\n",
       "      <td>Doe</td>\n",
       "      <td>France</td>\n",
       "    </tr>\n",
       "    <tr>\n",
       "      <th>2</th>\n",
       "      <td>John</td>\n",
       "      <td>Doe</td>\n",
       "      <td>Belgium</td>\n",
       "    </tr>\n",
       "    <tr>\n",
       "      <th>3</th>\n",
       "      <td>John</td>\n",
       "      <td>Rambo</td>\n",
       "      <td>USA</td>\n",
       "    </tr>\n",
       "    <tr>\n",
       "      <th>4</th>\n",
       "      <td>John</td>\n",
       "      <td>Travolta</td>\n",
       "      <td>USA</td>\n",
       "    </tr>\n",
       "  </tbody>\n",
       "</table>\n",
       "</div>"
      ],
      "text/plain": [
       "  first_name last_name  country\n",
       "0       John       Doe      USA\n",
       "1       John       Doe   France\n",
       "2       John       Doe  Belgium\n",
       "3       John     Rambo      USA\n",
       "4       John  Travolta      USA"
      ]
     },
     "execution_count": 3,
     "metadata": {},
     "output_type": "execute_result"
    }
   ],
   "source": [
    "df_duplicates_first_name = df.loc[first_name_duplicated, :].copy()\n",
    "df_duplicates_first_name"
   ]
  },
  {
   "cell_type": "markdown",
   "id": "specified-compiler",
   "metadata": {},
   "source": [
    "In many scenarios though we'd want to check multiple columns together. For instance we could check duplicates on the group `first_name+last_name`.\n",
    "\n",
    "It's the same strategy as before (make a mask and use it to select rows)."
   ]
  },
  {
   "cell_type": "code",
   "execution_count": 4,
   "id": "upper-exception",
   "metadata": {},
   "outputs": [
    {
     "data": {
      "text/html": [
       "<div>\n",
       "<style scoped>\n",
       "    .dataframe tbody tr th:only-of-type {\n",
       "        vertical-align: middle;\n",
       "    }\n",
       "\n",
       "    .dataframe tbody tr th {\n",
       "        vertical-align: top;\n",
       "    }\n",
       "\n",
       "    .dataframe thead th {\n",
       "        text-align: right;\n",
       "    }\n",
       "</style>\n",
       "<table border=\"1\" class=\"dataframe\">\n",
       "  <thead>\n",
       "    <tr style=\"text-align: right;\">\n",
       "      <th></th>\n",
       "      <th>first_name</th>\n",
       "      <th>last_name</th>\n",
       "      <th>country</th>\n",
       "    </tr>\n",
       "  </thead>\n",
       "  <tbody>\n",
       "    <tr>\n",
       "      <th>0</th>\n",
       "      <td>John</td>\n",
       "      <td>Doe</td>\n",
       "      <td>USA</td>\n",
       "    </tr>\n",
       "    <tr>\n",
       "      <th>1</th>\n",
       "      <td>John</td>\n",
       "      <td>Doe</td>\n",
       "      <td>France</td>\n",
       "    </tr>\n",
       "    <tr>\n",
       "      <th>2</th>\n",
       "      <td>John</td>\n",
       "      <td>Doe</td>\n",
       "      <td>Belgium</td>\n",
       "    </tr>\n",
       "  </tbody>\n",
       "</table>\n",
       "</div>"
      ],
      "text/plain": [
       "  first_name last_name  country\n",
       "0       John       Doe      USA\n",
       "1       John       Doe   France\n",
       "2       John       Doe  Belgium"
      ]
     },
     "execution_count": 4,
     "metadata": {},
     "output_type": "execute_result"
    }
   ],
   "source": [
    "names_duplicated = df[['first_name', 'last_name']].duplicated(keep=False)\n",
    "df_duplicates_all_names = df.loc[names_duplicated, :].copy()\n",
    "df_duplicates_all_names"
   ]
  },
  {
   "cell_type": "markdown",
   "id": "subjective-amber",
   "metadata": {},
   "source": [
    "# Save results to another Excel file\n",
    "\n",
    "⚠️ if an Excel file exists with the same name as below, it is replaced (pandas won't open an existing Excel file and save te DataFrame to a dedicated sheet or replace an existing sheet)\n",
    "\n",
    "See this [Stackoverflow post](https://stackoverflow.com/a/63692307) about appending sheets to an existing Excel file."
   ]
  },
  {
   "cell_type": "code",
   "execution_count": 5,
   "id": "naked-mailing",
   "metadata": {},
   "outputs": [],
   "source": [
    "df_duplicates_all_names.to_excel('duplicates_results.xlsx', sheet_name='example', index=False)"
   ]
  },
  {
   "cell_type": "markdown",
   "id": "cross-colors",
   "metadata": {},
   "source": [
    "# Note\n",
    "\n",
    "I did not use an index to keep it simple but you can of course also check the duplicates within an index with such code"
   ]
  },
  {
   "cell_type": "code",
   "execution_count": 6,
   "id": "unable-following",
   "metadata": {},
   "outputs": [
    {
     "data": {
      "text/html": [
       "<div>\n",
       "<style scoped>\n",
       "    .dataframe tbody tr th:only-of-type {\n",
       "        vertical-align: middle;\n",
       "    }\n",
       "\n",
       "    .dataframe tbody tr th {\n",
       "        vertical-align: top;\n",
       "    }\n",
       "\n",
       "    .dataframe thead th {\n",
       "        text-align: right;\n",
       "    }\n",
       "</style>\n",
       "<table border=\"1\" class=\"dataframe\">\n",
       "  <thead>\n",
       "    <tr style=\"text-align: right;\">\n",
       "      <th></th>\n",
       "      <th></th>\n",
       "      <th>country</th>\n",
       "    </tr>\n",
       "    <tr>\n",
       "      <th>first_name</th>\n",
       "      <th>last_name</th>\n",
       "      <th></th>\n",
       "    </tr>\n",
       "  </thead>\n",
       "  <tbody>\n",
       "    <tr>\n",
       "      <th rowspan=\"5\" valign=\"top\">John</th>\n",
       "      <th>Doe</th>\n",
       "      <td>USA</td>\n",
       "    </tr>\n",
       "    <tr>\n",
       "      <th>Doe</th>\n",
       "      <td>France</td>\n",
       "    </tr>\n",
       "    <tr>\n",
       "      <th>Doe</th>\n",
       "      <td>Belgium</td>\n",
       "    </tr>\n",
       "    <tr>\n",
       "      <th>Rambo</th>\n",
       "      <td>USA</td>\n",
       "    </tr>\n",
       "    <tr>\n",
       "      <th>Travolta</th>\n",
       "      <td>USA</td>\n",
       "    </tr>\n",
       "    <tr>\n",
       "      <th>Tibaldo</th>\n",
       "      <th>B</th>\n",
       "      <td>France</td>\n",
       "    </tr>\n",
       "  </tbody>\n",
       "</table>\n",
       "</div>"
      ],
      "text/plain": [
       "                      country\n",
       "first_name last_name         \n",
       "John       Doe            USA\n",
       "           Doe         France\n",
       "           Doe        Belgium\n",
       "           Rambo          USA\n",
       "           Travolta       USA\n",
       "Tibaldo    B           France"
      ]
     },
     "execution_count": 6,
     "metadata": {},
     "output_type": "execute_result"
    }
   ],
   "source": [
    "# let's set first name and last name as index for our example\n",
    "df.set_index(['first_name', 'last_name'], inplace=True)\n",
    "df"
   ]
  },
  {
   "cell_type": "markdown",
   "id": "applied-pontiac",
   "metadata": {},
   "source": [
    "If exporting this to Excel, you'll probably want to set the parameter `merge_cells=False` in the `.to_excel` method.\n",
    "\n",
    "I you don't do this, the multilevel index you see below will be represented in fused cells in the resulting Excel sheet."
   ]
  },
  {
   "cell_type": "code",
   "execution_count": 7,
   "id": "monetary-invalid",
   "metadata": {},
   "outputs": [
    {
     "data": {
      "text/html": [
       "<div>\n",
       "<style scoped>\n",
       "    .dataframe tbody tr th:only-of-type {\n",
       "        vertical-align: middle;\n",
       "    }\n",
       "\n",
       "    .dataframe tbody tr th {\n",
       "        vertical-align: top;\n",
       "    }\n",
       "\n",
       "    .dataframe thead th {\n",
       "        text-align: right;\n",
       "    }\n",
       "</style>\n",
       "<table border=\"1\" class=\"dataframe\">\n",
       "  <thead>\n",
       "    <tr style=\"text-align: right;\">\n",
       "      <th></th>\n",
       "      <th></th>\n",
       "      <th>country</th>\n",
       "    </tr>\n",
       "    <tr>\n",
       "      <th>first_name</th>\n",
       "      <th>last_name</th>\n",
       "      <th></th>\n",
       "    </tr>\n",
       "  </thead>\n",
       "  <tbody>\n",
       "    <tr>\n",
       "      <th rowspan=\"3\" valign=\"top\">John</th>\n",
       "      <th>Doe</th>\n",
       "      <td>USA</td>\n",
       "    </tr>\n",
       "    <tr>\n",
       "      <th>Doe</th>\n",
       "      <td>France</td>\n",
       "    </tr>\n",
       "    <tr>\n",
       "      <th>Doe</th>\n",
       "      <td>Belgium</td>\n",
       "    </tr>\n",
       "  </tbody>\n",
       "</table>\n",
       "</div>"
      ],
      "text/plain": [
       "                      country\n",
       "first_name last_name         \n",
       "John       Doe            USA\n",
       "           Doe         France\n",
       "           Doe        Belgium"
      ]
     },
     "execution_count": 7,
     "metadata": {},
     "output_type": "execute_result"
    }
   ],
   "source": [
    "df.loc[df.index.duplicated(keep=False), :]"
   ]
  }
 ],
 "metadata": {
  "kernelspec": {
   "display_name": "Python 3",
   "language": "python",
   "name": "python3"
  },
  "language_info": {
   "codemirror_mode": {
    "name": "ipython",
    "version": 3
   },
   "file_extension": ".py",
   "mimetype": "text/x-python",
   "name": "python",
   "nbconvert_exporter": "python",
   "pygments_lexer": "ipython3",
   "version": "3.8.5"
  }
 },
 "nbformat": 4,
 "nbformat_minor": 5
}
