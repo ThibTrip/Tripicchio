{
 "cells": [
  {
   "cell_type": "code",
   "execution_count": 1,
   "metadata": {
    "slideshow": {
     "slide_type": "notes"
    }
   },
   "outputs": [
    {
     "data": {
      "text/html": [
       "<! –– this improves the layout for reveal.js slides ––>\n",
       "<style>\n",
       ".reveal i {\n",
       "    font-size: 1em !important;\n",
       "    font-style: italic !important;\n",
       "}\n",
       "\n",
       ".input_area {\n",
       "    font-size: 0.7em !important;\n",
       "}\n",
       "\n",
       ".reveal section p {\n",
       "    font-size: 0.7em !important;\n",
       "}\n",
       "\n",
       ".reveal section li, ul {\n",
       "    font-size: 0.8em !important;\n",
       "}\n",
       "\n",
       ".reveal section pre {\n",
       "    font-size: 0.6em !important;\n",
       "}\n",
       "\n",
       "\n",
       "</style>\n",
       "<script>document.getElementById('body').style.fontSize = \"80%\";</script>\n"
      ],
      "text/plain": [
       "<IPython.core.display.HTML object>"
      ]
     },
     "metadata": {},
     "output_type": "display_data"
    }
   ],
   "source": [
    "from IPython.display import HTML\n",
    "\n",
    "def apply_html_tweak(html_script_path):\n",
    "    with open(html_script_path, encoding='utf-8') as fh:\n",
    "        display(HTML(fh.read()))\n",
    "\n",
    "apply_html_tweak(\"../../reveal_js_tweaks.txt\")\n",
    "#apply_html_tweak(\"../../rise_tweaks.txt\")"
   ]
  },
  {
   "cell_type": "markdown",
   "metadata": {
    "slideshow": {
     "slide_type": "slide"
    }
   },
   "source": [
    "Note: the following slides were presented during a second Meetup"
   ]
  },
  {
   "cell_type": "markdown",
   "metadata": {
    "slideshow": {
     "slide_type": "slide"
    }
   },
   "source": [
    "## 5.4. Renaming columns/indices"
   ]
  },
  {
   "cell_type": "markdown",
   "metadata": {
    "slideshow": {
     "slide_type": "slide"
    }
   },
   "source": [
    "Let's create an example DataFrame"
   ]
  },
  {
   "cell_type": "code",
   "execution_count": 2,
   "metadata": {
    "slideshow": {
     "slide_type": "fragment"
    }
   },
   "outputs": [
    {
     "data": {
      "text/html": [
       "<div>\n",
       "<style scoped>\n",
       "    .dataframe tbody tr th:only-of-type {\n",
       "        vertical-align: middle;\n",
       "    }\n",
       "\n",
       "    .dataframe tbody tr th {\n",
       "        vertical-align: top;\n",
       "    }\n",
       "\n",
       "    .dataframe thead th {\n",
       "        text-align: right;\n",
       "    }\n",
       "</style>\n",
       "<table border=\"1\" class=\"dataframe\">\n",
       "  <thead>\n",
       "    <tr style=\"text-align: right;\">\n",
       "      <th></th>\n",
       "      <th>name</th>\n",
       "      <th>is_client</th>\n",
       "      <th>number_of_cars</th>\n",
       "    </tr>\n",
       "    <tr>\n",
       "      <th>id</th>\n",
       "      <th></th>\n",
       "      <th></th>\n",
       "      <th></th>\n",
       "    </tr>\n",
       "  </thead>\n",
       "  <tbody>\n",
       "    <tr>\n",
       "      <th>100</th>\n",
       "      <td>John</td>\n",
       "      <td>True</td>\n",
       "      <td>2</td>\n",
       "    </tr>\n",
       "    <tr>\n",
       "      <th>200</th>\n",
       "      <td>Alex</td>\n",
       "      <td>&lt;NA&gt;</td>\n",
       "      <td>&lt;NA&gt;</td>\n",
       "    </tr>\n",
       "    <tr>\n",
       "      <th>300</th>\n",
       "      <td>Daniel</td>\n",
       "      <td>True</td>\n",
       "      <td>&lt;NA&gt;</td>\n",
       "    </tr>\n",
       "  </tbody>\n",
       "</table>\n",
       "</div>"
      ],
      "text/plain": [
       "       name  is_client  number_of_cars\n",
       "id                                    \n",
       "100    John       True               2\n",
       "200    Alex       <NA>            <NA>\n",
       "300  Daniel       True            <NA>"
      ]
     },
     "execution_count": 2,
     "metadata": {},
     "output_type": "execute_result"
    }
   ],
   "source": [
    "import pandas as pd # pandas is very frequently abbreviated as \"pd\"\n",
    "\n",
    "# DataFrames are composed of columns, indices and values.\n",
    "data = {'name':['John', 'Alex', 'Daniel'], # {column:values}\n",
    "        'is_client':[True, None, True],\n",
    "        'number_of_cars':[2, None, None]}\n",
    "\n",
    "index = pd.Index([100, 200, 300], name='id') # the index is a separate entity\n",
    "\n",
    "df = pd.DataFrame(data=data, index=index).convert_dtypes()\n",
    "df"
   ]
  },
  {
   "cell_type": "markdown",
   "metadata": {
    "slideshow": {
     "slide_type": "slide"
    }
   },
   "source": [
    "### Renaming columns"
   ]
  },
  {
   "cell_type": "code",
   "execution_count": 3,
   "metadata": {
    "slideshow": {
     "slide_type": "fragment"
    }
   },
   "outputs": [
    {
     "data": {
      "text/html": [
       "<div>\n",
       "<style scoped>\n",
       "    .dataframe tbody tr th:only-of-type {\n",
       "        vertical-align: middle;\n",
       "    }\n",
       "\n",
       "    .dataframe tbody tr th {\n",
       "        vertical-align: top;\n",
       "    }\n",
       "\n",
       "    .dataframe thead th {\n",
       "        text-align: right;\n",
       "    }\n",
       "</style>\n",
       "<table border=\"1\" class=\"dataframe\">\n",
       "  <thead>\n",
       "    <tr style=\"text-align: right;\">\n",
       "      <th></th>\n",
       "      <th>first_name</th>\n",
       "      <th>is_client</th>\n",
       "      <th>number_of_horses</th>\n",
       "    </tr>\n",
       "    <tr>\n",
       "      <th>id</th>\n",
       "      <th></th>\n",
       "      <th></th>\n",
       "      <th></th>\n",
       "    </tr>\n",
       "  </thead>\n",
       "  <tbody>\n",
       "    <tr>\n",
       "      <th>100</th>\n",
       "      <td>John</td>\n",
       "      <td>True</td>\n",
       "      <td>2</td>\n",
       "    </tr>\n",
       "    <tr>\n",
       "      <th>200</th>\n",
       "      <td>Alex</td>\n",
       "      <td>&lt;NA&gt;</td>\n",
       "      <td>&lt;NA&gt;</td>\n",
       "    </tr>\n",
       "    <tr>\n",
       "      <th>300</th>\n",
       "      <td>Daniel</td>\n",
       "      <td>True</td>\n",
       "      <td>&lt;NA&gt;</td>\n",
       "    </tr>\n",
       "  </tbody>\n",
       "</table>\n",
       "</div>"
      ],
      "text/plain": [
       "    first_name  is_client  number_of_horses\n",
       "id                                         \n",
       "100       John       True                 2\n",
       "200       Alex       <NA>              <NA>\n",
       "300     Daniel       True              <NA>"
      ]
     },
     "execution_count": 3,
     "metadata": {},
     "output_type": "execute_result"
    }
   ],
   "source": [
    "df.rename(columns={'name':'first_name', 'number_of_cars':'number_of_horses'})"
   ]
  },
  {
   "cell_type": "markdown",
   "metadata": {
    "slideshow": {
     "slide_type": "fragment"
    }
   },
   "source": [
    "### Renaming indices"
   ]
  },
  {
   "cell_type": "code",
   "execution_count": 4,
   "metadata": {
    "slideshow": {
     "slide_type": "fragment"
    }
   },
   "outputs": [
    {
     "data": {
      "text/html": [
       "<div>\n",
       "<style scoped>\n",
       "    .dataframe tbody tr th:only-of-type {\n",
       "        vertical-align: middle;\n",
       "    }\n",
       "\n",
       "    .dataframe tbody tr th {\n",
       "        vertical-align: top;\n",
       "    }\n",
       "\n",
       "    .dataframe thead th {\n",
       "        text-align: right;\n",
       "    }\n",
       "</style>\n",
       "<table border=\"1\" class=\"dataframe\">\n",
       "  <thead>\n",
       "    <tr style=\"text-align: right;\">\n",
       "      <th></th>\n",
       "      <th>name</th>\n",
       "      <th>is_client</th>\n",
       "      <th>number_of_cars</th>\n",
       "    </tr>\n",
       "    <tr>\n",
       "      <th>id</th>\n",
       "      <th></th>\n",
       "      <th></th>\n",
       "      <th></th>\n",
       "    </tr>\n",
       "  </thead>\n",
       "  <tbody>\n",
       "    <tr>\n",
       "      <th>999</th>\n",
       "      <td>John</td>\n",
       "      <td>True</td>\n",
       "      <td>2</td>\n",
       "    </tr>\n",
       "    <tr>\n",
       "      <th>1000</th>\n",
       "      <td>Alex</td>\n",
       "      <td>&lt;NA&gt;</td>\n",
       "      <td>&lt;NA&gt;</td>\n",
       "    </tr>\n",
       "    <tr>\n",
       "      <th>300</th>\n",
       "      <td>Daniel</td>\n",
       "      <td>True</td>\n",
       "      <td>&lt;NA&gt;</td>\n",
       "    </tr>\n",
       "  </tbody>\n",
       "</table>\n",
       "</div>"
      ],
      "text/plain": [
       "        name  is_client  number_of_cars\n",
       "id                                     \n",
       "999     John       True               2\n",
       "1000    Alex       <NA>            <NA>\n",
       "300   Daniel       True            <NA>"
      ]
     },
     "execution_count": 4,
     "metadata": {},
     "output_type": "execute_result"
    }
   ],
   "source": [
    "df.rename(index={100:999, 200:1000}) # by default `df.rename` renames the index so index= is superfluous"
   ]
  },
  {
   "cell_type": "markdown",
   "metadata": {
    "slideshow": {
     "slide_type": "slide"
    }
   },
   "source": [
    "Alternatively, you can also change the column/index names with an assignment to `df.columns` or `df.index` respectively"
   ]
  },
  {
   "cell_type": "code",
   "execution_count": 5,
   "metadata": {
    "slideshow": {
     "slide_type": "fragment"
    }
   },
   "outputs": [
    {
     "data": {
      "text/html": [
       "<div>\n",
       "<style scoped>\n",
       "    .dataframe tbody tr th:only-of-type {\n",
       "        vertical-align: middle;\n",
       "    }\n",
       "\n",
       "    .dataframe tbody tr th {\n",
       "        vertical-align: top;\n",
       "    }\n",
       "\n",
       "    .dataframe thead th {\n",
       "        text-align: right;\n",
       "    }\n",
       "</style>\n",
       "<table border=\"1\" class=\"dataframe\">\n",
       "  <thead>\n",
       "    <tr style=\"text-align: right;\">\n",
       "      <th></th>\n",
       "      <th>first_name</th>\n",
       "      <th>likes_pizza</th>\n",
       "      <th>number_of_horses</th>\n",
       "    </tr>\n",
       "    <tr>\n",
       "      <th>id</th>\n",
       "      <th></th>\n",
       "      <th></th>\n",
       "      <th></th>\n",
       "    </tr>\n",
       "  </thead>\n",
       "  <tbody>\n",
       "    <tr>\n",
       "      <th>100</th>\n",
       "      <td>John</td>\n",
       "      <td>True</td>\n",
       "      <td>2</td>\n",
       "    </tr>\n",
       "    <tr>\n",
       "      <th>200</th>\n",
       "      <td>Alex</td>\n",
       "      <td>&lt;NA&gt;</td>\n",
       "      <td>&lt;NA&gt;</td>\n",
       "    </tr>\n",
       "    <tr>\n",
       "      <th>300</th>\n",
       "      <td>Daniel</td>\n",
       "      <td>True</td>\n",
       "      <td>&lt;NA&gt;</td>\n",
       "    </tr>\n",
       "  </tbody>\n",
       "</table>\n",
       "</div>"
      ],
      "text/plain": [
       "    first_name  likes_pizza  number_of_horses\n",
       "id                                           \n",
       "100       John         True                 2\n",
       "200       Alex         <NA>              <NA>\n",
       "300     Daniel         True              <NA>"
      ]
     },
     "execution_count": 5,
     "metadata": {},
     "output_type": "execute_result"
    }
   ],
   "source": [
    "df.columns = ['first_name', 'likes_pizza', 'number_of_horses']\n",
    "df"
   ]
  },
  {
   "cell_type": "code",
   "execution_count": 6,
   "metadata": {
    "slideshow": {
     "slide_type": "fragment"
    }
   },
   "outputs": [
    {
     "data": {
      "text/html": [
       "<div>\n",
       "<style scoped>\n",
       "    .dataframe tbody tr th:only-of-type {\n",
       "        vertical-align: middle;\n",
       "    }\n",
       "\n",
       "    .dataframe tbody tr th {\n",
       "        vertical-align: top;\n",
       "    }\n",
       "\n",
       "    .dataframe thead th {\n",
       "        text-align: right;\n",
       "    }\n",
       "</style>\n",
       "<table border=\"1\" class=\"dataframe\">\n",
       "  <thead>\n",
       "    <tr style=\"text-align: right;\">\n",
       "      <th></th>\n",
       "      <th>first_name</th>\n",
       "      <th>likes_pizza</th>\n",
       "      <th>number_of_horses</th>\n",
       "    </tr>\n",
       "    <tr>\n",
       "      <th>id</th>\n",
       "      <th></th>\n",
       "      <th></th>\n",
       "      <th></th>\n",
       "    </tr>\n",
       "  </thead>\n",
       "  <tbody>\n",
       "    <tr>\n",
       "      <th>10</th>\n",
       "      <td>John</td>\n",
       "      <td>True</td>\n",
       "      <td>2</td>\n",
       "    </tr>\n",
       "    <tr>\n",
       "      <th>20</th>\n",
       "      <td>Alex</td>\n",
       "      <td>&lt;NA&gt;</td>\n",
       "      <td>&lt;NA&gt;</td>\n",
       "    </tr>\n",
       "    <tr>\n",
       "      <th>30</th>\n",
       "      <td>Daniel</td>\n",
       "      <td>True</td>\n",
       "      <td>&lt;NA&gt;</td>\n",
       "    </tr>\n",
       "  </tbody>\n",
       "</table>\n",
       "</div>"
      ],
      "text/plain": [
       "   first_name  likes_pizza  number_of_horses\n",
       "id                                          \n",
       "10       John         True                 2\n",
       "20       Alex         <NA>              <NA>\n",
       "30     Daniel         True              <NA>"
      ]
     },
     "execution_count": 6,
     "metadata": {},
     "output_type": "execute_result"
    }
   ],
   "source": [
    "df.index = pd.Index([10, 20, 30], name='id') # a plain list would work but you'd lose the name ('id')\n",
    "df"
   ]
  },
  {
   "cell_type": "markdown",
   "metadata": {
    "slideshow": {
     "slide_type": "slide"
    }
   },
   "source": [
    "### Pro-tip: using functions (or other callables e.g. class methods) to rename indices or columns\n",
    "\n",
    "Pro-tip inside pro-tip: Consider getting familiar with **lambdas** (functions that only need one line) for pandas 🐼. It will make your code shorter."
   ]
  },
  {
   "cell_type": "code",
   "execution_count": 7,
   "metadata": {
    "slideshow": {
     "slide_type": "fragment"
    }
   },
   "outputs": [
    {
     "data": {
      "text/html": [
       "<div>\n",
       "<style scoped>\n",
       "    .dataframe tbody tr th:only-of-type {\n",
       "        vertical-align: middle;\n",
       "    }\n",
       "\n",
       "    .dataframe tbody tr th {\n",
       "        vertical-align: top;\n",
       "    }\n",
       "\n",
       "    .dataframe thead th {\n",
       "        text-align: right;\n",
       "    }\n",
       "</style>\n",
       "<table border=\"1\" class=\"dataframe\">\n",
       "  <thead>\n",
       "    <tr style=\"text-align: right;\">\n",
       "      <th></th>\n",
       "      <th>FIRST_NAME</th>\n",
       "      <th>LIKES_PIZZA</th>\n",
       "      <th>NUMBER_OF_HORSES</th>\n",
       "    </tr>\n",
       "    <tr>\n",
       "      <th>id</th>\n",
       "      <th></th>\n",
       "      <th></th>\n",
       "      <th></th>\n",
       "    </tr>\n",
       "  </thead>\n",
       "  <tbody>\n",
       "    <tr>\n",
       "      <th>10</th>\n",
       "      <td>John</td>\n",
       "      <td>True</td>\n",
       "      <td>2</td>\n",
       "    </tr>\n",
       "    <tr>\n",
       "      <th>20</th>\n",
       "      <td>Alex</td>\n",
       "      <td>&lt;NA&gt;</td>\n",
       "      <td>&lt;NA&gt;</td>\n",
       "    </tr>\n",
       "    <tr>\n",
       "      <th>30</th>\n",
       "      <td>Daniel</td>\n",
       "      <td>True</td>\n",
       "      <td>&lt;NA&gt;</td>\n",
       "    </tr>\n",
       "  </tbody>\n",
       "</table>\n",
       "</div>"
      ],
      "text/plain": [
       "   FIRST_NAME  LIKES_PIZZA  NUMBER_OF_HORSES\n",
       "id                                          \n",
       "10       John         True                 2\n",
       "20       Alex         <NA>              <NA>\n",
       "30     Daniel         True              <NA>"
      ]
     },
     "execution_count": 7,
     "metadata": {},
     "output_type": "execute_result"
    }
   ],
   "source": [
    "def rename_column(column):\n",
    "    # add safety in case we have a non string column\n",
    "    if isinstance(column, str):\n",
    "        return column.upper()\n",
    "    else:\n",
    "        return column\n",
    "\n",
    "# same thing as a one liner (note that you don't need a variable\n",
    "# you could pass this directly to the \"columns\" argument)\n",
    "rename_column = lambda c: c.upper() if isinstance(c, str) else c\n",
    "\n",
    "df.rename(columns=rename_column)"
   ]
  },
  {
   "cell_type": "markdown",
   "metadata": {
    "slideshow": {
     "slide_type": "slide"
    }
   },
   "source": [
    "See also the [example](https://github.com/ThibTrip/thib/tree/master/2021/pandas_crash_course/examples/rename/add_sheet_names_to_columns.ipynb) I made for Irene Sanjay who needed to read Excel sheets into pandas and add the sheet names to the columns."
   ]
  },
  {
   "cell_type": "markdown",
   "metadata": {
    "slideshow": {
     "slide_type": "slide"
    }
   },
   "source": [
    "## 5.5. Setting or resetting the index"
   ]
  },
  {
   "cell_type": "markdown",
   "metadata": {
    "slideshow": {
     "slide_type": "fragment"
    }
   },
   "source": [
    "🐼 Reminder: **index** and **columns** are **separate entities** in pandas! (indices are indicated on the left side in **bold**).\n",
    "\n",
    "Resetting the index (or an index level with the argument `level`) puts it into columns (if argument `drop` is `False` which is default otherwise the index/index level is deleted)"
   ]
  },
  {
   "cell_type": "code",
   "execution_count": 8,
   "metadata": {
    "slideshow": {
     "slide_type": "fragment"
    }
   },
   "outputs": [
    {
     "data": {
      "text/html": [
       "<div>\n",
       "<style scoped>\n",
       "    .dataframe tbody tr th:only-of-type {\n",
       "        vertical-align: middle;\n",
       "    }\n",
       "\n",
       "    .dataframe tbody tr th {\n",
       "        vertical-align: top;\n",
       "    }\n",
       "\n",
       "    .dataframe thead th {\n",
       "        text-align: right;\n",
       "    }\n",
       "</style>\n",
       "<table border=\"1\" class=\"dataframe\">\n",
       "  <thead>\n",
       "    <tr style=\"text-align: right;\">\n",
       "      <th></th>\n",
       "      <th>first_name</th>\n",
       "      <th>likes_pizza</th>\n",
       "      <th>number_of_horses</th>\n",
       "    </tr>\n",
       "    <tr>\n",
       "      <th>id</th>\n",
       "      <th></th>\n",
       "      <th></th>\n",
       "      <th></th>\n",
       "    </tr>\n",
       "  </thead>\n",
       "  <tbody>\n",
       "    <tr>\n",
       "      <th>10</th>\n",
       "      <td>John</td>\n",
       "      <td>True</td>\n",
       "      <td>2</td>\n",
       "    </tr>\n",
       "    <tr>\n",
       "      <th>20</th>\n",
       "      <td>Alex</td>\n",
       "      <td>&lt;NA&gt;</td>\n",
       "      <td>&lt;NA&gt;</td>\n",
       "    </tr>\n",
       "    <tr>\n",
       "      <th>30</th>\n",
       "      <td>Daniel</td>\n",
       "      <td>True</td>\n",
       "      <td>&lt;NA&gt;</td>\n",
       "    </tr>\n",
       "  </tbody>\n",
       "</table>\n",
       "</div>"
      ],
      "text/plain": [
       "   first_name  likes_pizza  number_of_horses\n",
       "id                                          \n",
       "10       John         True                 2\n",
       "20       Alex         <NA>              <NA>\n",
       "30     Daniel         True              <NA>"
      ]
     },
     "metadata": {},
     "output_type": "display_data"
    },
    {
     "data": {
      "text/html": [
       "<div>\n",
       "<style scoped>\n",
       "    .dataframe tbody tr th:only-of-type {\n",
       "        vertical-align: middle;\n",
       "    }\n",
       "\n",
       "    .dataframe tbody tr th {\n",
       "        vertical-align: top;\n",
       "    }\n",
       "\n",
       "    .dataframe thead th {\n",
       "        text-align: right;\n",
       "    }\n",
       "</style>\n",
       "<table border=\"1\" class=\"dataframe\">\n",
       "  <thead>\n",
       "    <tr style=\"text-align: right;\">\n",
       "      <th></th>\n",
       "      <th>id</th>\n",
       "      <th>first_name</th>\n",
       "      <th>likes_pizza</th>\n",
       "      <th>number_of_horses</th>\n",
       "    </tr>\n",
       "  </thead>\n",
       "  <tbody>\n",
       "    <tr>\n",
       "      <th>0</th>\n",
       "      <td>10</td>\n",
       "      <td>John</td>\n",
       "      <td>True</td>\n",
       "      <td>2</td>\n",
       "    </tr>\n",
       "    <tr>\n",
       "      <th>1</th>\n",
       "      <td>20</td>\n",
       "      <td>Alex</td>\n",
       "      <td>&lt;NA&gt;</td>\n",
       "      <td>&lt;NA&gt;</td>\n",
       "    </tr>\n",
       "    <tr>\n",
       "      <th>2</th>\n",
       "      <td>30</td>\n",
       "      <td>Daniel</td>\n",
       "      <td>True</td>\n",
       "      <td>&lt;NA&gt;</td>\n",
       "    </tr>\n",
       "  </tbody>\n",
       "</table>\n",
       "</div>"
      ],
      "text/plain": [
       "   id first_name  likes_pizza  number_of_horses\n",
       "0  10       John         True                 2\n",
       "1  20       Alex         <NA>              <NA>\n",
       "2  30     Daniel         True              <NA>"
      ]
     },
     "execution_count": 8,
     "metadata": {},
     "output_type": "execute_result"
    }
   ],
   "source": [
    "display(df)\n",
    "df.reset_index(inplace=True)\n",
    "df"
   ]
  },
  {
   "cell_type": "markdown",
   "metadata": {
    "slideshow": {
     "slide_type": "slide"
    }
   },
   "source": [
    "Set column(s) as the index by passing a str or a list of str"
   ]
  },
  {
   "cell_type": "code",
   "execution_count": 9,
   "metadata": {
    "slideshow": {
     "slide_type": "fragment"
    }
   },
   "outputs": [
    {
     "data": {
      "text/html": [
       "<div>\n",
       "<style scoped>\n",
       "    .dataframe tbody tr th:only-of-type {\n",
       "        vertical-align: middle;\n",
       "    }\n",
       "\n",
       "    .dataframe tbody tr th {\n",
       "        vertical-align: top;\n",
       "    }\n",
       "\n",
       "    .dataframe thead th {\n",
       "        text-align: right;\n",
       "    }\n",
       "</style>\n",
       "<table border=\"1\" class=\"dataframe\">\n",
       "  <thead>\n",
       "    <tr style=\"text-align: right;\">\n",
       "      <th></th>\n",
       "      <th>first_name</th>\n",
       "      <th>likes_pizza</th>\n",
       "      <th>number_of_horses</th>\n",
       "    </tr>\n",
       "    <tr>\n",
       "      <th>id</th>\n",
       "      <th></th>\n",
       "      <th></th>\n",
       "      <th></th>\n",
       "    </tr>\n",
       "  </thead>\n",
       "  <tbody>\n",
       "    <tr>\n",
       "      <th>10</th>\n",
       "      <td>John</td>\n",
       "      <td>True</td>\n",
       "      <td>2</td>\n",
       "    </tr>\n",
       "    <tr>\n",
       "      <th>20</th>\n",
       "      <td>Alex</td>\n",
       "      <td>&lt;NA&gt;</td>\n",
       "      <td>&lt;NA&gt;</td>\n",
       "    </tr>\n",
       "    <tr>\n",
       "      <th>30</th>\n",
       "      <td>Daniel</td>\n",
       "      <td>True</td>\n",
       "      <td>&lt;NA&gt;</td>\n",
       "    </tr>\n",
       "  </tbody>\n",
       "</table>\n",
       "</div>"
      ],
      "text/plain": [
       "   first_name  likes_pizza  number_of_horses\n",
       "id                                          \n",
       "10       John         True                 2\n",
       "20       Alex         <NA>              <NA>\n",
       "30     Daniel         True              <NA>"
      ]
     },
     "execution_count": 9,
     "metadata": {},
     "output_type": "execute_result"
    }
   ],
   "source": [
    "df.set_index('id', inplace=True)\n",
    "df"
   ]
  },
  {
   "cell_type": "markdown",
   "metadata": {
    "slideshow": {
     "slide_type": "slide"
    }
   },
   "source": [
    "## 5.6. Inserting a column at a specific position\n",
    "\n",
    "(Instead of at the end by default)"
   ]
  },
  {
   "cell_type": "markdown",
   "metadata": {
    "slideshow": {
     "slide_type": "fragment"
    }
   },
   "source": [
    "Unlike most methods `pd.DataFrame.insert` does not require `inplace` or asssignment"
   ]
  },
  {
   "cell_type": "code",
   "execution_count": 10,
   "metadata": {
    "scrolled": true,
    "slideshow": {
     "slide_type": "fragment"
    }
   },
   "outputs": [
    {
     "data": {
      "text/html": [
       "<div>\n",
       "<style scoped>\n",
       "    .dataframe tbody tr th:only-of-type {\n",
       "        vertical-align: middle;\n",
       "    }\n",
       "\n",
       "    .dataframe tbody tr th {\n",
       "        vertical-align: top;\n",
       "    }\n",
       "\n",
       "    .dataframe thead th {\n",
       "        text-align: right;\n",
       "    }\n",
       "</style>\n",
       "<table border=\"1\" class=\"dataframe\">\n",
       "  <thead>\n",
       "    <tr style=\"text-align: right;\">\n",
       "      <th></th>\n",
       "      <th>test</th>\n",
       "      <th>first_name</th>\n",
       "      <th>likes_pizza</th>\n",
       "      <th>number_of_horses</th>\n",
       "    </tr>\n",
       "    <tr>\n",
       "      <th>id</th>\n",
       "      <th></th>\n",
       "      <th></th>\n",
       "      <th></th>\n",
       "      <th></th>\n",
       "    </tr>\n",
       "  </thead>\n",
       "  <tbody>\n",
       "    <tr>\n",
       "      <th>10</th>\n",
       "      <td>&lt;NA&gt;</td>\n",
       "      <td>John</td>\n",
       "      <td>True</td>\n",
       "      <td>2</td>\n",
       "    </tr>\n",
       "    <tr>\n",
       "      <th>20</th>\n",
       "      <td>&lt;NA&gt;</td>\n",
       "      <td>Alex</td>\n",
       "      <td>&lt;NA&gt;</td>\n",
       "      <td>&lt;NA&gt;</td>\n",
       "    </tr>\n",
       "    <tr>\n",
       "      <th>30</th>\n",
       "      <td>&lt;NA&gt;</td>\n",
       "      <td>Daniel</td>\n",
       "      <td>True</td>\n",
       "      <td>&lt;NA&gt;</td>\n",
       "    </tr>\n",
       "  </tbody>\n",
       "</table>\n",
       "</div>"
      ],
      "text/plain": [
       "    test first_name  likes_pizza  number_of_horses\n",
       "id                                                \n",
       "10  <NA>       John         True                 2\n",
       "20  <NA>       Alex         <NA>              <NA>\n",
       "30  <NA>     Daniel         True              <NA>"
      ]
     },
     "execution_count": 10,
     "metadata": {},
     "output_type": "execute_result"
    }
   ],
   "source": [
    "df.insert(loc=0, column='test', value=pd.NA) # pd.NA is the new null value from pandas\n",
    "df"
   ]
  },
  {
   "cell_type": "markdown",
   "metadata": {
    "slideshow": {
     "slide_type": "slide"
    }
   },
   "source": [
    "## 5.7. Value counts"
   ]
  },
  {
   "cell_type": "code",
   "execution_count": 11,
   "metadata": {
    "slideshow": {
     "slide_type": "fragment"
    }
   },
   "outputs": [
    {
     "data": {
      "text/html": [
       "<div>\n",
       "<style scoped>\n",
       "    .dataframe tbody tr th:only-of-type {\n",
       "        vertical-align: middle;\n",
       "    }\n",
       "\n",
       "    .dataframe tbody tr th {\n",
       "        vertical-align: top;\n",
       "    }\n",
       "\n",
       "    .dataframe thead th {\n",
       "        text-align: right;\n",
       "    }\n",
       "</style>\n",
       "<table border=\"1\" class=\"dataframe\">\n",
       "  <thead>\n",
       "    <tr style=\"text-align: right;\">\n",
       "      <th></th>\n",
       "      <th>first_name</th>\n",
       "      <th>last_name</th>\n",
       "    </tr>\n",
       "  </thead>\n",
       "  <tbody>\n",
       "    <tr>\n",
       "      <th>0</th>\n",
       "      <td>John</td>\n",
       "      <td>Rambo</td>\n",
       "    </tr>\n",
       "    <tr>\n",
       "      <th>1</th>\n",
       "      <td>John</td>\n",
       "      <td>Travolta</td>\n",
       "    </tr>\n",
       "    <tr>\n",
       "      <th>2</th>\n",
       "      <td>John</td>\n",
       "      <td>Doe</td>\n",
       "    </tr>\n",
       "    <tr>\n",
       "      <th>3</th>\n",
       "      <td>John</td>\n",
       "      <td>Doe</td>\n",
       "    </tr>\n",
       "    <tr>\n",
       "      <th>4</th>\n",
       "      <td>Jane</td>\n",
       "      <td>Doe</td>\n",
       "    </tr>\n",
       "    <tr>\n",
       "      <th>5</th>\n",
       "      <td>&lt;NA&gt;</td>\n",
       "      <td>&lt;NA&gt;</td>\n",
       "    </tr>\n",
       "  </tbody>\n",
       "</table>\n",
       "</div>"
      ],
      "text/plain": [
       "  first_name last_name\n",
       "0       John     Rambo\n",
       "1       John  Travolta\n",
       "2       John       Doe\n",
       "3       John       Doe\n",
       "4       Jane       Doe\n",
       "5       <NA>      <NA>"
      ]
     },
     "execution_count": 11,
     "metadata": {},
     "output_type": "execute_result"
    }
   ],
   "source": [
    "df = pd.DataFrame({'first_name':['John']*4 + ['Jane', pd.NA],\n",
    "                   'last_name':['Rambo', 'Travolta', 'Doe', 'Doe', 'Doe', pd.NA]})\n",
    "df"
   ]
  },
  {
   "cell_type": "code",
   "execution_count": 12,
   "metadata": {
    "slideshow": {
     "slide_type": "slide"
    }
   },
   "outputs": [
    {
     "data": {
      "text/plain": [
       "0    John\n",
       "1    John\n",
       "2    John\n",
       "3    John\n",
       "4    Jane\n",
       "5    <NA>\n",
       "Name: first_name, dtype: object"
      ]
     },
     "metadata": {},
     "output_type": "display_data"
    },
    {
     "data": {
      "text/plain": [
       "John    4\n",
       "Jane    1\n",
       "Name: first_name, dtype: int64"
      ]
     },
     "execution_count": 12,
     "metadata": {},
     "output_type": "execute_result"
    }
   ],
   "source": [
    "display(df['first_name'])\n",
    "df['first_name'].value_counts() # ⚠️ default (dropna=True means nulls values are not counted)"
   ]
  },
  {
   "cell_type": "code",
   "execution_count": 13,
   "metadata": {
    "slideshow": {
     "slide_type": "fragment"
    }
   },
   "outputs": [
    {
     "data": {
      "text/plain": [
       "John    4\n",
       "Jane    1\n",
       "NaN     1\n",
       "Name: first_name, dtype: int64"
      ]
     },
     "execution_count": 13,
     "metadata": {},
     "output_type": "execute_result"
    }
   ],
   "source": [
    "df['first_name'].value_counts(dropna=False)"
   ]
  },
  {
   "cell_type": "markdown",
   "metadata": {
    "slideshow": {
     "slide_type": "slide"
    }
   },
   "source": [
    "there is a (somewhat) new method for DataFrames with the same purpose as for Series. However it does not count nulls (and there is no parameter for it) so you'd have to use a placeholder or something to get around that like I do here 🐒"
   ]
  },
  {
   "cell_type": "code",
   "execution_count": 14,
   "metadata": {
    "slideshow": {
     "slide_type": "fragment"
    }
   },
   "outputs": [
    {
     "data": {
      "text/plain": [
       "first_name  last_name\n",
       "John        Doe          2\n",
       "            Travolta     1\n",
       "            Rambo        1\n",
       "Jane        Doe          1\n",
       "???         ???          1\n",
       "dtype: int64"
      ]
     },
     "execution_count": 14,
     "metadata": {},
     "output_type": "execute_result"
    }
   ],
   "source": [
    "# fillna is used to replace NULL (pd.NA, None or similar null value) with a value\n",
    "df.fillna('???').value_counts(subset=['first_name', 'last_name'])"
   ]
  },
  {
   "cell_type": "markdown",
   "metadata": {
    "slideshow": {
     "slide_type": "slide"
    }
   },
   "source": [
    "# 6. String operations\n",
    "\n",
    "Many string operations have been \"integrated\" into `pandas` directly and are accessible under `pd.Series.str`"
   ]
  },
  {
   "cell_type": "code",
   "execution_count": 15,
   "metadata": {
    "slideshow": {
     "slide_type": "fragment"
    }
   },
   "outputs": [
    {
     "data": {
      "text/html": [
       "<div>\n",
       "<style scoped>\n",
       "    .dataframe tbody tr th:only-of-type {\n",
       "        vertical-align: middle;\n",
       "    }\n",
       "\n",
       "    .dataframe tbody tr th {\n",
       "        vertical-align: top;\n",
       "    }\n",
       "\n",
       "    .dataframe thead th {\n",
       "        text-align: right;\n",
       "    }\n",
       "</style>\n",
       "<table border=\"1\" class=\"dataframe\">\n",
       "  <thead>\n",
       "    <tr style=\"text-align: right;\">\n",
       "      <th></th>\n",
       "      <th>name</th>\n",
       "      <th>favorite_dish</th>\n",
       "    </tr>\n",
       "  </thead>\n",
       "  <tbody>\n",
       "    <tr>\n",
       "      <th>0</th>\n",
       "      <td>____Thibault</td>\n",
       "      <td>salad</td>\n",
       "    </tr>\n",
       "    <tr>\n",
       "      <th>1</th>\n",
       "      <td>John</td>\n",
       "      <td>spaghetti al pesto</td>\n",
       "    </tr>\n",
       "    <tr>\n",
       "      <th>2</th>\n",
       "      <td>Alex</td>\n",
       "      <td>&lt;NA&gt;</td>\n",
       "    </tr>\n",
       "    <tr>\n",
       "      <th>3</th>\n",
       "      <td>Daniel</td>\n",
       "      <td>pasta</td>\n",
       "    </tr>\n",
       "  </tbody>\n",
       "</table>\n",
       "</div>"
      ],
      "text/plain": [
       "           name       favorite_dish\n",
       "0  ____Thibault               salad\n",
       "1          John  spaghetti al pesto\n",
       "2          Alex                <NA>\n",
       "3        Daniel               pasta"
      ]
     },
     "execution_count": 15,
     "metadata": {},
     "output_type": "execute_result"
    }
   ],
   "source": [
    "df = pd.DataFrame({'name':['____Thibault', 'John', 'Alex', 'Daniel'],\n",
    "                   'favorite_dish':['salad', 'spaghetti al pesto', pd.NA, 'pasta']})\n",
    "df"
   ]
  },
  {
   "cell_type": "markdown",
   "metadata": {
    "slideshow": {
     "slide_type": "slide"
    }
   },
   "source": [
    "`str.strip()`"
   ]
  },
  {
   "cell_type": "code",
   "execution_count": 16,
   "metadata": {
    "slideshow": {
     "slide_type": "fragment"
    }
   },
   "outputs": [
    {
     "data": {
      "text/html": [
       "<div>\n",
       "<style scoped>\n",
       "    .dataframe tbody tr th:only-of-type {\n",
       "        vertical-align: middle;\n",
       "    }\n",
       "\n",
       "    .dataframe tbody tr th {\n",
       "        vertical-align: top;\n",
       "    }\n",
       "\n",
       "    .dataframe thead th {\n",
       "        text-align: right;\n",
       "    }\n",
       "</style>\n",
       "<table border=\"1\" class=\"dataframe\">\n",
       "  <thead>\n",
       "    <tr style=\"text-align: right;\">\n",
       "      <th></th>\n",
       "      <th>name</th>\n",
       "      <th>favorite_dish</th>\n",
       "    </tr>\n",
       "  </thead>\n",
       "  <tbody>\n",
       "    <tr>\n",
       "      <th>0</th>\n",
       "      <td>____Thibault</td>\n",
       "      <td>salad</td>\n",
       "    </tr>\n",
       "    <tr>\n",
       "      <th>1</th>\n",
       "      <td>John</td>\n",
       "      <td>spaghetti al pesto</td>\n",
       "    </tr>\n",
       "    <tr>\n",
       "      <th>2</th>\n",
       "      <td>Alex</td>\n",
       "      <td>&lt;NA&gt;</td>\n",
       "    </tr>\n",
       "    <tr>\n",
       "      <th>3</th>\n",
       "      <td>Daniel</td>\n",
       "      <td>pasta</td>\n",
       "    </tr>\n",
       "  </tbody>\n",
       "</table>\n",
       "</div>"
      ],
      "text/plain": [
       "           name       favorite_dish\n",
       "0  ____Thibault               salad\n",
       "1          John  spaghetti al pesto\n",
       "2          Alex                <NA>\n",
       "3        Daniel               pasta"
      ]
     },
     "metadata": {},
     "output_type": "display_data"
    },
    {
     "data": {
      "text/html": [
       "<div>\n",
       "<style scoped>\n",
       "    .dataframe tbody tr th:only-of-type {\n",
       "        vertical-align: middle;\n",
       "    }\n",
       "\n",
       "    .dataframe tbody tr th {\n",
       "        vertical-align: top;\n",
       "    }\n",
       "\n",
       "    .dataframe thead th {\n",
       "        text-align: right;\n",
       "    }\n",
       "</style>\n",
       "<table border=\"1\" class=\"dataframe\">\n",
       "  <thead>\n",
       "    <tr style=\"text-align: right;\">\n",
       "      <th></th>\n",
       "      <th>name</th>\n",
       "      <th>favorite_dish</th>\n",
       "    </tr>\n",
       "  </thead>\n",
       "  <tbody>\n",
       "    <tr>\n",
       "      <th>0</th>\n",
       "      <td>Thibault</td>\n",
       "      <td>salad</td>\n",
       "    </tr>\n",
       "    <tr>\n",
       "      <th>1</th>\n",
       "      <td>John</td>\n",
       "      <td>spaghetti al pesto</td>\n",
       "    </tr>\n",
       "    <tr>\n",
       "      <th>2</th>\n",
       "      <td>Alex</td>\n",
       "      <td>&lt;NA&gt;</td>\n",
       "    </tr>\n",
       "    <tr>\n",
       "      <th>3</th>\n",
       "      <td>Daniel</td>\n",
       "      <td>pasta</td>\n",
       "    </tr>\n",
       "  </tbody>\n",
       "</table>\n",
       "</div>"
      ],
      "text/plain": [
       "       name       favorite_dish\n",
       "0  Thibault               salad\n",
       "1      John  spaghetti al pesto\n",
       "2      Alex                <NA>\n",
       "3    Daniel               pasta"
      ]
     },
     "execution_count": 16,
     "metadata": {},
     "output_type": "execute_result"
    }
   ],
   "source": [
    "display(df)\n",
    "df['name'] = df['name'].str.strip('_')\n",
    "df"
   ]
  },
  {
   "cell_type": "markdown",
   "metadata": {
    "slideshow": {
     "slide_type": "slide"
    }
   },
   "source": [
    "`str.upper()`"
   ]
  },
  {
   "cell_type": "code",
   "execution_count": 17,
   "metadata": {
    "slideshow": {
     "slide_type": "fragment"
    }
   },
   "outputs": [
    {
     "data": {
      "text/html": [
       "<div>\n",
       "<style scoped>\n",
       "    .dataframe tbody tr th:only-of-type {\n",
       "        vertical-align: middle;\n",
       "    }\n",
       "\n",
       "    .dataframe tbody tr th {\n",
       "        vertical-align: top;\n",
       "    }\n",
       "\n",
       "    .dataframe thead th {\n",
       "        text-align: right;\n",
       "    }\n",
       "</style>\n",
       "<table border=\"1\" class=\"dataframe\">\n",
       "  <thead>\n",
       "    <tr style=\"text-align: right;\">\n",
       "      <th></th>\n",
       "      <th>name</th>\n",
       "      <th>favorite_dish</th>\n",
       "    </tr>\n",
       "  </thead>\n",
       "  <tbody>\n",
       "    <tr>\n",
       "      <th>0</th>\n",
       "      <td>THIBAULT</td>\n",
       "      <td>salad</td>\n",
       "    </tr>\n",
       "    <tr>\n",
       "      <th>1</th>\n",
       "      <td>JOHN</td>\n",
       "      <td>spaghetti al pesto</td>\n",
       "    </tr>\n",
       "    <tr>\n",
       "      <th>2</th>\n",
       "      <td>ALEX</td>\n",
       "      <td>&lt;NA&gt;</td>\n",
       "    </tr>\n",
       "    <tr>\n",
       "      <th>3</th>\n",
       "      <td>DANIEL</td>\n",
       "      <td>pasta</td>\n",
       "    </tr>\n",
       "  </tbody>\n",
       "</table>\n",
       "</div>"
      ],
      "text/plain": [
       "       name       favorite_dish\n",
       "0  THIBAULT               salad\n",
       "1      JOHN  spaghetti al pesto\n",
       "2      ALEX                <NA>\n",
       "3    DANIEL               pasta"
      ]
     },
     "execution_count": 17,
     "metadata": {},
     "output_type": "execute_result"
    }
   ],
   "source": [
    "df['name'] = df['name'].str.upper()\n",
    "df"
   ]
  },
  {
   "cell_type": "markdown",
   "metadata": {
    "slideshow": {
     "slide_type": "slide"
    }
   },
   "source": [
    "I think you get the point. There are many more [string methods](https://pandas.pydata.org/docs/user_guide/text.html#method-summary) explained in the docs"
   ]
  },
  {
   "cell_type": "markdown",
   "metadata": {
    "slideshow": {
     "slide_type": "slide"
    }
   },
   "source": [
    "An interesting method is `str.contains` which is very useful to make masks. Below is an example. It is rather stupid 🐒 be we'll optimize this in the next step. Here we are going to keep only rows of people who like italian food.\n",
    "\n",
    "Note: the argument `regex` in `str.contains` is to indicate if we are using the language called [regular expression](https://en.wikipedia.org/wiki/Regular_expression) (it's super useful in pandas). We'll see that after."
   ]
  },
  {
   "cell_type": "code",
   "execution_count": 18,
   "metadata": {
    "scrolled": true,
    "slideshow": {
     "slide_type": "fragment"
    }
   },
   "outputs": [
    {
     "data": {
      "text/plain": [
       "0    False\n",
       "1     True\n",
       "2    False\n",
       "3     True\n",
       "Name: likes_italian_food, dtype: bool"
      ]
     },
     "metadata": {},
     "output_type": "display_data"
    },
    {
     "data": {
      "text/html": [
       "<div>\n",
       "<style scoped>\n",
       "    .dataframe tbody tr th:only-of-type {\n",
       "        vertical-align: middle;\n",
       "    }\n",
       "\n",
       "    .dataframe tbody tr th {\n",
       "        vertical-align: top;\n",
       "    }\n",
       "\n",
       "    .dataframe thead th {\n",
       "        text-align: right;\n",
       "    }\n",
       "</style>\n",
       "<table border=\"1\" class=\"dataframe\">\n",
       "  <thead>\n",
       "    <tr style=\"text-align: right;\">\n",
       "      <th></th>\n",
       "      <th>name</th>\n",
       "      <th>favorite_dish</th>\n",
       "    </tr>\n",
       "  </thead>\n",
       "  <tbody>\n",
       "    <tr>\n",
       "      <th>0</th>\n",
       "      <td>THIBAULT</td>\n",
       "      <td>salad</td>\n",
       "    </tr>\n",
       "    <tr>\n",
       "      <th>1</th>\n",
       "      <td>JOHN</td>\n",
       "      <td>spaghetti al pesto</td>\n",
       "    </tr>\n",
       "    <tr>\n",
       "      <th>2</th>\n",
       "      <td>ALEX</td>\n",
       "      <td>&lt;NA&gt;</td>\n",
       "    </tr>\n",
       "    <tr>\n",
       "      <th>3</th>\n",
       "      <td>DANIEL</td>\n",
       "      <td>pasta</td>\n",
       "    </tr>\n",
       "  </tbody>\n",
       "</table>\n",
       "</div>"
      ],
      "text/plain": [
       "       name       favorite_dish\n",
       "0  THIBAULT               salad\n",
       "1      JOHN  spaghetti al pesto\n",
       "2      ALEX                <NA>\n",
       "3    DANIEL               pasta"
      ]
     },
     "metadata": {},
     "output_type": "display_data"
    },
    {
     "data": {
      "text/html": [
       "<div>\n",
       "<style scoped>\n",
       "    .dataframe tbody tr th:only-of-type {\n",
       "        vertical-align: middle;\n",
       "    }\n",
       "\n",
       "    .dataframe tbody tr th {\n",
       "        vertical-align: top;\n",
       "    }\n",
       "\n",
       "    .dataframe thead th {\n",
       "        text-align: right;\n",
       "    }\n",
       "</style>\n",
       "<table border=\"1\" class=\"dataframe\">\n",
       "  <thead>\n",
       "    <tr style=\"text-align: right;\">\n",
       "      <th></th>\n",
       "      <th>name</th>\n",
       "      <th>favorite_dish</th>\n",
       "    </tr>\n",
       "  </thead>\n",
       "  <tbody>\n",
       "    <tr>\n",
       "      <th>1</th>\n",
       "      <td>JOHN</td>\n",
       "      <td>spaghetti al pesto</td>\n",
       "    </tr>\n",
       "    <tr>\n",
       "      <th>3</th>\n",
       "      <td>DANIEL</td>\n",
       "      <td>pasta</td>\n",
       "    </tr>\n",
       "  </tbody>\n",
       "</table>\n",
       "</div>"
      ],
      "text/plain": [
       "     name       favorite_dish\n",
       "1    JOHN  spaghetti al pesto\n",
       "3  DANIEL               pasta"
      ]
     },
     "execution_count": 18,
     "metadata": {},
     "output_type": "execute_result"
    }
   ],
   "source": [
    "# construct mask\n",
    "# tell me for each value in column \"favorite_dish\" if it contains \"spaghetti\" (e.g. \"spaghetti al pesto\")\n",
    "likes_spaghetti = df['favorite_dish'].str.contains(pat='spaghetti',\n",
    "                                                   regex=False,\n",
    "                                                   na=False) # IMPORTANT! how to evaluate NULLs\n",
    "# tell me for each value in column \"favorite_dish\" if it contains \"pasta\"\n",
    "likes_pasta = df['favorite_dish'].str.contains(pat='pasta', regex=False, na=False)\n",
    "likes_italian_food = likes_spaghetti | likes_pasta # combine conditions described above with an OR\n",
    "\n",
    "# show the mask then show the segment where the mask is True\n",
    "# I renamed the Series containing the mask so the output is more self explanatory\n",
    "display(likes_italian_food.rename('likes_italian_food'))\n",
    "display(df)\n",
    "df.loc[likes_italian_food, :]"
   ]
  },
  {
   "cell_type": "markdown",
   "metadata": {
    "slideshow": {
     "slide_type": "slide"
    }
   },
   "source": [
    "Here's how to do the same thing more easely by using a regex ([regular expression](https://en.wikipedia.org/wiki/Regular_expression)) pattern."
   ]
  },
  {
   "cell_type": "code",
   "execution_count": 19,
   "metadata": {
    "scrolled": true,
    "slideshow": {
     "slide_type": "fragment"
    }
   },
   "outputs": [
    {
     "data": {
      "text/plain": [
       "0    False\n",
       "1     True\n",
       "2    False\n",
       "3     True\n",
       "Name: likes_italian_food, dtype: bool"
      ]
     },
     "metadata": {},
     "output_type": "display_data"
    },
    {
     "data": {
      "text/html": [
       "<div>\n",
       "<style scoped>\n",
       "    .dataframe tbody tr th:only-of-type {\n",
       "        vertical-align: middle;\n",
       "    }\n",
       "\n",
       "    .dataframe tbody tr th {\n",
       "        vertical-align: top;\n",
       "    }\n",
       "\n",
       "    .dataframe thead th {\n",
       "        text-align: right;\n",
       "    }\n",
       "</style>\n",
       "<table border=\"1\" class=\"dataframe\">\n",
       "  <thead>\n",
       "    <tr style=\"text-align: right;\">\n",
       "      <th></th>\n",
       "      <th>name</th>\n",
       "      <th>favorite_dish</th>\n",
       "    </tr>\n",
       "  </thead>\n",
       "  <tbody>\n",
       "    <tr>\n",
       "      <th>0</th>\n",
       "      <td>THIBAULT</td>\n",
       "      <td>salad</td>\n",
       "    </tr>\n",
       "    <tr>\n",
       "      <th>1</th>\n",
       "      <td>JOHN</td>\n",
       "      <td>spaghetti al pesto</td>\n",
       "    </tr>\n",
       "    <tr>\n",
       "      <th>2</th>\n",
       "      <td>ALEX</td>\n",
       "      <td>&lt;NA&gt;</td>\n",
       "    </tr>\n",
       "    <tr>\n",
       "      <th>3</th>\n",
       "      <td>DANIEL</td>\n",
       "      <td>pasta</td>\n",
       "    </tr>\n",
       "  </tbody>\n",
       "</table>\n",
       "</div>"
      ],
      "text/plain": [
       "       name       favorite_dish\n",
       "0  THIBAULT               salad\n",
       "1      JOHN  spaghetti al pesto\n",
       "2      ALEX                <NA>\n",
       "3    DANIEL               pasta"
      ]
     },
     "metadata": {},
     "output_type": "display_data"
    },
    {
     "data": {
      "text/html": [
       "<div>\n",
       "<style scoped>\n",
       "    .dataframe tbody tr th:only-of-type {\n",
       "        vertical-align: middle;\n",
       "    }\n",
       "\n",
       "    .dataframe tbody tr th {\n",
       "        vertical-align: top;\n",
       "    }\n",
       "\n",
       "    .dataframe thead th {\n",
       "        text-align: right;\n",
       "    }\n",
       "</style>\n",
       "<table border=\"1\" class=\"dataframe\">\n",
       "  <thead>\n",
       "    <tr style=\"text-align: right;\">\n",
       "      <th></th>\n",
       "      <th>name</th>\n",
       "      <th>favorite_dish</th>\n",
       "    </tr>\n",
       "  </thead>\n",
       "  <tbody>\n",
       "    <tr>\n",
       "      <th>1</th>\n",
       "      <td>JOHN</td>\n",
       "      <td>spaghetti al pesto</td>\n",
       "    </tr>\n",
       "    <tr>\n",
       "      <th>3</th>\n",
       "      <td>DANIEL</td>\n",
       "      <td>pasta</td>\n",
       "    </tr>\n",
       "  </tbody>\n",
       "</table>\n",
       "</div>"
      ],
      "text/plain": [
       "     name       favorite_dish\n",
       "1    JOHN  spaghetti al pesto\n",
       "3  DANIEL               pasta"
      ]
     },
     "execution_count": 19,
     "metadata": {},
     "output_type": "execute_result"
    }
   ],
   "source": [
    "import re\n",
    "\n",
    "# pattern (so called regular expression or regex) for \"spaghetti\" or \"pasta\"\n",
    "# use a compiled pattern for lots of data (better performance)\n",
    "re_italian_food = re.compile(r'spaghetti|pasta')\n",
    "\n",
    "# construct mask\n",
    "likes_italian_food = df['favorite_dish'].str.contains(pat=re_italian_food, regex=True, na=False)\n",
    "\n",
    "# show the mask then show the segment where the mask is True\n",
    "display(likes_italian_food.rename('likes_italian_food'))\n",
    "display(df)\n",
    "df.loc[likes_italian_food, :]"
   ]
  },
  {
   "cell_type": "markdown",
   "metadata": {
    "slideshow": {
     "slide_type": "slide"
    }
   },
   "source": [
    "### Pro-tip\n",
    "\n",
    "You can use the `str` accessor to slice individual elements 😎\n",
    "\n",
    "If name was a Series of list it would select the first element of each list"
   ]
  },
  {
   "cell_type": "code",
   "execution_count": 20,
   "metadata": {
    "slideshow": {
     "slide_type": "fragment"
    }
   },
   "outputs": [
    {
     "data": {
      "text/plain": [
       "0    THIBAULT\n",
       "1        JOHN\n",
       "2        ALEX\n",
       "3      DANIEL\n",
       "Name: name, dtype: object"
      ]
     },
     "metadata": {},
     "output_type": "display_data"
    },
    {
     "data": {
      "text/plain": [
       "0    TH\n",
       "1    JO\n",
       "2    AL\n",
       "3    DA\n",
       "Name: name, dtype: object"
      ]
     },
     "execution_count": 20,
     "metadata": {},
     "output_type": "execute_result"
    }
   ],
   "source": [
    "display(df['name'])\n",
    "df['name'].str[0:2] # same principle as for instance 'THIBAULT'[0:2] -> 'TH'"
   ]
  },
  {
   "cell_type": "markdown",
   "metadata": {
    "slideshow": {
     "slide_type": "slide"
    }
   },
   "source": [
    "# 7. Time operations\n",
    "\n",
    "⚠️ always use **UTC** when possible! This will avoid lots of hassle with timezones. Besides API usually use UTC as well. This does not only apply to pandas.\n",
    "\n",
    "If I need to deliver data to a customer of port-neo, I will do a timezone conversion at the very last step (so usually for vizualizations) within for instance a SQL query or SQL view.\n",
    "\n",
    "Let's create a Series with string timestamps that we will **convert** to the correct data type."
   ]
  },
  {
   "cell_type": "code",
   "execution_count": 21,
   "metadata": {
    "scrolled": true,
    "slideshow": {
     "slide_type": "fragment"
    }
   },
   "outputs": [
    {
     "data": {
      "text/plain": [
       "0    2020-01-15 10:00:00\n",
       "1    2020-02-20 20:00:00\n",
       "2    2020-01-01 12:00:00\n",
       "Name: timestamp, dtype: object"
      ]
     },
     "execution_count": 21,
     "metadata": {},
     "output_type": "execute_result"
    }
   ],
   "source": [
    "timestamps = ['2020-01-15 10:00:00', '2020-02-20 20:00:00', '2020-01-01 12:00:00']\n",
    "s = pd.Series(timestamps, name='timestamp')\n",
    "s"
   ]
  },
  {
   "cell_type": "markdown",
   "metadata": {
    "slideshow": {
     "slide_type": "fragment"
    }
   },
   "source": [
    "⚠️ This is not a pandas Series of datetime yet! Those are still strings that we need to convert (we can see the \"object\" dtype indicating it's still strings)."
   ]
  },
  {
   "cell_type": "markdown",
   "metadata": {
    "slideshow": {
     "slide_type": "slide"
    }
   },
   "source": [
    "converting a Series to the datetime dtype"
   ]
  },
  {
   "cell_type": "code",
   "execution_count": 22,
   "metadata": {
    "scrolled": true,
    "slideshow": {
     "slide_type": "fragment"
    }
   },
   "outputs": [
    {
     "data": {
      "text/plain": [
       "0   2020-01-15 10:00:00+00:00\n",
       "1   2020-02-20 20:00:00+00:00\n",
       "2   2020-01-01 12:00:00+00:00\n",
       "Name: timestamp, dtype: datetime64[ns, UTC]"
      ]
     },
     "execution_count": 22,
     "metadata": {},
     "output_type": "execute_result"
    }
   ],
   "source": [
    "s = pd.to_datetime(s, utc=True) # I'll say my timestamps are in UTC (no conversion happens here! the timezone info does not even exist in my strings)\n",
    "s"
   ]
  },
  {
   "cell_type": "markdown",
   "metadata": {
    "slideshow": {
     "slide_type": "slide"
    }
   },
   "source": [
    "time operations are available via the `dt` accessor"
   ]
  },
  {
   "cell_type": "code",
   "execution_count": 23,
   "metadata": {
    "slideshow": {
     "slide_type": "fragment"
    }
   },
   "outputs": [
    {
     "data": {
      "text/plain": [
       "0    2020\n",
       "1    2020\n",
       "2    2020\n",
       "Name: timestamp, dtype: int64"
      ]
     },
     "execution_count": 23,
     "metadata": {},
     "output_type": "execute_result"
    }
   ],
   "source": [
    "s.dt.year"
   ]
  },
  {
   "cell_type": "code",
   "execution_count": 24,
   "metadata": {
    "slideshow": {
     "slide_type": "fragment"
    }
   },
   "outputs": [
    {
     "data": {
      "text/plain": [
       "0   2020-01-15 11:00:00+01:00\n",
       "1   2020-02-20 21:00:00+01:00\n",
       "2   2020-01-01 13:00:00+01:00\n",
       "Name: timestamp, dtype: datetime64[ns, Europe/Berlin]"
      ]
     },
     "execution_count": 24,
     "metadata": {},
     "output_type": "execute_result"
    }
   ],
   "source": [
    "s.dt.tz_convert('Europe/Berlin') # timezone conversion"
   ]
  },
  {
   "cell_type": "code",
   "execution_count": 25,
   "metadata": {
    "slideshow": {
     "slide_type": "fragment"
    }
   },
   "outputs": [
    {
     "data": {
      "text/plain": [
       "0   2020-01-15 10:00:00+00:00\n",
       "1   2020-02-20 20:00:00+00:00\n",
       "2   2020-01-01 12:00:00+00:00\n",
       "Name: timestamp, dtype: datetime64[ns, UTC]"
      ]
     },
     "metadata": {},
     "output_type": "display_data"
    },
    {
     "data": {
      "text/plain": [
       "0   2020-01-05 05:00:00+00:00\n",
       "1   2020-02-10 15:00:00+00:00\n",
       "2   2019-12-22 07:00:00+00:00\n",
       "Name: timestamp, dtype: datetime64[ns, UTC]"
      ]
     },
     "execution_count": 25,
     "metadata": {},
     "output_type": "execute_result"
    }
   ],
   "source": [
    "display(s)\n",
    "s - pd.Timedelta(days=10, hours=5) # this is pretty cool, we can just substract 10 days +5hours to all timestamps like that"
   ]
  },
  {
   "cell_type": "markdown",
   "metadata": {
    "slideshow": {
     "slide_type": "slide"
    }
   },
   "source": [
    "you can get timedeltas between two datetime Series"
   ]
  },
  {
   "cell_type": "code",
   "execution_count": 26,
   "metadata": {
    "slideshow": {
     "slide_type": "fragment"
    }
   },
   "outputs": [
    {
     "data": {
      "text/plain": [
       "0    379 days 00:00:00\n",
       "1     17 days 21:00:00\n",
       "2   -61 days +00:00:00\n",
       "dtype: timedelta64[ns]"
      ]
     },
     "execution_count": 26,
     "metadata": {},
     "output_type": "execute_result"
    }
   ],
   "source": [
    "s2 = pd.Series(['2019-01-01 10:00:00', '2020-02-02 23:00:00', '2020-03-02 12:00:00'])\n",
    "s2 = pd.to_datetime(s2, utc=True)\n",
    "\n",
    "s_deltas = s - s2\n",
    "s_deltas"
   ]
  },
  {
   "cell_type": "code",
   "execution_count": 27,
   "metadata": {
    "slideshow": {
     "slide_type": "fragment"
    }
   },
   "outputs": [
    {
     "data": {
      "text/plain": [
       "0    379\n",
       "1     17\n",
       "2    -61\n",
       "dtype: int64"
      ]
     },
     "execution_count": 27,
     "metadata": {},
     "output_type": "execute_result"
    }
   ],
   "source": [
    "s_deltas.dt.days"
   ]
  },
  {
   "cell_type": "markdown",
   "metadata": {
    "slideshow": {
     "slide_type": "slide"
    }
   },
   "source": [
    "Pro tip: you can also use pandas for time operations outside of Series"
   ]
  },
  {
   "cell_type": "code",
   "execution_count": 28,
   "metadata": {
    "slideshow": {
     "slide_type": "fragment"
    }
   },
   "outputs": [
    {
     "name": "stdout",
     "output_type": "stream",
     "text": [
      "Current timestamp in UTC: 2021-02-27 17:57:11.114102+00:00\n",
      "\n",
      "Day of the month:27\n"
     ]
    },
    {
     "data": {
      "text/plain": [
       "Timestamp('2020-11-27 17:57:11.114102+0000', tz='UTC')"
      ]
     },
     "execution_count": 28,
     "metadata": {},
     "output_type": "execute_result"
    }
   ],
   "source": [
    "from dateutil import relativedelta\n",
    "\n",
    "ts = pd.Timestamp('now', tz='utc') # current date and time in UTC\n",
    "print(f'Current timestamp in UTC: {ts}\\n')\n",
    "\n",
    "print(f'Day of the month:{ts.day}') # print which day of the month it is\n",
    "\n",
    "# which date and time do we get if we substract 3 months?\n",
    "# note here that we can even interact with the standard library relativedelta!\n",
    "three_months_ago = ts - relativedelta.relativedelta(months=3)\n",
    "three_months_ago"
   ]
  },
  {
   "cell_type": "code",
   "execution_count": 29,
   "metadata": {
    "scrolled": true,
    "slideshow": {
     "slide_type": "fragment"
    }
   },
   "outputs": [
    {
     "data": {
      "text/plain": [
       "Timestamp('2021-02-24 17:57:11.114102+0000', tz='UTC')"
      ]
     },
     "execution_count": 29,
     "metadata": {},
     "output_type": "execute_result"
    }
   ],
   "source": [
    "three_days_ago = ts - pd.Timedelta(days=3) # 3 days ago\n",
    "three_days_ago"
   ]
  },
  {
   "cell_type": "markdown",
   "metadata": {
    "slideshow": {
     "slide_type": "slide"
    }
   },
   "source": [
    "convert `pd.Timestamp` to regular `datetime.datetime` if needed"
   ]
  },
  {
   "cell_type": "code",
   "execution_count": 30,
   "metadata": {
    "slideshow": {
     "slide_type": "fragment"
    }
   },
   "outputs": [
    {
     "data": {
      "text/plain": [
       "datetime.datetime(2021, 2, 24, 17, 57, 11, 114102, tzinfo=<UTC>)"
      ]
     },
     "execution_count": 30,
     "metadata": {},
     "output_type": "execute_result"
    }
   ],
   "source": [
    "py_dt = three_days_ago.to_pydatetime()\n",
    "py_dt"
   ]
  },
  {
   "cell_type": "markdown",
   "metadata": {
    "slideshow": {
     "slide_type": "slide"
    }
   },
   "source": [
    "# 8. Transformations"
   ]
  },
  {
   "cell_type": "markdown",
   "metadata": {
    "slideshow": {
     "slide_type": "slide"
    }
   },
   "source": [
    "Let me create (or rather copy paste from [stackoverflow](https://stackoverflow.com/a/44923103)) a function to display DataFrames side by side. "
   ]
  },
  {
   "cell_type": "code",
   "execution_count": 31,
   "metadata": {
    "slideshow": {
     "slide_type": "fragment"
    }
   },
   "outputs": [],
   "source": [
    "from IPython.display import display_html\n",
    "def display_side_by_side(*args):\n",
    "    display_html(''.join(df.to_html() for df in args).replace('table','table style=\"display:inline\"'),raw=True)"
   ]
  },
  {
   "cell_type": "markdown",
   "metadata": {
    "slideshow": {
     "slide_type": "slide"
    }
   },
   "source": [
    "## 8.1. Merge/Join\n",
    "\n",
    "Merging/joining is one way to combine the information of one DataFrame with another one. One talks about a **\"left\"** DataFrame and a **\"right\"** DataFrame.\n",
    "\n",
    "Pandas gives you multiple ways to decide how to merge/join based on which records are in the left and right DataFrame\n",
    "(this is very similar to SQL but SQL has even more ways to decide). Below is an example showing those ways to merge/join\n",
    "(we merge on the index here but we can also merge with columns as we'll see):"
   ]
  },
  {
   "cell_type": "code",
   "execution_count": 32,
   "metadata": {
    "slideshow": {
     "slide_type": "notes"
    }
   },
   "outputs": [
    {
     "data": {
      "text/html": [
       "<table style=\"display:inline\" border=\"1\" class=\"dataframe\">\n",
       "  <thead>\n",
       "    <tr style=\"text-align: right;\">\n",
       "      <th></th>\n",
       "      <th>A</th>\n",
       "      <th>B</th>\n",
       "    </tr>\n",
       "    <tr>\n",
       "      <th>id</th>\n",
       "      <th></th>\n",
       "      <th></th>\n",
       "    </tr>\n",
       "  </thead>\n",
       "  <tbody>\n",
       "    <tr>\n",
       "      <th>0</th>\n",
       "      <td></td>\n",
       "      <td></td>\n",
       "    </tr>\n",
       "    <tr>\n",
       "      <th>1</th>\n",
       "      <td></td>\n",
       "      <td></td>\n",
       "    </tr>\n",
       "  </tbody>\n",
       "</table style=\"display:inline\"><table style=\"display:inline\" border=\"1\" class=\"dataframe\">\n",
       "  <thead>\n",
       "    <tr style=\"text-align: right;\">\n",
       "      <th></th>\n",
       "      <th>C</th>\n",
       "      <th>D</th>\n",
       "    </tr>\n",
       "    <tr>\n",
       "      <th>id</th>\n",
       "      <th></th>\n",
       "      <th></th>\n",
       "    </tr>\n",
       "  </thead>\n",
       "  <tbody>\n",
       "    <tr>\n",
       "      <th>0</th>\n",
       "      <td></td>\n",
       "      <td></td>\n",
       "    </tr>\n",
       "    <tr>\n",
       "      <th>2</th>\n",
       "      <td></td>\n",
       "      <td></td>\n",
       "    </tr>\n",
       "  </tbody>\n",
       "</table style=\"display:inline\">"
      ]
     },
     "metadata": {},
     "output_type": "display_data"
    },
    {
     "data": {
      "text/html": [
       "<table style=\"display:inline\" border=\"1\" class=\"dataframe\">\n",
       "  <thead>\n",
       "    <tr style=\"text-align: right;\">\n",
       "      <th></th>\n",
       "      <th>A</th>\n",
       "      <th>B</th>\n",
       "      <th>C</th>\n",
       "      <th>D</th>\n",
       "    </tr>\n",
       "    <tr>\n",
       "      <th>id</th>\n",
       "      <th></th>\n",
       "      <th></th>\n",
       "      <th></th>\n",
       "      <th></th>\n",
       "    </tr>\n",
       "  </thead>\n",
       "  <tbody>\n",
       "    <tr>\n",
       "      <th>0</th>\n",
       "      <td></td>\n",
       "      <td></td>\n",
       "      <td></td>\n",
       "      <td></td>\n",
       "    </tr>\n",
       "    <tr>\n",
       "      <th>1</th>\n",
       "      <td></td>\n",
       "      <td></td>\n",
       "      <td></td>\n",
       "      <td></td>\n",
       "    </tr>\n",
       "  </tbody>\n",
       "</table style=\"display:inline\"><table style=\"display:inline\" border=\"1\" class=\"dataframe\">\n",
       "  <thead>\n",
       "    <tr style=\"text-align: right;\">\n",
       "      <th></th>\n",
       "      <th>A</th>\n",
       "      <th>B</th>\n",
       "      <th>C</th>\n",
       "      <th>D</th>\n",
       "    </tr>\n",
       "    <tr>\n",
       "      <th>id</th>\n",
       "      <th></th>\n",
       "      <th></th>\n",
       "      <th></th>\n",
       "      <th></th>\n",
       "    </tr>\n",
       "  </thead>\n",
       "  <tbody>\n",
       "    <tr>\n",
       "      <th>0</th>\n",
       "      <td></td>\n",
       "      <td></td>\n",
       "      <td></td>\n",
       "      <td></td>\n",
       "    </tr>\n",
       "    <tr>\n",
       "      <th>2</th>\n",
       "      <td></td>\n",
       "      <td></td>\n",
       "      <td></td>\n",
       "      <td></td>\n",
       "    </tr>\n",
       "  </tbody>\n",
       "</table style=\"display:inline\"><table style=\"display:inline\" border=\"1\" class=\"dataframe\">\n",
       "  <thead>\n",
       "    <tr style=\"text-align: right;\">\n",
       "      <th></th>\n",
       "      <th>A</th>\n",
       "      <th>B</th>\n",
       "      <th>C</th>\n",
       "      <th>D</th>\n",
       "    </tr>\n",
       "    <tr>\n",
       "      <th>id</th>\n",
       "      <th></th>\n",
       "      <th></th>\n",
       "      <th></th>\n",
       "      <th></th>\n",
       "    </tr>\n",
       "  </thead>\n",
       "  <tbody>\n",
       "    <tr>\n",
       "      <th>0</th>\n",
       "      <td></td>\n",
       "      <td></td>\n",
       "      <td></td>\n",
       "      <td></td>\n",
       "    </tr>\n",
       "  </tbody>\n",
       "</table style=\"display:inline\"><table style=\"display:inline\" border=\"1\" class=\"dataframe\">\n",
       "  <thead>\n",
       "    <tr style=\"text-align: right;\">\n",
       "      <th></th>\n",
       "      <th>A</th>\n",
       "      <th>B</th>\n",
       "      <th>C</th>\n",
       "      <th>D</th>\n",
       "    </tr>\n",
       "    <tr>\n",
       "      <th>id</th>\n",
       "      <th></th>\n",
       "      <th></th>\n",
       "      <th></th>\n",
       "      <th></th>\n",
       "    </tr>\n",
       "  </thead>\n",
       "  <tbody>\n",
       "    <tr>\n",
       "      <th>0</th>\n",
       "      <td></td>\n",
       "      <td></td>\n",
       "      <td></td>\n",
       "      <td></td>\n",
       "    </tr>\n",
       "    <tr>\n",
       "      <th>1</th>\n",
       "      <td></td>\n",
       "      <td></td>\n",
       "      <td></td>\n",
       "      <td></td>\n",
       "    </tr>\n",
       "    <tr>\n",
       "      <th>2</th>\n",
       "      <td></td>\n",
       "      <td></td>\n",
       "      <td></td>\n",
       "      <td></td>\n",
       "    </tr>\n",
       "  </tbody>\n",
       "</table style=\"display:inline\">"
      ]
     },
     "metadata": {},
     "output_type": "display_data"
    }
   ],
   "source": [
    "# code used to make the charts\n",
    "df1 = pd.DataFrame({'A':['', ''], 'B':['', '']}, index=pd.Index([0, 1], name='id'))\n",
    "df2 = pd.DataFrame({'C':['', ''], 'D':['', '']}, index=pd.Index([0, 2], name='id'))\n",
    "\n",
    "display_side_by_side(df1, df2)\n",
    "display_side_by_side(*(df1.merge(df2, how=method, on='id').fillna('') for method in ('left', 'right', 'inner', 'outer')))"
   ]
  },
  {
   "cell_type": "markdown",
   "metadata": {
    "slideshow": {
     "slide_type": "fragment"
    }
   },
   "source": [
    "![Joins](./imgs/joins.png)"
   ]
  },
  {
   "cell_type": "markdown",
   "metadata": {
    "slideshow": {
     "slide_type": "slide"
    }
   },
   "source": [
    "In pandas you can use the DataFrame methods `df.merge` and `df.join`. They are very similar but usually people will use `df.join` when merging DataFrames using indices and they'll use `df.merge` when merging DataFrames using columns ¯\\\\\\_(ツ)\\_/¯."
   ]
  },
  {
   "cell_type": "markdown",
   "metadata": {
    "slideshow": {
     "slide_type": "slide"
    }
   },
   "source": [
    "Let's create example DataFrames"
   ]
  },
  {
   "cell_type": "code",
   "execution_count": 33,
   "metadata": {
    "scrolled": true,
    "slideshow": {
     "slide_type": "fragment"
    }
   },
   "outputs": [
    {
     "data": {
      "text/html": [
       "<table style=\"display:inline\" border=\"1\" class=\"dataframe\">\n",
       "  <thead>\n",
       "    <tr style=\"text-align: right;\">\n",
       "      <th></th>\n",
       "      <th>first_name</th>\n",
       "      <th>last_name</th>\n",
       "      <th>country</th>\n",
       "    </tr>\n",
       "  </thead>\n",
       "  <tbody>\n",
       "    <tr>\n",
       "      <th>0</th>\n",
       "      <td>Gabriela</td>\n",
       "      <td>Müller</td>\n",
       "      <td>DE</td>\n",
       "    </tr>\n",
       "    <tr>\n",
       "      <th>1</th>\n",
       "      <td>Arnold</td>\n",
       "      <td>Schwarzenegger</td>\n",
       "      <td>US</td>\n",
       "    </tr>\n",
       "    <tr>\n",
       "      <th>2</th>\n",
       "      <td>John</td>\n",
       "      <td>Rambo</td>\n",
       "      <td>US</td>\n",
       "    </tr>\n",
       "  </tbody>\n",
       "</table style=\"display:inline\"><table style=\"display:inline\" border=\"1\" class=\"dataframe\">\n",
       "  <thead>\n",
       "    <tr style=\"text-align: right;\">\n",
       "      <th></th>\n",
       "      <th>first_name</th>\n",
       "      <th>last_name</th>\n",
       "      <th>mothertongue</th>\n",
       "    </tr>\n",
       "  </thead>\n",
       "  <tbody>\n",
       "    <tr>\n",
       "      <th>0</th>\n",
       "      <td>Arthur</td>\n",
       "      <td>Mustermann</td>\n",
       "      <td>de</td>\n",
       "    </tr>\n",
       "    <tr>\n",
       "      <th>1</th>\n",
       "      <td>Arnold</td>\n",
       "      <td>Schwarzenegger</td>\n",
       "      <td>de</td>\n",
       "    </tr>\n",
       "    <tr>\n",
       "      <th>2</th>\n",
       "      <td>John</td>\n",
       "      <td>Rambo</td>\n",
       "      <td>en</td>\n",
       "    </tr>\n",
       "    <tr>\n",
       "      <th>3</th>\n",
       "      <td>John</td>\n",
       "      <td>Travolta</td>\n",
       "      <td>en</td>\n",
       "    </tr>\n",
       "    <tr>\n",
       "      <th>4</th>\n",
       "      <td>Jane</td>\n",
       "      <td>Doe</td>\n",
       "      <td>en</td>\n",
       "    </tr>\n",
       "  </tbody>\n",
       "</table style=\"display:inline\">"
      ]
     },
     "metadata": {},
     "output_type": "display_data"
    }
   ],
   "source": [
    "df1 = pd.DataFrame({'first_name':['Gabriela', 'Arnold', 'John'],\n",
    "                    'last_name':['Müller', 'Schwarzenegger', 'Rambo'],\n",
    "                    'country':['DE', 'US', 'US']}).convert_dtypes()\n",
    "df2 = pd.DataFrame({'first_name':['Arthur', 'Arnold', 'John', 'John', 'Jane'],\n",
    "                    'last_name':['Mustermann', 'Schwarzenegger', 'Rambo', 'Travolta', 'Doe'],\n",
    "                    'mothertongue':['de', 'de', 'en', 'en', 'en']}).convert_dtypes()\n",
    "display_side_by_side(df1, df2)"
   ]
  },
  {
   "cell_type": "markdown",
   "metadata": {
    "slideshow": {
     "slide_type": "slide"
    }
   },
   "source": [
    "Let's merge our DataFrames in various ways to see what happens! Let's start with a **left** merge."
   ]
  },
  {
   "cell_type": "markdown",
   "metadata": {
    "slideshow": {
     "slide_type": "fragment"
    }
   },
   "source": [
    "Pro-tip: the argument `validate` is super useful! It will verify what kind of relationship we have (and throw an error if conditions are not met):\n",
    "* `1:1`: keys we merge on are unique in both left and right\n",
    "* `1:m` (1 to many): keys are unique in left\n",
    "* `m:1`: keys are unique in right\n",
    "* `m:m`: no keys have to be unique (used for informative purposes in your code)"
   ]
  },
  {
   "cell_type": "code",
   "execution_count": 34,
   "metadata": {
    "scrolled": true,
    "slideshow": {
     "slide_type": "fragment"
    }
   },
   "outputs": [
    {
     "data": {
      "text/html": [
       "<table style=\"display:inline\" border=\"1\" class=\"dataframe\">\n",
       "  <thead>\n",
       "    <tr style=\"text-align: right;\">\n",
       "      <th></th>\n",
       "      <th>first_name</th>\n",
       "      <th>last_name</th>\n",
       "      <th>country</th>\n",
       "    </tr>\n",
       "  </thead>\n",
       "  <tbody>\n",
       "    <tr>\n",
       "      <th>0</th>\n",
       "      <td>Gabriela</td>\n",
       "      <td>Müller</td>\n",
       "      <td>DE</td>\n",
       "    </tr>\n",
       "    <tr>\n",
       "      <th>1</th>\n",
       "      <td>Arnold</td>\n",
       "      <td>Schwarzenegger</td>\n",
       "      <td>US</td>\n",
       "    </tr>\n",
       "    <tr>\n",
       "      <th>2</th>\n",
       "      <td>John</td>\n",
       "      <td>Rambo</td>\n",
       "      <td>US</td>\n",
       "    </tr>\n",
       "  </tbody>\n",
       "</table style=\"display:inline\"><table style=\"display:inline\" border=\"1\" class=\"dataframe\">\n",
       "  <thead>\n",
       "    <tr style=\"text-align: right;\">\n",
       "      <th></th>\n",
       "      <th>first_name</th>\n",
       "      <th>last_name</th>\n",
       "      <th>mothertongue</th>\n",
       "    </tr>\n",
       "  </thead>\n",
       "  <tbody>\n",
       "    <tr>\n",
       "      <th>0</th>\n",
       "      <td>Arthur</td>\n",
       "      <td>Mustermann</td>\n",
       "      <td>de</td>\n",
       "    </tr>\n",
       "    <tr>\n",
       "      <th>1</th>\n",
       "      <td>Arnold</td>\n",
       "      <td>Schwarzenegger</td>\n",
       "      <td>de</td>\n",
       "    </tr>\n",
       "    <tr>\n",
       "      <th>2</th>\n",
       "      <td>John</td>\n",
       "      <td>Rambo</td>\n",
       "      <td>en</td>\n",
       "    </tr>\n",
       "    <tr>\n",
       "      <th>3</th>\n",
       "      <td>John</td>\n",
       "      <td>Travolta</td>\n",
       "      <td>en</td>\n",
       "    </tr>\n",
       "    <tr>\n",
       "      <th>4</th>\n",
       "      <td>Jane</td>\n",
       "      <td>Doe</td>\n",
       "      <td>en</td>\n",
       "    </tr>\n",
       "  </tbody>\n",
       "</table style=\"display:inline\">"
      ]
     },
     "metadata": {},
     "output_type": "display_data"
    },
    {
     "data": {
      "text/html": [
       "<div>\n",
       "<style scoped>\n",
       "    .dataframe tbody tr th:only-of-type {\n",
       "        vertical-align: middle;\n",
       "    }\n",
       "\n",
       "    .dataframe tbody tr th {\n",
       "        vertical-align: top;\n",
       "    }\n",
       "\n",
       "    .dataframe thead th {\n",
       "        text-align: right;\n",
       "    }\n",
       "</style>\n",
       "<table border=\"1\" class=\"dataframe\">\n",
       "  <thead>\n",
       "    <tr style=\"text-align: right;\">\n",
       "      <th></th>\n",
       "      <th>first_name</th>\n",
       "      <th>last_name</th>\n",
       "      <th>country</th>\n",
       "      <th>mothertongue</th>\n",
       "    </tr>\n",
       "  </thead>\n",
       "  <tbody>\n",
       "    <tr>\n",
       "      <th>0</th>\n",
       "      <td>Gabriela</td>\n",
       "      <td>Müller</td>\n",
       "      <td>DE</td>\n",
       "      <td>&lt;NA&gt;</td>\n",
       "    </tr>\n",
       "    <tr>\n",
       "      <th>1</th>\n",
       "      <td>Arnold</td>\n",
       "      <td>Schwarzenegger</td>\n",
       "      <td>US</td>\n",
       "      <td>de</td>\n",
       "    </tr>\n",
       "    <tr>\n",
       "      <th>2</th>\n",
       "      <td>John</td>\n",
       "      <td>Rambo</td>\n",
       "      <td>US</td>\n",
       "      <td>en</td>\n",
       "    </tr>\n",
       "  </tbody>\n",
       "</table>\n",
       "</div>"
      ],
      "text/plain": [
       "  first_name       last_name country mothertongue\n",
       "0   Gabriela          Müller      DE         <NA>\n",
       "1     Arnold  Schwarzenegger      US           de\n",
       "2       John           Rambo      US           en"
      ]
     },
     "execution_count": 34,
     "metadata": {},
     "output_type": "execute_result"
    }
   ],
   "source": [
    "display_side_by_side(df1, df2)\n",
    "df1.merge(right=df2, how='left', on=['first_name', 'last_name'], validate='1:1')"
   ]
  },
  {
   "cell_type": "markdown",
   "metadata": {
    "slideshow": {
     "slide_type": "slide"
    }
   },
   "source": [
    "Inner merge"
   ]
  },
  {
   "cell_type": "code",
   "execution_count": 35,
   "metadata": {
    "slideshow": {
     "slide_type": "fragment"
    }
   },
   "outputs": [
    {
     "data": {
      "text/html": [
       "<table style=\"display:inline\" border=\"1\" class=\"dataframe\">\n",
       "  <thead>\n",
       "    <tr style=\"text-align: right;\">\n",
       "      <th></th>\n",
       "      <th>first_name</th>\n",
       "      <th>last_name</th>\n",
       "      <th>country</th>\n",
       "    </tr>\n",
       "  </thead>\n",
       "  <tbody>\n",
       "    <tr>\n",
       "      <th>0</th>\n",
       "      <td>Gabriela</td>\n",
       "      <td>Müller</td>\n",
       "      <td>DE</td>\n",
       "    </tr>\n",
       "    <tr>\n",
       "      <th>1</th>\n",
       "      <td>Arnold</td>\n",
       "      <td>Schwarzenegger</td>\n",
       "      <td>US</td>\n",
       "    </tr>\n",
       "    <tr>\n",
       "      <th>2</th>\n",
       "      <td>John</td>\n",
       "      <td>Rambo</td>\n",
       "      <td>US</td>\n",
       "    </tr>\n",
       "  </tbody>\n",
       "</table style=\"display:inline\"><table style=\"display:inline\" border=\"1\" class=\"dataframe\">\n",
       "  <thead>\n",
       "    <tr style=\"text-align: right;\">\n",
       "      <th></th>\n",
       "      <th>first_name</th>\n",
       "      <th>last_name</th>\n",
       "      <th>mothertongue</th>\n",
       "    </tr>\n",
       "  </thead>\n",
       "  <tbody>\n",
       "    <tr>\n",
       "      <th>0</th>\n",
       "      <td>Arthur</td>\n",
       "      <td>Mustermann</td>\n",
       "      <td>de</td>\n",
       "    </tr>\n",
       "    <tr>\n",
       "      <th>1</th>\n",
       "      <td>Arnold</td>\n",
       "      <td>Schwarzenegger</td>\n",
       "      <td>de</td>\n",
       "    </tr>\n",
       "    <tr>\n",
       "      <th>2</th>\n",
       "      <td>John</td>\n",
       "      <td>Rambo</td>\n",
       "      <td>en</td>\n",
       "    </tr>\n",
       "    <tr>\n",
       "      <th>3</th>\n",
       "      <td>John</td>\n",
       "      <td>Travolta</td>\n",
       "      <td>en</td>\n",
       "    </tr>\n",
       "    <tr>\n",
       "      <th>4</th>\n",
       "      <td>Jane</td>\n",
       "      <td>Doe</td>\n",
       "      <td>en</td>\n",
       "    </tr>\n",
       "  </tbody>\n",
       "</table style=\"display:inline\">"
      ]
     },
     "metadata": {},
     "output_type": "display_data"
    },
    {
     "data": {
      "text/html": [
       "<div>\n",
       "<style scoped>\n",
       "    .dataframe tbody tr th:only-of-type {\n",
       "        vertical-align: middle;\n",
       "    }\n",
       "\n",
       "    .dataframe tbody tr th {\n",
       "        vertical-align: top;\n",
       "    }\n",
       "\n",
       "    .dataframe thead th {\n",
       "        text-align: right;\n",
       "    }\n",
       "</style>\n",
       "<table border=\"1\" class=\"dataframe\">\n",
       "  <thead>\n",
       "    <tr style=\"text-align: right;\">\n",
       "      <th></th>\n",
       "      <th>first_name</th>\n",
       "      <th>last_name</th>\n",
       "      <th>country</th>\n",
       "      <th>mothertongue</th>\n",
       "    </tr>\n",
       "  </thead>\n",
       "  <tbody>\n",
       "    <tr>\n",
       "      <th>0</th>\n",
       "      <td>Arnold</td>\n",
       "      <td>Schwarzenegger</td>\n",
       "      <td>US</td>\n",
       "      <td>de</td>\n",
       "    </tr>\n",
       "    <tr>\n",
       "      <th>1</th>\n",
       "      <td>John</td>\n",
       "      <td>Rambo</td>\n",
       "      <td>US</td>\n",
       "      <td>en</td>\n",
       "    </tr>\n",
       "  </tbody>\n",
       "</table>\n",
       "</div>"
      ],
      "text/plain": [
       "  first_name       last_name country mothertongue\n",
       "0     Arnold  Schwarzenegger      US           de\n",
       "1       John           Rambo      US           en"
      ]
     },
     "execution_count": 35,
     "metadata": {},
     "output_type": "execute_result"
    }
   ],
   "source": [
    "display_side_by_side(df1, df2)\n",
    "df1.merge(right=df2, how='inner', on=['first_name', 'last_name'], validate='1:1')"
   ]
  },
  {
   "cell_type": "markdown",
   "metadata": {
    "slideshow": {
     "slide_type": "slide"
    }
   },
   "source": [
    "⚠️ In case of duplicated keys, rows are added so don't forget to use `validate` to avoid that!\n",
    "\n",
    "Here is an example where I merge with `first_name` and I get duplicates for John. This is also a good opportunity to show you how to handle duplicated column names in left and right DataFrames by using suffixes."
   ]
  },
  {
   "cell_type": "code",
   "execution_count": 36,
   "metadata": {
    "slideshow": {
     "slide_type": "fragment"
    }
   },
   "outputs": [
    {
     "data": {
      "text/html": [
       "<table style=\"display:inline\" border=\"1\" class=\"dataframe\">\n",
       "  <thead>\n",
       "    <tr style=\"text-align: right;\">\n",
       "      <th></th>\n",
       "      <th>first_name</th>\n",
       "      <th>last_name</th>\n",
       "      <th>country</th>\n",
       "    </tr>\n",
       "  </thead>\n",
       "  <tbody>\n",
       "    <tr>\n",
       "      <th>0</th>\n",
       "      <td>Gabriela</td>\n",
       "      <td>Müller</td>\n",
       "      <td>DE</td>\n",
       "    </tr>\n",
       "    <tr>\n",
       "      <th>1</th>\n",
       "      <td>Arnold</td>\n",
       "      <td>Schwarzenegger</td>\n",
       "      <td>US</td>\n",
       "    </tr>\n",
       "    <tr>\n",
       "      <th>2</th>\n",
       "      <td>John</td>\n",
       "      <td>Rambo</td>\n",
       "      <td>US</td>\n",
       "    </tr>\n",
       "  </tbody>\n",
       "</table style=\"display:inline\"><table style=\"display:inline\" border=\"1\" class=\"dataframe\">\n",
       "  <thead>\n",
       "    <tr style=\"text-align: right;\">\n",
       "      <th></th>\n",
       "      <th>first_name</th>\n",
       "      <th>last_name</th>\n",
       "      <th>mothertongue</th>\n",
       "    </tr>\n",
       "  </thead>\n",
       "  <tbody>\n",
       "    <tr>\n",
       "      <th>0</th>\n",
       "      <td>Arthur</td>\n",
       "      <td>Mustermann</td>\n",
       "      <td>de</td>\n",
       "    </tr>\n",
       "    <tr>\n",
       "      <th>1</th>\n",
       "      <td>Arnold</td>\n",
       "      <td>Schwarzenegger</td>\n",
       "      <td>de</td>\n",
       "    </tr>\n",
       "    <tr>\n",
       "      <th>2</th>\n",
       "      <td>John</td>\n",
       "      <td>Rambo</td>\n",
       "      <td>en</td>\n",
       "    </tr>\n",
       "    <tr>\n",
       "      <th>3</th>\n",
       "      <td>John</td>\n",
       "      <td>Travolta</td>\n",
       "      <td>en</td>\n",
       "    </tr>\n",
       "    <tr>\n",
       "      <th>4</th>\n",
       "      <td>Jane</td>\n",
       "      <td>Doe</td>\n",
       "      <td>en</td>\n",
       "    </tr>\n",
       "  </tbody>\n",
       "</table style=\"display:inline\">"
      ]
     },
     "metadata": {},
     "output_type": "display_data"
    },
    {
     "data": {
      "text/html": [
       "<div>\n",
       "<style scoped>\n",
       "    .dataframe tbody tr th:only-of-type {\n",
       "        vertical-align: middle;\n",
       "    }\n",
       "\n",
       "    .dataframe tbody tr th {\n",
       "        vertical-align: top;\n",
       "    }\n",
       "\n",
       "    .dataframe thead th {\n",
       "        text-align: right;\n",
       "    }\n",
       "</style>\n",
       "<table border=\"1\" class=\"dataframe\">\n",
       "  <thead>\n",
       "    <tr style=\"text-align: right;\">\n",
       "      <th></th>\n",
       "      <th>first_name</th>\n",
       "      <th>last_name</th>\n",
       "      <th>country</th>\n",
       "      <th>last_name_right</th>\n",
       "      <th>mothertongue</th>\n",
       "    </tr>\n",
       "  </thead>\n",
       "  <tbody>\n",
       "    <tr>\n",
       "      <th>0</th>\n",
       "      <td>Gabriela</td>\n",
       "      <td>Müller</td>\n",
       "      <td>DE</td>\n",
       "      <td>&lt;NA&gt;</td>\n",
       "      <td>&lt;NA&gt;</td>\n",
       "    </tr>\n",
       "    <tr>\n",
       "      <th>1</th>\n",
       "      <td>Arnold</td>\n",
       "      <td>Schwarzenegger</td>\n",
       "      <td>US</td>\n",
       "      <td>Schwarzenegger</td>\n",
       "      <td>de</td>\n",
       "    </tr>\n",
       "    <tr>\n",
       "      <th>2</th>\n",
       "      <td>John</td>\n",
       "      <td>Rambo</td>\n",
       "      <td>US</td>\n",
       "      <td>Rambo</td>\n",
       "      <td>en</td>\n",
       "    </tr>\n",
       "    <tr>\n",
       "      <th>3</th>\n",
       "      <td>John</td>\n",
       "      <td>Rambo</td>\n",
       "      <td>US</td>\n",
       "      <td>Travolta</td>\n",
       "      <td>en</td>\n",
       "    </tr>\n",
       "  </tbody>\n",
       "</table>\n",
       "</div>"
      ],
      "text/plain": [
       "  first_name       last_name country last_name_right mothertongue\n",
       "0   Gabriela          Müller      DE            <NA>         <NA>\n",
       "1     Arnold  Schwarzenegger      US  Schwarzenegger           de\n",
       "2       John           Rambo      US           Rambo           en\n",
       "3       John           Rambo      US        Travolta           en"
      ]
     },
     "execution_count": 36,
     "metadata": {},
     "output_type": "execute_result"
    }
   ],
   "source": [
    "display_side_by_side(df1, df2)\n",
    "df1.merge(right=df2, how='left', on='first_name', suffixes=('', '_right'))"
   ]
  },
  {
   "cell_type": "markdown",
   "metadata": {
    "slideshow": {
     "slide_type": "slide"
    }
   },
   "source": [
    "Let's merge/join using the index. We'll set a relatively meaningfull index first."
   ]
  },
  {
   "cell_type": "code",
   "execution_count": 37,
   "metadata": {
    "slideshow": {
     "slide_type": "fragment"
    }
   },
   "outputs": [
    {
     "data": {
      "text/html": [
       "<table style=\"display:inline\" border=\"1\" class=\"dataframe\">\n",
       "  <thead>\n",
       "    <tr style=\"text-align: right;\">\n",
       "      <th></th>\n",
       "      <th></th>\n",
       "      <th>country</th>\n",
       "    </tr>\n",
       "    <tr>\n",
       "      <th>first_name</th>\n",
       "      <th>last_name</th>\n",
       "      <th></th>\n",
       "    </tr>\n",
       "  </thead>\n",
       "  <tbody>\n",
       "    <tr>\n",
       "      <th>Gabriela</th>\n",
       "      <th>Müller</th>\n",
       "      <td>DE</td>\n",
       "    </tr>\n",
       "    <tr>\n",
       "      <th>Arnold</th>\n",
       "      <th>Schwarzenegger</th>\n",
       "      <td>US</td>\n",
       "    </tr>\n",
       "    <tr>\n",
       "      <th>John</th>\n",
       "      <th>Rambo</th>\n",
       "      <td>US</td>\n",
       "    </tr>\n",
       "  </tbody>\n",
       "</table style=\"display:inline\"><table style=\"display:inline\" border=\"1\" class=\"dataframe\">\n",
       "  <thead>\n",
       "    <tr style=\"text-align: right;\">\n",
       "      <th></th>\n",
       "      <th></th>\n",
       "      <th>mothertongue</th>\n",
       "    </tr>\n",
       "    <tr>\n",
       "      <th>first_name</th>\n",
       "      <th>last_name</th>\n",
       "      <th></th>\n",
       "    </tr>\n",
       "  </thead>\n",
       "  <tbody>\n",
       "    <tr>\n",
       "      <th>Arthur</th>\n",
       "      <th>Mustermann</th>\n",
       "      <td>de</td>\n",
       "    </tr>\n",
       "    <tr>\n",
       "      <th>Arnold</th>\n",
       "      <th>Schwarzenegger</th>\n",
       "      <td>de</td>\n",
       "    </tr>\n",
       "    <tr>\n",
       "      <th rowspan=\"2\" valign=\"top\">John</th>\n",
       "      <th>Rambo</th>\n",
       "      <td>en</td>\n",
       "    </tr>\n",
       "    <tr>\n",
       "      <th>Travolta</th>\n",
       "      <td>en</td>\n",
       "    </tr>\n",
       "    <tr>\n",
       "      <th>Jane</th>\n",
       "      <th>Doe</th>\n",
       "      <td>en</td>\n",
       "    </tr>\n",
       "  </tbody>\n",
       "</table style=\"display:inline\">"
      ]
     },
     "metadata": {},
     "output_type": "display_data"
    }
   ],
   "source": [
    "df1.set_index(['first_name', 'last_name'], inplace=True)\n",
    "df2.set_index(['first_name', 'last_name'], inplace=True)\n",
    "\n",
    "display_side_by_side(df1, df2)"
   ]
  },
  {
   "cell_type": "markdown",
   "metadata": {
    "slideshow": {
     "slide_type": "slide"
    }
   },
   "source": [
    "Yep 3 ways (and maybe more I have forgotten) to do the same thing ¯\\\\\\_(ツ)\\_/¯. I personally like to use `df.join` when merging via the index because it's meant specifically for that."
   ]
  },
  {
   "cell_type": "code",
   "execution_count": 38,
   "metadata": {
    "slideshow": {
     "slide_type": "fragment"
    }
   },
   "outputs": [
    {
     "data": {
      "text/html": [
       "<div>\n",
       "<style scoped>\n",
       "    .dataframe tbody tr th:only-of-type {\n",
       "        vertical-align: middle;\n",
       "    }\n",
       "\n",
       "    .dataframe tbody tr th {\n",
       "        vertical-align: top;\n",
       "    }\n",
       "\n",
       "    .dataframe thead th {\n",
       "        text-align: right;\n",
       "    }\n",
       "</style>\n",
       "<table border=\"1\" class=\"dataframe\">\n",
       "  <thead>\n",
       "    <tr style=\"text-align: right;\">\n",
       "      <th></th>\n",
       "      <th></th>\n",
       "      <th>country</th>\n",
       "      <th>mothertongue</th>\n",
       "    </tr>\n",
       "    <tr>\n",
       "      <th>first_name</th>\n",
       "      <th>last_name</th>\n",
       "      <th></th>\n",
       "      <th></th>\n",
       "    </tr>\n",
       "  </thead>\n",
       "  <tbody>\n",
       "    <tr>\n",
       "      <th>Gabriela</th>\n",
       "      <th>Müller</th>\n",
       "      <td>DE</td>\n",
       "      <td>&lt;NA&gt;</td>\n",
       "    </tr>\n",
       "    <tr>\n",
       "      <th>Arnold</th>\n",
       "      <th>Schwarzenegger</th>\n",
       "      <td>US</td>\n",
       "      <td>de</td>\n",
       "    </tr>\n",
       "    <tr>\n",
       "      <th>John</th>\n",
       "      <th>Rambo</th>\n",
       "      <td>US</td>\n",
       "      <td>en</td>\n",
       "    </tr>\n",
       "  </tbody>\n",
       "</table>\n",
       "</div>"
      ],
      "text/plain": [
       "                          country mothertongue\n",
       "first_name last_name                          \n",
       "Gabriela   Müller              DE         <NA>\n",
       "Arnold     Schwarzenegger      US           de\n",
       "John       Rambo               US           en"
      ]
     },
     "execution_count": 38,
     "metadata": {},
     "output_type": "execute_result"
    }
   ],
   "source": [
    "df1.join(other=df2, how='left')"
   ]
  },
  {
   "cell_type": "code",
   "execution_count": 39,
   "metadata": {
    "slideshow": {
     "slide_type": "fragment"
    }
   },
   "outputs": [
    {
     "data": {
      "text/html": [
       "<div>\n",
       "<style scoped>\n",
       "    .dataframe tbody tr th:only-of-type {\n",
       "        vertical-align: middle;\n",
       "    }\n",
       "\n",
       "    .dataframe tbody tr th {\n",
       "        vertical-align: top;\n",
       "    }\n",
       "\n",
       "    .dataframe thead th {\n",
       "        text-align: right;\n",
       "    }\n",
       "</style>\n",
       "<table border=\"1\" class=\"dataframe\">\n",
       "  <thead>\n",
       "    <tr style=\"text-align: right;\">\n",
       "      <th></th>\n",
       "      <th></th>\n",
       "      <th>country</th>\n",
       "      <th>mothertongue</th>\n",
       "    </tr>\n",
       "    <tr>\n",
       "      <th>first_name</th>\n",
       "      <th>last_name</th>\n",
       "      <th></th>\n",
       "      <th></th>\n",
       "    </tr>\n",
       "  </thead>\n",
       "  <tbody>\n",
       "    <tr>\n",
       "      <th>Gabriela</th>\n",
       "      <th>Müller</th>\n",
       "      <td>DE</td>\n",
       "      <td>&lt;NA&gt;</td>\n",
       "    </tr>\n",
       "    <tr>\n",
       "      <th>Arnold</th>\n",
       "      <th>Schwarzenegger</th>\n",
       "      <td>US</td>\n",
       "      <td>de</td>\n",
       "    </tr>\n",
       "    <tr>\n",
       "      <th>John</th>\n",
       "      <th>Rambo</th>\n",
       "      <td>US</td>\n",
       "      <td>en</td>\n",
       "    </tr>\n",
       "  </tbody>\n",
       "</table>\n",
       "</div>"
      ],
      "text/plain": [
       "                          country mothertongue\n",
       "first_name last_name                          \n",
       "Gabriela   Müller              DE         <NA>\n",
       "Arnold     Schwarzenegger      US           de\n",
       "John       Rambo               US           en"
      ]
     },
     "execution_count": 39,
     "metadata": {},
     "output_type": "execute_result"
    }
   ],
   "source": [
    "df1.merge(right=df2, how='left', on=['first_name', 'last_name'])"
   ]
  },
  {
   "cell_type": "code",
   "execution_count": 40,
   "metadata": {
    "slideshow": {
     "slide_type": "fragment"
    }
   },
   "outputs": [
    {
     "data": {
      "text/html": [
       "<div>\n",
       "<style scoped>\n",
       "    .dataframe tbody tr th:only-of-type {\n",
       "        vertical-align: middle;\n",
       "    }\n",
       "\n",
       "    .dataframe tbody tr th {\n",
       "        vertical-align: top;\n",
       "    }\n",
       "\n",
       "    .dataframe thead th {\n",
       "        text-align: right;\n",
       "    }\n",
       "</style>\n",
       "<table border=\"1\" class=\"dataframe\">\n",
       "  <thead>\n",
       "    <tr style=\"text-align: right;\">\n",
       "      <th></th>\n",
       "      <th></th>\n",
       "      <th>country</th>\n",
       "      <th>mothertongue</th>\n",
       "    </tr>\n",
       "    <tr>\n",
       "      <th>first_name</th>\n",
       "      <th>last_name</th>\n",
       "      <th></th>\n",
       "      <th></th>\n",
       "    </tr>\n",
       "  </thead>\n",
       "  <tbody>\n",
       "    <tr>\n",
       "      <th>Gabriela</th>\n",
       "      <th>Müller</th>\n",
       "      <td>DE</td>\n",
       "      <td>&lt;NA&gt;</td>\n",
       "    </tr>\n",
       "    <tr>\n",
       "      <th>Arnold</th>\n",
       "      <th>Schwarzenegger</th>\n",
       "      <td>US</td>\n",
       "      <td>de</td>\n",
       "    </tr>\n",
       "    <tr>\n",
       "      <th>John</th>\n",
       "      <th>Rambo</th>\n",
       "      <td>US</td>\n",
       "      <td>en</td>\n",
       "    </tr>\n",
       "  </tbody>\n",
       "</table>\n",
       "</div>"
      ],
      "text/plain": [
       "                          country mothertongue\n",
       "first_name last_name                          \n",
       "Gabriela   Müller              DE         <NA>\n",
       "Arnold     Schwarzenegger      US           de\n",
       "John       Rambo               US           en"
      ]
     },
     "execution_count": 40,
     "metadata": {},
     "output_type": "execute_result"
    }
   ],
   "source": [
    "df1.merge(right=df2, how='left', right_index=True, left_index=True)"
   ]
  },
  {
   "cell_type": "markdown",
   "metadata": {
    "slideshow": {
     "slide_type": "slide"
    }
   },
   "source": [
    "## 8.2. Concatenate\n",
    "\n",
    "\n",
    "![pandas concatenate](./imgs/pandas_concat.png)"
   ]
  },
  {
   "cell_type": "markdown",
   "metadata": {
    "slideshow": {
     "slide_type": "slide"
    }
   },
   "source": [
    "🐼 When concatenating pandas will also add missing columns (if concatenating along indices) or indices (if concatenating along columns) if argument `join` is set to `outer` (default, as opposed to `inner`).\n",
    "\n",
    "For instance here the column `is_client` does not exist in `df1` but exists in `df2`. The concatenated DataFrame contains the `is_client` but with NULLs for the data that comes from `df1`."
   ]
  },
  {
   "cell_type": "code",
   "execution_count": 41,
   "metadata": {
    "slideshow": {
     "slide_type": "fragment"
    }
   },
   "outputs": [
    {
     "data": {
      "text/html": [
       "<table style=\"display:inline\" border=\"1\" class=\"dataframe\">\n",
       "  <thead>\n",
       "    <tr style=\"text-align: right;\">\n",
       "      <th></th>\n",
       "      <th>first_name</th>\n",
       "      <th>number_of_cars</th>\n",
       "    </tr>\n",
       "    <tr>\n",
       "      <th>id</th>\n",
       "      <th></th>\n",
       "      <th></th>\n",
       "    </tr>\n",
       "  </thead>\n",
       "  <tbody>\n",
       "    <tr>\n",
       "      <th>100</th>\n",
       "      <td>Ralf</td>\n",
       "      <td>0</td>\n",
       "    </tr>\n",
       "    <tr>\n",
       "      <th>200</th>\n",
       "      <td>John</td>\n",
       "      <td>2</td>\n",
       "    </tr>\n",
       "  </tbody>\n",
       "</table style=\"display:inline\"><table style=\"display:inline\" border=\"1\" class=\"dataframe\">\n",
       "  <thead>\n",
       "    <tr style=\"text-align: right;\">\n",
       "      <th></th>\n",
       "      <th>first_name</th>\n",
       "      <th>number_of_cars</th>\n",
       "      <th>is_client</th>\n",
       "    </tr>\n",
       "    <tr>\n",
       "      <th>id</th>\n",
       "      <th></th>\n",
       "      <th></th>\n",
       "      <th></th>\n",
       "    </tr>\n",
       "  </thead>\n",
       "  <tbody>\n",
       "    <tr>\n",
       "      <th>300</th>\n",
       "      <td>Arthur</td>\n",
       "      <td>1</td>\n",
       "      <td>True</td>\n",
       "    </tr>\n",
       "    <tr>\n",
       "      <th>400</th>\n",
       "      <td>Daniel</td>\n",
       "      <td>1</td>\n",
       "      <td>True</td>\n",
       "    </tr>\n",
       "  </tbody>\n",
       "</table style=\"display:inline\">"
      ]
     },
     "metadata": {},
     "output_type": "display_data"
    },
    {
     "data": {
      "text/html": [
       "<div>\n",
       "<style scoped>\n",
       "    .dataframe tbody tr th:only-of-type {\n",
       "        vertical-align: middle;\n",
       "    }\n",
       "\n",
       "    .dataframe tbody tr th {\n",
       "        vertical-align: top;\n",
       "    }\n",
       "\n",
       "    .dataframe thead th {\n",
       "        text-align: right;\n",
       "    }\n",
       "</style>\n",
       "<table border=\"1\" class=\"dataframe\">\n",
       "  <thead>\n",
       "    <tr style=\"text-align: right;\">\n",
       "      <th></th>\n",
       "      <th>first_name</th>\n",
       "      <th>number_of_cars</th>\n",
       "      <th>is_client</th>\n",
       "    </tr>\n",
       "    <tr>\n",
       "      <th>id</th>\n",
       "      <th></th>\n",
       "      <th></th>\n",
       "      <th></th>\n",
       "    </tr>\n",
       "  </thead>\n",
       "  <tbody>\n",
       "    <tr>\n",
       "      <th>100</th>\n",
       "      <td>Ralf</td>\n",
       "      <td>0</td>\n",
       "      <td>&lt;NA&gt;</td>\n",
       "    </tr>\n",
       "    <tr>\n",
       "      <th>200</th>\n",
       "      <td>John</td>\n",
       "      <td>2</td>\n",
       "      <td>&lt;NA&gt;</td>\n",
       "    </tr>\n",
       "    <tr>\n",
       "      <th>300</th>\n",
       "      <td>Arthur</td>\n",
       "      <td>1</td>\n",
       "      <td>True</td>\n",
       "    </tr>\n",
       "    <tr>\n",
       "      <th>400</th>\n",
       "      <td>Daniel</td>\n",
       "      <td>1</td>\n",
       "      <td>True</td>\n",
       "    </tr>\n",
       "  </tbody>\n",
       "</table>\n",
       "</div>"
      ],
      "text/plain": [
       "    first_name  number_of_cars  is_client\n",
       "id                                       \n",
       "100       Ralf               0       <NA>\n",
       "200       John               2       <NA>\n",
       "300     Arthur               1       True\n",
       "400     Daniel               1       True"
      ]
     },
     "execution_count": 41,
     "metadata": {},
     "output_type": "execute_result"
    }
   ],
   "source": [
    "df1 = pd.DataFrame({'first_name':['Ralf', 'John'], 'number_of_cars':[0, 2]},\n",
    "                   index=pd.Index((100, 200), name='id')).convert_dtypes()\n",
    "df2 = pd.DataFrame({'first_name':['Arthur', 'Daniel'], 'number_of_cars':[1, 1], 'is_client':[True, True]},\n",
    "                   index=pd.Index((300, 400), name='id')).convert_dtypes()\n",
    "\n",
    "display_side_by_side(df1, df2)\n",
    "\n",
    "df_all = pd.concat(objs=(df1, df2),\n",
    "                   axis='rows', # default\n",
    "                   join='outer', # default\n",
    "                   ignore_index=False, # also default (we do not want \"id\" to go away)\n",
    "                   verify_integrity=True) # check for duplicates (warning: can be more expensive than the concatenation itself)\n",
    "df_all"
   ]
  },
  {
   "cell_type": "markdown",
   "metadata": {
    "slideshow": {
     "slide_type": "slide"
    }
   },
   "source": [
    "## 8.3. Groupby"
   ]
  },
  {
   "cell_type": "markdown",
   "metadata": {
    "slideshow": {
     "slide_type": "slide"
    }
   },
   "source": [
    "Let's get an example DataFrame I generated"
   ]
  },
  {
   "cell_type": "code",
   "execution_count": 42,
   "metadata": {
    "slideshow": {
     "slide_type": "fragment"
    }
   },
   "outputs": [
    {
     "data": {
      "text/html": [
       "<div>\n",
       "<style scoped>\n",
       "    .dataframe tbody tr th:only-of-type {\n",
       "        vertical-align: middle;\n",
       "    }\n",
       "\n",
       "    .dataframe tbody tr th {\n",
       "        vertical-align: top;\n",
       "    }\n",
       "\n",
       "    .dataframe thead th {\n",
       "        text-align: right;\n",
       "    }\n",
       "</style>\n",
       "<table border=\"1\" class=\"dataframe\">\n",
       "  <thead>\n",
       "    <tr style=\"text-align: right;\">\n",
       "      <th></th>\n",
       "      <th>profit</th>\n",
       "      <th>product</th>\n",
       "      <th>profile_id</th>\n",
       "      <th>timestamp</th>\n",
       "    </tr>\n",
       "    <tr>\n",
       "      <th>purchase_id</th>\n",
       "      <th></th>\n",
       "      <th></th>\n",
       "      <th></th>\n",
       "      <th></th>\n",
       "    </tr>\n",
       "  </thead>\n",
       "  <tbody>\n",
       "    <tr>\n",
       "      <th>0</th>\n",
       "      <td>262.311584</td>\n",
       "      <td>mobile phone</td>\n",
       "      <td>9</td>\n",
       "      <td>2018-01-04 06:31:21+00:00</td>\n",
       "    </tr>\n",
       "    <tr>\n",
       "      <th>1</th>\n",
       "      <td>1.219595</td>\n",
       "      <td>banana</td>\n",
       "      <td>8</td>\n",
       "      <td>2018-01-27 03:59:38+00:00</td>\n",
       "    </tr>\n",
       "    <tr>\n",
       "      <th>2</th>\n",
       "      <td>103.239984</td>\n",
       "      <td>table</td>\n",
       "      <td>9</td>\n",
       "      <td>2018-02-02 21:19:35+00:00</td>\n",
       "    </tr>\n",
       "    <tr>\n",
       "      <th>3</th>\n",
       "      <td>1.533321</td>\n",
       "      <td>banana</td>\n",
       "      <td>4</td>\n",
       "      <td>2018-02-06 11:22:46+00:00</td>\n",
       "    </tr>\n",
       "    <tr>\n",
       "      <th>4</th>\n",
       "      <td>141.481716</td>\n",
       "      <td>table</td>\n",
       "      <td>1</td>\n",
       "      <td>2018-02-11 20:57:53+00:00</td>\n",
       "    </tr>\n",
       "    <tr>\n",
       "      <th>...</th>\n",
       "      <td>...</td>\n",
       "      <td>...</td>\n",
       "      <td>...</td>\n",
       "      <td>...</td>\n",
       "    </tr>\n",
       "    <tr>\n",
       "      <th>95</th>\n",
       "      <td>22.004473</td>\n",
       "      <td>chair</td>\n",
       "      <td>9</td>\n",
       "      <td>2020-11-19 01:18:42+00:00</td>\n",
       "    </tr>\n",
       "    <tr>\n",
       "      <th>96</th>\n",
       "      <td>233.276744</td>\n",
       "      <td>mobile phone</td>\n",
       "      <td>8</td>\n",
       "      <td>2020-11-27 11:33:54+00:00</td>\n",
       "    </tr>\n",
       "    <tr>\n",
       "      <th>97</th>\n",
       "      <td>130.576246</td>\n",
       "      <td>table</td>\n",
       "      <td>3</td>\n",
       "      <td>2020-12-03 06:49:04+00:00</td>\n",
       "    </tr>\n",
       "    <tr>\n",
       "      <th>98</th>\n",
       "      <td>20.547517</td>\n",
       "      <td>chair</td>\n",
       "      <td>5</td>\n",
       "      <td>2020-12-18 04:34:16+00:00</td>\n",
       "    </tr>\n",
       "    <tr>\n",
       "      <th>99</th>\n",
       "      <td>24.907618</td>\n",
       "      <td>chair</td>\n",
       "      <td>1</td>\n",
       "      <td>2020-12-31 14:35:39+00:00</td>\n",
       "    </tr>\n",
       "  </tbody>\n",
       "</table>\n",
       "<p>100 rows × 4 columns</p>\n",
       "</div>"
      ],
      "text/plain": [
       "                 profit       product  profile_id                 timestamp\n",
       "purchase_id                                                                \n",
       "0            262.311584  mobile phone           9 2018-01-04 06:31:21+00:00\n",
       "1              1.219595        banana           8 2018-01-27 03:59:38+00:00\n",
       "2            103.239984         table           9 2018-02-02 21:19:35+00:00\n",
       "3              1.533321        banana           4 2018-02-06 11:22:46+00:00\n",
       "4            141.481716         table           1 2018-02-11 20:57:53+00:00\n",
       "...                 ...           ...         ...                       ...\n",
       "95            22.004473         chair           9 2020-11-19 01:18:42+00:00\n",
       "96           233.276744  mobile phone           8 2020-11-27 11:33:54+00:00\n",
       "97           130.576246         table           3 2020-12-03 06:49:04+00:00\n",
       "98            20.547517         chair           5 2020-12-18 04:34:16+00:00\n",
       "99            24.907618         chair           1 2020-12-31 14:35:39+00:00\n",
       "\n",
       "[100 rows x 4 columns]"
      ]
     },
     "execution_count": 42,
     "metadata": {},
     "output_type": "execute_result"
    }
   ],
   "source": [
    "df = pd.read_pickle('./data/df_products_random.pickle')\n",
    "df"
   ]
  },
  {
   "cell_type": "markdown",
   "metadata": {
    "slideshow": {
     "slide_type": "slide"
    }
   },
   "source": [
    "Rudimentary groupby where we get the sum of profits for each product"
   ]
  },
  {
   "cell_type": "code",
   "execution_count": 43,
   "metadata": {
    "slideshow": {
     "slide_type": "fragment"
    }
   },
   "outputs": [
    {
     "data": {
      "text/plain": [
       "product\n",
       "banana            26.431585\n",
       "chair            662.167793\n",
       "computer        6378.566255\n",
       "mobile phone    3554.871317\n",
       "table           2650.165115\n",
       "Name: profit, dtype: float64"
      ]
     },
     "execution_count": 43,
     "metadata": {},
     "output_type": "execute_result"
    }
   ],
   "source": [
    "s_profits_per_product = df.groupby(by='product')['profit'].sum()  # note 'product' or ['product'] will both work\n",
    "s_profits_per_product"
   ]
  },
  {
   "cell_type": "markdown",
   "metadata": {
    "slideshow": {
     "slide_type": "slide"
    }
   },
   "source": [
    "Groupby using the \"new\" syntax (called NamedAggregation). Note that with this new syntax we'll get a DataFrame back and not a Series like before."
   ]
  },
  {
   "cell_type": "markdown",
   "metadata": {
    "slideshow": {
     "slide_type": "fragment"
    }
   },
   "source": [
    "I also demonstrate that `by` also accepts Series and not just DataFrame column names. As long as the index of all objects are the same pandas should accept it 🐼.\n",
    "\n",
    "Here we'll group by year+product to know how much profit was generated every year by every product.\n",
    "\n",
    "⚠️ Remember to set parameter `dropna` to `False` in `df.groupby` if you want to aggregate records where some keys are NULLs (in our case either the year or the product or both)"
   ]
  },
  {
   "cell_type": "code",
   "execution_count": 44,
   "metadata": {
    "slideshow": {
     "slide_type": "fragment"
    }
   },
   "outputs": [
    {
     "data": {
      "text/html": [
       "<div>\n",
       "<style scoped>\n",
       "    .dataframe tbody tr th:only-of-type {\n",
       "        vertical-align: middle;\n",
       "    }\n",
       "\n",
       "    .dataframe tbody tr th {\n",
       "        vertical-align: top;\n",
       "    }\n",
       "\n",
       "    .dataframe thead th {\n",
       "        text-align: right;\n",
       "    }\n",
       "</style>\n",
       "<table border=\"1\" class=\"dataframe\">\n",
       "  <thead>\n",
       "    <tr style=\"text-align: right;\">\n",
       "      <th></th>\n",
       "      <th></th>\n",
       "      <th>sum_of_profit</th>\n",
       "      <th>mean_profit_per_purchase</th>\n",
       "      <th>number_of_buyers</th>\n",
       "    </tr>\n",
       "    <tr>\n",
       "      <th>year</th>\n",
       "      <th>product</th>\n",
       "      <th></th>\n",
       "      <th></th>\n",
       "      <th></th>\n",
       "    </tr>\n",
       "  </thead>\n",
       "  <tbody>\n",
       "    <tr>\n",
       "      <th rowspan=\"5\" valign=\"top\">2018</th>\n",
       "      <th>banana</th>\n",
       "      <td>7.962856</td>\n",
       "      <td>1.327143</td>\n",
       "      <td>5</td>\n",
       "    </tr>\n",
       "    <tr>\n",
       "      <th>chair</th>\n",
       "      <td>162.631200</td>\n",
       "      <td>23.233029</td>\n",
       "      <td>4</td>\n",
       "    </tr>\n",
       "    <tr>\n",
       "      <th>computer</th>\n",
       "      <td>3037.915899</td>\n",
       "      <td>337.546211</td>\n",
       "      <td>7</td>\n",
       "    </tr>\n",
       "    <tr>\n",
       "      <th>mobile phone</th>\n",
       "      <td>1025.276645</td>\n",
       "      <td>256.319161</td>\n",
       "      <td>3</td>\n",
       "    </tr>\n",
       "    <tr>\n",
       "      <th>table</th>\n",
       "      <td>876.098786</td>\n",
       "      <td>125.156969</td>\n",
       "      <td>6</td>\n",
       "    </tr>\n",
       "    <tr>\n",
       "      <th rowspan=\"5\" valign=\"top\">2019</th>\n",
       "      <th>banana</th>\n",
       "      <td>12.716271</td>\n",
       "      <td>1.412919</td>\n",
       "      <td>5</td>\n",
       "    </tr>\n",
       "    <tr>\n",
       "      <th>chair</th>\n",
       "      <td>269.664788</td>\n",
       "      <td>24.514981</td>\n",
       "      <td>7</td>\n",
       "    </tr>\n",
       "    <tr>\n",
       "      <th>computer</th>\n",
       "      <td>1371.318689</td>\n",
       "      <td>342.829672</td>\n",
       "      <td>4</td>\n",
       "    </tr>\n",
       "    <tr>\n",
       "      <th>mobile phone</th>\n",
       "      <td>1564.991420</td>\n",
       "      <td>260.831903</td>\n",
       "      <td>5</td>\n",
       "    </tr>\n",
       "    <tr>\n",
       "      <th>table</th>\n",
       "      <td>902.374777</td>\n",
       "      <td>128.910682</td>\n",
       "      <td>6</td>\n",
       "    </tr>\n",
       "    <tr>\n",
       "      <th rowspan=\"5\" valign=\"top\">2020</th>\n",
       "      <th>banana</th>\n",
       "      <td>5.752457</td>\n",
       "      <td>1.438114</td>\n",
       "      <td>3</td>\n",
       "    </tr>\n",
       "    <tr>\n",
       "      <th>chair</th>\n",
       "      <td>229.871805</td>\n",
       "      <td>25.541312</td>\n",
       "      <td>6</td>\n",
       "    </tr>\n",
       "    <tr>\n",
       "      <th>computer</th>\n",
       "      <td>1969.331668</td>\n",
       "      <td>328.221945</td>\n",
       "      <td>4</td>\n",
       "    </tr>\n",
       "    <tr>\n",
       "      <th>mobile phone</th>\n",
       "      <td>964.603253</td>\n",
       "      <td>241.150813</td>\n",
       "      <td>3</td>\n",
       "    </tr>\n",
       "    <tr>\n",
       "      <th>table</th>\n",
       "      <td>871.691553</td>\n",
       "      <td>124.527365</td>\n",
       "      <td>5</td>\n",
       "    </tr>\n",
       "  </tbody>\n",
       "</table>\n",
       "</div>"
      ],
      "text/plain": [
       "                   sum_of_profit  mean_profit_per_purchase  number_of_buyers\n",
       "year product                                                                \n",
       "2018 banana             7.962856                  1.327143                 5\n",
       "     chair            162.631200                 23.233029                 4\n",
       "     computer        3037.915899                337.546211                 7\n",
       "     mobile phone    1025.276645                256.319161                 3\n",
       "     table            876.098786                125.156969                 6\n",
       "2019 banana            12.716271                  1.412919                 5\n",
       "     chair            269.664788                 24.514981                 7\n",
       "     computer        1371.318689                342.829672                 4\n",
       "     mobile phone    1564.991420                260.831903                 5\n",
       "     table            902.374777                128.910682                 6\n",
       "2020 banana             5.752457                  1.438114                 3\n",
       "     chair            229.871805                 25.541312                 6\n",
       "     computer        1969.331668                328.221945                 4\n",
       "     mobile phone     964.603253                241.150813                 3\n",
       "     table            871.691553                124.527365                 5"
      ]
     },
     "execution_count": 44,
     "metadata": {},
     "output_type": "execute_result"
    }
   ],
   "source": [
    "s_year = df['timestamp'].dt.year.rename('year')\n",
    "\n",
    "# new syntax for df.groupby(...).agg(???):\n",
    "# result_col_name=(source_col_name, operation), operation can be a function or a pd.Series attribute\n",
    "df.groupby(by=[s_year, 'product'], dropna=False).agg(sum_of_profit=('profit', 'sum'),\n",
    "                                                     mean_profit_per_purchase=('profit', 'mean'),\n",
    "                                                     number_of_buyers=('profile_id', 'nunique'))"
   ]
  },
  {
   "cell_type": "markdown",
   "metadata": {
    "slideshow": {
     "slide_type": "slide"
    }
   },
   "source": [
    "What happens when using groupby exactly 🤔? I hacked around to show you how pandas constitutes groups."
   ]
  },
  {
   "cell_type": "code",
   "execution_count": 45,
   "metadata": {
    "slideshow": {
     "slide_type": "fragment"
    }
   },
   "outputs": [
    {
     "data": {
      "text/html": [
       "<div>\n",
       "<style scoped>\n",
       "    .dataframe tbody tr th:only-of-type {\n",
       "        vertical-align: middle;\n",
       "    }\n",
       "\n",
       "    .dataframe tbody tr th {\n",
       "        vertical-align: top;\n",
       "    }\n",
       "\n",
       "    .dataframe thead th {\n",
       "        text-align: right;\n",
       "    }\n",
       "</style>\n",
       "<table border=\"1\" class=\"dataframe\">\n",
       "  <thead>\n",
       "    <tr style=\"text-align: right;\">\n",
       "      <th></th>\n",
       "      <th>profit</th>\n",
       "      <th>year</th>\n",
       "      <th>product</th>\n",
       "    </tr>\n",
       "    <tr>\n",
       "      <th>purchase_id</th>\n",
       "      <th></th>\n",
       "      <th></th>\n",
       "      <th></th>\n",
       "    </tr>\n",
       "  </thead>\n",
       "  <tbody>\n",
       "    <tr>\n",
       "      <th>1</th>\n",
       "      <td>1.219595</td>\n",
       "      <td>2018</td>\n",
       "      <td>banana</td>\n",
       "    </tr>\n",
       "    <tr>\n",
       "      <th>3</th>\n",
       "      <td>1.533321</td>\n",
       "      <td>2018</td>\n",
       "      <td>banana</td>\n",
       "    </tr>\n",
       "    <tr>\n",
       "      <th>9</th>\n",
       "      <td>1.507194</td>\n",
       "      <td>2018</td>\n",
       "      <td>banana</td>\n",
       "    </tr>\n",
       "    <tr>\n",
       "      <th>17</th>\n",
       "      <td>1.489057</td>\n",
       "      <td>2018</td>\n",
       "      <td>banana</td>\n",
       "    </tr>\n",
       "    <tr>\n",
       "      <th>18</th>\n",
       "      <td>1.006355</td>\n",
       "      <td>2018</td>\n",
       "      <td>banana</td>\n",
       "    </tr>\n",
       "    <tr>\n",
       "      <th>20</th>\n",
       "      <td>1.207335</td>\n",
       "      <td>2018</td>\n",
       "      <td>banana</td>\n",
       "    </tr>\n",
       "  </tbody>\n",
       "</table>\n",
       "</div>"
      ],
      "text/plain": [
       "               profit  year product\n",
       "purchase_id                        \n",
       "1            1.219595  2018  banana\n",
       "3            1.533321  2018  banana\n",
       "9            1.507194  2018  banana\n",
       "17           1.489057  2018  banana\n",
       "18           1.006355  2018  banana\n",
       "20           1.207335  2018  banana"
      ]
     },
     "metadata": {},
     "output_type": "display_data"
    },
    {
     "data": {
      "text/html": [
       "<div>\n",
       "<style scoped>\n",
       "    .dataframe tbody tr th:only-of-type {\n",
       "        vertical-align: middle;\n",
       "    }\n",
       "\n",
       "    .dataframe tbody tr th {\n",
       "        vertical-align: top;\n",
       "    }\n",
       "\n",
       "    .dataframe thead th {\n",
       "        text-align: right;\n",
       "    }\n",
       "</style>\n",
       "<table border=\"1\" class=\"dataframe\">\n",
       "  <thead>\n",
       "    <tr style=\"text-align: right;\">\n",
       "      <th></th>\n",
       "      <th>profit</th>\n",
       "      <th>year</th>\n",
       "      <th>product</th>\n",
       "    </tr>\n",
       "    <tr>\n",
       "      <th>purchase_id</th>\n",
       "      <th></th>\n",
       "      <th></th>\n",
       "      <th></th>\n",
       "    </tr>\n",
       "  </thead>\n",
       "  <tbody>\n",
       "    <tr>\n",
       "      <th>6</th>\n",
       "      <td>27.883223</td>\n",
       "      <td>2018</td>\n",
       "      <td>chair</td>\n",
       "    </tr>\n",
       "    <tr>\n",
       "      <th>12</th>\n",
       "      <td>21.094397</td>\n",
       "      <td>2018</td>\n",
       "      <td>chair</td>\n",
       "    </tr>\n",
       "    <tr>\n",
       "      <th>13</th>\n",
       "      <td>20.244862</td>\n",
       "      <td>2018</td>\n",
       "      <td>chair</td>\n",
       "    </tr>\n",
       "    <tr>\n",
       "      <th>15</th>\n",
       "      <td>23.412378</td>\n",
       "      <td>2018</td>\n",
       "      <td>chair</td>\n",
       "    </tr>\n",
       "    <tr>\n",
       "      <th>19</th>\n",
       "      <td>21.764304</td>\n",
       "      <td>2018</td>\n",
       "      <td>chair</td>\n",
       "    </tr>\n",
       "    <tr>\n",
       "      <th>22</th>\n",
       "      <td>23.696616</td>\n",
       "      <td>2018</td>\n",
       "      <td>chair</td>\n",
       "    </tr>\n",
       "    <tr>\n",
       "      <th>25</th>\n",
       "      <td>24.535419</td>\n",
       "      <td>2018</td>\n",
       "      <td>chair</td>\n",
       "    </tr>\n",
       "  </tbody>\n",
       "</table>\n",
       "</div>"
      ],
      "text/plain": [
       "                profit  year product\n",
       "purchase_id                         \n",
       "6            27.883223  2018   chair\n",
       "12           21.094397  2018   chair\n",
       "13           20.244862  2018   chair\n",
       "15           23.412378  2018   chair\n",
       "19           21.764304  2018   chair\n",
       "22           23.696616  2018   chair\n",
       "25           24.535419  2018   chair"
      ]
     },
     "metadata": {},
     "output_type": "display_data"
    },
    {
     "data": {
      "text/html": [
       "<div>\n",
       "<style scoped>\n",
       "    .dataframe tbody tr th:only-of-type {\n",
       "        vertical-align: middle;\n",
       "    }\n",
       "\n",
       "    .dataframe tbody tr th {\n",
       "        vertical-align: top;\n",
       "    }\n",
       "\n",
       "    .dataframe thead th {\n",
       "        text-align: right;\n",
       "    }\n",
       "</style>\n",
       "<table border=\"1\" class=\"dataframe\">\n",
       "  <thead>\n",
       "    <tr style=\"text-align: right;\">\n",
       "      <th></th>\n",
       "      <th>profit</th>\n",
       "      <th>year</th>\n",
       "      <th>product</th>\n",
       "    </tr>\n",
       "    <tr>\n",
       "      <th>purchase_id</th>\n",
       "      <th></th>\n",
       "      <th></th>\n",
       "      <th></th>\n",
       "    </tr>\n",
       "  </thead>\n",
       "  <tbody>\n",
       "    <tr>\n",
       "      <th>5</th>\n",
       "      <td>300.981553</td>\n",
       "      <td>2018</td>\n",
       "      <td>computer</td>\n",
       "    </tr>\n",
       "    <tr>\n",
       "      <th>7</th>\n",
       "      <td>312.892860</td>\n",
       "      <td>2018</td>\n",
       "      <td>computer</td>\n",
       "    </tr>\n",
       "    <tr>\n",
       "      <th>8</th>\n",
       "      <td>330.141383</td>\n",
       "      <td>2018</td>\n",
       "      <td>computer</td>\n",
       "    </tr>\n",
       "    <tr>\n",
       "      <th>16</th>\n",
       "      <td>322.172555</td>\n",
       "      <td>2018</td>\n",
       "      <td>computer</td>\n",
       "    </tr>\n",
       "    <tr>\n",
       "      <th>23</th>\n",
       "      <td>311.469290</td>\n",
       "      <td>2018</td>\n",
       "      <td>computer</td>\n",
       "    </tr>\n",
       "    <tr>\n",
       "      <th>26</th>\n",
       "      <td>350.169896</td>\n",
       "      <td>2018</td>\n",
       "      <td>computer</td>\n",
       "    </tr>\n",
       "    <tr>\n",
       "      <th>28</th>\n",
       "      <td>355.244494</td>\n",
       "      <td>2018</td>\n",
       "      <td>computer</td>\n",
       "    </tr>\n",
       "  </tbody>\n",
       "</table>\n",
       "</div>"
      ],
      "text/plain": [
       "                 profit  year   product\n",
       "purchase_id                            \n",
       "5            300.981553  2018  computer\n",
       "7            312.892860  2018  computer\n",
       "8            330.141383  2018  computer\n",
       "16           322.172555  2018  computer\n",
       "23           311.469290  2018  computer\n",
       "26           350.169896  2018  computer\n",
       "28           355.244494  2018  computer"
      ]
     },
     "metadata": {},
     "output_type": "display_data"
    },
    {
     "data": {
      "text/html": [
       "<div>\n",
       "<style scoped>\n",
       "    .dataframe tbody tr th:only-of-type {\n",
       "        vertical-align: middle;\n",
       "    }\n",
       "\n",
       "    .dataframe tbody tr th {\n",
       "        vertical-align: top;\n",
       "    }\n",
       "\n",
       "    .dataframe thead th {\n",
       "        text-align: right;\n",
       "    }\n",
       "</style>\n",
       "<table border=\"1\" class=\"dataframe\">\n",
       "  <thead>\n",
       "    <tr style=\"text-align: right;\">\n",
       "      <th></th>\n",
       "      <th>profit</th>\n",
       "      <th>year</th>\n",
       "      <th>product</th>\n",
       "    </tr>\n",
       "    <tr>\n",
       "      <th>purchase_id</th>\n",
       "      <th></th>\n",
       "      <th></th>\n",
       "      <th></th>\n",
       "    </tr>\n",
       "  </thead>\n",
       "  <tbody>\n",
       "    <tr>\n",
       "      <th>0</th>\n",
       "      <td>262.311584</td>\n",
       "      <td>2018</td>\n",
       "      <td>mobile phone</td>\n",
       "    </tr>\n",
       "    <tr>\n",
       "      <th>10</th>\n",
       "      <td>205.518660</td>\n",
       "      <td>2018</td>\n",
       "      <td>mobile phone</td>\n",
       "    </tr>\n",
       "    <tr>\n",
       "      <th>24</th>\n",
       "      <td>261.833422</td>\n",
       "      <td>2018</td>\n",
       "      <td>mobile phone</td>\n",
       "    </tr>\n",
       "  </tbody>\n",
       "</table>\n",
       "</div>"
      ],
      "text/plain": [
       "                 profit  year       product\n",
       "purchase_id                                \n",
       "0            262.311584  2018  mobile phone\n",
       "10           205.518660  2018  mobile phone\n",
       "24           261.833422  2018  mobile phone"
      ]
     },
     "metadata": {},
     "output_type": "display_data"
    },
    {
     "data": {
      "text/html": [
       "<div>\n",
       "<style scoped>\n",
       "    .dataframe tbody tr th:only-of-type {\n",
       "        vertical-align: middle;\n",
       "    }\n",
       "\n",
       "    .dataframe tbody tr th {\n",
       "        vertical-align: top;\n",
       "    }\n",
       "\n",
       "    .dataframe thead th {\n",
       "        text-align: right;\n",
       "    }\n",
       "</style>\n",
       "<table border=\"1\" class=\"dataframe\">\n",
       "  <thead>\n",
       "    <tr style=\"text-align: right;\">\n",
       "      <th></th>\n",
       "      <th>profit</th>\n",
       "      <th>year</th>\n",
       "      <th>product</th>\n",
       "    </tr>\n",
       "    <tr>\n",
       "      <th>purchase_id</th>\n",
       "      <th></th>\n",
       "      <th></th>\n",
       "      <th></th>\n",
       "    </tr>\n",
       "  </thead>\n",
       "  <tbody>\n",
       "    <tr>\n",
       "      <th>2</th>\n",
       "      <td>103.239984</td>\n",
       "      <td>2018</td>\n",
       "      <td>table</td>\n",
       "    </tr>\n",
       "    <tr>\n",
       "      <th>4</th>\n",
       "      <td>141.481716</td>\n",
       "      <td>2018</td>\n",
       "      <td>table</td>\n",
       "    </tr>\n",
       "    <tr>\n",
       "      <th>11</th>\n",
       "      <td>140.113547</td>\n",
       "      <td>2018</td>\n",
       "      <td>table</td>\n",
       "    </tr>\n",
       "    <tr>\n",
       "      <th>14</th>\n",
       "      <td>128.252710</td>\n",
       "      <td>2018</td>\n",
       "      <td>table</td>\n",
       "    </tr>\n",
       "    <tr>\n",
       "      <th>21</th>\n",
       "      <td>122.632964</td>\n",
       "      <td>2018</td>\n",
       "      <td>table</td>\n",
       "    </tr>\n",
       "    <tr>\n",
       "      <th>27</th>\n",
       "      <td>115.579610</td>\n",
       "      <td>2018</td>\n",
       "      <td>table</td>\n",
       "    </tr>\n",
       "    <tr>\n",
       "      <th>29</th>\n",
       "      <td>124.798255</td>\n",
       "      <td>2018</td>\n",
       "      <td>table</td>\n",
       "    </tr>\n",
       "  </tbody>\n",
       "</table>\n",
       "</div>"
      ],
      "text/plain": [
       "                 profit  year product\n",
       "purchase_id                          \n",
       "2            103.239984  2018   table\n",
       "4            141.481716  2018   table\n",
       "11           140.113547  2018   table\n",
       "14           128.252710  2018   table\n",
       "21           122.632964  2018   table\n",
       "27           115.579610  2018   table\n",
       "29           124.798255  2018   table"
      ]
     },
     "metadata": {},
     "output_type": "display_data"
    }
   ],
   "source": [
    "# don't mind the cryptic and not very pep8y code 🙈\n",
    "(df.head(30)\n",
    " .groupby(by=[s_year, 'product'])\n",
    " .agg(some_column=('profit', lambda s: display(s.rename_axis(index='purchase_id')\n",
    "                                                .to_frame()\n",
    "                                                .assign(year=df['timestamp'].dt.year,          \n",
    "                                                        product=df['product']))))); # ; cancels the output"
   ]
  },
  {
   "cell_type": "markdown",
   "metadata": {
    "slideshow": {
     "slide_type": "slide"
    }
   },
   "source": [
    "## 8.5. Stack/Melt\n",
    "\n",
    "This will \"elongate\" a DataFrame. `df.melt` returns a DataFrame while `df.stack` returns a Series with a multidimensional index (harder to work with for beginners) and makes it easier for labelling the columns of the resulting DataFrame (it'll hopefully become clearer with the example).\n",
    "\n",
    "⚠️ Since I decided to keep the index (`ignore_index=False`) in the example below I ended up with indices **duplicated index values** which is **not great**. Fortunately I'll show you how to fix that after."
   ]
  },
  {
   "cell_type": "code",
   "execution_count": 46,
   "metadata": {
    "scrolled": true,
    "slideshow": {
     "slide_type": "fragment"
    }
   },
   "outputs": [
    {
     "name": "stdout",
     "output_type": "stream",
     "text": [
      "Left: example DataFrame. Right: \"elongated\" DataFrame (columns turn to rows)\n"
     ]
    },
    {
     "data": {
      "text/html": [
       "<table style=\"display:inline\" border=\"1\" class=\"dataframe\">\n",
       "  <thead>\n",
       "    <tr style=\"text-align: right;\">\n",
       "      <th></th>\n",
       "      <th>first_name</th>\n",
       "      <th>number_of_cars</th>\n",
       "      <th>number_of_horses</th>\n",
       "    </tr>\n",
       "    <tr>\n",
       "      <th>id</th>\n",
       "      <th></th>\n",
       "      <th></th>\n",
       "      <th></th>\n",
       "    </tr>\n",
       "  </thead>\n",
       "  <tbody>\n",
       "    <tr>\n",
       "      <th>100</th>\n",
       "      <td>Ralf</td>\n",
       "      <td>0</td>\n",
       "      <td>1</td>\n",
       "    </tr>\n",
       "    <tr>\n",
       "      <th>200</th>\n",
       "      <td>John</td>\n",
       "      <td>2</td>\n",
       "      <td>10</td>\n",
       "    </tr>\n",
       "  </tbody>\n",
       "</table style=\"display:inline\"><table style=\"display:inline\" border=\"1\" class=\"dataframe\">\n",
       "  <thead>\n",
       "    <tr style=\"text-align: right;\">\n",
       "      <th></th>\n",
       "      <th>column</th>\n",
       "      <th>value</th>\n",
       "    </tr>\n",
       "    <tr>\n",
       "      <th>id</th>\n",
       "      <th></th>\n",
       "      <th></th>\n",
       "    </tr>\n",
       "  </thead>\n",
       "  <tbody>\n",
       "    <tr>\n",
       "      <th>100</th>\n",
       "      <td>first_name</td>\n",
       "      <td>Ralf</td>\n",
       "    </tr>\n",
       "    <tr>\n",
       "      <th>200</th>\n",
       "      <td>first_name</td>\n",
       "      <td>John</td>\n",
       "    </tr>\n",
       "    <tr>\n",
       "      <th>100</th>\n",
       "      <td>number_of_cars</td>\n",
       "      <td>0</td>\n",
       "    </tr>\n",
       "    <tr>\n",
       "      <th>200</th>\n",
       "      <td>number_of_cars</td>\n",
       "      <td>2</td>\n",
       "    </tr>\n",
       "    <tr>\n",
       "      <th>100</th>\n",
       "      <td>number_of_horses</td>\n",
       "      <td>1</td>\n",
       "    </tr>\n",
       "    <tr>\n",
       "      <th>200</th>\n",
       "      <td>number_of_horses</td>\n",
       "      <td>10</td>\n",
       "    </tr>\n",
       "  </tbody>\n",
       "</table style=\"display:inline\">"
      ]
     },
     "metadata": {},
     "output_type": "display_data"
    }
   ],
   "source": [
    "df = pd.DataFrame({'first_name':['Ralf', 'John'], 'number_of_cars':[0, 2], 'number_of_horses':[1, 10]}, index=pd.Index((100, 200), name='id'))\n",
    "df_melted = df.melt(var_name='column', # default is \"variable\" (or actually df.columns.name if not None) \n",
    "                    value_name='value',\n",
    "                    ignore_index=False) # True by default\n",
    "\n",
    "print('Left: example DataFrame. Right: \"elongated\" DataFrame (columns turn to rows)')\n",
    "display_side_by_side(df, df_melted)"
   ]
  },
  {
   "cell_type": "markdown",
   "metadata": {
    "slideshow": {
     "slide_type": "slide"
    }
   },
   "source": [
    "Removing the duplicated indices"
   ]
  },
  {
   "cell_type": "markdown",
   "metadata": {
    "slideshow": {
     "slide_type": "fragment"
    }
   },
   "source": [
    "We could just reset the index..."
   ]
  },
  {
   "cell_type": "code",
   "execution_count": 47,
   "metadata": {
    "slideshow": {
     "slide_type": "fragment"
    }
   },
   "outputs": [
    {
     "data": {
      "text/html": [
       "<div>\n",
       "<style scoped>\n",
       "    .dataframe tbody tr th:only-of-type {\n",
       "        vertical-align: middle;\n",
       "    }\n",
       "\n",
       "    .dataframe tbody tr th {\n",
       "        vertical-align: top;\n",
       "    }\n",
       "\n",
       "    .dataframe thead th {\n",
       "        text-align: right;\n",
       "    }\n",
       "</style>\n",
       "<table border=\"1\" class=\"dataframe\">\n",
       "  <thead>\n",
       "    <tr style=\"text-align: right;\">\n",
       "      <th></th>\n",
       "      <th>id</th>\n",
       "      <th>column</th>\n",
       "      <th>value</th>\n",
       "    </tr>\n",
       "  </thead>\n",
       "  <tbody>\n",
       "    <tr>\n",
       "      <th>0</th>\n",
       "      <td>100</td>\n",
       "      <td>first_name</td>\n",
       "      <td>Ralf</td>\n",
       "    </tr>\n",
       "    <tr>\n",
       "      <th>1</th>\n",
       "      <td>200</td>\n",
       "      <td>first_name</td>\n",
       "      <td>John</td>\n",
       "    </tr>\n",
       "    <tr>\n",
       "      <th>2</th>\n",
       "      <td>100</td>\n",
       "      <td>number_of_cars</td>\n",
       "      <td>0</td>\n",
       "    </tr>\n",
       "    <tr>\n",
       "      <th>3</th>\n",
       "      <td>200</td>\n",
       "      <td>number_of_cars</td>\n",
       "      <td>2</td>\n",
       "    </tr>\n",
       "    <tr>\n",
       "      <th>4</th>\n",
       "      <td>100</td>\n",
       "      <td>number_of_horses</td>\n",
       "      <td>1</td>\n",
       "    </tr>\n",
       "    <tr>\n",
       "      <th>5</th>\n",
       "      <td>200</td>\n",
       "      <td>number_of_horses</td>\n",
       "      <td>10</td>\n",
       "    </tr>\n",
       "  </tbody>\n",
       "</table>\n",
       "</div>"
      ],
      "text/plain": [
       "    id            column value\n",
       "0  100        first_name  Ralf\n",
       "1  200        first_name  John\n",
       "2  100    number_of_cars     0\n",
       "3  200    number_of_cars     2\n",
       "4  100  number_of_horses     1\n",
       "5  200  number_of_horses    10"
      ]
     },
     "execution_count": 47,
     "metadata": {},
     "output_type": "execute_result"
    }
   ],
   "source": [
    "df_melted.reset_index()"
   ]
  },
  {
   "cell_type": "markdown",
   "metadata": {
    "slideshow": {
     "slide_type": "fragment"
    }
   },
   "source": [
    "...Or add \"column\" as an index level. I'll also sort the index to show the multiple levels better."
   ]
  },
  {
   "cell_type": "code",
   "execution_count": 48,
   "metadata": {
    "slideshow": {
     "slide_type": "fragment"
    }
   },
   "outputs": [
    {
     "data": {
      "text/html": [
       "<div>\n",
       "<style scoped>\n",
       "    .dataframe tbody tr th:only-of-type {\n",
       "        vertical-align: middle;\n",
       "    }\n",
       "\n",
       "    .dataframe tbody tr th {\n",
       "        vertical-align: top;\n",
       "    }\n",
       "\n",
       "    .dataframe thead th {\n",
       "        text-align: right;\n",
       "    }\n",
       "</style>\n",
       "<table border=\"1\" class=\"dataframe\">\n",
       "  <thead>\n",
       "    <tr style=\"text-align: right;\">\n",
       "      <th></th>\n",
       "      <th></th>\n",
       "      <th>value</th>\n",
       "    </tr>\n",
       "    <tr>\n",
       "      <th>id</th>\n",
       "      <th>column</th>\n",
       "      <th></th>\n",
       "    </tr>\n",
       "  </thead>\n",
       "  <tbody>\n",
       "    <tr>\n",
       "      <th rowspan=\"3\" valign=\"top\">100</th>\n",
       "      <th>first_name</th>\n",
       "      <td>Ralf</td>\n",
       "    </tr>\n",
       "    <tr>\n",
       "      <th>number_of_cars</th>\n",
       "      <td>0</td>\n",
       "    </tr>\n",
       "    <tr>\n",
       "      <th>number_of_horses</th>\n",
       "      <td>1</td>\n",
       "    </tr>\n",
       "    <tr>\n",
       "      <th rowspan=\"2\" valign=\"top\">200</th>\n",
       "      <th>first_name</th>\n",
       "      <td>John</td>\n",
       "    </tr>\n",
       "    <tr>\n",
       "      <th>number_of_cars</th>\n",
       "      <td>2</td>\n",
       "    </tr>\n",
       "  </tbody>\n",
       "</table>\n",
       "</div>"
      ],
      "text/plain": [
       "                     value\n",
       "id  column                \n",
       "100 first_name        Ralf\n",
       "    number_of_cars       0\n",
       "    number_of_horses     1\n",
       "200 first_name        John\n",
       "    number_of_cars       2"
      ]
     },
     "execution_count": 48,
     "metadata": {},
     "output_type": "execute_result"
    }
   ],
   "source": [
    "df_melted.set_index('column', append=True).sort_index().head()"
   ]
  },
  {
   "cell_type": "markdown",
   "metadata": {
    "slideshow": {
     "slide_type": "slide"
    }
   },
   "source": [
    "# 9. Using custom functions"
   ]
  },
  {
   "cell_type": "markdown",
   "metadata": {
    "slideshow": {
     "slide_type": "slide"
    }
   },
   "source": [
    "Let's create a function to \"normalize\" a string containing german text. **Don't focus on the code**, I just needed a function that is \"dumb\" enough for everyone to understand what it does but also \"clever\" enough that it would not make much sense to use pandas' integrated methods (e.g. `Series.str.strip`)"
   ]
  },
  {
   "cell_type": "code",
   "execution_count": 49,
   "metadata": {
    "slideshow": {
     "slide_type": "fragment"
    }
   },
   "outputs": [
    {
     "name": "stdout",
     "output_type": "stream",
     "text": [
      "\"Mag Herr Müller mehr Kartoffeln?\" -> \"mag herr mueller mehr kartoffeln\"\n"
     ]
    }
   ],
   "source": [
    "import unidecode # pip install unidecode\n",
    "from string import punctuation\n",
    "\n",
    "# create a translation table (character number:replacement) for german characters to convert them to ascii\n",
    "ascii_german_accents = {'ä':'ae', 'ö':'oe', 'ü':'ue', 'ß':'ss'}\n",
    "ascii_german_accents = {ord(c):repl for c, repl in ascii_german_accents.items()}\n",
    "\n",
    "def normalize_german_string(string, remove_punctuation=True):\n",
    "    # passthrough for non strings\n",
    "    if not isinstance(string, str):\n",
    "        return string\n",
    "    else:\n",
    "        result = string.strip().lower().translate(ascii_german_accents)\n",
    "        if remove_punctuation:\n",
    "            result = ''.join(c for c in result if c not in punctuation)\n",
    "        return unidecode.unidecode(result) # in case some accents were still present -> ascii\n",
    "\n",
    "# interactive test (as opposed to using assertions)\n",
    "before = 'Mag Herr Müller mehr Kartoffeln?'\n",
    "after = normalize_german_string(before)\n",
    "print(f'\"{before}\" -> \"{after}\"')"
   ]
  },
  {
   "cell_type": "markdown",
   "metadata": {
    "slideshow": {
     "slide_type": "slide"
    }
   },
   "source": [
    "## 9.1. for Series"
   ]
  },
  {
   "cell_type": "markdown",
   "metadata": {
    "slideshow": {
     "slide_type": "slide"
    }
   },
   "source": [
    "Use `map` or `apply` for Series (map uses the function on each element while apply uses the function on the array but it's the same in the case of a Series since it's one dimensional anyways).\n",
    "\n",
    "* When to use `map`: you can pass directly the function (without using arguments) and optionally you want to ignore NULLs (thanks to the parameter `na_action`)\n",
    "* When to use `apply`: you want to pass arguments to the function (well I mean you could also use `map` with a \"rewritten\" function e.g. a partial but let's keep it simple 😐)"
   ]
  },
  {
   "cell_type": "code",
   "execution_count": 50,
   "metadata": {
    "slideshow": {
     "slide_type": "fragment"
    }
   },
   "outputs": [
    {
     "data": {
      "text/plain": [
       "0                  alexander mueller geht schwimmen\n",
       "1    muenchen paris und berlin sind grosse staedten\n",
       "2                                              <NA>\n",
       "dtype: object"
      ]
     },
     "execution_count": 50,
     "metadata": {},
     "output_type": "execute_result"
    }
   ],
   "source": [
    "s = pd.Series(['   Alexander Müller geht schwimmen.', 'München, Paris und Berlin sind große Städten.  ', pd.NA])\n",
    "s.map(normalize_german_string, na_action='ignore')"
   ]
  },
  {
   "cell_type": "code",
   "execution_count": 51,
   "metadata": {
    "slideshow": {
     "slide_type": "fragment"
    }
   },
   "outputs": [
    {
     "data": {
      "text/plain": [
       "0                   alexander mueller geht schwimmen.\n",
       "1    muenchen, paris und berlin sind grosse staedten.\n",
       "2                                                <NA>\n",
       "dtype: object"
      ]
     },
     "execution_count": 51,
     "metadata": {},
     "output_type": "execute_result"
    }
   ],
   "source": [
    "s.apply(normalize_german_string, remove_punctuation=False)"
   ]
  },
  {
   "cell_type": "markdown",
   "metadata": {
    "slideshow": {
     "slide_type": "slide"
    }
   },
   "source": [
    "## 9.2. for DataFrames\n",
    "\n",
    "* use `applymap` for applying a function to all \"cells\" of a DataFrame (similarly to `pd.Series.map` but ⚠️ there is no `pd.DataFrame.map` method!) \n",
    "* use `apply` for array wise operations (we'll get to that...)"
   ]
  },
  {
   "cell_type": "code",
   "execution_count": 52,
   "metadata": {
    "slideshow": {
     "slide_type": "fragment"
    }
   },
   "outputs": [
    {
     "data": {
      "text/html": [
       "<div>\n",
       "<style scoped>\n",
       "    .dataframe tbody tr th:only-of-type {\n",
       "        vertical-align: middle;\n",
       "    }\n",
       "\n",
       "    .dataframe tbody tr th {\n",
       "        vertical-align: top;\n",
       "    }\n",
       "\n",
       "    .dataframe thead th {\n",
       "        text-align: right;\n",
       "    }\n",
       "</style>\n",
       "<table border=\"1\" class=\"dataframe\">\n",
       "  <thead>\n",
       "    <tr style=\"text-align: right;\">\n",
       "      <th></th>\n",
       "      <th>city</th>\n",
       "      <th>full_name</th>\n",
       "    </tr>\n",
       "  </thead>\n",
       "  <tbody>\n",
       "    <tr>\n",
       "      <th>0</th>\n",
       "      <td>München</td>\n",
       "      <td>Alexander, Müller</td>\n",
       "    </tr>\n",
       "    <tr>\n",
       "      <th>1</th>\n",
       "      <td>Paris</td>\n",
       "      <td>Marcel Dupont?</td>\n",
       "    </tr>\n",
       "    <tr>\n",
       "      <th>2</th>\n",
       "      <td>&lt;NA&gt;</td>\n",
       "      <td>John.</td>\n",
       "    </tr>\n",
       "  </tbody>\n",
       "</table>\n",
       "</div>"
      ],
      "text/plain": [
       "      city          full_name\n",
       "0  München  Alexander, Müller\n",
       "1    Paris     Marcel Dupont?\n",
       "2     <NA>              John."
      ]
     },
     "metadata": {},
     "output_type": "display_data"
    },
    {
     "data": {
      "text/html": [
       "<div>\n",
       "<style scoped>\n",
       "    .dataframe tbody tr th:only-of-type {\n",
       "        vertical-align: middle;\n",
       "    }\n",
       "\n",
       "    .dataframe tbody tr th {\n",
       "        vertical-align: top;\n",
       "    }\n",
       "\n",
       "    .dataframe thead th {\n",
       "        text-align: right;\n",
       "    }\n",
       "</style>\n",
       "<table border=\"1\" class=\"dataframe\">\n",
       "  <thead>\n",
       "    <tr style=\"text-align: right;\">\n",
       "      <th></th>\n",
       "      <th>city</th>\n",
       "      <th>full_name</th>\n",
       "    </tr>\n",
       "  </thead>\n",
       "  <tbody>\n",
       "    <tr>\n",
       "      <th>0</th>\n",
       "      <td>muenchen</td>\n",
       "      <td>alexander mueller</td>\n",
       "    </tr>\n",
       "    <tr>\n",
       "      <th>1</th>\n",
       "      <td>paris</td>\n",
       "      <td>marcel dupont</td>\n",
       "    </tr>\n",
       "    <tr>\n",
       "      <th>2</th>\n",
       "      <td>&lt;NA&gt;</td>\n",
       "      <td>john</td>\n",
       "    </tr>\n",
       "  </tbody>\n",
       "</table>\n",
       "</div>"
      ],
      "text/plain": [
       "       city          full_name\n",
       "0  muenchen  alexander mueller\n",
       "1     paris      marcel dupont\n",
       "2      <NA>               john"
      ]
     },
     "execution_count": 52,
     "metadata": {},
     "output_type": "execute_result"
    }
   ],
   "source": [
    "df = pd.DataFrame({'city':['München', 'Paris', pd.NA], 'full_name':['Alexander, Müller', 'Marcel Dupont?', 'John.']})\n",
    "display(df)\n",
    "\n",
    "# this is rather simple as you can see...\n",
    "df.applymap(normalize_german_string)"
   ]
  },
  {
   "cell_type": "markdown",
   "metadata": {
    "slideshow": {
     "slide_type": "slide"
    }
   },
   "source": [
    "What if I want to pass arguments to applymap 😕?"
   ]
  },
  {
   "cell_type": "code",
   "execution_count": 53,
   "metadata": {
    "slideshow": {
     "slide_type": "fragment"
    }
   },
   "outputs": [
    {
     "data": {
      "text/html": [
       "<div>\n",
       "<style scoped>\n",
       "    .dataframe tbody tr th:only-of-type {\n",
       "        vertical-align: middle;\n",
       "    }\n",
       "\n",
       "    .dataframe tbody tr th {\n",
       "        vertical-align: top;\n",
       "    }\n",
       "\n",
       "    .dataframe thead th {\n",
       "        text-align: right;\n",
       "    }\n",
       "</style>\n",
       "<table border=\"1\" class=\"dataframe\">\n",
       "  <thead>\n",
       "    <tr style=\"text-align: right;\">\n",
       "      <th></th>\n",
       "      <th>city</th>\n",
       "      <th>full_name</th>\n",
       "    </tr>\n",
       "  </thead>\n",
       "  <tbody>\n",
       "    <tr>\n",
       "      <th>0</th>\n",
       "      <td>muenchen</td>\n",
       "      <td>alexander, mueller</td>\n",
       "    </tr>\n",
       "    <tr>\n",
       "      <th>1</th>\n",
       "      <td>paris</td>\n",
       "      <td>marcel dupont?</td>\n",
       "    </tr>\n",
       "    <tr>\n",
       "      <th>2</th>\n",
       "      <td>&lt;NA&gt;</td>\n",
       "      <td>john.</td>\n",
       "    </tr>\n",
       "  </tbody>\n",
       "</table>\n",
       "</div>"
      ],
      "text/plain": [
       "       city           full_name\n",
       "0  muenchen  alexander, mueller\n",
       "1     paris      marcel dupont?\n",
       "2      <NA>               john."
      ]
     },
     "execution_count": 53,
     "metadata": {},
     "output_type": "execute_result"
    }
   ],
   "source": [
    "def normalize_german_string_modified(string):\n",
    "    return normalize_german_string(string, remove_punctuation=False)\n",
    "\n",
    "df.applymap(normalize_german_string_modified)"
   ]
  },
  {
   "cell_type": "markdown",
   "metadata": {
    "slideshow": {
     "slide_type": "fragment"
    }
   },
   "source": [
    "Simpler version of the code above"
   ]
  },
  {
   "cell_type": "code",
   "execution_count": 54,
   "metadata": {
    "slideshow": {
     "slide_type": "fragment"
    }
   },
   "outputs": [
    {
     "data": {
      "text/html": [
       "<div>\n",
       "<style scoped>\n",
       "    .dataframe tbody tr th:only-of-type {\n",
       "        vertical-align: middle;\n",
       "    }\n",
       "\n",
       "    .dataframe tbody tr th {\n",
       "        vertical-align: top;\n",
       "    }\n",
       "\n",
       "    .dataframe thead th {\n",
       "        text-align: right;\n",
       "    }\n",
       "</style>\n",
       "<table border=\"1\" class=\"dataframe\">\n",
       "  <thead>\n",
       "    <tr style=\"text-align: right;\">\n",
       "      <th></th>\n",
       "      <th>city</th>\n",
       "      <th>full_name</th>\n",
       "    </tr>\n",
       "  </thead>\n",
       "  <tbody>\n",
       "    <tr>\n",
       "      <th>0</th>\n",
       "      <td>muenchen</td>\n",
       "      <td>alexander, mueller</td>\n",
       "    </tr>\n",
       "    <tr>\n",
       "      <th>1</th>\n",
       "      <td>paris</td>\n",
       "      <td>marcel dupont?</td>\n",
       "    </tr>\n",
       "    <tr>\n",
       "      <th>2</th>\n",
       "      <td>&lt;NA&gt;</td>\n",
       "      <td>john.</td>\n",
       "    </tr>\n",
       "  </tbody>\n",
       "</table>\n",
       "</div>"
      ],
      "text/plain": [
       "       city           full_name\n",
       "0  muenchen  alexander, mueller\n",
       "1     paris      marcel dupont?\n",
       "2      <NA>               john."
      ]
     },
     "execution_count": 54,
     "metadata": {},
     "output_type": "execute_result"
    }
   ],
   "source": [
    "# string or x, the argument name does not matter as long as it's the same everywhere\n",
    "df.applymap(lambda string: normalize_german_string(string, remove_punctuation=False))"
   ]
  },
  {
   "cell_type": "markdown",
   "metadata": {
    "slideshow": {
     "slide_type": "slide"
    }
   },
   "source": [
    "Array wise operations with `apply`"
   ]
  },
  {
   "cell_type": "markdown",
   "metadata": {
    "slideshow": {
     "slide_type": "slide"
    }
   },
   "source": [
    "Let's create an example function which finds a square around coordinates in a given radius. Again **the code of the function is not important**, it's just an example for using `apply` with a DataFrame.\n",
    "\n",
    "Note: I actually use a similar function to reduce searches in a database when looking up information on coordinates."
   ]
  },
  {
   "cell_type": "code",
   "execution_count": 55,
   "metadata": {
    "slideshow": {
     "slide_type": "fragment"
    }
   },
   "outputs": [
    {
     "data": {
      "text/plain": [
       "Radius(min_latitude=47.897289206970456, max_latitude=48.07716137792281, min_longitude=7.522367588550245, max_longitude=7.790306611449755)"
      ]
     },
     "execution_count": 55,
     "metadata": {},
     "output_type": "execute_result"
    }
   ],
   "source": [
    "import geopy.distance # pip install geopy\n",
    "from collections import namedtuple\n",
    "\n",
    "Radius = namedtuple(typename='Radius', field_names=('min_latitude', 'max_latitude', 'min_longitude', 'max_longitude'))\n",
    "\n",
    "def get_radius_around_coordinates(latitude, longitude, radius_in_km=10):\n",
    "    distance_obj = geopy.distance.distance(kilometers=radius_in_km)\n",
    "    point = (latitude, longitude)\n",
    "    min_latitude = distance_obj.destination(point=point, bearing=180).latitude # North\n",
    "    max_latitude = distance_obj.destination(point=point, bearing=0).latitude # South\n",
    "    min_longitude = distance_obj.destination(point=point, bearing=-90).longitude # West\n",
    "    max_longitude = distance_obj.destination(point=point, bearing=90).longitude # East\n",
    "    return Radius(min_latitude, max_latitude, min_longitude, max_longitude)\n",
    "\n",
    "get_radius_around_coordinates(latitude=47.987226, longitude=7.6563371, radius_in_km=10)"
   ]
  },
  {
   "cell_type": "markdown",
   "metadata": {
    "slideshow": {
     "slide_type": "slide"
    }
   },
   "source": [
    "Let's use the function"
   ]
  },
  {
   "cell_type": "code",
   "execution_count": 56,
   "metadata": {
    "slideshow": {
     "slide_type": "fragment"
    }
   },
   "outputs": [
    {
     "data": {
      "text/html": [
       "<div>\n",
       "<style scoped>\n",
       "    .dataframe tbody tr th:only-of-type {\n",
       "        vertical-align: middle;\n",
       "    }\n",
       "\n",
       "    .dataframe tbody tr th {\n",
       "        vertical-align: top;\n",
       "    }\n",
       "\n",
       "    .dataframe thead th {\n",
       "        text-align: right;\n",
       "    }\n",
       "</style>\n",
       "<table border=\"1\" class=\"dataframe\">\n",
       "  <thead>\n",
       "    <tr style=\"text-align: right;\">\n",
       "      <th></th>\n",
       "      <th>latitude</th>\n",
       "      <th>longitude</th>\n",
       "    </tr>\n",
       "  </thead>\n",
       "  <tbody>\n",
       "    <tr>\n",
       "      <th>0</th>\n",
       "      <td>47.987226</td>\n",
       "      <td>7.656337</td>\n",
       "    </tr>\n",
       "    <tr>\n",
       "      <th>1</th>\n",
       "      <td>47.987226</td>\n",
       "      <td>7.656337</td>\n",
       "    </tr>\n",
       "  </tbody>\n",
       "</table>\n",
       "</div>"
      ],
      "text/plain": [
       "    latitude  longitude\n",
       "0  47.987226   7.656337\n",
       "1  47.987226   7.656337"
      ]
     },
     "metadata": {},
     "output_type": "display_data"
    },
    {
     "data": {
      "text/html": [
       "<div>\n",
       "<style scoped>\n",
       "    .dataframe tbody tr th:only-of-type {\n",
       "        vertical-align: middle;\n",
       "    }\n",
       "\n",
       "    .dataframe tbody tr th {\n",
       "        vertical-align: top;\n",
       "    }\n",
       "\n",
       "    .dataframe thead th {\n",
       "        text-align: right;\n",
       "    }\n",
       "</style>\n",
       "<table border=\"1\" class=\"dataframe\">\n",
       "  <thead>\n",
       "    <tr style=\"text-align: right;\">\n",
       "      <th></th>\n",
       "      <th>latitude</th>\n",
       "      <th>longitude</th>\n",
       "      <th>radius</th>\n",
       "    </tr>\n",
       "  </thead>\n",
       "  <tbody>\n",
       "    <tr>\n",
       "      <th>0</th>\n",
       "      <td>47.987226</td>\n",
       "      <td>7.656337</td>\n",
       "      <td>(47.897289206970456, 48.07716137792281, 7.5223...</td>\n",
       "    </tr>\n",
       "    <tr>\n",
       "      <th>1</th>\n",
       "      <td>47.987226</td>\n",
       "      <td>7.656337</td>\n",
       "      <td>(47.897289206970456, 48.07716137792281, 7.5223...</td>\n",
       "    </tr>\n",
       "  </tbody>\n",
       "</table>\n",
       "</div>"
      ],
      "text/plain": [
       "    latitude  longitude                                             radius\n",
       "0  47.987226   7.656337  (47.897289206970456, 48.07716137792281, 7.5223...\n",
       "1  47.987226   7.656337  (47.897289206970456, 48.07716137792281, 7.5223..."
      ]
     },
     "execution_count": 56,
     "metadata": {},
     "output_type": "execute_result"
    }
   ],
   "source": [
    "df = pd.DataFrame({'latitude':[47.987226, 47.987226], 'longitude':[7.6563371, 7.6563371]})\n",
    "display(df)\n",
    "# the name \"row\" in my lambda below does not really show that it is in fact a Series (it's the row that has been transposed) but it helps for comprehension\n",
    "df['radius'] = df.apply(lambda row: get_radius_around_coordinates(latitude=row['latitude'],\n",
    "                                                                  longitude=row['longitude']),\n",
    "                        axis='columns')\n",
    "df"
   ]
  },
  {
   "cell_type": "markdown",
   "metadata": {
    "slideshow": {
     "slide_type": "fragment"
    }
   },
   "source": [
    "What's happening here? Well it's hard to explain but pandas passes individual rows (transposed) to be processed...\n",
    "\n",
    "![what](./imgs/what.jpg)"
   ]
  },
  {
   "cell_type": "code",
   "execution_count": 57,
   "metadata": {
    "slideshow": {
     "slide_type": "slide"
    }
   },
   "outputs": [
    {
     "data": {
      "text/html": [
       "<div>\n",
       "<style scoped>\n",
       "    .dataframe tbody tr th:only-of-type {\n",
       "        vertical-align: middle;\n",
       "    }\n",
       "\n",
       "    .dataframe tbody tr th {\n",
       "        vertical-align: top;\n",
       "    }\n",
       "\n",
       "    .dataframe thead th {\n",
       "        text-align: right;\n",
       "    }\n",
       "</style>\n",
       "<table border=\"1\" class=\"dataframe\">\n",
       "  <thead>\n",
       "    <tr style=\"text-align: right;\">\n",
       "      <th></th>\n",
       "      <th>latitude</th>\n",
       "      <th>longitude</th>\n",
       "    </tr>\n",
       "  </thead>\n",
       "  <tbody>\n",
       "    <tr>\n",
       "      <th>0</th>\n",
       "      <td>47.987226</td>\n",
       "      <td>7.656337</td>\n",
       "    </tr>\n",
       "    <tr>\n",
       "      <th>1</th>\n",
       "      <td>47.987226</td>\n",
       "      <td>7.656337</td>\n",
       "    </tr>\n",
       "  </tbody>\n",
       "</table>\n",
       "</div>"
      ],
      "text/plain": [
       "    latitude  longitude\n",
       "0  47.987226   7.656337\n",
       "1  47.987226   7.656337"
      ]
     },
     "metadata": {},
     "output_type": "display_data"
    },
    {
     "data": {
      "text/plain": [
       "latitude     47.987226\n",
       "longitude     7.656337\n",
       "Name: 0, dtype: float64"
      ]
     },
     "metadata": {},
     "output_type": "display_data"
    },
    {
     "data": {
      "text/plain": [
       "latitude     47.987226\n",
       "longitude     7.656337\n",
       "Name: 1, dtype: float64"
      ]
     },
     "metadata": {},
     "output_type": "display_data"
    }
   ],
   "source": [
    "# let's show the DataFrame as it was before\n",
    "df.drop(columns=['radius'], inplace=True, errors='ignore') # in case we want to reexecute the cell when presenting\n",
    "display(df)\n",
    "\n",
    "# let's see what pandas does when we do apply along columns\n",
    "df.apply(lambda row: display(row), axis='columns');"
   ]
  },
  {
   "cell_type": "markdown",
   "metadata": {
    "slideshow": {
     "slide_type": "slide"
    }
   },
   "source": [
    "# 10. Outside of scope"
   ]
  },
  {
   "cell_type": "markdown",
   "metadata": {
    "slideshow": {
     "slide_type": "slide"
    }
   },
   "source": [
    "## Method chaining\n",
    "\n",
    "![chaining](./imgs/chaining.jpg)\n",
    "\n",
    "_[Image Source](https://micador.com.au/blogs/ideas/2016/Oct/14/paper-snake-radical-reptile)_\n",
    "\n",
    "> Method chaining is a technique that is used for making multiple method calls on the same object, using the object reference just once.\n",
    ">\n",
    "> _Source: [TutorialsPoint](https://www.tutorialspoint.com/Explain-Python-class-method-chaining)_"
   ]
  },
  {
   "cell_type": "markdown",
   "metadata": {
    "slideshow": {
     "slide_type": "slide"
    }
   },
   "source": [
    "Without method chaining"
   ]
  },
  {
   "cell_type": "code",
   "execution_count": 58,
   "metadata": {
    "slideshow": {
     "slide_type": "fragment"
    }
   },
   "outputs": [
    {
     "data": {
      "text/plain": [
       "'FOOBAZ'"
      ]
     },
     "execution_count": 58,
     "metadata": {},
     "output_type": "execute_result"
    }
   ],
   "source": [
    "string = 'foobar'\n",
    "new_string = string.replace('bar', 'baz')\n",
    "new_string = new_string.upper()\n",
    "new_string"
   ]
  },
  {
   "cell_type": "markdown",
   "metadata": {
    "slideshow": {
     "slide_type": "fragment"
    }
   },
   "source": [
    "With method chaining"
   ]
  },
  {
   "cell_type": "code",
   "execution_count": 59,
   "metadata": {
    "slideshow": {
     "slide_type": "fragment"
    }
   },
   "outputs": [
    {
     "data": {
      "text/plain": [
       "'FOOBAZ'"
      ]
     },
     "execution_count": 59,
     "metadata": {},
     "output_type": "execute_result"
    }
   ],
   "source": [
    "string = 'foobar'\n",
    "new_string = string.replace('bar', 'baz').upper() # string.replace(...) returns a string so I can continue using string methods\n",
    "new_string"
   ]
  },
  {
   "cell_type": "markdown",
   "metadata": {
    "slideshow": {
     "slide_type": "slide"
    }
   },
   "source": [
    "In pandas you can make **almost everything with method chaining** 🐼! I find it useful to save some lines of code and temporary variables.\n",
    "Also for me it's a way to group operations together in the same block.\n",
    "\n",
    "A very useful method I have not talked about is `df.assign` for creating new columns in a DataFrame with method chaining\n",
    "(it returns a copy of the DataFrame with the new column).\n",
    "\n",
    "⚠️ Be careful with `df.assign` and `df.loc` within method chainings! Make sure you do not refer to a \"stale\" object.\n",
    "You can also use functions to refer to the DataFrame you are \"method chaining\" with as I will demonstrate."
   ]
  },
  {
   "cell_type": "markdown",
   "metadata": {
    "slideshow": {
     "slide_type": "slide"
    }
   },
   "source": [
    "Let's reread the products DataFrame from before"
   ]
  },
  {
   "cell_type": "code",
   "execution_count": 60,
   "metadata": {
    "slideshow": {
     "slide_type": "fragment"
    }
   },
   "outputs": [
    {
     "data": {
      "text/html": [
       "<div>\n",
       "<style scoped>\n",
       "    .dataframe tbody tr th:only-of-type {\n",
       "        vertical-align: middle;\n",
       "    }\n",
       "\n",
       "    .dataframe tbody tr th {\n",
       "        vertical-align: top;\n",
       "    }\n",
       "\n",
       "    .dataframe thead th {\n",
       "        text-align: right;\n",
       "    }\n",
       "</style>\n",
       "<table border=\"1\" class=\"dataframe\">\n",
       "  <thead>\n",
       "    <tr style=\"text-align: right;\">\n",
       "      <th></th>\n",
       "      <th>profit</th>\n",
       "      <th>product</th>\n",
       "      <th>profile_id</th>\n",
       "      <th>timestamp</th>\n",
       "    </tr>\n",
       "    <tr>\n",
       "      <th>purchase_id</th>\n",
       "      <th></th>\n",
       "      <th></th>\n",
       "      <th></th>\n",
       "      <th></th>\n",
       "    </tr>\n",
       "  </thead>\n",
       "  <tbody>\n",
       "    <tr>\n",
       "      <th>0</th>\n",
       "      <td>262.311584</td>\n",
       "      <td>mobile phone</td>\n",
       "      <td>9</td>\n",
       "      <td>2018-01-04 06:31:21+00:00</td>\n",
       "    </tr>\n",
       "    <tr>\n",
       "      <th>1</th>\n",
       "      <td>1.219595</td>\n",
       "      <td>banana</td>\n",
       "      <td>8</td>\n",
       "      <td>2018-01-27 03:59:38+00:00</td>\n",
       "    </tr>\n",
       "    <tr>\n",
       "      <th>2</th>\n",
       "      <td>103.239984</td>\n",
       "      <td>table</td>\n",
       "      <td>9</td>\n",
       "      <td>2018-02-02 21:19:35+00:00</td>\n",
       "    </tr>\n",
       "    <tr>\n",
       "      <th>3</th>\n",
       "      <td>1.533321</td>\n",
       "      <td>banana</td>\n",
       "      <td>4</td>\n",
       "      <td>2018-02-06 11:22:46+00:00</td>\n",
       "    </tr>\n",
       "    <tr>\n",
       "      <th>4</th>\n",
       "      <td>141.481716</td>\n",
       "      <td>table</td>\n",
       "      <td>1</td>\n",
       "      <td>2018-02-11 20:57:53+00:00</td>\n",
       "    </tr>\n",
       "  </tbody>\n",
       "</table>\n",
       "</div>"
      ],
      "text/plain": [
       "                 profit       product  profile_id                 timestamp\n",
       "purchase_id                                                                \n",
       "0            262.311584  mobile phone           9 2018-01-04 06:31:21+00:00\n",
       "1              1.219595        banana           8 2018-01-27 03:59:38+00:00\n",
       "2            103.239984         table           9 2018-02-02 21:19:35+00:00\n",
       "3              1.533321        banana           4 2018-02-06 11:22:46+00:00\n",
       "4            141.481716         table           1 2018-02-11 20:57:53+00:00"
      ]
     },
     "execution_count": 60,
     "metadata": {},
     "output_type": "execute_result"
    }
   ],
   "source": [
    "df = pd.read_pickle('./data/df_products_random.pickle').head(20) # let's just take a sample\n",
    "df.head()"
   ]
  },
  {
   "cell_type": "markdown",
   "metadata": {
    "slideshow": {
     "slide_type": "slide"
    }
   },
   "source": [
    "Let's remove mobile phones, then group by profile id and product.\n",
    "\n",
    "Pro-tip: you can use **parentheses** to indicate Python that subsequent lines of codes belong to the same statement.\n",
    "\n",
    "We'll also add the columns \"test\" (we just write \"foo\" in this column) and \"good_profit\" (groups for which the sum of profits is higher than 300)"
   ]
  },
  {
   "cell_type": "code",
   "execution_count": 61,
   "metadata": {
    "slideshow": {
     "slide_type": "fragment"
    }
   },
   "outputs": [
    {
     "data": {
      "text/html": [
       "<div>\n",
       "<style scoped>\n",
       "    .dataframe tbody tr th:only-of-type {\n",
       "        vertical-align: middle;\n",
       "    }\n",
       "\n",
       "    .dataframe tbody tr th {\n",
       "        vertical-align: top;\n",
       "    }\n",
       "\n",
       "    .dataframe thead th {\n",
       "        text-align: right;\n",
       "    }\n",
       "</style>\n",
       "<table border=\"1\" class=\"dataframe\">\n",
       "  <thead>\n",
       "    <tr style=\"text-align: right;\">\n",
       "      <th></th>\n",
       "      <th></th>\n",
       "      <th>sum_of_profits</th>\n",
       "      <th>test</th>\n",
       "      <th>good_profit</th>\n",
       "    </tr>\n",
       "    <tr>\n",
       "      <th>profile_id</th>\n",
       "      <th>product</th>\n",
       "      <th></th>\n",
       "      <th></th>\n",
       "      <th></th>\n",
       "    </tr>\n",
       "  </thead>\n",
       "  <tbody>\n",
       "    <tr>\n",
       "      <th>1</th>\n",
       "      <th>table</th>\n",
       "      <td>141.481716</td>\n",
       "      <td>foo</td>\n",
       "      <td>False</td>\n",
       "    </tr>\n",
       "    <tr>\n",
       "      <th rowspan=\"2\" valign=\"top\">2</th>\n",
       "      <th>banana</th>\n",
       "      <td>1.507194</td>\n",
       "      <td>foo</td>\n",
       "      <td>False</td>\n",
       "    </tr>\n",
       "    <tr>\n",
       "      <th>table</th>\n",
       "      <td>128.252710</td>\n",
       "      <td>foo</td>\n",
       "      <td>False</td>\n",
       "    </tr>\n",
       "    <tr>\n",
       "      <th rowspan=\"3\" valign=\"top\">4</th>\n",
       "      <th>banana</th>\n",
       "      <td>2.539677</td>\n",
       "      <td>foo</td>\n",
       "      <td>False</td>\n",
       "    </tr>\n",
       "    <tr>\n",
       "      <th>chair</th>\n",
       "      <td>42.009166</td>\n",
       "      <td>foo</td>\n",
       "      <td>False</td>\n",
       "    </tr>\n",
       "    <tr>\n",
       "      <th>table</th>\n",
       "      <td>140.113547</td>\n",
       "      <td>foo</td>\n",
       "      <td>False</td>\n",
       "    </tr>\n",
       "    <tr>\n",
       "      <th>5</th>\n",
       "      <th>computer</th>\n",
       "      <td>652.313938</td>\n",
       "      <td>foo</td>\n",
       "      <td>True</td>\n",
       "    </tr>\n",
       "    <tr>\n",
       "      <th>6</th>\n",
       "      <th>computer</th>\n",
       "      <td>312.892860</td>\n",
       "      <td>foo</td>\n",
       "      <td>True</td>\n",
       "    </tr>\n",
       "    <tr>\n",
       "      <th rowspan=\"2\" valign=\"top\">8</th>\n",
       "      <th>banana</th>\n",
       "      <td>1.219595</td>\n",
       "      <td>foo</td>\n",
       "      <td>False</td>\n",
       "    </tr>\n",
       "    <tr>\n",
       "      <th>chair</th>\n",
       "      <td>21.094397</td>\n",
       "      <td>foo</td>\n",
       "      <td>False</td>\n",
       "    </tr>\n",
       "    <tr>\n",
       "      <th rowspan=\"4\" valign=\"top\">9</th>\n",
       "      <th>banana</th>\n",
       "      <td>1.489057</td>\n",
       "      <td>foo</td>\n",
       "      <td>False</td>\n",
       "    </tr>\n",
       "    <tr>\n",
       "      <th>chair</th>\n",
       "      <td>51.295601</td>\n",
       "      <td>foo</td>\n",
       "      <td>False</td>\n",
       "    </tr>\n",
       "    <tr>\n",
       "      <th>computer</th>\n",
       "      <td>300.981553</td>\n",
       "      <td>foo</td>\n",
       "      <td>True</td>\n",
       "    </tr>\n",
       "    <tr>\n",
       "      <th>table</th>\n",
       "      <td>103.239984</td>\n",
       "      <td>foo</td>\n",
       "      <td>False</td>\n",
       "    </tr>\n",
       "  </tbody>\n",
       "</table>\n",
       "</div>"
      ],
      "text/plain": [
       "                     sum_of_profits test  good_profit\n",
       "profile_id product                                   \n",
       "1          table         141.481716  foo        False\n",
       "2          banana          1.507194  foo        False\n",
       "           table         128.252710  foo        False\n",
       "4          banana          2.539677  foo        False\n",
       "           chair          42.009166  foo        False\n",
       "           table         140.113547  foo        False\n",
       "5          computer      652.313938  foo         True\n",
       "6          computer      312.892860  foo         True\n",
       "8          banana          1.219595  foo        False\n",
       "           chair          21.094397  foo        False\n",
       "9          banana          1.489057  foo        False\n",
       "           chair          51.295601  foo        False\n",
       "           computer      300.981553  foo         True\n",
       "           table         103.239984  foo        False"
      ]
     },
     "execution_count": 61,
     "metadata": {},
     "output_type": "execute_result"
    }
   ],
   "source": [
    "# IMPORTANT! In assign, when refer to a new column called \"sum_of_profits\" which does not exist yet\n",
    "# (it is created withing the chain thanks to the groupby operation)\n",
    "# so we have to use a function (see lambda below)\n",
    "\n",
    "(df.loc[df['product'] != 'mobile phone', :]\n",
    " .groupby(by=['profile_id', 'product'])\n",
    " .agg(sum_of_profits=('profit', 'sum'))\n",
    " .assign(test='foo', good_profit=lambda df: df['sum_of_profits'] > 300)) "
   ]
  },
  {
   "cell_type": "markdown",
   "metadata": {
    "slideshow": {
     "slide_type": "slide"
    }
   },
   "source": [
    "Same thing without even using a `df` variable. I don't necessarily suggest going so deep into method chaining with pandas.\n",
    "\n",
    "It will make code more difficult to read and hard to troubleshoot (even though there is a cool [pandas log library](https://github.com/eyaltrabelsi/pandas-log) for such issues)."
   ]
  },
  {
   "cell_type": "code",
   "execution_count": 62,
   "metadata": {
    "slideshow": {
     "slide_type": "fragment"
    }
   },
   "outputs": [
    {
     "data": {
      "text/html": [
       "<div>\n",
       "<style scoped>\n",
       "    .dataframe tbody tr th:only-of-type {\n",
       "        vertical-align: middle;\n",
       "    }\n",
       "\n",
       "    .dataframe tbody tr th {\n",
       "        vertical-align: top;\n",
       "    }\n",
       "\n",
       "    .dataframe thead th {\n",
       "        text-align: right;\n",
       "    }\n",
       "</style>\n",
       "<table border=\"1\" class=\"dataframe\">\n",
       "  <thead>\n",
       "    <tr style=\"text-align: right;\">\n",
       "      <th></th>\n",
       "      <th></th>\n",
       "      <th>sum_of_profits</th>\n",
       "      <th>test</th>\n",
       "      <th>good_profit</th>\n",
       "    </tr>\n",
       "    <tr>\n",
       "      <th>profile_id</th>\n",
       "      <th>product</th>\n",
       "      <th></th>\n",
       "      <th></th>\n",
       "      <th></th>\n",
       "    </tr>\n",
       "  </thead>\n",
       "  <tbody>\n",
       "    <tr>\n",
       "      <th>1</th>\n",
       "      <th>table</th>\n",
       "      <td>141.481716</td>\n",
       "      <td>foo</td>\n",
       "      <td>False</td>\n",
       "    </tr>\n",
       "    <tr>\n",
       "      <th rowspan=\"2\" valign=\"top\">2</th>\n",
       "      <th>banana</th>\n",
       "      <td>1.507194</td>\n",
       "      <td>foo</td>\n",
       "      <td>False</td>\n",
       "    </tr>\n",
       "    <tr>\n",
       "      <th>table</th>\n",
       "      <td>128.252710</td>\n",
       "      <td>foo</td>\n",
       "      <td>False</td>\n",
       "    </tr>\n",
       "    <tr>\n",
       "      <th rowspan=\"3\" valign=\"top\">4</th>\n",
       "      <th>banana</th>\n",
       "      <td>2.539677</td>\n",
       "      <td>foo</td>\n",
       "      <td>False</td>\n",
       "    </tr>\n",
       "    <tr>\n",
       "      <th>chair</th>\n",
       "      <td>42.009166</td>\n",
       "      <td>foo</td>\n",
       "      <td>False</td>\n",
       "    </tr>\n",
       "    <tr>\n",
       "      <th>table</th>\n",
       "      <td>140.113547</td>\n",
       "      <td>foo</td>\n",
       "      <td>False</td>\n",
       "    </tr>\n",
       "    <tr>\n",
       "      <th>5</th>\n",
       "      <th>computer</th>\n",
       "      <td>652.313938</td>\n",
       "      <td>foo</td>\n",
       "      <td>True</td>\n",
       "    </tr>\n",
       "    <tr>\n",
       "      <th>6</th>\n",
       "      <th>computer</th>\n",
       "      <td>312.892860</td>\n",
       "      <td>foo</td>\n",
       "      <td>True</td>\n",
       "    </tr>\n",
       "    <tr>\n",
       "      <th rowspan=\"2\" valign=\"top\">8</th>\n",
       "      <th>banana</th>\n",
       "      <td>1.219595</td>\n",
       "      <td>foo</td>\n",
       "      <td>False</td>\n",
       "    </tr>\n",
       "    <tr>\n",
       "      <th>chair</th>\n",
       "      <td>21.094397</td>\n",
       "      <td>foo</td>\n",
       "      <td>False</td>\n",
       "    </tr>\n",
       "    <tr>\n",
       "      <th rowspan=\"4\" valign=\"top\">9</th>\n",
       "      <th>banana</th>\n",
       "      <td>1.489057</td>\n",
       "      <td>foo</td>\n",
       "      <td>False</td>\n",
       "    </tr>\n",
       "    <tr>\n",
       "      <th>chair</th>\n",
       "      <td>51.295601</td>\n",
       "      <td>foo</td>\n",
       "      <td>False</td>\n",
       "    </tr>\n",
       "    <tr>\n",
       "      <th>computer</th>\n",
       "      <td>300.981553</td>\n",
       "      <td>foo</td>\n",
       "      <td>True</td>\n",
       "    </tr>\n",
       "    <tr>\n",
       "      <th>table</th>\n",
       "      <td>103.239984</td>\n",
       "      <td>foo</td>\n",
       "      <td>False</td>\n",
       "    </tr>\n",
       "  </tbody>\n",
       "</table>\n",
       "</div>"
      ],
      "text/plain": [
       "                     sum_of_profits test  good_profit\n",
       "profile_id product                                   \n",
       "1          table         141.481716  foo        False\n",
       "2          banana          1.507194  foo        False\n",
       "           table         128.252710  foo        False\n",
       "4          banana          2.539677  foo        False\n",
       "           chair          42.009166  foo        False\n",
       "           table         140.113547  foo        False\n",
       "5          computer      652.313938  foo         True\n",
       "6          computer      312.892860  foo         True\n",
       "8          banana          1.219595  foo        False\n",
       "           chair          21.094397  foo        False\n",
       "9          banana          1.489057  foo        False\n",
       "           chair          51.295601  foo        False\n",
       "           computer      300.981553  foo         True\n",
       "           table         103.239984  foo        False"
      ]
     },
     "execution_count": 62,
     "metadata": {},
     "output_type": "execute_result"
    }
   ],
   "source": [
    "(pd.read_pickle('./data/df_products_random.pickle').head(20)\n",
    " .loc[lambda df: df['product'] != 'mobile phone', :]\n",
    " .groupby(by=['profile_id', 'product'])\n",
    " .agg(sum_of_profits=('profit', 'sum'))\n",
    " .assign(test='foo', good_profit=lambda df: df['sum_of_profits'] > 300))"
   ]
  },
  {
   "cell_type": "markdown",
   "metadata": {
    "slideshow": {
     "slide_type": "slide"
    }
   },
   "source": [
    "## `df.pivot` and `df.pivot_table`\n",
    "\n",
    "I didn't explain these methods as I couldn't find very interesting (and easy...) examples and I rarely use those methods myself (and I suppose you won't use them\n",
    "much either 🤔). I am open for suggestions 🐼."
   ]
  },
  {
   "cell_type": "markdown",
   "metadata": {
    "slideshow": {
     "slide_type": "slide"
    }
   },
   "source": [
    "## Type inspection\n",
    "\n",
    "Pandas has cool methods for types inspections such as checking if a value is a scalar (so a \"single\" value as opposed to a list, tuple, pandas Series etc.).\n",
    "\n",
    "I will show you a few examples but there are [much more](https://pandas.pydata.org/pandas-docs/stable/reference/general_utility_functions.html#dtype-introspection) than this."
   ]
  },
  {
   "cell_type": "code",
   "execution_count": 63,
   "metadata": {
    "slideshow": {
     "slide_type": "fragment"
    }
   },
   "outputs": [
    {
     "data": {
      "text/plain": [
       "True"
      ]
     },
     "execution_count": 63,
     "metadata": {},
     "output_type": "execute_result"
    }
   ],
   "source": [
    "pd.api.types.is_scalar('test')"
   ]
  },
  {
   "cell_type": "code",
   "execution_count": 64,
   "metadata": {
    "slideshow": {
     "slide_type": "fragment"
    }
   },
   "outputs": [
    {
     "name": "stdout",
     "output_type": "stream",
     "text": [
      "False\n"
     ]
    },
    {
     "data": {
      "text/plain": [
       "True"
      ]
     },
     "execution_count": 64,
     "metadata": {},
     "output_type": "execute_result"
    }
   ],
   "source": [
    "print(pd.api.types.is_list_like('test'))\n",
    "pd.api.types.is_list_like(('some', 'tuple'))"
   ]
  },
  {
   "cell_type": "code",
   "execution_count": 65,
   "metadata": {
    "slideshow": {
     "slide_type": "fragment"
    }
   },
   "outputs": [
    {
     "data": {
      "text/plain": [
       "0   2021-01-01 00:00:00+00:00\n",
       "dtype: datetime64[ns, UTC]"
      ]
     },
     "metadata": {},
     "output_type": "display_data"
    },
    {
     "data": {
      "text/plain": [
       "True"
      ]
     },
     "execution_count": 65,
     "metadata": {},
     "output_type": "execute_result"
    }
   ],
   "source": [
    "s = pd.Series([pd.Timestamp('2021-01-01 00:00:00', tz='UTC')])\n",
    "display(s)\n",
    "pd.api.types.is_datetime64_any_dtype(s)"
   ]
  },
  {
   "cell_type": "markdown",
   "metadata": {
    "slideshow": {
     "slide_type": "slide"
    }
   },
   "source": [
    "## pandas testing\n",
    "\n",
    "You can check if Series/DataFrames/Indices are equal with methods integrated in pandas!\n",
    "\n",
    "![pandas testing](./imgs/pandas_testing.jpg)\n",
    "\n",
    "_Source: [automationpanda](https://automationpanda.com/2020/07/21/test-driving-testprojects-new-python-sdk/)_"
   ]
  },
  {
   "cell_type": "markdown",
   "metadata": {
    "slideshow": {
     "slide_type": "slide"
    }
   },
   "source": [
    "Example with Series"
   ]
  },
  {
   "cell_type": "code",
   "execution_count": 66,
   "metadata": {
    "slideshow": {
     "slide_type": "fragment"
    }
   },
   "outputs": [
    {
     "name": "stderr",
     "output_type": "stream",
     "text": [
      "Traceback (most recent call last):\n",
      "  File \"<ipython-input-66-ccaf7dbf631b>\", line 7, in <module>\n",
      "    pd.testing.assert_series_equal(s1, s2)\n",
      "  File \"/home/tibaldo/anaconda3/envs/lab-env/lib/python3.8/site-packages/pandas/_testing.py\", line 1313, in assert_series_equal\n",
      "    assert_index_equal(\n",
      "  File \"/home/tibaldo/anaconda3/envs/lab-env/lib/python3.8/site-packages/pandas/_testing.py\", line 794, in assert_index_equal\n",
      "    _testing.assert_almost_equal(\n",
      "  File \"pandas/_libs/testing.pyx\", line 67, in pandas._libs.testing.assert_almost_equal\n",
      "  File \"pandas/_libs/testing.pyx\", line 182, in pandas._libs.testing.assert_almost_equal\n",
      "  File \"/home/tibaldo/anaconda3/envs/lab-env/lib/python3.8/site-packages/pandas/_testing.py\", line 1036, in raise_assert_detail\n",
      "    raise AssertionError(msg)\n",
      "AssertionError: Series.index are different\n",
      "\n",
      "Series.index values are different (50.0 %)\n",
      "[left]:  Int64Index([10, 20], dtype='int64', name='id')\n",
      "[right]: Int64Index([10, 30], dtype='int64', name='id')\n"
     ]
    }
   ],
   "source": [
    "import traceback\n",
    "\n",
    "s1 = pd.Series(['foo', 'bar'], index=pd.Index([10, 20], name='id'))\n",
    "s2 = pd.Series(['foo', 'baz'], index=pd.Index([10, 30], name='id'))\n",
    "\n",
    "try:\n",
    "    pd.testing.assert_series_equal(s1, s2)\n",
    "except:\n",
    "    traceback.print_exc()"
   ]
  },
  {
   "cell_type": "markdown",
   "metadata": {
    "slideshow": {
     "slide_type": "slide"
    }
   },
   "source": [
    "Example with DataFrames"
   ]
  },
  {
   "cell_type": "code",
   "execution_count": 67,
   "metadata": {
    "slideshow": {
     "slide_type": "fragment"
    }
   },
   "outputs": [
    {
     "name": "stderr",
     "output_type": "stream",
     "text": [
      "Traceback (most recent call last):\n",
      "  File \"<ipython-input-67-239a5fd3def4>\", line 5, in <module>\n",
      "    pd.testing.assert_frame_equal(df1, df2)\n",
      "  File \"/home/tibaldo/anaconda3/envs/lab-env/lib/python3.8/site-packages/pandas/_testing.py\", line 1611, in assert_frame_equal\n",
      "    assert_series_equal(\n",
      "  File \"/home/tibaldo/anaconda3/envs/lab-env/lib/python3.8/site-packages/pandas/_testing.py\", line 1394, in assert_series_equal\n",
      "    _testing.assert_almost_equal(\n",
      "  File \"pandas/_libs/testing.pyx\", line 67, in pandas._libs.testing.assert_almost_equal\n",
      "  File \"pandas/_libs/testing.pyx\", line 182, in pandas._libs.testing.assert_almost_equal\n",
      "  File \"/home/tibaldo/anaconda3/envs/lab-env/lib/python3.8/site-packages/pandas/_testing.py\", line 1036, in raise_assert_detail\n",
      "    raise AssertionError(msg)\n",
      "AssertionError: DataFrame.iloc[:, 0] (column name=\"test\") are different\n",
      "\n",
      "DataFrame.iloc[:, 0] (column name=\"test\") values are different (50.0 %)\n",
      "[index]: [0, 1]\n",
      "[left]:  [foo, bar]\n",
      "[right]: [foo, baz]\n"
     ]
    }
   ],
   "source": [
    "df1 = pd.DataFrame({'test':['foo', 'bar']})\n",
    "df2 = pd.DataFrame({'test':['foo', 'baz']})\n",
    "\n",
    "try:\n",
    "    pd.testing.assert_frame_equal(df1, df2)\n",
    "except:\n",
    "    traceback.print_exc()"
   ]
  },
  {
   "cell_type": "markdown",
   "metadata": {
    "slideshow": {
     "slide_type": "slide"
    }
   },
   "source": [
    "## Plotting\n",
    "\n",
    "You can directly plot DataFrames in pandas via the method `df.plot` 🐼 !\n",
    "\n",
    "You will need a plotting backend such as:\n",
    "* matplotlib (pip install matplotlib)\n",
    "* plotly (pip install plotly) |  I would heavily **recommand** it but I can't show it to you... (Can't get it to work in the latest version of Jupyter Lab even after installing dedicated extensions and such...)\n",
    "\n",
    "I am not very good at this as I have used it only a few times so you'll have to make your own research on that but I know\n",
    "that it's possible to make [lots of super cool charts](https://pandas.pydata.org/docs/user_guide/visualization.html) directly with pandas."
   ]
  },
  {
   "cell_type": "code",
   "execution_count": 68,
   "metadata": {
    "slideshow": {
     "slide_type": "fragment"
    }
   },
   "outputs": [
    {
     "data": {
      "text/plain": [
       "<AxesSubplot:xlabel='product'>"
      ]
     },
     "execution_count": 68,
     "metadata": {},
     "output_type": "execute_result"
    },
    {
     "data": {
      "image/png": "[encoded data removed]",
      "text/plain": [
       "<Figure size 432x288 with 1 Axes>"
      ]
     },
     "metadata": {
      "needs_background": "light"
     },
     "output_type": "display_data"
    }
   ],
   "source": [
    "from plotly.offline import download_plotlyjs, init_notebook_mode, iplot, plot\n",
    "pd.options.plotting.backend = \"matplotlib\" # this defines the backend for the whole session\n",
    "\n",
    "df = pd.read_pickle('./data/df_products_random.pickle')\n",
    "df.groupby(by='product').agg(sum_of_profits=('profit', 'sum')).reset_index().plot(x='product', y='sum_of_profits', kind='bar')"
   ]
  },
  {
   "cell_type": "markdown",
   "metadata": {
    "slideshow": {
     "slide_type": "slide"
    }
   },
   "source": [
    "## Styling"
   ]
  },
  {
   "cell_type": "markdown",
   "metadata": {
    "slideshow": {
     "slide_type": "slide"
    }
   },
   "source": [
    "Let's prepare an example DataFrame. Don't mind the cryptic code just look at this boring table below and wait until I show some styling 🦄!"
   ]
  },
  {
   "cell_type": "code",
   "execution_count": 69,
   "metadata": {
    "slideshow": {
     "slide_type": "fragment"
    }
   },
   "outputs": [
    {
     "data": {
      "text/html": [
       "<div>\n",
       "<style scoped>\n",
       "    .dataframe tbody tr th:only-of-type {\n",
       "        vertical-align: middle;\n",
       "    }\n",
       "\n",
       "    .dataframe tbody tr th {\n",
       "        vertical-align: top;\n",
       "    }\n",
       "\n",
       "    .dataframe thead th {\n",
       "        text-align: right;\n",
       "    }\n",
       "</style>\n",
       "<table border=\"1\" class=\"dataframe\">\n",
       "  <thead>\n",
       "    <tr style=\"text-align: right;\">\n",
       "      <th></th>\n",
       "      <th>profit</th>\n",
       "      <th>product</th>\n",
       "      <th>profile_id</th>\n",
       "      <th>timestamp</th>\n",
       "    </tr>\n",
       "  </thead>\n",
       "  <tbody>\n",
       "    <tr>\n",
       "      <th>0</th>\n",
       "      <td>-1.219595</td>\n",
       "      <td>&lt;NA&gt;</td>\n",
       "      <td>8</td>\n",
       "      <td>2018-01-27 03:59:38+00:00</td>\n",
       "    </tr>\n",
       "    <tr>\n",
       "      <th>1</th>\n",
       "      <td>-1.507194</td>\n",
       "      <td>&lt;NA&gt;</td>\n",
       "      <td>2</td>\n",
       "      <td>2018-03-29 19:42:22+00:00</td>\n",
       "    </tr>\n",
       "    <tr>\n",
       "      <th>2</th>\n",
       "      <td>-1.533321</td>\n",
       "      <td>&lt;NA&gt;</td>\n",
       "      <td>4</td>\n",
       "      <td>2018-02-06 11:22:46+00:00</td>\n",
       "    </tr>\n",
       "    <tr>\n",
       "      <th>3</th>\n",
       "      <td>27.883223</td>\n",
       "      <td>chair</td>\n",
       "      <td>9</td>\n",
       "      <td>2018-02-15 00:24:38+00:00</td>\n",
       "    </tr>\n",
       "    <tr>\n",
       "      <th>4</th>\n",
       "      <td>103.239984</td>\n",
       "      <td>table</td>\n",
       "      <td>9</td>\n",
       "      <td>2018-02-02 21:19:35+00:00</td>\n",
       "    </tr>\n",
       "    <tr>\n",
       "      <th>5</th>\n",
       "      <td>141.481716</td>\n",
       "      <td>table</td>\n",
       "      <td>1</td>\n",
       "      <td>2018-02-11 20:57:53+00:00</td>\n",
       "    </tr>\n",
       "    <tr>\n",
       "      <th>6</th>\n",
       "      <td>262.311584</td>\n",
       "      <td>&lt;NA&gt;</td>\n",
       "      <td>9</td>\n",
       "      <td>2018-01-04 06:31:21+00:00</td>\n",
       "    </tr>\n",
       "    <tr>\n",
       "      <th>7</th>\n",
       "      <td>300.981553</td>\n",
       "      <td>computer</td>\n",
       "      <td>9</td>\n",
       "      <td>2018-02-12 05:06:25+00:00</td>\n",
       "    </tr>\n",
       "    <tr>\n",
       "      <th>8</th>\n",
       "      <td>312.892860</td>\n",
       "      <td>computer</td>\n",
       "      <td>6</td>\n",
       "      <td>2018-03-05 01:22:00+00:00</td>\n",
       "    </tr>\n",
       "    <tr>\n",
       "      <th>9</th>\n",
       "      <td>330.141383</td>\n",
       "      <td>computer</td>\n",
       "      <td>5</td>\n",
       "      <td>2018-03-15 23:15:31+00:00</td>\n",
       "    </tr>\n",
       "  </tbody>\n",
       "</table>\n",
       "</div>"
      ],
      "text/plain": [
       "       profit   product  profile_id                 timestamp\n",
       "0   -1.219595      <NA>           8 2018-01-27 03:59:38+00:00\n",
       "1   -1.507194      <NA>           2 2018-03-29 19:42:22+00:00\n",
       "2   -1.533321      <NA>           4 2018-02-06 11:22:46+00:00\n",
       "3   27.883223     chair           9 2018-02-15 00:24:38+00:00\n",
       "4  103.239984     table           9 2018-02-02 21:19:35+00:00\n",
       "5  141.481716     table           1 2018-02-11 20:57:53+00:00\n",
       "6  262.311584      <NA>           9 2018-01-04 06:31:21+00:00\n",
       "7  300.981553  computer           9 2018-02-12 05:06:25+00:00\n",
       "8  312.892860  computer           6 2018-03-05 01:22:00+00:00\n",
       "9  330.141383  computer           5 2018-03-15 23:15:31+00:00"
      ]
     },
     "execution_count": 69,
     "metadata": {},
     "output_type": "execute_result"
    }
   ],
   "source": [
    "df = pd.read_pickle('./data/df_products_random.pickle').head(10).sort_values(by='profit').reset_index(drop=True)\n",
    "df['product'] = df['product'].replace({'mobile phone':pd.NA, 'banana':pd.NA})\n",
    "df.iloc[0:3, df.columns.get_loc('profit')] = -df['profit']\n",
    "df"
   ]
  },
  {
   "cell_type": "markdown",
   "metadata": {
    "slideshow": {
     "slide_type": "slide"
    }
   },
   "source": [
    "Let's put some colors on our table. This is what we'll do:\n",
    "* highlight NULL values (display them in grey)\n",
    "* highlight the maximum value in column timestamp\n",
    "* hide the index\n",
    "* show green bars for column profit\n",
    "* set the text color to red fore negative numbers and set the text color for other values to \"navy\"\n",
    "\n",
    "You'll find even more styling methods in the [documentation of pandas](https://pandas.pydata.org/pandas-docs/stable/user_guide/style.html)."
   ]
  },
  {
   "cell_type": "code",
   "execution_count": 70,
   "metadata": {
    "slideshow": {
     "slide_type": "fragment"
    }
   },
   "outputs": [
    {
     "data": {
      "text/html": [
       "<style  type=\"text/css\" >\n",
       "#T_37aa0dc6_7925_11eb_a24d_3c7c3fba2c69row0_col0{\n",
       "            width:  10em;\n",
       "             height:  80%;\n",
       "            background:  linear-gradient(90deg,lightgreen 0.1%, transparent 0.1%);\n",
       "            color: red;\n",
       "        }#T_37aa0dc6_7925_11eb_a24d_3c7c3fba2c69row0_col1,#T_37aa0dc6_7925_11eb_a24d_3c7c3fba2c69row1_col1,#T_37aa0dc6_7925_11eb_a24d_3c7c3fba2c69row2_col1,#T_37aa0dc6_7925_11eb_a24d_3c7c3fba2c69row6_col1{\n",
       "            background-color:  grey;\n",
       "            color: navy;\n",
       "        }#T_37aa0dc6_7925_11eb_a24d_3c7c3fba2c69row0_col2,#T_37aa0dc6_7925_11eb_a24d_3c7c3fba2c69row0_col3,#T_37aa0dc6_7925_11eb_a24d_3c7c3fba2c69row1_col2,#T_37aa0dc6_7925_11eb_a24d_3c7c3fba2c69row2_col2,#T_37aa0dc6_7925_11eb_a24d_3c7c3fba2c69row2_col3,#T_37aa0dc6_7925_11eb_a24d_3c7c3fba2c69row3_col1,#T_37aa0dc6_7925_11eb_a24d_3c7c3fba2c69row3_col2,#T_37aa0dc6_7925_11eb_a24d_3c7c3fba2c69row3_col3,#T_37aa0dc6_7925_11eb_a24d_3c7c3fba2c69row4_col1,#T_37aa0dc6_7925_11eb_a24d_3c7c3fba2c69row4_col2,#T_37aa0dc6_7925_11eb_a24d_3c7c3fba2c69row4_col3,#T_37aa0dc6_7925_11eb_a24d_3c7c3fba2c69row5_col1,#T_37aa0dc6_7925_11eb_a24d_3c7c3fba2c69row5_col2,#T_37aa0dc6_7925_11eb_a24d_3c7c3fba2c69row5_col3,#T_37aa0dc6_7925_11eb_a24d_3c7c3fba2c69row6_col2,#T_37aa0dc6_7925_11eb_a24d_3c7c3fba2c69row6_col3,#T_37aa0dc6_7925_11eb_a24d_3c7c3fba2c69row7_col1,#T_37aa0dc6_7925_11eb_a24d_3c7c3fba2c69row7_col2,#T_37aa0dc6_7925_11eb_a24d_3c7c3fba2c69row7_col3,#T_37aa0dc6_7925_11eb_a24d_3c7c3fba2c69row8_col1,#T_37aa0dc6_7925_11eb_a24d_3c7c3fba2c69row8_col2,#T_37aa0dc6_7925_11eb_a24d_3c7c3fba2c69row8_col3,#T_37aa0dc6_7925_11eb_a24d_3c7c3fba2c69row9_col1,#T_37aa0dc6_7925_11eb_a24d_3c7c3fba2c69row9_col2,#T_37aa0dc6_7925_11eb_a24d_3c7c3fba2c69row9_col3{\n",
       "            color: navy;\n",
       "        }#T_37aa0dc6_7925_11eb_a24d_3c7c3fba2c69row1_col0{\n",
       "            width:  10em;\n",
       "             height:  80%;\n",
       "            background:  linear-gradient(90deg,lightgreen 0.0%, transparent 0.0%);\n",
       "            color: red;\n",
       "        }#T_37aa0dc6_7925_11eb_a24d_3c7c3fba2c69row1_col3{\n",
       "            background-color:  yellow;\n",
       "            color: navy;\n",
       "        }#T_37aa0dc6_7925_11eb_a24d_3c7c3fba2c69row2_col0{\n",
       "            width:  10em;\n",
       "             height:  80%;\n",
       "            color: red;\n",
       "        }#T_37aa0dc6_7925_11eb_a24d_3c7c3fba2c69row3_col0{\n",
       "            width:  10em;\n",
       "             height:  80%;\n",
       "            background:  linear-gradient(90deg,lightgreen 8.9%, transparent 8.9%);\n",
       "            color: navy;\n",
       "        }#T_37aa0dc6_7925_11eb_a24d_3c7c3fba2c69row4_col0{\n",
       "            width:  10em;\n",
       "             height:  80%;\n",
       "            background:  linear-gradient(90deg,lightgreen 31.6%, transparent 31.6%);\n",
       "            color: navy;\n",
       "        }#T_37aa0dc6_7925_11eb_a24d_3c7c3fba2c69row5_col0{\n",
       "            width:  10em;\n",
       "             height:  80%;\n",
       "            background:  linear-gradient(90deg,lightgreen 43.1%, transparent 43.1%);\n",
       "            color: navy;\n",
       "        }#T_37aa0dc6_7925_11eb_a24d_3c7c3fba2c69row6_col0{\n",
       "            width:  10em;\n",
       "             height:  80%;\n",
       "            background:  linear-gradient(90deg,lightgreen 79.5%, transparent 79.5%);\n",
       "            color: navy;\n",
       "        }#T_37aa0dc6_7925_11eb_a24d_3c7c3fba2c69row7_col0{\n",
       "            width:  10em;\n",
       "             height:  80%;\n",
       "            background:  linear-gradient(90deg,lightgreen 91.2%, transparent 91.2%);\n",
       "            color: navy;\n",
       "        }#T_37aa0dc6_7925_11eb_a24d_3c7c3fba2c69row8_col0{\n",
       "            width:  10em;\n",
       "             height:  80%;\n",
       "            background:  linear-gradient(90deg,lightgreen 94.8%, transparent 94.8%);\n",
       "            color: navy;\n",
       "        }#T_37aa0dc6_7925_11eb_a24d_3c7c3fba2c69row9_col0{\n",
       "            width:  10em;\n",
       "             height:  80%;\n",
       "            background:  linear-gradient(90deg,lightgreen 100.0%, transparent 100.0%);\n",
       "            color: navy;\n",
       "        }</style><table id=\"T_37aa0dc6_7925_11eb_a24d_3c7c3fba2c69\" ><thead>    <tr>        <th class=\"col_heading level0 col0\" >profit</th>        <th class=\"col_heading level0 col1\" >product</th>        <th class=\"col_heading level0 col2\" >profile_id</th>        <th class=\"col_heading level0 col3\" >timestamp</th>    </tr></thead><tbody>\n",
       "                <tr>\n",
       "                                <td id=\"T_37aa0dc6_7925_11eb_a24d_3c7c3fba2c69row0_col0\" class=\"data row0 col0\" >-1.219595</td>\n",
       "                        <td id=\"T_37aa0dc6_7925_11eb_a24d_3c7c3fba2c69row0_col1\" class=\"data row0 col1\" ><NA></td>\n",
       "                        <td id=\"T_37aa0dc6_7925_11eb_a24d_3c7c3fba2c69row0_col2\" class=\"data row0 col2\" >8</td>\n",
       "                        <td id=\"T_37aa0dc6_7925_11eb_a24d_3c7c3fba2c69row0_col3\" class=\"data row0 col3\" >2018-01-27 03:59:38+00:00</td>\n",
       "            </tr>\n",
       "            <tr>\n",
       "                                <td id=\"T_37aa0dc6_7925_11eb_a24d_3c7c3fba2c69row1_col0\" class=\"data row1 col0\" >-1.507194</td>\n",
       "                        <td id=\"T_37aa0dc6_7925_11eb_a24d_3c7c3fba2c69row1_col1\" class=\"data row1 col1\" ><NA></td>\n",
       "                        <td id=\"T_37aa0dc6_7925_11eb_a24d_3c7c3fba2c69row1_col2\" class=\"data row1 col2\" >2</td>\n",
       "                        <td id=\"T_37aa0dc6_7925_11eb_a24d_3c7c3fba2c69row1_col3\" class=\"data row1 col3\" >2018-03-29 19:42:22+00:00</td>\n",
       "            </tr>\n",
       "            <tr>\n",
       "                                <td id=\"T_37aa0dc6_7925_11eb_a24d_3c7c3fba2c69row2_col0\" class=\"data row2 col0\" >-1.533321</td>\n",
       "                        <td id=\"T_37aa0dc6_7925_11eb_a24d_3c7c3fba2c69row2_col1\" class=\"data row2 col1\" ><NA></td>\n",
       "                        <td id=\"T_37aa0dc6_7925_11eb_a24d_3c7c3fba2c69row2_col2\" class=\"data row2 col2\" >4</td>\n",
       "                        <td id=\"T_37aa0dc6_7925_11eb_a24d_3c7c3fba2c69row2_col3\" class=\"data row2 col3\" >2018-02-06 11:22:46+00:00</td>\n",
       "            </tr>\n",
       "            <tr>\n",
       "                                <td id=\"T_37aa0dc6_7925_11eb_a24d_3c7c3fba2c69row3_col0\" class=\"data row3 col0\" >27.883223</td>\n",
       "                        <td id=\"T_37aa0dc6_7925_11eb_a24d_3c7c3fba2c69row3_col1\" class=\"data row3 col1\" >chair</td>\n",
       "                        <td id=\"T_37aa0dc6_7925_11eb_a24d_3c7c3fba2c69row3_col2\" class=\"data row3 col2\" >9</td>\n",
       "                        <td id=\"T_37aa0dc6_7925_11eb_a24d_3c7c3fba2c69row3_col3\" class=\"data row3 col3\" >2018-02-15 00:24:38+00:00</td>\n",
       "            </tr>\n",
       "            <tr>\n",
       "                                <td id=\"T_37aa0dc6_7925_11eb_a24d_3c7c3fba2c69row4_col0\" class=\"data row4 col0\" >103.239984</td>\n",
       "                        <td id=\"T_37aa0dc6_7925_11eb_a24d_3c7c3fba2c69row4_col1\" class=\"data row4 col1\" >table</td>\n",
       "                        <td id=\"T_37aa0dc6_7925_11eb_a24d_3c7c3fba2c69row4_col2\" class=\"data row4 col2\" >9</td>\n",
       "                        <td id=\"T_37aa0dc6_7925_11eb_a24d_3c7c3fba2c69row4_col3\" class=\"data row4 col3\" >2018-02-02 21:19:35+00:00</td>\n",
       "            </tr>\n",
       "            <tr>\n",
       "                                <td id=\"T_37aa0dc6_7925_11eb_a24d_3c7c3fba2c69row5_col0\" class=\"data row5 col0\" >141.481716</td>\n",
       "                        <td id=\"T_37aa0dc6_7925_11eb_a24d_3c7c3fba2c69row5_col1\" class=\"data row5 col1\" >table</td>\n",
       "                        <td id=\"T_37aa0dc6_7925_11eb_a24d_3c7c3fba2c69row5_col2\" class=\"data row5 col2\" >1</td>\n",
       "                        <td id=\"T_37aa0dc6_7925_11eb_a24d_3c7c3fba2c69row5_col3\" class=\"data row5 col3\" >2018-02-11 20:57:53+00:00</td>\n",
       "            </tr>\n",
       "            <tr>\n",
       "                                <td id=\"T_37aa0dc6_7925_11eb_a24d_3c7c3fba2c69row6_col0\" class=\"data row6 col0\" >262.311584</td>\n",
       "                        <td id=\"T_37aa0dc6_7925_11eb_a24d_3c7c3fba2c69row6_col1\" class=\"data row6 col1\" ><NA></td>\n",
       "                        <td id=\"T_37aa0dc6_7925_11eb_a24d_3c7c3fba2c69row6_col2\" class=\"data row6 col2\" >9</td>\n",
       "                        <td id=\"T_37aa0dc6_7925_11eb_a24d_3c7c3fba2c69row6_col3\" class=\"data row6 col3\" >2018-01-04 06:31:21+00:00</td>\n",
       "            </tr>\n",
       "            <tr>\n",
       "                                <td id=\"T_37aa0dc6_7925_11eb_a24d_3c7c3fba2c69row7_col0\" class=\"data row7 col0\" >300.981553</td>\n",
       "                        <td id=\"T_37aa0dc6_7925_11eb_a24d_3c7c3fba2c69row7_col1\" class=\"data row7 col1\" >computer</td>\n",
       "                        <td id=\"T_37aa0dc6_7925_11eb_a24d_3c7c3fba2c69row7_col2\" class=\"data row7 col2\" >9</td>\n",
       "                        <td id=\"T_37aa0dc6_7925_11eb_a24d_3c7c3fba2c69row7_col3\" class=\"data row7 col3\" >2018-02-12 05:06:25+00:00</td>\n",
       "            </tr>\n",
       "            <tr>\n",
       "                                <td id=\"T_37aa0dc6_7925_11eb_a24d_3c7c3fba2c69row8_col0\" class=\"data row8 col0\" >312.892860</td>\n",
       "                        <td id=\"T_37aa0dc6_7925_11eb_a24d_3c7c3fba2c69row8_col1\" class=\"data row8 col1\" >computer</td>\n",
       "                        <td id=\"T_37aa0dc6_7925_11eb_a24d_3c7c3fba2c69row8_col2\" class=\"data row8 col2\" >6</td>\n",
       "                        <td id=\"T_37aa0dc6_7925_11eb_a24d_3c7c3fba2c69row8_col3\" class=\"data row8 col3\" >2018-03-05 01:22:00+00:00</td>\n",
       "            </tr>\n",
       "            <tr>\n",
       "                                <td id=\"T_37aa0dc6_7925_11eb_a24d_3c7c3fba2c69row9_col0\" class=\"data row9 col0\" >330.141383</td>\n",
       "                        <td id=\"T_37aa0dc6_7925_11eb_a24d_3c7c3fba2c69row9_col1\" class=\"data row9 col1\" >computer</td>\n",
       "                        <td id=\"T_37aa0dc6_7925_11eb_a24d_3c7c3fba2c69row9_col2\" class=\"data row9 col2\" >5</td>\n",
       "                        <td id=\"T_37aa0dc6_7925_11eb_a24d_3c7c3fba2c69row9_col3\" class=\"data row9 col3\" >2018-03-15 23:15:31+00:00</td>\n",
       "            </tr>\n",
       "    </tbody></table>"
      ],
      "text/plain": [
       "<pandas.io.formats.style.Styler at 0x7fae0f753c70>"
      ]
     },
     "execution_count": 70,
     "metadata": {},
     "output_type": "execute_result"
    }
   ],
   "source": [
    "# custom styling function! Taken from pandas docs on styling and modified a little\n",
    "def color_negative_values_in_red(val):\n",
    "    color = 'red' if pd.api.types.is_number(val) and val < 0 else 'navy'\n",
    "    return f'color:{color}'\n",
    "\n",
    "\n",
    "# show DataFrame with style 😎\n",
    "(df.style\n",
    " .highlight_null(null_color='grey')\n",
    " .highlight_max(axis=0, subset=['timestamp'])\n",
    " .hide_index()\n",
    " .bar(subset=['profit'], color='lightgreen')\n",
    " .applymap(color_negative_values_in_red))"
   ]
  },
  {
   "cell_type": "markdown",
   "metadata": {
    "slideshow": {
     "slide_type": "slide"
    }
   },
   "source": [
    "## Categoricals\n",
    "\n",
    "This is a data type in pandas which is particularly memory efficient.\n",
    "\n",
    "> A categorical variable takes on a limited, and usually fixed, number of possible values.\n",
    ">\n",
    "> Categorical data might have an order (e.g. ‘strongly agree’ vs ‘agree’ or ‘first observation’ vs. ‘second observation’)\n",
    "> but numerical operations (additions, divisions, …) are not possible.\n",
    "\n",
    "I personally rarely think about using it but it is quite interesting which is why I would point you to the\n",
    "[documentation](https://pandas.pydata.org/pandas-docs/stable/user_guide/categorical.html) and only show how it \"looks like\" in some examples."
   ]
  },
  {
   "cell_type": "markdown",
   "metadata": {
    "slideshow": {
     "slide_type": "slide"
    }
   },
   "source": [
    "Similarly to the \"single\" objects pandas Timestamps there are \"single\" objects for categoricals (which can actually contain multiple values so this is confusing 🙈...)."
   ]
  },
  {
   "cell_type": "code",
   "execution_count": 71,
   "metadata": {
    "slideshow": {
     "slide_type": "fragment"
    }
   },
   "outputs": [
    {
     "data": {
      "text/plain": [
       "['bad', NaN, 'good']\n",
       "Categories (5, object): ['terrible' < 'bad' < 'okayish' < 'good' < 'great']"
      ]
     },
     "execution_count": 71,
     "metadata": {},
     "output_type": "execute_result"
    }
   ],
   "source": [
    "categories = pd.Categorical(values=['bad', pd.NA, 'good'],\n",
    "                            categories=['terrible', 'bad', 'okayish', 'good', 'great'],\n",
    "                            ordered=True) # terrible < bad < okayish... etc\n",
    "categories"
   ]
  },
  {
   "cell_type": "markdown",
   "metadata": {
    "slideshow": {
     "slide_type": "slide"
    }
   },
   "source": [
    "And of course there are also categorical Series"
   ]
  },
  {
   "cell_type": "code",
   "execution_count": 72,
   "metadata": {
    "slideshow": {
     "slide_type": "fragment"
    }
   },
   "outputs": [
    {
     "data": {
      "text/plain": [
       "0     terrible\n",
       "1      okayish\n",
       "2         good\n",
       "3          bad\n",
       "4     terrible\n",
       "        ...   \n",
       "95         bad\n",
       "96         bad\n",
       "97         bad\n",
       "98        good\n",
       "99       great\n",
       "Length: 100, dtype: category\n",
       "Categories (5, object): ['terrible' < 'bad' < 'okayish' < 'good' < 'great']"
      ]
     },
     "execution_count": 72,
     "metadata": {},
     "output_type": "execute_result"
    }
   ],
   "source": [
    "import numpy as np\n",
    "\n",
    "# list unique categories in their correct orders,\n",
    "# then generate a list of N values from those categories\n",
    "unique_categories = ['terrible', 'bad', 'okayish', 'good', 'great']\n",
    "random_categories = np.random.choice(unique_categories, size=100)\n",
    "\n",
    "# we can use pd.Categorical to construct our Series\n",
    "categories = pd.Categorical(values=random_categories,\n",
    "                            categories=unique_categories,\n",
    "                            ordered=True)\n",
    "s = pd.Series(categories)\n",
    "s"
   ]
  },
  {
   "cell_type": "markdown",
   "metadata": {
    "slideshow": {
     "slide_type": "slide"
    }
   },
   "source": [
    "# Bonus: Pandas traps\n",
    "\n",
    "![Trap for pandas](./imgs/pandas_trap.jpg)"
   ]
  },
  {
   "cell_type": "markdown",
   "metadata": {
    "slideshow": {
     "slide_type": "slide"
    }
   },
   "source": [
    "## Remember that by default `df.groupby` disgards records where at least one of the group values is null"
   ]
  },
  {
   "cell_type": "code",
   "execution_count": 73,
   "metadata": {
    "slideshow": {
     "slide_type": "fragment"
    }
   },
   "outputs": [
    {
     "data": {
      "text/html": [
       "<div>\n",
       "<style scoped>\n",
       "    .dataframe tbody tr th:only-of-type {\n",
       "        vertical-align: middle;\n",
       "    }\n",
       "\n",
       "    .dataframe tbody tr th {\n",
       "        vertical-align: top;\n",
       "    }\n",
       "\n",
       "    .dataframe thead th {\n",
       "        text-align: right;\n",
       "    }\n",
       "</style>\n",
       "<table border=\"1\" class=\"dataframe\">\n",
       "  <thead>\n",
       "    <tr style=\"text-align: right;\">\n",
       "      <th></th>\n",
       "      <th>fruits</th>\n",
       "      <th>year</th>\n",
       "      <th>profits_in_dollars</th>\n",
       "    </tr>\n",
       "  </thead>\n",
       "  <tbody>\n",
       "    <tr>\n",
       "      <th>0</th>\n",
       "      <td>bananas</td>\n",
       "      <td>2019</td>\n",
       "      <td>10000</td>\n",
       "    </tr>\n",
       "    <tr>\n",
       "      <th>1</th>\n",
       "      <td>bananas</td>\n",
       "      <td>2019</td>\n",
       "      <td>20000</td>\n",
       "    </tr>\n",
       "    <tr>\n",
       "      <th>2</th>\n",
       "      <td>&lt;NA&gt;</td>\n",
       "      <td>2020</td>\n",
       "      <td>45000</td>\n",
       "    </tr>\n",
       "    <tr>\n",
       "      <th>3</th>\n",
       "      <td>apples</td>\n",
       "      <td>&lt;NA&gt;</td>\n",
       "      <td>60000</td>\n",
       "    </tr>\n",
       "    <tr>\n",
       "      <th>4</th>\n",
       "      <td>apples</td>\n",
       "      <td>2021</td>\n",
       "      <td>20000</td>\n",
       "    </tr>\n",
       "  </tbody>\n",
       "</table>\n",
       "</div>"
      ],
      "text/plain": [
       "    fruits  year  profits_in_dollars\n",
       "0  bananas  2019               10000\n",
       "1  bananas  2019               20000\n",
       "2     <NA>  2020               45000\n",
       "3   apples  <NA>               60000\n",
       "4   apples  2021               20000"
      ]
     },
     "metadata": {},
     "output_type": "display_data"
    },
    {
     "data": {
      "text/html": [
       "<div>\n",
       "<style scoped>\n",
       "    .dataframe tbody tr th:only-of-type {\n",
       "        vertical-align: middle;\n",
       "    }\n",
       "\n",
       "    .dataframe tbody tr th {\n",
       "        vertical-align: top;\n",
       "    }\n",
       "\n",
       "    .dataframe thead th {\n",
       "        text-align: right;\n",
       "    }\n",
       "</style>\n",
       "<table border=\"1\" class=\"dataframe\">\n",
       "  <thead>\n",
       "    <tr style=\"text-align: right;\">\n",
       "      <th></th>\n",
       "      <th></th>\n",
       "      <th>sum_of_profits</th>\n",
       "    </tr>\n",
       "    <tr>\n",
       "      <th>year</th>\n",
       "      <th>fruits</th>\n",
       "      <th></th>\n",
       "    </tr>\n",
       "  </thead>\n",
       "  <tbody>\n",
       "    <tr>\n",
       "      <th>2019</th>\n",
       "      <th>bananas</th>\n",
       "      <td>30000</td>\n",
       "    </tr>\n",
       "    <tr>\n",
       "      <th>2021</th>\n",
       "      <th>apples</th>\n",
       "      <td>20000</td>\n",
       "    </tr>\n",
       "  </tbody>\n",
       "</table>\n",
       "</div>"
      ],
      "text/plain": [
       "              sum_of_profits\n",
       "year fruits                 \n",
       "2019 bananas           30000\n",
       "2021 apples            20000"
      ]
     },
     "metadata": {},
     "output_type": "display_data"
    },
    {
     "data": {
      "text/html": [
       "<div>\n",
       "<style scoped>\n",
       "    .dataframe tbody tr th:only-of-type {\n",
       "        vertical-align: middle;\n",
       "    }\n",
       "\n",
       "    .dataframe tbody tr th {\n",
       "        vertical-align: top;\n",
       "    }\n",
       "\n",
       "    .dataframe thead th {\n",
       "        text-align: right;\n",
       "    }\n",
       "</style>\n",
       "<table border=\"1\" class=\"dataframe\">\n",
       "  <thead>\n",
       "    <tr style=\"text-align: right;\">\n",
       "      <th></th>\n",
       "      <th></th>\n",
       "      <th>sum_of_profits</th>\n",
       "    </tr>\n",
       "    <tr>\n",
       "      <th>year</th>\n",
       "      <th>fruits</th>\n",
       "      <th></th>\n",
       "    </tr>\n",
       "  </thead>\n",
       "  <tbody>\n",
       "    <tr>\n",
       "      <th>2019.0</th>\n",
       "      <th>bananas</th>\n",
       "      <td>30000</td>\n",
       "    </tr>\n",
       "    <tr>\n",
       "      <th>2020.0</th>\n",
       "      <th>NaN</th>\n",
       "      <td>45000</td>\n",
       "    </tr>\n",
       "    <tr>\n",
       "      <th>2021.0</th>\n",
       "      <th>apples</th>\n",
       "      <td>20000</td>\n",
       "    </tr>\n",
       "    <tr>\n",
       "      <th>NaN</th>\n",
       "      <th>apples</th>\n",
       "      <td>60000</td>\n",
       "    </tr>\n",
       "  </tbody>\n",
       "</table>\n",
       "</div>"
      ],
      "text/plain": [
       "                sum_of_profits\n",
       "year   fruits                 \n",
       "2019.0 bananas           30000\n",
       "2020.0 NaN               45000\n",
       "2021.0 apples            20000\n",
       "NaN    apples            60000"
      ]
     },
     "execution_count": 73,
     "metadata": {},
     "output_type": "execute_result"
    }
   ],
   "source": [
    "df = pd.DataFrame({'fruits':['bananas', 'bananas', pd.NA, 'apples', 'apples'],\n",
    "                   'year':[2019, 2019, 2020, pd.NA, 2021],\n",
    "                   'profits_in_dollars':[10000, 20000, 45000, 60000, 20000]}).convert_dtypes()\n",
    "display(df)\n",
    "\n",
    "# with parameter dropna not provided (defaults to True)\n",
    "df_grouped = df.groupby(['year', 'fruits']).agg(sum_of_profits=('profits_in_dollars', 'sum'))\n",
    "display(df_grouped)\n",
    "\n",
    "# with dropna=True\n",
    "df_grouped_with_null = df.groupby(['year', 'fruits'], dropna=False).agg(sum_of_profits=('profits_in_dollars', 'sum'))\n",
    "df_grouped_with_null"
   ]
  },
  {
   "cell_type": "markdown",
   "metadata": {
    "slideshow": {
     "slide_type": "slide"
    }
   },
   "source": [
    "## Null values"
   ]
  },
  {
   "cell_type": "markdown",
   "metadata": {
    "slideshow": {
     "slide_type": "slide"
    }
   },
   "source": [
    "### Differences in behaviors between the (still) default pandas null value `NaN` (`numpy.nan`) and the new null \"sentinel\" from pandas `pd.NA`\n",
    "\n",
    "Note that this is probably non exhaustive.\n",
    "\n",
    "> `pd.NA` follows the rules of the [three-valued logic](https://en.wikipedia.org/wiki/Three-valued_logic) (or Kleene logic, similarly to R, SQL and Julia).\n",
    ">\n",
    "> --- _[pandas documentation](https://pandas.pydata.org/pandas-docs/stable/user_guide/missing_data.html#logical-operations)_"
   ]
  },
  {
   "cell_type": "markdown",
   "metadata": {
    "slideshow": {
     "slide_type": "fragment"
    }
   },
   "source": [
    "`np.nan` is not equal to itself 🐒"
   ]
  },
  {
   "cell_type": "code",
   "execution_count": 74,
   "metadata": {
    "slideshow": {
     "slide_type": "fragment"
    }
   },
   "outputs": [
    {
     "data": {
      "text/plain": [
       "False"
      ]
     },
     "execution_count": 74,
     "metadata": {},
     "output_type": "execute_result"
    }
   ],
   "source": [
    "import numpy as np\n",
    "np.nan == np.nan"
   ]
  },
  {
   "cell_type": "markdown",
   "metadata": {
    "slideshow": {
     "slide_type": "fragment"
    }
   },
   "source": [
    "This works as one would probably expect 🤔 "
   ]
  },
  {
   "cell_type": "code",
   "execution_count": 75,
   "metadata": {
    "slideshow": {
     "slide_type": "fragment"
    }
   },
   "outputs": [
    {
     "data": {
      "text/plain": [
       "True"
      ]
     },
     "execution_count": 75,
     "metadata": {},
     "output_type": "execute_result"
    }
   ],
   "source": [
    "np.nan in (1, 2, np.nan)"
   ]
  },
  {
   "cell_type": "markdown",
   "metadata": {
    "slideshow": {
     "slide_type": "slide"
    }
   },
   "source": [
    "Now things get interesting. The following example returns a null value (the logic being we don't know ¯\\\\\\_(ツ)\\_/¯)"
   ]
  },
  {
   "cell_type": "code",
   "execution_count": 76,
   "metadata": {
    "slideshow": {
     "slide_type": "fragment"
    }
   },
   "outputs": [
    {
     "data": {
      "text/plain": [
       "<NA>"
      ]
     },
     "execution_count": 76,
     "metadata": {},
     "output_type": "execute_result"
    }
   ],
   "source": [
    "pd.NA == pd.NA"
   ]
  },
  {
   "cell_type": "markdown",
   "metadata": {
    "slideshow": {
     "slide_type": "slide"
    }
   },
   "source": [
    "None of the following examples will work (I even had to troubleshoot this in a library of mine because of this when upgrading pandas 🙀)"
   ]
  },
  {
   "cell_type": "code",
   "execution_count": 77,
   "metadata": {
    "slideshow": {
     "slide_type": "fragment"
    }
   },
   "outputs": [
    {
     "name": "stderr",
     "output_type": "stream",
     "text": [
      "Traceback (most recent call last):\n",
      "  File \"<ipython-input-77-0194849127e8>\", line 2, in <module>\n",
      "    pd.NA in (1, 2)\n",
      "  File \"pandas/_libs/missing.pyx\", line 360, in pandas._libs.missing.NAType.__bool__\n",
      "TypeError: boolean value of NA is ambiguous\n"
     ]
    }
   ],
   "source": [
    "try:\n",
    "    pd.NA in (1, 2)\n",
    "except:\n",
    "    traceback.print_exc()"
   ]
  },
  {
   "cell_type": "code",
   "execution_count": 78,
   "metadata": {
    "slideshow": {
     "slide_type": "fragment"
    }
   },
   "outputs": [
    {
     "name": "stderr",
     "output_type": "stream",
     "text": [
      "Traceback (most recent call last):\n",
      "  File \"<ipython-input-78-e754dd5cdffa>\", line 2, in <module>\n",
      "    pd.NA in (1, 2, pd.NA)\n",
      "  File \"pandas/_libs/missing.pyx\", line 360, in pandas._libs.missing.NAType.__bool__\n",
      "TypeError: boolean value of NA is ambiguous\n"
     ]
    }
   ],
   "source": [
    "try:\n",
    "    pd.NA in (1, 2, pd.NA)\n",
    "except:\n",
    "    traceback.print_exc()"
   ]
  },
  {
   "cell_type": "markdown",
   "metadata": {
    "slideshow": {
     "slide_type": "slide"
    }
   },
   "source": [
    "In the example below 3 is not in the tuple so it does not work (3 could be what the NULL value was supposed to be but we don't know)"
   ]
  },
  {
   "cell_type": "code",
   "execution_count": 79,
   "metadata": {
    "slideshow": {
     "slide_type": "fragment"
    }
   },
   "outputs": [
    {
     "name": "stderr",
     "output_type": "stream",
     "text": [
      "Traceback (most recent call last):\n",
      "  File \"<ipython-input-79-52619a031a74>\", line 2, in <module>\n",
      "    3 in (1, 2, pd.NA)\n",
      "  File \"pandas/_libs/missing.pyx\", line 360, in pandas._libs.missing.NAType.__bool__\n",
      "TypeError: boolean value of NA is ambiguous\n"
     ]
    }
   ],
   "source": [
    "try:\n",
    "    3 in (1, 2, pd.NA)\n",
    "except:\n",
    "    traceback.print_exc()"
   ]
  },
  {
   "cell_type": "markdown",
   "metadata": {
    "slideshow": {
     "slide_type": "fragment"
    }
   },
   "source": [
    "But this will work though since 2 is in the tuple"
   ]
  },
  {
   "cell_type": "code",
   "execution_count": 80,
   "metadata": {
    "slideshow": {
     "slide_type": "fragment"
    }
   },
   "outputs": [
    {
     "data": {
      "text/plain": [
       "True"
      ]
     },
     "execution_count": 80,
     "metadata": {},
     "output_type": "execute_result"
    }
   ],
   "source": [
    "2 in (1, 2, pd.NA)"
   ]
  },
  {
   "cell_type": "markdown",
   "metadata": {
    "slideshow": {
     "slide_type": "slide"
    }
   },
   "source": [
    "## Losing the index when merging"
   ]
  },
  {
   "cell_type": "markdown",
   "metadata": {
    "slideshow": {
     "slide_type": "slide"
    }
   },
   "source": [
    "⚠️ If you use merge without using indices as we did before, any indices you had will be gone in the resulting DataFrame. Even in the case of a one-to-one relationship."
   ]
  },
  {
   "cell_type": "code",
   "execution_count": 81,
   "metadata": {
    "slideshow": {
     "slide_type": "fragment"
    }
   },
   "outputs": [
    {
     "data": {
      "text/html": [
       "<table style=\"display:inline\" border=\"1\" class=\"dataframe\">\n",
       "  <thead>\n",
       "    <tr style=\"text-align: right;\">\n",
       "      <th></th>\n",
       "      <th>full_name</th>\n",
       "    </tr>\n",
       "    <tr>\n",
       "      <th>id</th>\n",
       "      <th></th>\n",
       "    </tr>\n",
       "  </thead>\n",
       "  <tbody>\n",
       "    <tr>\n",
       "      <th>100</th>\n",
       "      <td>John Rambo</td>\n",
       "    </tr>\n",
       "    <tr>\n",
       "      <th>200</th>\n",
       "      <td>John Travolta</td>\n",
       "    </tr>\n",
       "  </tbody>\n",
       "</table style=\"display:inline\"><table style=\"display:inline\" border=\"1\" class=\"dataframe\">\n",
       "  <thead>\n",
       "    <tr style=\"text-align: right;\">\n",
       "      <th></th>\n",
       "      <th>full_name</th>\n",
       "      <th>has_lots_of_muscles</th>\n",
       "      <th>country</th>\n",
       "    </tr>\n",
       "  </thead>\n",
       "  <tbody>\n",
       "    <tr>\n",
       "      <th>0</th>\n",
       "      <td>Arnold Schwarzenegger</td>\n",
       "      <td>True</td>\n",
       "      <td>US</td>\n",
       "    </tr>\n",
       "    <tr>\n",
       "      <th>1</th>\n",
       "      <td>John Rambo</td>\n",
       "      <td>True</td>\n",
       "      <td>US</td>\n",
       "    </tr>\n",
       "    <tr>\n",
       "      <th>2</th>\n",
       "      <td>John Travolta</td>\n",
       "      <td>True</td>\n",
       "      <td>US</td>\n",
       "    </tr>\n",
       "    <tr>\n",
       "      <th>3</th>\n",
       "      <td>Daniel Zimmermann</td>\n",
       "      <td>False</td>\n",
       "      <td>DE</td>\n",
       "    </tr>\n",
       "  </tbody>\n",
       "</table style=\"display:inline\">"
      ]
     },
     "metadata": {},
     "output_type": "display_data"
    },
    {
     "name": "stdout",
     "output_type": "stream",
     "text": [
      "\n",
      "Oh noes the index is gone after I merged 😿\n"
     ]
    },
    {
     "data": {
      "text/html": [
       "<div>\n",
       "<style scoped>\n",
       "    .dataframe tbody tr th:only-of-type {\n",
       "        vertical-align: middle;\n",
       "    }\n",
       "\n",
       "    .dataframe tbody tr th {\n",
       "        vertical-align: top;\n",
       "    }\n",
       "\n",
       "    .dataframe thead th {\n",
       "        text-align: right;\n",
       "    }\n",
       "</style>\n",
       "<table border=\"1\" class=\"dataframe\">\n",
       "  <thead>\n",
       "    <tr style=\"text-align: right;\">\n",
       "      <th></th>\n",
       "      <th>full_name</th>\n",
       "      <th>has_lots_of_muscles</th>\n",
       "      <th>country</th>\n",
       "    </tr>\n",
       "  </thead>\n",
       "  <tbody>\n",
       "    <tr>\n",
       "      <th>0</th>\n",
       "      <td>John Rambo</td>\n",
       "      <td>True</td>\n",
       "      <td>US</td>\n",
       "    </tr>\n",
       "    <tr>\n",
       "      <th>1</th>\n",
       "      <td>John Travolta</td>\n",
       "      <td>True</td>\n",
       "      <td>US</td>\n",
       "    </tr>\n",
       "  </tbody>\n",
       "</table>\n",
       "</div>"
      ],
      "text/plain": [
       "       full_name  has_lots_of_muscles country\n",
       "0     John Rambo                 True      US\n",
       "1  John Travolta                 True      US"
      ]
     },
     "execution_count": 81,
     "metadata": {},
     "output_type": "execute_result"
    }
   ],
   "source": [
    "df = pd.DataFrame({'full_name':['John Rambo', 'John Travolta']}, index=pd.Index([100, 200], name='id'))\n",
    "df_new_info = pd.DataFrame({'full_name':['Arnold Schwarzenegger', 'John Rambo', 'John Travolta', 'Daniel Zimmermann'],\n",
    "                            'has_lots_of_muscles':[True, True, True, False],\n",
    "                            'country':['US', 'US', 'US', 'DE']})\n",
    "display_side_by_side(df, df_new_info)\n",
    "\n",
    "df_merged = df.merge(df_new_info, on='full_name', validate='1:1')\n",
    "print('\\nOh noes the index is gone after I merged 😿')\n",
    "df_merged"
   ]
  },
  {
   "cell_type": "markdown",
   "metadata": {
    "slideshow": {
     "slide_type": "slide"
    }
   },
   "source": [
    "How I'd probably handle such a situation would be something like this 🤔. But surely there are other ways... You just have to get creative."
   ]
  },
  {
   "cell_type": "code",
   "execution_count": 82,
   "metadata": {
    "slideshow": {
     "slide_type": "fragment"
    }
   },
   "outputs": [
    {
     "data": {
      "text/html": [
       "<div>\n",
       "<style scoped>\n",
       "    .dataframe tbody tr th:only-of-type {\n",
       "        vertical-align: middle;\n",
       "    }\n",
       "\n",
       "    .dataframe tbody tr th {\n",
       "        vertical-align: top;\n",
       "    }\n",
       "\n",
       "    .dataframe thead th {\n",
       "        text-align: right;\n",
       "    }\n",
       "</style>\n",
       "<table border=\"1\" class=\"dataframe\">\n",
       "  <thead>\n",
       "    <tr style=\"text-align: right;\">\n",
       "      <th></th>\n",
       "      <th>full_name</th>\n",
       "      <th>has_lots_of_muscles</th>\n",
       "      <th>country</th>\n",
       "    </tr>\n",
       "    <tr>\n",
       "      <th>id</th>\n",
       "      <th></th>\n",
       "      <th></th>\n",
       "      <th></th>\n",
       "    </tr>\n",
       "  </thead>\n",
       "  <tbody>\n",
       "    <tr>\n",
       "      <th>100</th>\n",
       "      <td>John Rambo</td>\n",
       "      <td>True</td>\n",
       "      <td>US</td>\n",
       "    </tr>\n",
       "    <tr>\n",
       "      <th>200</th>\n",
       "      <td>John Travolta</td>\n",
       "      <td>True</td>\n",
       "      <td>US</td>\n",
       "    </tr>\n",
       "  </tbody>\n",
       "</table>\n",
       "</div>"
      ],
      "text/plain": [
       "         full_name  has_lots_of_muscles country\n",
       "id                                             \n",
       "100     John Rambo                 True      US\n",
       "200  John Travolta                 True      US"
      ]
     },
     "execution_count": 82,
     "metadata": {},
     "output_type": "execute_result"
    }
   ],
   "source": [
    "# put \"id\" in the columns before merging then merge then put the index back as it was\n",
    "df_merged = (df\n",
    "             .reset_index()\n",
    "             .merge(df_new_info, on='full_name', validate='1:1')\n",
    "             .set_index(df.index.names))\n",
    "df_merged"
   ]
  },
  {
   "cell_type": "markdown",
   "metadata": {
    "slideshow": {
     "slide_type": "slide"
    }
   },
   "source": [
    "## Index mismatches 🙀!\n",
    "\n",
    "In the example below we ask pandas to set values of one column of a DataFrame (so a pd.Series) to the values of another column (in another DataFrame). pandas **aligns** what is on the right and on the left of the assigment by using the **index**. In case of mismatch you get a NULL."
   ]
  },
  {
   "cell_type": "code",
   "execution_count": 83,
   "metadata": {
    "slideshow": {
     "slide_type": "fragment"
    }
   },
   "outputs": [
    {
     "data": {
      "text/html": [
       "<table style=\"display:inline\" border=\"1\" class=\"dataframe\">\n",
       "  <thead>\n",
       "    <tr style=\"text-align: right;\">\n",
       "      <th></th>\n",
       "      <th>example</th>\n",
       "    </tr>\n",
       "  </thead>\n",
       "  <tbody>\n",
       "    <tr>\n",
       "      <th>0</th>\n",
       "      <td>foo</td>\n",
       "    </tr>\n",
       "    <tr>\n",
       "      <th>1</th>\n",
       "      <td>bar</td>\n",
       "    </tr>\n",
       "    <tr>\n",
       "      <th>2</th>\n",
       "      <td>baz</td>\n",
       "    </tr>\n",
       "  </tbody>\n",
       "</table style=\"display:inline\"><table style=\"display:inline\" border=\"1\" class=\"dataframe\">\n",
       "  <thead>\n",
       "    <tr style=\"text-align: right;\">\n",
       "      <th></th>\n",
       "      <th>example2</th>\n",
       "    </tr>\n",
       "  </thead>\n",
       "  <tbody>\n",
       "    <tr>\n",
       "      <th>a</th>\n",
       "      <td>a</td>\n",
       "    </tr>\n",
       "    <tr>\n",
       "      <th>1</th>\n",
       "      <td>b</td>\n",
       "    </tr>\n",
       "    <tr>\n",
       "      <th>c</th>\n",
       "      <td>c</td>\n",
       "    </tr>\n",
       "    <tr>\n",
       "      <th>d</th>\n",
       "      <td>d</td>\n",
       "    </tr>\n",
       "  </tbody>\n",
       "</table style=\"display:inline\">"
      ]
     },
     "metadata": {},
     "output_type": "display_data"
    },
    {
     "data": {
      "text/html": [
       "<div>\n",
       "<style scoped>\n",
       "    .dataframe tbody tr th:only-of-type {\n",
       "        vertical-align: middle;\n",
       "    }\n",
       "\n",
       "    .dataframe tbody tr th {\n",
       "        vertical-align: top;\n",
       "    }\n",
       "\n",
       "    .dataframe thead th {\n",
       "        text-align: right;\n",
       "    }\n",
       "</style>\n",
       "<table border=\"1\" class=\"dataframe\">\n",
       "  <thead>\n",
       "    <tr style=\"text-align: right;\">\n",
       "      <th></th>\n",
       "      <th>example</th>\n",
       "      <th>example2</th>\n",
       "    </tr>\n",
       "  </thead>\n",
       "  <tbody>\n",
       "    <tr>\n",
       "      <th>0</th>\n",
       "      <td>foo</td>\n",
       "      <td>&lt;NA&gt;</td>\n",
       "    </tr>\n",
       "    <tr>\n",
       "      <th>1</th>\n",
       "      <td>bar</td>\n",
       "      <td>b</td>\n",
       "    </tr>\n",
       "    <tr>\n",
       "      <th>2</th>\n",
       "      <td>baz</td>\n",
       "      <td>&lt;NA&gt;</td>\n",
       "    </tr>\n",
       "  </tbody>\n",
       "</table>\n",
       "</div>"
      ],
      "text/plain": [
       "  example example2\n",
       "0     foo     <NA>\n",
       "1     bar        b\n",
       "2     baz     <NA>"
      ]
     },
     "execution_count": 83,
     "metadata": {},
     "output_type": "execute_result"
    }
   ],
   "source": [
    "df = pd.DataFrame({'example':['foo', 'bar', 'baz']}, index=[0, 1, 2])\n",
    "df2 = pd.DataFrame({'example2':['a', 'b', 'c', 'd']}, index=['a', 1, 'c', 'd']) # the index length won't even match\n",
    "display_side_by_side(df, df2)\n",
    "\n",
    "df['example2'] = df2['example2']\n",
    "df.convert_dtypes()"
   ]
  }
 ],
 "metadata": {
  "celltoolbar": "Slideshow",
  "kernelspec": {
   "display_name": "Python 3",
   "language": "python",
   "name": "python3"
  },
  "language_info": {
   "codemirror_mode": {
    "name": "ipython",
    "version": 3
   },
   "file_extension": ".py",
   "mimetype": "text/x-python",
   "name": "python",
   "nbconvert_exporter": "python",
   "pygments_lexer": "ipython3",
   "version": "3.8.5"
  }
 },
 "nbformat": 4,
 "nbformat_minor": 4
}
