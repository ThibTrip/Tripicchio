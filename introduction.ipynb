{
 "cells": [
  {
   "cell_type": "markdown",
   "metadata": {
    "Collapsed": "false",
    "slideshow": {
     "slide_type": "slide"
    }
   },
   "source": [
    "# About port-neo GmbH\n",
    "![port-neo logo](port-neo_logo.png)\n",
    "\n",
    "* 360 marketing agency\n",
    "    * Marketing strategy\n",
    "    * Market and needs analysis\n",
    "    * Digital brand management\n",
    "    * Customer Journey\n",
    "    * ...\n",
    "* ~120 employees distributed amongst Freiburg, Stuttgart, Munich and Zürich\n",
    "* The philosophy of port-neo is to be an important partner for its customers and grow along with them\n",
    "* Motto: \"Data meets empathy\"\n",
    "* Website: https://www.port-neo.com/"
   ]
  },
  {
   "cell_type": "markdown",
   "metadata": {
    "Collapsed": "false",
    "slideshow": {
     "slide_type": "slide"
    }
   },
   "source": [
    "# About port-neo Freiburg GmbH\n",
    "\n",
    "port-neo Freiburg GmbH focuses on communication with newsletter (so called \"Dialogmarketing\").\n",
    "\n",
    "Main activities (my activities in **<span style=\"color:green\">green</span>**):\n",
    "* **Support**, management, distribution of newsletter accounts ([Evalanche](https://www.sc-networks.com/solutions/newsletter-software/), [PROMIO](https://www.promio.net/), [Elaine](https://www.artegic.com/elaine-realtime-marketing-automation/))\n",
    "* Newsletter templates (1000+ templates designed), design and content\n",
    "* Subscription pages (for subscribing to a newsletter)\n",
    "* Marketing dashboards - **<span style=\"color:green\">I collect and prepare all the data for the dashboards</span>**\n",
    "* **<span style=\"color:green\">Data cleaning</span>**\n",
    "    * Encoding issues e.g. <code>\"Falsches Ãœben von Xylophonmusik quÃ¤lt jeden grÃ¶ÃŸeren Zwerg.\"</code> and superfluous characters issues e.g. <code>\") Thomas   Müller () (\"</code>\n",
    "    * Infering and completing/correcting genders using first names and countries e.g. <code>(\"Andrea\", \"IT\") => \"male\"</code>|<code>(\"Andrea\", \"DE\") => \"female\"</code> (probabilites and sample sizes are used)\n",
    "    * Name cleaning e.g. <code>\"Pr. Dr. Otto-H von Heinrich (cooler Typ)\" => {'first_name':'Otto', 'last_name':'Heinrich', 'title':'Pr. Dr.', ...}</code>\n",
    "    * and much more..."
   ]
  },
  {
   "cell_type": "markdown",
   "metadata": {
    "Collapsed": "false",
    "slideshow": {
     "slide_type": "slide"
    }
   },
   "source": [
    "# Why I use Python\n",
    "\n",
    "* Data cleaning (many scripts and ~10 private Python libraries dedicated to data cleaning)\n",
    "* Data collection (text files, Excel, REST/SOAP, ...) from customers and marketing accounts. I also use my own libraries for that\n",
    "* Data transformations\n",
    "* SQL databases management (mostly postgres and SQlite3)\n",
    "* Web apps experiments with dash and flask\n",
    "* Making libraries\n",
    "* Lots of other reasons...\n",
    "\n",
    "My work relies heavily on the Python library pandas 🐼. Amongst the 20+ private libraries I have delopped only one or two do not use pandas.\n",
    "\n",
    "Each new major version of pandas is like a small Christmas for me 🎅."
   ]
  },
  {
   "cell_type": "markdown",
   "metadata": {
    "Collapsed": "false",
    "slideshow": {
     "slide_type": "slide"
    }
   },
   "source": [
    "# My environment for presentations\n",
    "\n",
    "* **OS**: [Pop OS!](https://system76.com/pop) (Ubuntu clone)\n",
    "* **Programming environment**: Jupyter Lab (here is an [unofficial guide to get started](http://www.blog.pythonlibrary.org/2019/02/05/getting-started-with-jupyterlab/)). My favorite programming environment which does about everything apart from making coffee. I mostly do Python in it but have also tried out a bit of Javascript and Julia. With extensions you can do crazy stuff like using draw.io within it or this [crazy GPU usage extension](https://github.com/rapidsai/jupyterlab-nvdashboard#jupyterlab-gpu-dashboards) I stumbled upon.\n",
    "* **SQL GUI**: I use the awesome software [DBeaver](https://dbeaver.io/) for SQL databases management/exploration"
   ]
  }
 ],
 "metadata": {
  "kernelspec": {
   "display_name": "Python 3",
   "language": "python",
   "name": "python3"
  },
  "language_info": {
   "codemirror_mode": {
    "name": "ipython",
    "version": 3
   },
   "file_extension": ".py",
   "mimetype": "text/x-python",
   "name": "python",
   "nbconvert_exporter": "python",
   "pygments_lexer": "ipython3",
   "version": "3.7.6"
  }
 },
 "nbformat": 4,
 "nbformat_minor": 4
}
