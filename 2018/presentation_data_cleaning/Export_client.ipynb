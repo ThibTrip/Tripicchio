{
 "cells": [
  {
   "cell_type": "markdown",
   "metadata": {},
   "source": [
    "# Introduction\n",
    "When making an analysis for a client it should be clear which data was added or modified in a DataFrame.\n",
    "\n",
    "Example:\n",
    "\n",
    "For convenience you might want to replace anything that should be a null (like \"-\" or \"?\" or \"No value\" etc.) with a true null (np.nan) for a Pandas' DataFrame. You also might want to change the names of countries or regions in order to make them compatible with other databases. You might also add missing countries.\n",
    "\n",
    "\n",
    "With this module you can show which columns are new and if you wish so get the original values back in the original columns."
   ]
  },
  {
   "cell_type": "code",
   "execution_count": 1,
   "metadata": {},
   "outputs": [],
   "source": [
    "import pandas as pd\n",
    "import numpy as np\n",
    "from collections import OrderedDict"
   ]
  },
  {
   "cell_type": "markdown",
   "metadata": {},
   "source": [
    "# Function"
   ]
  },
  {
   "cell_type": "code",
   "execution_count": 2,
   "metadata": {},
   "outputs": [],
   "source": [
    "def multi_index_export(new_df,\n",
    "                       initial_columns, \n",
    "                       initial_df = None,\n",
    "                       init_name = 'Originale Spalten',\n",
    "                       new_name = 'Tripicchio Spalten'):\n",
    "    \"\"\"Returns a copy of a DataFrame with hierarchical columns in order to show which columns are new.\n",
    "    You can also undo modifications in the original columns by passing a DataFrame with the original\n",
    "    values in the argument initial_df.\n",
    "    \n",
    "        Args:\n",
    "            df: DataFrame to export\n",
    "            initial_df: use this to join initial columns with unchanged values to new columns\n",
    "    \n",
    "        Instructions:\n",
    "            Use args df and to_join with a copy of the original df in order to put the original values\n",
    "            back into the new DataFrame.\n",
    "            \n",
    "            Save to .xlsx or to a file type that is capable of displaying hierarchical columns!\n",
    "\n",
    "            \n",
    "        Usage:\n",
    "            original_df = df.copy(deep = True)\n",
    "            initial_columns = original_df.columns # if you want to rename columns do it before this line\n",
    "            df_export = multi_index_export(original_df,initial_columns,to_join = original_df)\n",
    "    \n",
    "    \"\"\"\n",
    "    df_export = new_df.copy(deep = True)\n",
    "\n",
    "    \n",
    "    if initial_df is not None:\n",
    "        if (df_export.index == initial_df.index).all():\n",
    "            df_export[initial_columns] = initial_df[initial_columns]\n",
    "        else:\n",
    "            raise ValueError('The index differs from the one of the original DataFrame!')\n",
    "    \n",
    "    new_columns = set(df_export.columns) - set(initial_columns)\n",
    "    print('New columns:',new_columns)\n",
    "\n",
    "    # Getting the position of the columns and making a dict: {col_position:(name_top_col,name_sub_col)}\n",
    "    ## old columns\n",
    "    positions = {df_export.columns.get_loc(col):(init_name,col) for col in initial_columns}\n",
    "    ## new columns\n",
    "    positions.update({df_export.columns.get_loc(col):(new_name,col) for col in new_columns})\n",
    "    \n",
    "    # Sorting the dict by the position of the columns\n",
    "    positions = OrderedDict(sorted(positions.items()))\n",
    "\n",
    "    # Creating the MultiIndex with the dict values and assigning it to the df  \n",
    "    new_columns = pd.MultiIndex.from_tuples(positions.values())\n",
    "    df_export.columns = new_columns\n",
    "    \n",
    "    # Reordering the df by selecting both upper levels in the order needed\n",
    "    df_export = df_export[[init_name,new_name]]\n",
    "    \n",
    "    return df_export"
   ]
  },
  {
   "cell_type": "markdown",
   "metadata": {},
   "source": [
    "# Usage\n",
    "Turn the cell below to code to test the function."
   ]
  },
  {
   "cell_type": "markdown",
   "metadata": {},
   "source": [
    "# Creating a test DataFrame\n",
    "data = {'Region':['BW','Bayern','Nordrhein-Westfalen','Florida'],\n",
    "             'Ort':['Freiburg','Köln','Nürnberg','New York City'],\n",
    "             'PLZ':['71264','50677','90402',np.nan],\n",
    "             'ID':[1212,121,323,32]}\n",
    "\n",
    "df_test = pd.DataFrame(data).set_index('ID')\n",
    "\n",
    "# Making a copy to save original values and listing the original columns\n",
    "df_test_original = df_test.copy(deep = True)\n",
    "initial_columns = df_test_original.columns\n",
    "\n",
    "# Adding my own data -> this should go under \"Tripicchio Spalten\"\n",
    "df_test['Region (harmonized)'] = ['Baden-Württemberg','Bayern','Nordrhein-Westfalen','Florida']\n",
    "df_test['Region (corrected)'] = ['Baden-Württemberg','Nordrhein-Westfalen','Bayern','New York']\n",
    "df_test['Country'] = ['Deutschland' for i in range(3)]+['Vereinigte Staaten']        \n",
    "            \n",
    "# Modifying original data to see if the modification gets erased \n",
    "df_test.loc[1212,'Ort'] = 'Test-Test'\n",
    "        \n",
    "df_test_export = multi_index_export(df_test,\n",
    "                                    initial_columns = initial_columns, \n",
    "                                    initial_df = df_test_original)\n",
    "df_test_export"
   ]
  }
 ],
 "metadata": {
  "anaconda-cloud": {},
  "kernelspec": {
   "display_name": "Python [default]",
   "language": "python",
   "name": "python3"
  },
  "language_info": {
   "codemirror_mode": {
    "name": "ipython",
    "version": 3
   },
   "file_extension": ".py",
   "mimetype": "text/x-python",
   "name": "python",
   "nbconvert_exporter": "python",
   "pygments_lexer": "ipython3",
   "version": "3.6.5"
  },
  "toc": {
   "base_numbering": 1,
   "nav_menu": {},
   "number_sections": true,
   "sideBar": true,
   "skip_h1_title": false,
   "title_cell": "Table of Contents",
   "title_sidebar": "Contents",
   "toc_cell": false,
   "toc_position": {},
   "toc_section_display": true,
   "toc_window_display": false
  }
 },
 "nbformat": 4,
 "nbformat_minor": 2
}
