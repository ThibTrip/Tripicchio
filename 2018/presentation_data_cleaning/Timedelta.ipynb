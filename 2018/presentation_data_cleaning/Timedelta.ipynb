{
 "cells": [
  {
   "cell_type": "markdown",
   "metadata": {},
   "source": [
    "# Notes\n",
    "\n",
    "This module calculates the timedelta between a specific date and dates in a Series and returns:\n",
    "1. The Series of calculated timedeltas as float\n",
    "2. A Series of timedeltas rounded and formatted as string with the suffix you give."
   ]
  },
  {
   "cell_type": "code",
   "execution_count": 1,
   "metadata": {},
   "outputs": [],
   "source": [
    "import datetime\n",
    "import pandas as pd\n",
    "import numpy as np"
   ]
  },
  {
   "cell_type": "markdown",
   "metadata": {},
   "source": [
    "# Functions"
   ]
  },
  {
   "cell_type": "code",
   "execution_count": 2,
   "metadata": {},
   "outputs": [],
   "source": [
    "def timedelta_str(timedelta,suffix_singular,suffix_plural):\n",
    "    \"\"\"Subfunction of timedelta. Creates a string representation of the timedelta.\n",
    "    \n",
    "        Args:\n",
    "            timedelta: numeric\n",
    "            suffix_singular: str, string representation of timedelta if value <= 1\n",
    "            suffix_plural: str, string representation of timedelta if value >= 1\n",
    "    \n",
    "        Example:\n",
    "            In: \n",
    "                timedelta_str(timedelta = 2,suffix_singular = 'Day since last purchase',\n",
    "                suffix_plural = 'Days since last purchase')\n",
    "            \n",
    "            Out: \n",
    "                \"2 Days sinces last purchase\"\n",
    "    \"\"\"\n",
    "    \n",
    "    # Returns null if null\n",
    "    if pd.isna(timedelta):\n",
    "        return np.nan\n",
    "        \n",
    "    timedelta_str = str(int(timedelta))\n",
    "    timedelta_int = int(round(timedelta))\n",
    "    \n",
    "    if timedelta_int <= 1:\n",
    "        return timedelta_str +' '+ suffix_singular\n",
    "    else:\n",
    "        return timedelta_str +' '+ suffix_plural\n",
    "\n",
    "\n",
    "\n",
    "def timedelta(datetime_series,\n",
    "              timedelta_type, \n",
    "              suffix_singular, \n",
    "              suffix_plural,\n",
    "              compare_datetime = datetime.datetime.now(),\n",
    "              null_value = 'No data'):\n",
    "    \"\"\"Calculates timedelta between a date (by default now) and dates in a Series.\n",
    "    Returns timedelta Series as dtype float as well as a string representation (see arguments and usage).\n",
    "    \n",
    "        Args:\n",
    "            datetime_series: pd.Series as type datetime (e.g. using pd.to_datetime)\n",
    "            timedelta_type: str, \"month\" or \"day\"\n",
    "            suffix_singular: see subfunction timedelta_str\n",
    "            suffix_plural: see subfunction timedelta_str\n",
    "            compare_datetime: date to calculate timedelta from (by default now)\n",
    "            null_value: value to assign if no timedelta can be calculate (e.g. where datetime Series == NaT)\n",
    "            \n",
    "        Returns:\n",
    "            (pd.Series,pd.Series)\n",
    "    \"\"\"\n",
    "    \n",
    "    \n",
    "    # Creates a timedelta Series by substracting datetime to compare to the values in the Series\n",
    "    timedelta_series = datetime_series.map(lambda x: (compare_datetime - x))\n",
    "    \n",
    "    # Rounds by month or day\n",
    "    if timedelta_type == 'month':\n",
    "        timedelta_series = timedelta_series.map(lambda x: (x.round('30.44D')/30.44).days)\n",
    "\n",
    "    elif timedelta_type == 'day':\n",
    "        timedelta_series = timedelta_series.map(lambda x: (x.round('d')).days)\n",
    "\n",
    "    else:\n",
    "        raise ValueError('timedelta_type must be either month or day')\n",
    "    \n",
    "    # Applies subfunction timedelta_str (see above)\n",
    "    timedelta_series_str = timedelta_series.apply(timedelta_str,\n",
    "                                              suffix_singular = suffix_singular,\n",
    "                                              suffix_plural = suffix_plural)\n",
    "    \n",
    "    # If there is no timedelta (e.g. where datetime series was NaT) -> assigns choosen null value\n",
    "    timedelta_series_str.fillna(null_value,inplace = True)\n",
    "    \n",
    "    return timedelta_series_str,timedelta_series"
   ]
  },
  {
   "cell_type": "markdown",
   "metadata": {},
   "source": [
    "# Usage\n",
    "Transform cells to code in order to try it.\n",
    "## Data"
   ]
  },
  {
   "cell_type": "markdown",
   "metadata": {},
   "source": [
    "data = {'date':['2018-08-06','2017-05-04','2005-01-01','2007-01-01',np.nan]}\n",
    "df_test = pd.DataFrame(data)\n",
    "df_test['date'] = pd.to_datetime(df_test['date'])\n",
    "df_test"
   ]
  },
  {
   "cell_type": "markdown",
   "metadata": {},
   "source": [
    "## Test"
   ]
  },
  {
   "cell_type": "markdown",
   "metadata": {},
   "source": [
    "df_test['date_compared'] =  datetime.datetime.now()\n",
    "\n",
    "df_test['days_timedelta_str'],df_test['days_timedelta'] = timedelta(df_test['date'],\n",
    "                                                                    timedelta_type = 'day',\n",
    "                                                                    suffix_singular = 'day since last purchase',\n",
    "                                                                    suffix_plural = 'days since last purchase')\n",
    "\n",
    "df_test['months_timedelta_str'],df_test['months_timedelta'] = timedelta(df_test['date'],\n",
    "                                                                        timedelta_type = 'month',\n",
    "                                                                        suffix_singular = 'month since last purchase',\n",
    "                                                                        suffix_plural = 'months since last purchase')\n",
    "\n",
    "df_test"
   ]
  }
 ],
 "metadata": {
  "anaconda-cloud": {},
  "kernelspec": {
   "display_name": "Python [default]",
   "language": "python",
   "name": "python3"
  },
  "language_info": {
   "codemirror_mode": {
    "name": "ipython",
    "version": 3
   },
   "file_extension": ".py",
   "mimetype": "text/x-python",
   "name": "python",
   "nbconvert_exporter": "python",
   "pygments_lexer": "ipython3",
   "version": "3.6.5"
  },
  "toc": {
   "base_numbering": 1,
   "nav_menu": {},
   "number_sections": true,
   "sideBar": true,
   "skip_h1_title": false,
   "title_cell": "Table of Contents",
   "title_sidebar": "Contents",
   "toc_cell": false,
   "toc_position": {},
   "toc_section_display": true,
   "toc_window_display": false
  }
 },
 "nbformat": 4,
 "nbformat_minor": 2
}
