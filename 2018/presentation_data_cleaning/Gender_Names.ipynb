{
 "cells": [
  {
   "cell_type": "markdown",
   "metadata": {},
   "source": [
    "# Introduction\n",
    "This module uses the python library gender_guesser to find out the gender of a person out of the first name.\n",
    "I have added some functionalities to it: \n",
    "\n",
    "1. changing the english gender name to a german one (also consider andy as unknown and mostly_gender as gender)\n",
    "2. first name has to be a string -> null values are set to \"Unbekannt\""
   ]
  },
  {
   "cell_type": "code",
   "execution_count": 1,
   "metadata": {},
   "outputs": [],
   "source": [
    "import pandas as pd\n",
    "import numpy as np\n",
    "import gender_guesser.detector as gender\n",
    "gender_detector = gender.Detector()"
   ]
  },
  {
   "cell_type": "markdown",
   "metadata": {},
   "source": [
    "# Function"
   ]
  },
  {
   "cell_type": "code",
   "execution_count": 2,
   "metadata": {},
   "outputs": [],
   "source": [
    "# Replacements for the gender values that are returned by gender_guesser\n",
    "gender_replacements = {'mostly_female':'Frau',\n",
    "                       'female':'Frau',\n",
    "                       'mostly_male':'Mann',\n",
    "                       'male':'Mann',\n",
    "                       'andy':'Unbekannt',\n",
    "                       'unknown':'Unbekannt'}\n",
    "\n",
    "def guess_gender(first_name):\n",
    "    \"\"\"Sub function of get_genders_from_first_names. Guesses the gender of an individual first name.\n",
    "    Applies this on a first name Series.\n",
    "    \n",
    "        Args:\n",
    "            first_name: str\n",
    "        \n",
    "        Usage:\n",
    "            gender_series = first_name_series.apply(guess_gender)\n",
    "    \n",
    "    \"\"\"\n",
    "    \n",
    "    # Checks if the first name is a str, if not returns \"Unbekannt\" (unknown gender)\n",
    "    if not isinstance(first_name,(str,object)):\n",
    "        return \"Unbekannt\"\n",
    "    \n",
    "    return gender_detector.get_gender(first_name)\n",
    "        \n",
    "\n",
    "\n",
    "def get_genders_from_first_names(first_name_series, \n",
    "                                 gender_detector = gender_detector, \n",
    "                                 gender_replacements = gender_replacements, \n",
    "                                 guess_gender= guess_gender):\n",
    "    \"\"\"Returns a gender from a first name using gender_guesser library.\n",
    "    \n",
    "        Args:\n",
    "            first_name: first name for which to guess the gender (a string)\n",
    "            gender_detector: an instance of the gender_guesser.detector.Detector class\n",
    "            gender_replacements: a dict for replacing returned values (e.g. male -> Mann)\n",
    "            guess_gender: sub-function that returns a single gender (see above)\n",
    "            \n",
    "        Usage:\n",
    "            df_test['Gender'] = get_genders_from_first_names(df_test['First_name'])\n",
    "            \n",
    "        Returns:\n",
    "            pd.Series\n",
    "    \n",
    "    \"\"\"\n",
    "    \n",
    "    # Uses the function guess gender in the first name series\n",
    "    gender_series = first_name_series.map(guess_gender)\n",
    "    \n",
    "    # Replaces male by Mann, female by Frau etc.\n",
    "    gender_series.replace(gender_replacements,inplace = True)\n",
    "    \n",
    "    return gender_series"
   ]
  },
  {
   "cell_type": "markdown",
   "metadata": {},
   "source": [
    "# Usage\n",
    "Turn the cell below to code to test the function."
   ]
  },
  {
   "cell_type": "markdown",
   "metadata": {},
   "source": [
    "data = {'First_name':['Thibault','Robert',np.nan,'Sophie','Daniela']}\n",
    "df_test = pd.DataFrame(data)\n",
    "display(df_test)\n",
    "df_test['Gender']  = get_genders_from_first_names(df_test['First_name'])\n",
    "df_test"
   ]
  }
 ],
 "metadata": {
  "anaconda-cloud": {},
  "kernelspec": {
   "display_name": "Python [default]",
   "language": "python",
   "name": "python3"
  },
  "language_info": {
   "codemirror_mode": {
    "name": "ipython",
    "version": 3
   },
   "file_extension": ".py",
   "mimetype": "text/x-python",
   "name": "python",
   "nbconvert_exporter": "python",
   "pygments_lexer": "ipython3",
   "version": "3.6.5"
  },
  "toc": {
   "base_numbering": 1,
   "nav_menu": {},
   "number_sections": true,
   "sideBar": true,
   "skip_h1_title": false,
   "title_cell": "Table of Contents",
   "title_sidebar": "Contents",
   "toc_cell": false,
   "toc_position": {},
   "toc_section_display": true,
   "toc_window_display": false
  }
 },
 "nbformat": 4,
 "nbformat_minor": 2
}
